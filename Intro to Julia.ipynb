{
 "cells": [
  {
   "cell_type": "markdown",
   "metadata": {},
   "source": [
    "## Intro to Julia for Data Analysis"
   ]
  },
  {
   "cell_type": "markdown",
   "metadata": {},
   "source": [
    "In this tutorial, you will learn very basic Julia features for ingesting, processing, and visualizing data. At the end of this tutorial you should understand how to:\n",
    "\n",
    "* Work with local data\n",
    "* Work with remote data\n",
    "* Consume data that are stored in different file formats\n",
    "* Create basic plots of your data\n",
    "* Compose functions in Julia"
   ]
  },
  {
   "cell_type": "markdown",
   "metadata": {},
   "source": [
    "### Wait - Why should I learn Julia in the first place!?\n",
    "\n",
    "A few of Julia's very appealing features are its speed, multiple dispatch, robust type system, and the ease with which you can express many object-oriented and functional programming patterns. To keep this notebook as brief as possible, we'll only look at the first of these features. \n",
    "\n",
    "**Julia is fast.** How fast? Let's find out. We will use the PyCall package, which provides an interface to Python from Julia, to perform a simple summation and we'll compare results with the BenchmarkTools package."
   ]
  },
  {
   "cell_type": "markdown",
   "metadata": {},
   "source": [
    "This is a good opportunity to demonstrate how to **add** new packages to your Julia environment. To add PyCall we simply begin by using the built-in package ```Pkg``` and then adding it (along with BenchmarkTools) like so:"
   ]
  },
  {
   "cell_type": "code",
   "execution_count": null,
   "metadata": {},
   "outputs": [],
   "source": [
    "# You only need to do this the first time you install a package in a given environment.\n",
    "using Pkg\n",
    "Pkg.add([\"BenchmarkTools\",\"PyCall\"]);"
   ]
  },
  {
   "cell_type": "markdown",
   "metadata": {},
   "source": [
    "Now that we've added our packages, let's go ahead and begin **using** them:"
   ]
  },
  {
   "cell_type": "code",
   "execution_count": 1,
   "metadata": {},
   "outputs": [],
   "source": [
    "using BenchmarkTools\n",
    "using PyCall;"
   ]
  },
  {
   "cell_type": "markdown",
   "metadata": {},
   "source": [
    "With our packages loaded, let's start our performance comparison by creating a vector of 10 million random numbers, which we will take the sum of:"
   ]
  },
  {
   "cell_type": "code",
   "execution_count": 2,
   "metadata": {
    "collapsed": true,
    "jupyter": {
     "outputs_hidden": true
    }
   },
   "outputs": [
    {
     "data": {
      "text/plain": [
       "10000000-element Array{Float64,1}:\n",
       " 0.27116781972499227\n",
       " 0.44602030828660766\n",
       " 0.6212387395933594\n",
       " 0.3274954477019698\n",
       " 0.6554828631942078\n",
       " 0.3390556367261539\n",
       " 0.08214799038138532\n",
       " 0.8021172826810674\n",
       " 0.6900158293444008\n",
       " 0.29436862630134275\n",
       " 0.9447676409340264\n",
       " 0.31793532510985956\n",
       " 0.9826509007692579\n",
       " ⋮\n",
       " 0.45817900893205343\n",
       " 0.1928418665453655\n",
       " 0.509411945025048\n",
       " 0.29128667747368286\n",
       " 0.7858363536034694\n",
       " 0.8224041807343729\n",
       " 0.3101626116615217\n",
       " 0.8829796940588006\n",
       " 0.6742459428722363\n",
       " 0.3386279346318095\n",
       " 0.8070545566002092\n",
       " 0.34426556301953437"
      ]
     },
     "execution_count": 2,
     "metadata": {},
     "output_type": "execute_result"
    }
   ],
   "source": [
    "a = rand(10^7)"
   ]
  },
  {
   "cell_type": "markdown",
   "metadata": {},
   "source": [
    "And now let's use the ```@benchmark``` macro (exported by BenchmarkTools) to benchmark the performance of Python and then Julia (don't worry about what a macro is for now; just remember that they exist 😉):"
   ]
  },
  {
   "cell_type": "code",
   "execution_count": 3,
   "metadata": {},
   "outputs": [
    {
     "data": {
      "text/plain": [
       "836.8126741666666"
      ]
     },
     "execution_count": 3,
     "metadata": {},
     "output_type": "execute_result"
    }
   ],
   "source": [
    "python_speed = mean((@benchmark pybuiltin(\"sum\")($a)).times) / 1000000"
   ]
  },
  {
   "cell_type": "code",
   "execution_count": 4,
   "metadata": {},
   "outputs": [
    {
     "data": {
      "text/plain": [
       "4.2579869146029035"
      ]
     },
     "execution_count": 4,
     "metadata": {},
     "output_type": "execute_result"
    }
   ],
   "source": [
    "julia_speed = mean((@benchmark sum($a)).times) / 1000000"
   ]
  },
  {
   "cell_type": "markdown",
   "metadata": {},
   "source": [
    "As you can see, **Julia was *much* faster than Python** in this simple test."
   ]
  },
  {
   "cell_type": "markdown",
   "metadata": {},
   "source": [
    "### Reading Data\n",
    "\n",
    "In this section, we'll focus on a couple of popular methods for reading data in Julia. Let's start by using the CSV and DataFrames packages in unison to read a couple of different files:"
   ]
  },
  {
   "cell_type": "code",
   "execution_count": 1,
   "metadata": {},
   "outputs": [],
   "source": [
    "# It is important to note that DataFrames are just one of many different data structures available in Julia.\n",
    "using CSV\n",
    "using DataFrames;"
   ]
  },
  {
   "cell_type": "markdown",
   "metadata": {},
   "source": [
    "#### Local Data\n",
    "\n",
    "To read local data, simply pass the file path to the ```File()``` function from CSV and optionally convert the data to a DataFrame via the ```|>``` syntax."
   ]
  },
  {
   "cell_type": "code",
   "execution_count": 2,
   "metadata": {
    "jupyter": {
     "outputs_hidden": true
    },
    "scrolled": true
   },
   "outputs": [
    {
     "data": {
      "text/html": [
       "<table class=\"data-frame\"><thead><tr><th></th><th>SNo</th><th>ObservationDate</th><th>Province/State</th><th>Country/Region</th><th>Last Update</th><th>Confirmed</th></tr><tr><th></th><th>Int64</th><th>String</th><th>String⍰</th><th>String</th><th>String</th><th>Float64</th></tr></thead><tbody><p>12,249 rows × 8 columns (omitted printing of 2 columns)</p><tr><th>1</th><td>1</td><td>01/22/2020</td><td>Anhui</td><td>Mainland China</td><td>1/22/2020 17:00</td><td>1.0</td></tr><tr><th>2</th><td>2</td><td>01/22/2020</td><td>Beijing</td><td>Mainland China</td><td>1/22/2020 17:00</td><td>14.0</td></tr><tr><th>3</th><td>3</td><td>01/22/2020</td><td>Chongqing</td><td>Mainland China</td><td>1/22/2020 17:00</td><td>6.0</td></tr><tr><th>4</th><td>4</td><td>01/22/2020</td><td>Fujian</td><td>Mainland China</td><td>1/22/2020 17:00</td><td>1.0</td></tr><tr><th>5</th><td>5</td><td>01/22/2020</td><td>Gansu</td><td>Mainland China</td><td>1/22/2020 17:00</td><td>0.0</td></tr><tr><th>6</th><td>6</td><td>01/22/2020</td><td>Guangdong</td><td>Mainland China</td><td>1/22/2020 17:00</td><td>26.0</td></tr><tr><th>7</th><td>7</td><td>01/22/2020</td><td>Guangxi</td><td>Mainland China</td><td>1/22/2020 17:00</td><td>2.0</td></tr><tr><th>8</th><td>8</td><td>01/22/2020</td><td>Guizhou</td><td>Mainland China</td><td>1/22/2020 17:00</td><td>1.0</td></tr><tr><th>9</th><td>9</td><td>01/22/2020</td><td>Hainan</td><td>Mainland China</td><td>1/22/2020 17:00</td><td>4.0</td></tr><tr><th>10</th><td>10</td><td>01/22/2020</td><td>Hebei</td><td>Mainland China</td><td>1/22/2020 17:00</td><td>1.0</td></tr><tr><th>11</th><td>11</td><td>01/22/2020</td><td>Heilongjiang</td><td>Mainland China</td><td>1/22/2020 17:00</td><td>0.0</td></tr><tr><th>12</th><td>12</td><td>01/22/2020</td><td>Henan</td><td>Mainland China</td><td>1/22/2020 17:00</td><td>5.0</td></tr><tr><th>13</th><td>13</td><td>01/22/2020</td><td>Hong Kong</td><td>Hong Kong</td><td>1/22/2020 17:00</td><td>0.0</td></tr><tr><th>14</th><td>14</td><td>01/22/2020</td><td>Hubei</td><td>Mainland China</td><td>1/22/2020 17:00</td><td>444.0</td></tr><tr><th>15</th><td>15</td><td>01/22/2020</td><td>Hunan</td><td>Mainland China</td><td>1/22/2020 17:00</td><td>4.0</td></tr><tr><th>16</th><td>16</td><td>01/22/2020</td><td>Inner Mongolia</td><td>Mainland China</td><td>1/22/2020 17:00</td><td>0.0</td></tr><tr><th>17</th><td>17</td><td>01/22/2020</td><td>Jiangsu</td><td>Mainland China</td><td>1/22/2020 17:00</td><td>1.0</td></tr><tr><th>18</th><td>18</td><td>01/22/2020</td><td>Jiangxi</td><td>Mainland China</td><td>1/22/2020 17:00</td><td>2.0</td></tr><tr><th>19</th><td>19</td><td>01/22/2020</td><td>Jilin</td><td>Mainland China</td><td>1/22/2020 17:00</td><td>0.0</td></tr><tr><th>20</th><td>20</td><td>01/22/2020</td><td>Liaoning</td><td>Mainland China</td><td>1/22/2020 17:00</td><td>2.0</td></tr><tr><th>21</th><td>21</td><td>01/22/2020</td><td>Macau</td><td>Macau</td><td>1/22/2020 17:00</td><td>1.0</td></tr><tr><th>22</th><td>22</td><td>01/22/2020</td><td>Ningxia</td><td>Mainland China</td><td>1/22/2020 17:00</td><td>1.0</td></tr><tr><th>23</th><td>23</td><td>01/22/2020</td><td>Qinghai</td><td>Mainland China</td><td>1/22/2020 17:00</td><td>0.0</td></tr><tr><th>24</th><td>24</td><td>01/22/2020</td><td>Shaanxi</td><td>Mainland China</td><td>1/22/2020 17:00</td><td>0.0</td></tr><tr><th>25</th><td>25</td><td>01/22/2020</td><td>Shandong</td><td>Mainland China</td><td>1/22/2020 17:00</td><td>2.0</td></tr><tr><th>26</th><td>26</td><td>01/22/2020</td><td>Shanghai</td><td>Mainland China</td><td>1/22/2020 17:00</td><td>9.0</td></tr><tr><th>27</th><td>27</td><td>01/22/2020</td><td>Shanxi</td><td>Mainland China</td><td>1/22/2020 17:00</td><td>1.0</td></tr><tr><th>28</th><td>28</td><td>01/22/2020</td><td>Sichuan</td><td>Mainland China</td><td>1/22/2020 17:00</td><td>5.0</td></tr><tr><th>29</th><td>29</td><td>01/22/2020</td><td>Taiwan</td><td>Taiwan</td><td>1/22/2020 17:00</td><td>1.0</td></tr><tr><th>30</th><td>30</td><td>01/22/2020</td><td>Tianjin</td><td>Mainland China</td><td>1/22/2020 17:00</td><td>4.0</td></tr><tr><th>&vellip;</th><td>&vellip;</td><td>&vellip;</td><td>&vellip;</td><td>&vellip;</td><td>&vellip;</td><td>&vellip;</td></tr></tbody></table>"
      ],
      "text/latex": [
       "\\begin{tabular}{r|ccccccc}\n",
       "\t& SNo & ObservationDate & Province/State & Country/Region & Last Update & Confirmed & \\\\\n",
       "\t\\hline\n",
       "\t& Int64 & String & String⍰ & String & String & Float64 & \\\\\n",
       "\t\\hline\n",
       "\t1 & 1 & 01/22/2020 & Anhui & Mainland China & 1/22/2020 17:00 & 1.0 & $\\dots$ \\\\\n",
       "\t2 & 2 & 01/22/2020 & Beijing & Mainland China & 1/22/2020 17:00 & 14.0 & $\\dots$ \\\\\n",
       "\t3 & 3 & 01/22/2020 & Chongqing & Mainland China & 1/22/2020 17:00 & 6.0 & $\\dots$ \\\\\n",
       "\t4 & 4 & 01/22/2020 & Fujian & Mainland China & 1/22/2020 17:00 & 1.0 & $\\dots$ \\\\\n",
       "\t5 & 5 & 01/22/2020 & Gansu & Mainland China & 1/22/2020 17:00 & 0.0 & $\\dots$ \\\\\n",
       "\t6 & 6 & 01/22/2020 & Guangdong & Mainland China & 1/22/2020 17:00 & 26.0 & $\\dots$ \\\\\n",
       "\t7 & 7 & 01/22/2020 & Guangxi & Mainland China & 1/22/2020 17:00 & 2.0 & $\\dots$ \\\\\n",
       "\t8 & 8 & 01/22/2020 & Guizhou & Mainland China & 1/22/2020 17:00 & 1.0 & $\\dots$ \\\\\n",
       "\t9 & 9 & 01/22/2020 & Hainan & Mainland China & 1/22/2020 17:00 & 4.0 & $\\dots$ \\\\\n",
       "\t10 & 10 & 01/22/2020 & Hebei & Mainland China & 1/22/2020 17:00 & 1.0 & $\\dots$ \\\\\n",
       "\t11 & 11 & 01/22/2020 & Heilongjiang & Mainland China & 1/22/2020 17:00 & 0.0 & $\\dots$ \\\\\n",
       "\t12 & 12 & 01/22/2020 & Henan & Mainland China & 1/22/2020 17:00 & 5.0 & $\\dots$ \\\\\n",
       "\t13 & 13 & 01/22/2020 & Hong Kong & Hong Kong & 1/22/2020 17:00 & 0.0 & $\\dots$ \\\\\n",
       "\t14 & 14 & 01/22/2020 & Hubei & Mainland China & 1/22/2020 17:00 & 444.0 & $\\dots$ \\\\\n",
       "\t15 & 15 & 01/22/2020 & Hunan & Mainland China & 1/22/2020 17:00 & 4.0 & $\\dots$ \\\\\n",
       "\t16 & 16 & 01/22/2020 & Inner Mongolia & Mainland China & 1/22/2020 17:00 & 0.0 & $\\dots$ \\\\\n",
       "\t17 & 17 & 01/22/2020 & Jiangsu & Mainland China & 1/22/2020 17:00 & 1.0 & $\\dots$ \\\\\n",
       "\t18 & 18 & 01/22/2020 & Jiangxi & Mainland China & 1/22/2020 17:00 & 2.0 & $\\dots$ \\\\\n",
       "\t19 & 19 & 01/22/2020 & Jilin & Mainland China & 1/22/2020 17:00 & 0.0 & $\\dots$ \\\\\n",
       "\t20 & 20 & 01/22/2020 & Liaoning & Mainland China & 1/22/2020 17:00 & 2.0 & $\\dots$ \\\\\n",
       "\t21 & 21 & 01/22/2020 & Macau & Macau & 1/22/2020 17:00 & 1.0 & $\\dots$ \\\\\n",
       "\t22 & 22 & 01/22/2020 & Ningxia & Mainland China & 1/22/2020 17:00 & 1.0 & $\\dots$ \\\\\n",
       "\t23 & 23 & 01/22/2020 & Qinghai & Mainland China & 1/22/2020 17:00 & 0.0 & $\\dots$ \\\\\n",
       "\t24 & 24 & 01/22/2020 & Shaanxi & Mainland China & 1/22/2020 17:00 & 0.0 & $\\dots$ \\\\\n",
       "\t25 & 25 & 01/22/2020 & Shandong & Mainland China & 1/22/2020 17:00 & 2.0 & $\\dots$ \\\\\n",
       "\t26 & 26 & 01/22/2020 & Shanghai & Mainland China & 1/22/2020 17:00 & 9.0 & $\\dots$ \\\\\n",
       "\t27 & 27 & 01/22/2020 & Shanxi & Mainland China & 1/22/2020 17:00 & 1.0 & $\\dots$ \\\\\n",
       "\t28 & 28 & 01/22/2020 & Sichuan & Mainland China & 1/22/2020 17:00 & 5.0 & $\\dots$ \\\\\n",
       "\t29 & 29 & 01/22/2020 & Taiwan & Taiwan & 1/22/2020 17:00 & 1.0 & $\\dots$ \\\\\n",
       "\t30 & 30 & 01/22/2020 & Tianjin & Mainland China & 1/22/2020 17:00 & 4.0 & $\\dots$ \\\\\n",
       "\t$\\dots$ & $\\dots$ & $\\dots$ & $\\dots$ & $\\dots$ & $\\dots$ & $\\dots$ &  \\\\\n",
       "\\end{tabular}\n"
      ],
      "text/plain": [
       "12249×8 DataFrame. Omitted printing of 4 columns\n",
       "│ Row   │ SNo   │ ObservationDate │ Province/State    │ Country/Region │\n",
       "│       │ \u001b[90mInt64\u001b[39m │ \u001b[90mString\u001b[39m          │ \u001b[90mString⍰\u001b[39m           │ \u001b[90mString\u001b[39m         │\n",
       "├───────┼───────┼─────────────────┼───────────────────┼────────────────┤\n",
       "│ 1     │ 1     │ 01/22/2020      │ Anhui             │ Mainland China │\n",
       "│ 2     │ 2     │ 01/22/2020      │ Beijing           │ Mainland China │\n",
       "│ 3     │ 3     │ 01/22/2020      │ Chongqing         │ Mainland China │\n",
       "│ 4     │ 4     │ 01/22/2020      │ Fujian            │ Mainland China │\n",
       "│ 5     │ 5     │ 01/22/2020      │ Gansu             │ Mainland China │\n",
       "│ 6     │ 6     │ 01/22/2020      │ Guangdong         │ Mainland China │\n",
       "│ 7     │ 7     │ 01/22/2020      │ Guangxi           │ Mainland China │\n",
       "│ 8     │ 8     │ 01/22/2020      │ Guizhou           │ Mainland China │\n",
       "│ 9     │ 9     │ 01/22/2020      │ Hainan            │ Mainland China │\n",
       "│ 10    │ 10    │ 01/22/2020      │ Hebei             │ Mainland China │\n",
       "⋮\n",
       "│ 12239 │ 12239 │ 04/05/2020      │ Virgin Islands    │ US             │\n",
       "│ 12240 │ 12240 │ 04/05/2020      │ Virginia          │ US             │\n",
       "│ 12241 │ 12241 │ 04/05/2020      │ Washington        │ US             │\n",
       "│ 12242 │ 12242 │ 04/05/2020      │ West Virginia     │ US             │\n",
       "│ 12243 │ 12243 │ 04/05/2020      │ Western Australia │ Australia      │\n",
       "│ 12244 │ 12244 │ 04/05/2020      │ Wisconsin         │ US             │\n",
       "│ 12245 │ 12245 │ 04/05/2020      │ Wyoming           │ US             │\n",
       "│ 12246 │ 12246 │ 04/05/2020      │ Xinjiang          │ Mainland China │\n",
       "│ 12247 │ 12247 │ 04/05/2020      │ Yukon             │ Canada         │\n",
       "│ 12248 │ 12248 │ 04/05/2020      │ Yunnan            │ Mainland China │\n",
       "│ 12249 │ 12249 │ 04/05/2020      │ Zhejiang          │ Mainland China │"
      ]
     },
     "execution_count": 2,
     "metadata": {},
     "output_type": "execute_result"
    }
   ],
   "source": [
    "covid19_data = CSV.File(\"data/covid_19_data.csv\") |> DataFrame"
   ]
  },
  {
   "cell_type": "markdown",
   "metadata": {},
   "source": [
    "#### Remote Data\n",
    "\n",
    "To read data from a URL, just ```download``` it first!"
   ]
  },
  {
   "cell_type": "code",
   "execution_count": 3,
   "metadata": {},
   "outputs": [
    {
     "data": {
      "text/html": [
       "<table class=\"data-frame\"><thead><tr><th></th><th>series_id</th><th>year</th><th>period</th><th>value</th><th>footnote_codes</th></tr><tr><th></th><th>String</th><th>Int64</th><th>String</th><th>Int64</th><th>String⍰</th></tr></thead><tbody><p>4,734 rows × 5 columns</p><tr><th>1</th><td>CES0000000001    </td><td>1939</td><td>M01</td><td>29923</td><td>missing</td></tr><tr><th>2</th><td>CES0000000001    </td><td>1939</td><td>M02</td><td>30100</td><td>missing</td></tr><tr><th>3</th><td>CES0000000001    </td><td>1939</td><td>M03</td><td>30280</td><td>missing</td></tr><tr><th>4</th><td>CES0000000001    </td><td>1939</td><td>M04</td><td>30094</td><td>missing</td></tr><tr><th>5</th><td>CES0000000001    </td><td>1939</td><td>M05</td><td>30299</td><td>missing</td></tr><tr><th>6</th><td>CES0000000001    </td><td>1939</td><td>M06</td><td>30502</td><td>missing</td></tr><tr><th>7</th><td>CES0000000001    </td><td>1939</td><td>M07</td><td>30419</td><td>missing</td></tr><tr><th>8</th><td>CES0000000001    </td><td>1939</td><td>M08</td><td>30663</td><td>missing</td></tr><tr><th>9</th><td>CES0000000001    </td><td>1939</td><td>M09</td><td>31031</td><td>missing</td></tr><tr><th>10</th><td>CES0000000001    </td><td>1939</td><td>M10</td><td>31411</td><td>missing</td></tr><tr><th>11</th><td>CES0000000001    </td><td>1939</td><td>M11</td><td>31470</td><td>missing</td></tr><tr><th>12</th><td>CES0000000001    </td><td>1939</td><td>M12</td><td>31542</td><td>missing</td></tr><tr><th>13</th><td>CES0000000001    </td><td>1940</td><td>M01</td><td>31603</td><td>missing</td></tr><tr><th>14</th><td>CES0000000001    </td><td>1940</td><td>M02</td><td>31715</td><td>missing</td></tr><tr><th>15</th><td>CES0000000001    </td><td>1940</td><td>M03</td><td>31825</td><td>missing</td></tr><tr><th>16</th><td>CES0000000001    </td><td>1940</td><td>M04</td><td>31701</td><td>missing</td></tr><tr><th>17</th><td>CES0000000001    </td><td>1940</td><td>M05</td><td>31879</td><td>missing</td></tr><tr><th>18</th><td>CES0000000001    </td><td>1940</td><td>M06</td><td>31977</td><td>missing</td></tr><tr><th>19</th><td>CES0000000001    </td><td>1940</td><td>M07</td><td>31942</td><td>missing</td></tr><tr><th>20</th><td>CES0000000001    </td><td>1940</td><td>M08</td><td>32352</td><td>missing</td></tr><tr><th>21</th><td>CES0000000001    </td><td>1940</td><td>M09</td><td>32810</td><td>missing</td></tr><tr><th>22</th><td>CES0000000001    </td><td>1940</td><td>M10</td><td>33267</td><td>missing</td></tr><tr><th>23</th><td>CES0000000001    </td><td>1940</td><td>M11</td><td>33669</td><td>missing</td></tr><tr><th>24</th><td>CES0000000001    </td><td>1940</td><td>M12</td><td>34174</td><td>missing</td></tr><tr><th>25</th><td>CES0000000001    </td><td>1941</td><td>M01</td><td>34481</td><td>missing</td></tr><tr><th>26</th><td>CES0000000001    </td><td>1941</td><td>M02</td><td>34843</td><td>missing</td></tr><tr><th>27</th><td>CES0000000001    </td><td>1941</td><td>M03</td><td>35092</td><td>missing</td></tr><tr><th>28</th><td>CES0000000001    </td><td>1941</td><td>M04</td><td>35468</td><td>missing</td></tr><tr><th>29</th><td>CES0000000001    </td><td>1941</td><td>M05</td><td>36182</td><td>missing</td></tr><tr><th>30</th><td>CES0000000001    </td><td>1941</td><td>M06</td><td>36650</td><td>missing</td></tr><tr><th>&vellip;</th><td>&vellip;</td><td>&vellip;</td><td>&vellip;</td><td>&vellip;</td><td>&vellip;</td></tr></tbody></table>"
      ],
      "text/latex": [
       "\\begin{tabular}{r|ccccc}\n",
       "\t& series\\_id & year & period & value & footnote\\_codes\\\\\n",
       "\t\\hline\n",
       "\t& String & Int64 & String & Int64 & String⍰\\\\\n",
       "\t\\hline\n",
       "\t1 & CES0000000001     & 1939 & M01 & 29923 &  \\\\\n",
       "\t2 & CES0000000001     & 1939 & M02 & 30100 &  \\\\\n",
       "\t3 & CES0000000001     & 1939 & M03 & 30280 &  \\\\\n",
       "\t4 & CES0000000001     & 1939 & M04 & 30094 &  \\\\\n",
       "\t5 & CES0000000001     & 1939 & M05 & 30299 &  \\\\\n",
       "\t6 & CES0000000001     & 1939 & M06 & 30502 &  \\\\\n",
       "\t7 & CES0000000001     & 1939 & M07 & 30419 &  \\\\\n",
       "\t8 & CES0000000001     & 1939 & M08 & 30663 &  \\\\\n",
       "\t9 & CES0000000001     & 1939 & M09 & 31031 &  \\\\\n",
       "\t10 & CES0000000001     & 1939 & M10 & 31411 &  \\\\\n",
       "\t11 & CES0000000001     & 1939 & M11 & 31470 &  \\\\\n",
       "\t12 & CES0000000001     & 1939 & M12 & 31542 &  \\\\\n",
       "\t13 & CES0000000001     & 1940 & M01 & 31603 &  \\\\\n",
       "\t14 & CES0000000001     & 1940 & M02 & 31715 &  \\\\\n",
       "\t15 & CES0000000001     & 1940 & M03 & 31825 &  \\\\\n",
       "\t16 & CES0000000001     & 1940 & M04 & 31701 &  \\\\\n",
       "\t17 & CES0000000001     & 1940 & M05 & 31879 &  \\\\\n",
       "\t18 & CES0000000001     & 1940 & M06 & 31977 &  \\\\\n",
       "\t19 & CES0000000001     & 1940 & M07 & 31942 &  \\\\\n",
       "\t20 & CES0000000001     & 1940 & M08 & 32352 &  \\\\\n",
       "\t21 & CES0000000001     & 1940 & M09 & 32810 &  \\\\\n",
       "\t22 & CES0000000001     & 1940 & M10 & 33267 &  \\\\\n",
       "\t23 & CES0000000001     & 1940 & M11 & 33669 &  \\\\\n",
       "\t24 & CES0000000001     & 1940 & M12 & 34174 &  \\\\\n",
       "\t25 & CES0000000001     & 1941 & M01 & 34481 &  \\\\\n",
       "\t26 & CES0000000001     & 1941 & M02 & 34843 &  \\\\\n",
       "\t27 & CES0000000001     & 1941 & M03 & 35092 &  \\\\\n",
       "\t28 & CES0000000001     & 1941 & M04 & 35468 &  \\\\\n",
       "\t29 & CES0000000001     & 1941 & M05 & 36182 &  \\\\\n",
       "\t30 & CES0000000001     & 1941 & M06 & 36650 &  \\\\\n",
       "\t$\\dots$ & $\\dots$ & $\\dots$ & $\\dots$ & $\\dots$ & $\\dots$ \\\\\n",
       "\\end{tabular}\n"
      ],
      "text/plain": [
       "4734×5 DataFrame\n",
       "│ Row  │ series_id         │ year  │ period │ value │ footnote_codes │\n",
       "│      │ \u001b[90mString\u001b[39m            │ \u001b[90mInt64\u001b[39m │ \u001b[90mString\u001b[39m │ \u001b[90mInt64\u001b[39m │ \u001b[90mString⍰\u001b[39m        │\n",
       "├──────┼───────────────────┼───────┼────────┼───────┼────────────────┤\n",
       "│ 1    │ CES0000000001     │ 1939  │ M01    │ 29923 │ \u001b[90mmissing\u001b[39m        │\n",
       "│ 2    │ CES0000000001     │ 1939  │ M02    │ 30100 │ \u001b[90mmissing\u001b[39m        │\n",
       "│ 3    │ CES0000000001     │ 1939  │ M03    │ 30280 │ \u001b[90mmissing\u001b[39m        │\n",
       "│ 4    │ CES0000000001     │ 1939  │ M04    │ 30094 │ \u001b[90mmissing\u001b[39m        │\n",
       "│ 5    │ CES0000000001     │ 1939  │ M05    │ 30299 │ \u001b[90mmissing\u001b[39m        │\n",
       "│ 6    │ CES0000000001     │ 1939  │ M06    │ 30502 │ \u001b[90mmissing\u001b[39m        │\n",
       "│ 7    │ CES0000000001     │ 1939  │ M07    │ 30419 │ \u001b[90mmissing\u001b[39m        │\n",
       "│ 8    │ CES0000000001     │ 1939  │ M08    │ 30663 │ \u001b[90mmissing\u001b[39m        │\n",
       "│ 9    │ CES0000000001     │ 1939  │ M09    │ 31031 │ \u001b[90mmissing\u001b[39m        │\n",
       "│ 10   │ CES0000000001     │ 1939  │ M10    │ 31411 │ \u001b[90mmissing\u001b[39m        │\n",
       "⋮\n",
       "│ 4724 │ CEU0000000010     │ 2019  │ M06    │ 75430 │ \u001b[90mmissing\u001b[39m        │\n",
       "│ 4725 │ CEU0000000010     │ 2019  │ M07    │ 74492 │ \u001b[90mmissing\u001b[39m        │\n",
       "│ 4726 │ CEU0000000010     │ 2019  │ M08    │ 74892 │ \u001b[90mmissing\u001b[39m        │\n",
       "│ 4727 │ CEU0000000010     │ 2019  │ M09    │ 75538 │ \u001b[90mmissing\u001b[39m        │\n",
       "│ 4728 │ CEU0000000010     │ 2019  │ M10    │ 76260 │ \u001b[90mmissing\u001b[39m        │\n",
       "│ 4729 │ CEU0000000010     │ 2019  │ M11    │ 76738 │ \u001b[90mmissing\u001b[39m        │\n",
       "│ 4730 │ CEU0000000010     │ 2019  │ M12    │ 76784 │ \u001b[90mmissing\u001b[39m        │\n",
       "│ 4731 │ CEU0000000010     │ 2019  │ M13    │ 75309 │ \u001b[90mmissing\u001b[39m        │\n",
       "│ 4732 │ CEU0000000010     │ 2020  │ M01    │ 75426 │ \u001b[90mmissing\u001b[39m        │\n",
       "│ 4733 │ CEU0000000010     │ 2020  │ M02    │ 75949 │ P              │\n",
       "│ 4734 │ CEU0000000010     │ 2020  │ M03    │ 75731 │ P              │"
      ]
     },
     "execution_count": 3,
     "metadata": {},
     "output_type": "execute_result"
    }
   ],
   "source": [
    "ces_data = CSV.File(download(\"https://download.bls.gov/pub/time.series/ce/ce.data.00a.TotalNonfarm.Employment\"), normalizenames=true) |> DataFrame"
   ]
  },
  {
   "cell_type": "markdown",
   "metadata": {
    "jupyter": {
     "outputs_hidden": true
    }
   },
   "source": [
    "#### What about other file formats?\n",
    "\n",
    "Julia can ingest data in a wide variety of file formats. For example, what if you have data from previous SAS or STATA projects that are stored in .sas7bdat or .data files? Let's see:"
   ]
  },
  {
   "cell_type": "code",
   "execution_count": 4,
   "metadata": {},
   "outputs": [
    {
     "data": {
      "text/html": [
       "<table class=\"data-frame\"><thead><tr><th></th><th>CIRCUIT</th><th>DISTRICT</th><th>OFFICE</th><th>DOCKET</th><th>FILEDATE</th><th>JURIS</th><th>NOS</th><th>ORIGIN</th><th>RESIDENC</th></tr><tr><th></th><th>Float64⍰</th><th>String⍰</th><th>String⍰</th><th>String⍰</th><th>Float64⍰</th><th>Float64⍰</th><th>Float64⍰</th><th>Float64⍰</th><th>Float64⍰</th></tr></thead><tbody><p>237,999 rows × 28 columns (omitted printing of 19 columns)</p><tr><th>1</th><td>0.0</td><td>90</td><td>1</td><td>6401802</td><td>8810.0</td><td>3.0</td><td>550.0</td><td>4.0</td><td>-8.0</td></tr><tr><th>2</th><td>0.0</td><td>90</td><td>1</td><td>6702909</td><td>4864.0</td><td>3.0</td><td>950.0</td><td>3.0</td><td>-8.0</td></tr><tr><th>3</th><td>0.0</td><td>90</td><td>1</td><td>7401388</td><td>8873.0</td><td>2.0</td><td>890.0</td><td>3.0</td><td>-8.0</td></tr><tr><th>4</th><td>0.0</td><td>90</td><td>1</td><td>7500642</td><td>8873.0</td><td>2.0</td><td>890.0</td><td>3.0</td><td>-8.0</td></tr><tr><th>5</th><td>0.0</td><td>90</td><td>1</td><td>7501606</td><td>5751.0</td><td>4.0</td><td>190.0</td><td>1.0</td><td>14.0</td></tr><tr><th>6</th><td>0.0</td><td>90</td><td>1</td><td>7601278</td><td>8810.0</td><td>3.0</td><td>890.0</td><td>4.0</td><td>-8.0</td></tr><tr><th>7</th><td>0.0</td><td>90</td><td>1</td><td>7601518</td><td>9799.0</td><td>1.0</td><td>890.0</td><td>4.0</td><td>-8.0</td></tr><tr><th>8</th><td>0.0</td><td>90</td><td>1</td><td>7700488</td><td>8686.0</td><td>2.0</td><td>860.0</td><td>4.0</td><td>-8.0</td></tr><tr><th>9</th><td>0.0</td><td>90</td><td>1</td><td>7800420</td><td>8847.0</td><td>2.0</td><td>895.0</td><td>4.0</td><td>-8.0</td></tr><tr><th>10</th><td>0.0</td><td>90</td><td>1</td><td>7801744</td><td>6835.0</td><td>2.0</td><td>890.0</td><td>1.0</td><td>-8.0</td></tr><tr><th>11</th><td>0.0</td><td>90</td><td>1</td><td>7802311</td><td>8650.0</td><td>2.0</td><td>860.0</td><td>4.0</td><td>-8.0</td></tr><tr><th>12</th><td>0.0</td><td>90</td><td>1</td><td>7900251</td><td>6963.0</td><td>3.0</td><td>890.0</td><td>1.0</td><td>-8.0</td></tr><tr><th>13</th><td>0.0</td><td>90</td><td>1</td><td>7901337</td><td>8798.0</td><td>4.0</td><td>365.0</td><td>4.0</td><td>43.0</td></tr><tr><th>14</th><td>0.0</td><td>90</td><td>1</td><td>7901816</td><td>8543.0</td><td>2.0</td><td>442.0</td><td>4.0</td><td>-8.0</td></tr><tr><th>15</th><td>0.0</td><td>90</td><td>1</td><td>7901849</td><td>9881.0</td><td>3.0</td><td>890.0</td><td>4.0</td><td>-8.0</td></tr><tr><th>16</th><td>0.0</td><td>90</td><td>1</td><td>7902688</td><td>8755.0</td><td>2.0</td><td>895.0</td><td>4.0</td><td>-8.0</td></tr><tr><th>17</th><td>0.0</td><td>90</td><td>1</td><td>7902973</td><td>7244.0</td><td>2.0</td><td>790.0</td><td>1.0</td><td>-8.0</td></tr><tr><th>18</th><td>0.0</td><td>90</td><td>1</td><td>8000683</td><td>7381.0</td><td>1.0</td><td>370.0</td><td>1.0</td><td>-8.0</td></tr><tr><th>19</th><td>0.0</td><td>90</td><td>1</td><td>8001628</td><td>8672.0</td><td>2.0</td><td>442.0</td><td>4.0</td><td>-8.0</td></tr><tr><th>20</th><td>0.0</td><td>90</td><td>1</td><td>8002079</td><td>8595.0</td><td>4.0</td><td>360.0</td><td>4.0</td><td>13.0</td></tr><tr><th>21</th><td>0.0</td><td>90</td><td>1</td><td>8002253</td><td>8722.0</td><td>1.0</td><td>150.0</td><td>4.0</td><td>-8.0</td></tr><tr><th>22</th><td>0.0</td><td>90</td><td>1</td><td>8002997</td><td>8825.0</td><td>2.0</td><td>895.0</td><td>4.0</td><td>-8.0</td></tr><tr><th>23</th><td>0.0</td><td>90</td><td>1</td><td>8100171</td><td>7693.0</td><td>2.0</td><td>440.0</td><td>1.0</td><td>-8.0</td></tr><tr><th>24</th><td>0.0</td><td>90</td><td>1</td><td>8100328</td><td>7712.0</td><td>3.0</td><td>890.0</td><td>3.0</td><td>-8.0</td></tr><tr><th>25</th><td>0.0</td><td>90</td><td>1</td><td>8100394</td><td>8916.0</td><td>3.0</td><td>440.0</td><td>4.0</td><td>-8.0</td></tr><tr><th>26</th><td>0.0</td><td>90</td><td>1</td><td>8101541</td><td>8825.0</td><td>3.0</td><td>440.0</td><td>4.0</td><td>-8.0</td></tr><tr><th>27</th><td>0.0</td><td>90</td><td>1</td><td>8101565</td><td>8686.0</td><td>2.0</td><td>790.0</td><td>4.0</td><td>-8.0</td></tr><tr><th>28</th><td>0.0</td><td>90</td><td>1</td><td>8102012</td><td>8180.0</td><td>3.0</td><td>442.0</td><td>4.0</td><td>-8.0</td></tr><tr><th>29</th><td>0.0</td><td>90</td><td>1</td><td>8102030</td><td>7909.0</td><td>1.0</td><td>442.0</td><td>1.0</td><td>-8.0</td></tr><tr><th>30</th><td>0.0</td><td>90</td><td>1</td><td>8102715</td><td>8685.0</td><td>4.0</td><td>362.0</td><td>3.0</td><td>41.0</td></tr><tr><th>&vellip;</th><td>&vellip;</td><td>&vellip;</td><td>&vellip;</td><td>&vellip;</td><td>&vellip;</td><td>&vellip;</td><td>&vellip;</td><td>&vellip;</td><td>&vellip;</td></tr></tbody></table>"
      ],
      "text/latex": [
       "\\begin{tabular}{r|cccccccccc}\n",
       "\t& CIRCUIT & DISTRICT & OFFICE & DOCKET & FILEDATE & JURIS & NOS & ORIGIN & RESIDENC & \\\\\n",
       "\t\\hline\n",
       "\t& Float64⍰ & String⍰ & String⍰ & String⍰ & Float64⍰ & Float64⍰ & Float64⍰ & Float64⍰ & Float64⍰ & \\\\\n",
       "\t\\hline\n",
       "\t1 & 0.0 & 90 & 1 & 6401802 & 8810.0 & 3.0 & 550.0 & 4.0 & -8.0 & $\\dots$ \\\\\n",
       "\t2 & 0.0 & 90 & 1 & 6702909 & 4864.0 & 3.0 & 950.0 & 3.0 & -8.0 & $\\dots$ \\\\\n",
       "\t3 & 0.0 & 90 & 1 & 7401388 & 8873.0 & 2.0 & 890.0 & 3.0 & -8.0 & $\\dots$ \\\\\n",
       "\t4 & 0.0 & 90 & 1 & 7500642 & 8873.0 & 2.0 & 890.0 & 3.0 & -8.0 & $\\dots$ \\\\\n",
       "\t5 & 0.0 & 90 & 1 & 7501606 & 5751.0 & 4.0 & 190.0 & 1.0 & 14.0 & $\\dots$ \\\\\n",
       "\t6 & 0.0 & 90 & 1 & 7601278 & 8810.0 & 3.0 & 890.0 & 4.0 & -8.0 & $\\dots$ \\\\\n",
       "\t7 & 0.0 & 90 & 1 & 7601518 & 9799.0 & 1.0 & 890.0 & 4.0 & -8.0 & $\\dots$ \\\\\n",
       "\t8 & 0.0 & 90 & 1 & 7700488 & 8686.0 & 2.0 & 860.0 & 4.0 & -8.0 & $\\dots$ \\\\\n",
       "\t9 & 0.0 & 90 & 1 & 7800420 & 8847.0 & 2.0 & 895.0 & 4.0 & -8.0 & $\\dots$ \\\\\n",
       "\t10 & 0.0 & 90 & 1 & 7801744 & 6835.0 & 2.0 & 890.0 & 1.0 & -8.0 & $\\dots$ \\\\\n",
       "\t11 & 0.0 & 90 & 1 & 7802311 & 8650.0 & 2.0 & 860.0 & 4.0 & -8.0 & $\\dots$ \\\\\n",
       "\t12 & 0.0 & 90 & 1 & 7900251 & 6963.0 & 3.0 & 890.0 & 1.0 & -8.0 & $\\dots$ \\\\\n",
       "\t13 & 0.0 & 90 & 1 & 7901337 & 8798.0 & 4.0 & 365.0 & 4.0 & 43.0 & $\\dots$ \\\\\n",
       "\t14 & 0.0 & 90 & 1 & 7901816 & 8543.0 & 2.0 & 442.0 & 4.0 & -8.0 & $\\dots$ \\\\\n",
       "\t15 & 0.0 & 90 & 1 & 7901849 & 9881.0 & 3.0 & 890.0 & 4.0 & -8.0 & $\\dots$ \\\\\n",
       "\t16 & 0.0 & 90 & 1 & 7902688 & 8755.0 & 2.0 & 895.0 & 4.0 & -8.0 & $\\dots$ \\\\\n",
       "\t17 & 0.0 & 90 & 1 & 7902973 & 7244.0 & 2.0 & 790.0 & 1.0 & -8.0 & $\\dots$ \\\\\n",
       "\t18 & 0.0 & 90 & 1 & 8000683 & 7381.0 & 1.0 & 370.0 & 1.0 & -8.0 & $\\dots$ \\\\\n",
       "\t19 & 0.0 & 90 & 1 & 8001628 & 8672.0 & 2.0 & 442.0 & 4.0 & -8.0 & $\\dots$ \\\\\n",
       "\t20 & 0.0 & 90 & 1 & 8002079 & 8595.0 & 4.0 & 360.0 & 4.0 & 13.0 & $\\dots$ \\\\\n",
       "\t21 & 0.0 & 90 & 1 & 8002253 & 8722.0 & 1.0 & 150.0 & 4.0 & -8.0 & $\\dots$ \\\\\n",
       "\t22 & 0.0 & 90 & 1 & 8002997 & 8825.0 & 2.0 & 895.0 & 4.0 & -8.0 & $\\dots$ \\\\\n",
       "\t23 & 0.0 & 90 & 1 & 8100171 & 7693.0 & 2.0 & 440.0 & 1.0 & -8.0 & $\\dots$ \\\\\n",
       "\t24 & 0.0 & 90 & 1 & 8100328 & 7712.0 & 3.0 & 890.0 & 3.0 & -8.0 & $\\dots$ \\\\\n",
       "\t25 & 0.0 & 90 & 1 & 8100394 & 8916.0 & 3.0 & 440.0 & 4.0 & -8.0 & $\\dots$ \\\\\n",
       "\t26 & 0.0 & 90 & 1 & 8101541 & 8825.0 & 3.0 & 440.0 & 4.0 & -8.0 & $\\dots$ \\\\\n",
       "\t27 & 0.0 & 90 & 1 & 8101565 & 8686.0 & 2.0 & 790.0 & 4.0 & -8.0 & $\\dots$ \\\\\n",
       "\t28 & 0.0 & 90 & 1 & 8102012 & 8180.0 & 3.0 & 442.0 & 4.0 & -8.0 & $\\dots$ \\\\\n",
       "\t29 & 0.0 & 90 & 1 & 8102030 & 7909.0 & 1.0 & 442.0 & 1.0 & -8.0 & $\\dots$ \\\\\n",
       "\t30 & 0.0 & 90 & 1 & 8102715 & 8685.0 & 4.0 & 362.0 & 3.0 & 41.0 & $\\dots$ \\\\\n",
       "\t$\\dots$ & $\\dots$ & $\\dots$ & $\\dots$ & $\\dots$ & $\\dots$ & $\\dots$ & $\\dots$ & $\\dots$ & $\\dots$ &  \\\\\n",
       "\\end{tabular}\n"
      ],
      "text/plain": [
       "237999×28 DataFrame. Omitted printing of 22 columns\n",
       "│ Row    │ CIRCUIT  │ DISTRICT │ OFFICE  │ DOCKET  │ FILEDATE │ JURIS    │\n",
       "│        │ \u001b[90mFloat64⍰\u001b[39m │ \u001b[90mString⍰\u001b[39m  │ \u001b[90mString⍰\u001b[39m │ \u001b[90mString⍰\u001b[39m │ \u001b[90mFloat64⍰\u001b[39m │ \u001b[90mFloat64⍰\u001b[39m │\n",
       "├────────┼──────────┼──────────┼─────────┼─────────┼──────────┼──────────┤\n",
       "│ 1      │ 0.0      │ 90       │ 1       │ 6401802 │ 8810.0   │ 3.0      │\n",
       "│ 2      │ 0.0      │ 90       │ 1       │ 6702909 │ 4864.0   │ 3.0      │\n",
       "│ 3      │ 0.0      │ 90       │ 1       │ 7401388 │ 8873.0   │ 2.0      │\n",
       "│ 4      │ 0.0      │ 90       │ 1       │ 7500642 │ 8873.0   │ 2.0      │\n",
       "│ 5      │ 0.0      │ 90       │ 1       │ 7501606 │ 5751.0   │ 4.0      │\n",
       "│ 6      │ 0.0      │ 90       │ 1       │ 7601278 │ 8810.0   │ 3.0      │\n",
       "│ 7      │ 0.0      │ 90       │ 1       │ 7601518 │ 9799.0   │ 1.0      │\n",
       "│ 8      │ 0.0      │ 90       │ 1       │ 7700488 │ 8686.0   │ 2.0      │\n",
       "│ 9      │ 0.0      │ 90       │ 1       │ 7800420 │ 8847.0   │ 2.0      │\n",
       "│ 10     │ 0.0      │ 90       │ 1       │ 7801744 │ 6835.0   │ 2.0      │\n",
       "⋮\n",
       "│ 237989 │ 11.0     │ 3J       │ 6       │ 8700016 │ 9925.0   │ 3.0      │\n",
       "│ 237990 │ 11.0     │ 3J       │ 6       │ 8700023 │ 9931.0   │ 3.0      │\n",
       "│ 237991 │ 11.0     │ 3J       │ 6       │ 8700024 │ 9939.0   │ 1.0      │\n",
       "│ 237992 │ 11.0     │ 3J       │ 6       │ 8700026 │ 9951.0   │ 3.0      │\n",
       "│ 237993 │ 11.0     │ 3J       │ 6       │ 8700034 │ 9972.0   │ 3.0      │\n",
       "│ 237994 │ 11.0     │ 3J       │ 6       │ 8700037 │ 9978.0   │ 3.0      │\n",
       "│ 237995 │ 11.0     │ 3J       │ 6       │ 8700042 │ 9981.0   │ 3.0      │\n",
       "│ 237996 │ 11.0     │ 3J       │ 6       │ 8700043 │ 9981.0   │ 3.0      │\n",
       "│ 237997 │ 11.0     │ 3J       │ 6       │ 8700046 │ 9985.0   │ 3.0      │\n",
       "│ 237998 │ 11.0     │ 3J       │ 6       │ 8700048 │ 9995.0   │ 3.0      │\n",
       "│ 237999 │ 11.0     │ 3J       │ 6       │ 8700049 │ 9995.0   │ 3.0      │"
      ]
     },
     "execution_count": 4,
     "metadata": {},
     "output_type": "execute_result"
    }
   ],
   "source": [
    "using StatFiles\n",
    "\n",
    "sas_data = load(\"data/cv87_0.sas7bdat\") |> DataFrame"
   ]
  },
  {
   "cell_type": "markdown",
   "metadata": {},
   "source": [
    "### Manipulating Data\n",
    "\n",
    "How you manipulate your data will depend largely on what interface you use to interact with it. For example, the DataFrames package exports a variety of different methods that you can use to sort, filter, group, etc. Other packages have their own methods for doing these basic operations. That being said, the way that these actions work across packages is typically similar; the differences are primarily in syntax.\n",
    "\n",
    "Below we'll do perform some basic manipulation tasks with the ```DataFrames``` package. We'll be working with the CES data we fetched earlier from BLS."
   ]
  },
  {
   "cell_type": "markdown",
   "metadata": {},
   "source": [
    "#### Fetching Rows/Columns\n",
    "\n",
    "Let's see how to fetch specific rows and columns from a DataFrame. The basic syntax is ```dataframe[row_index, column_index]```."
   ]
  },
  {
   "cell_type": "code",
   "execution_count": 5,
   "metadata": {},
   "outputs": [
    {
     "data": {
      "text/plain": [
       "30100"
      ]
     },
     "execution_count": 5,
     "metadata": {},
     "output_type": "execute_result"
    }
   ],
   "source": [
    "# Get the value stored in row 2, column 4\n",
    "ces_data[2,4]"
   ]
  },
  {
   "cell_type": "code",
   "execution_count": 6,
   "metadata": {
    "jupyter": {
     "outputs_hidden": true
    }
   },
   "outputs": [
    {
     "data": {
      "text/plain": [
       "4734-element Array{Int64,1}:\n",
       " 1939\n",
       " 1939\n",
       " 1939\n",
       " 1939\n",
       " 1939\n",
       " 1939\n",
       " 1939\n",
       " 1939\n",
       " 1939\n",
       " 1939\n",
       " 1939\n",
       " 1939\n",
       " 1940\n",
       "    ⋮\n",
       " 2019\n",
       " 2019\n",
       " 2019\n",
       " 2019\n",
       " 2019\n",
       " 2019\n",
       " 2019\n",
       " 2019\n",
       " 2019\n",
       " 2020\n",
       " 2020\n",
       " 2020"
      ]
     },
     "execution_count": 6,
     "metadata": {},
     "output_type": "execute_result"
    }
   ],
   "source": [
    "# To get the entire year column, there are several ways:\n",
    "ces_data.year # or\n",
    "ces_data[:, 2] # or\n",
    "ces_data[:, :year]"
   ]
  },
  {
   "cell_type": "code",
   "execution_count": 7,
   "metadata": {},
   "outputs": [
    {
     "data": {
      "text/html": [
       "<p>DataFrameRow (5 columns)</p><table class=\"data-frame\"><thead><tr><th></th><th>series_id</th><th>year</th><th>period</th><th>value</th><th>footnote_codes</th></tr><tr><th></th><th>String</th><th>Int64</th><th>String</th><th>Int64</th><th>String⍰</th></tr></thead><tbody><tr><th>5</th><td>CES0000000001    </td><td>1939</td><td>M05</td><td>30299</td><td>missing</td></tr></tbody></table>"
      ],
      "text/latex": [
       "\\begin{tabular}{r|ccccc}\n",
       "\t& series\\_id & year & period & value & footnote\\_codes\\\\\n",
       "\t\\hline\n",
       "\t& String & Int64 & String & Int64 & String⍰\\\\\n",
       "\t\\hline\n",
       "\t5 & CES0000000001     & 1939 & M05 & 30299 &  \\\\\n",
       "\\end{tabular}\n"
      ],
      "text/plain": [
       "DataFrameRow\n",
       "│ Row │ series_id         │ year  │ period │ value │ footnote_codes │\n",
       "│     │ \u001b[90mString\u001b[39m            │ \u001b[90mInt64\u001b[39m │ \u001b[90mString\u001b[39m │ \u001b[90mInt64\u001b[39m │ \u001b[90mString⍰\u001b[39m        │\n",
       "├─────┼───────────────────┼───────┼────────┼───────┼────────────────┤\n",
       "│ 5   │ CES0000000001     │ 1939  │ M05    │ 30299 │ \u001b[90mmissing\u001b[39m        │"
      ]
     },
     "execution_count": 7,
     "metadata": {},
     "output_type": "execute_result"
    }
   ],
   "source": [
    "# Get the entire 5th row\n",
    "ces_data[5, :]"
   ]
  },
  {
   "cell_type": "markdown",
   "metadata": {},
   "source": [
    "#### Sorting\n",
    "\n",
    "Let's sort the CES data by the values in the ```value``` column. The default behavior is to sort in ascending order, so we'll pass in the ```rev=true``` keyword argument to the ```sort``` function to make it sort in descending order:"
   ]
  },
  {
   "cell_type": "code",
   "execution_count": 8,
   "metadata": {
    "jupyter": {
     "outputs_hidden": true
    }
   },
   "outputs": [
    {
     "data": {
      "text/html": [
       "<table class=\"data-frame\"><thead><tr><th></th><th>series_id</th><th>year</th><th>period</th><th>value</th><th>footnote_codes</th></tr><tr><th></th><th>String</th><th>Int64</th><th>String</th><th>Int64</th><th>String⍰</th></tr></thead><tbody><p>4,734 rows × 5 columns</p><tr><th>1</th><td>CEU0000000001    </td><td>2019</td><td>M11</td><td>153177</td><td>missing</td></tr><tr><th>2</th><td>CEU0000000001    </td><td>2019</td><td>M12</td><td>152929</td><td>missing</td></tr><tr><th>3</th><td>CEU0000000001    </td><td>2019</td><td>M10</td><td>152570</td><td>missing</td></tr><tr><th>4</th><td>CES0000000001    </td><td>2020</td><td>M02</td><td>152487</td><td>P</td></tr><tr><th>5</th><td>CES0000000001    </td><td>2020</td><td>M01</td><td>152212</td><td>missing</td></tr><tr><th>6</th><td>CES0000000025    </td><td>2020</td><td>M03</td><td>152162</td><td>P</td></tr><tr><th>7</th><td>CES0000000001    </td><td>2019</td><td>M12</td><td>151998</td><td>missing</td></tr><tr><th>8</th><td>CES0000000001    </td><td>2019</td><td>M11</td><td>151814</td><td>missing</td></tr><tr><th>9</th><td>CES0000000025    </td><td>2019</td><td>M12</td><td>151788</td><td>missing</td></tr><tr><th>10</th><td>CES0000000001    </td><td>2020</td><td>M03</td><td>151786</td><td>P</td></tr><tr><th>11</th><td>CEU0000000001    </td><td>2019</td><td>M06</td><td>151739</td><td>missing</td></tr><tr><th>12</th><td>CEU0000000001    </td><td>2019</td><td>M09</td><td>151556</td><td>missing</td></tr><tr><th>13</th><td>CES0000000001    </td><td>2019</td><td>M10</td><td>151553</td><td>missing</td></tr><tr><th>14</th><td>CES0000000001    </td><td>2019</td><td>M09</td><td>151368</td><td>missing</td></tr><tr><th>15</th><td>CES0000000001    </td><td>2019</td><td>M08</td><td>151160</td><td>missing</td></tr><tr><th>16</th><td>CES0000000025    </td><td>2019</td><td>M09</td><td>151160</td><td>missing</td></tr><tr><th>17</th><td>CEU0000000001    </td><td>2019</td><td>M08</td><td>151141</td><td>missing</td></tr><tr><th>18</th><td>CEU0000000001    </td><td>2019</td><td>M05</td><td>151109</td><td>missing</td></tr><tr><th>19</th><td>CEU0000000001    </td><td>2020</td><td>M02</td><td>151055</td><td>P</td></tr><tr><th>20</th><td>CEU0000000001    </td><td>2018</td><td>M11</td><td>151032</td><td>missing</td></tr><tr><th>21</th><td>CES0000000001    </td><td>2019</td><td>M07</td><td>150953</td><td>missing</td></tr><tr><th>22</th><td>CEU0000000001    </td><td>2019</td><td>M13</td><td>150939</td><td>missing</td></tr><tr><th>23</th><td>CEU0000000001    </td><td>2018</td><td>M12</td><td>150832</td><td>missing</td></tr><tr><th>24</th><td>CEU0000000001    </td><td>2020</td><td>M03</td><td>150804</td><td>P</td></tr><tr><th>25</th><td>CES0000000001    </td><td>2019</td><td>M06</td><td>150759</td><td>missing</td></tr><tr><th>26</th><td>CEU0000000001    </td><td>2019</td><td>M07</td><td>150699</td><td>missing</td></tr><tr><th>27</th><td>CES0000000025    </td><td>2019</td><td>M06</td><td>150609</td><td>missing</td></tr><tr><th>28</th><td>CES0000000001    </td><td>2019</td><td>M05</td><td>150577</td><td>missing</td></tr><tr><th>29</th><td>CEU0000000001    </td><td>2018</td><td>M10</td><td>150551</td><td>missing</td></tr><tr><th>30</th><td>CES0000000001    </td><td>2019</td><td>M04</td><td>150492</td><td>missing</td></tr><tr><th>&vellip;</th><td>&vellip;</td><td>&vellip;</td><td>&vellip;</td><td>&vellip;</td><td>&vellip;</td></tr></tbody></table>"
      ],
      "text/latex": [
       "\\begin{tabular}{r|ccccc}\n",
       "\t& series\\_id & year & period & value & footnote\\_codes\\\\\n",
       "\t\\hline\n",
       "\t& String & Int64 & String & Int64 & String⍰\\\\\n",
       "\t\\hline\n",
       "\t1 & CEU0000000001     & 2019 & M11 & 153177 &  \\\\\n",
       "\t2 & CEU0000000001     & 2019 & M12 & 152929 &  \\\\\n",
       "\t3 & CEU0000000001     & 2019 & M10 & 152570 &  \\\\\n",
       "\t4 & CES0000000001     & 2020 & M02 & 152487 & P \\\\\n",
       "\t5 & CES0000000001     & 2020 & M01 & 152212 &  \\\\\n",
       "\t6 & CES0000000025     & 2020 & M03 & 152162 & P \\\\\n",
       "\t7 & CES0000000001     & 2019 & M12 & 151998 &  \\\\\n",
       "\t8 & CES0000000001     & 2019 & M11 & 151814 &  \\\\\n",
       "\t9 & CES0000000025     & 2019 & M12 & 151788 &  \\\\\n",
       "\t10 & CES0000000001     & 2020 & M03 & 151786 & P \\\\\n",
       "\t11 & CEU0000000001     & 2019 & M06 & 151739 &  \\\\\n",
       "\t12 & CEU0000000001     & 2019 & M09 & 151556 &  \\\\\n",
       "\t13 & CES0000000001     & 2019 & M10 & 151553 &  \\\\\n",
       "\t14 & CES0000000001     & 2019 & M09 & 151368 &  \\\\\n",
       "\t15 & CES0000000001     & 2019 & M08 & 151160 &  \\\\\n",
       "\t16 & CES0000000025     & 2019 & M09 & 151160 &  \\\\\n",
       "\t17 & CEU0000000001     & 2019 & M08 & 151141 &  \\\\\n",
       "\t18 & CEU0000000001     & 2019 & M05 & 151109 &  \\\\\n",
       "\t19 & CEU0000000001     & 2020 & M02 & 151055 & P \\\\\n",
       "\t20 & CEU0000000001     & 2018 & M11 & 151032 &  \\\\\n",
       "\t21 & CES0000000001     & 2019 & M07 & 150953 &  \\\\\n",
       "\t22 & CEU0000000001     & 2019 & M13 & 150939 &  \\\\\n",
       "\t23 & CEU0000000001     & 2018 & M12 & 150832 &  \\\\\n",
       "\t24 & CEU0000000001     & 2020 & M03 & 150804 & P \\\\\n",
       "\t25 & CES0000000001     & 2019 & M06 & 150759 &  \\\\\n",
       "\t26 & CEU0000000001     & 2019 & M07 & 150699 &  \\\\\n",
       "\t27 & CES0000000025     & 2019 & M06 & 150609 &  \\\\\n",
       "\t28 & CES0000000001     & 2019 & M05 & 150577 &  \\\\\n",
       "\t29 & CEU0000000001     & 2018 & M10 & 150551 &  \\\\\n",
       "\t30 & CES0000000001     & 2019 & M04 & 150492 &  \\\\\n",
       "\t$\\dots$ & $\\dots$ & $\\dots$ & $\\dots$ & $\\dots$ & $\\dots$ \\\\\n",
       "\\end{tabular}\n"
      ],
      "text/plain": [
       "4734×5 DataFrame\n",
       "│ Row  │ series_id         │ year  │ period │ value  │ footnote_codes │\n",
       "│      │ \u001b[90mString\u001b[39m            │ \u001b[90mInt64\u001b[39m │ \u001b[90mString\u001b[39m │ \u001b[90mInt64\u001b[39m  │ \u001b[90mString⍰\u001b[39m        │\n",
       "├──────┼───────────────────┼───────┼────────┼────────┼────────────────┤\n",
       "│ 1    │ CEU0000000001     │ 2019  │ M11    │ 153177 │ \u001b[90mmissing\u001b[39m        │\n",
       "│ 2    │ CEU0000000001     │ 2019  │ M12    │ 152929 │ \u001b[90mmissing\u001b[39m        │\n",
       "│ 3    │ CEU0000000001     │ 2019  │ M10    │ 152570 │ \u001b[90mmissing\u001b[39m        │\n",
       "│ 4    │ CES0000000001     │ 2020  │ M02    │ 152487 │ P              │\n",
       "│ 5    │ CES0000000001     │ 2020  │ M01    │ 152212 │ \u001b[90mmissing\u001b[39m        │\n",
       "│ 6    │ CES0000000025     │ 2020  │ M03    │ 152162 │ P              │\n",
       "│ 7    │ CES0000000001     │ 2019  │ M12    │ 151998 │ \u001b[90mmissing\u001b[39m        │\n",
       "│ 8    │ CES0000000001     │ 2019  │ M11    │ 151814 │ \u001b[90mmissing\u001b[39m        │\n",
       "│ 9    │ CES0000000025     │ 2019  │ M12    │ 151788 │ \u001b[90mmissing\u001b[39m        │\n",
       "│ 10   │ CES0000000001     │ 2020  │ M03    │ 151786 │ P              │\n",
       "⋮\n",
       "│ 4724 │ CES0000000026     │ 1945  │ M11    │ -490   │ \u001b[90mmissing\u001b[39m        │\n",
       "│ 4725 │ CES0000000026     │ 2009  │ M06    │ -501   │ \u001b[90mmissing\u001b[39m        │\n",
       "│ 4726 │ CES0000000026     │ 2008  │ M11    │ -556   │ \u001b[90mmissing\u001b[39m        │\n",
       "│ 4727 │ CES0000000026     │ 2009  │ M05    │ -612   │ \u001b[90mmissing\u001b[39m        │\n",
       "│ 4728 │ CES0000000026     │ 2008  │ M12    │ -638   │ \u001b[90mmissing\u001b[39m        │\n",
       "│ 4729 │ CES0000000026     │ 2009  │ M01    │ -739   │ \u001b[90mmissing\u001b[39m        │\n",
       "│ 4730 │ CES0000000026     │ 2009  │ M02    │ -744   │ \u001b[90mmissing\u001b[39m        │\n",
       "│ 4731 │ CES0000000026     │ 2009  │ M04    │ -746   │ \u001b[90mmissing\u001b[39m        │\n",
       "│ 4732 │ CES0000000026     │ 1945  │ M10    │ -758   │ \u001b[90mmissing\u001b[39m        │\n",
       "│ 4733 │ CES0000000026     │ 2009  │ M03    │ -776   │ \u001b[90mmissing\u001b[39m        │\n",
       "│ 4734 │ CES0000000026     │ 1945  │ M09    │ -881   │ \u001b[90mmissing\u001b[39m        │"
      ]
     },
     "execution_count": 8,
     "metadata": {},
     "output_type": "execute_result"
    }
   ],
   "source": [
    "sort(ces_data, :value, rev=true)"
   ]
  },
  {
   "cell_type": "markdown",
   "metadata": {},
   "source": [
    "#### Filtering\n",
    "\n",
    "Let's filter the CES data so that we only end up with rows where the ```year``` variables is between 1985 - 1990. There are several ways to perform this operation, but I think making use of Julia's broadcasting feature is the most inuitive, after having seen the above examples. "
   ]
  },
  {
   "cell_type": "code",
   "execution_count": 9,
   "metadata": {
    "jupyter": {
     "outputs_hidden": true
    }
   },
   "outputs": [
    {
     "data": {
      "text/html": [
       "<table class=\"data-frame\"><thead><tr><th></th><th>series_id</th><th>year</th><th>period</th><th>value</th><th>footnote_codes</th></tr><tr><th></th><th>String</th><th>Int64</th><th>String</th><th>Int64</th><th>String⍰</th></tr></thead><tbody><p>396 rows × 5 columns</p><tr><th>1</th><td>CES0000000001    </td><td>1985</td><td>M01</td><td>96372</td><td>missing</td></tr><tr><th>2</th><td>CES0000000001    </td><td>1985</td><td>M02</td><td>96503</td><td>missing</td></tr><tr><th>3</th><td>CES0000000001    </td><td>1985</td><td>M03</td><td>96842</td><td>missing</td></tr><tr><th>4</th><td>CES0000000001    </td><td>1985</td><td>M04</td><td>97038</td><td>missing</td></tr><tr><th>5</th><td>CES0000000001    </td><td>1985</td><td>M05</td><td>97312</td><td>missing</td></tr><tr><th>6</th><td>CES0000000001    </td><td>1985</td><td>M06</td><td>97459</td><td>missing</td></tr><tr><th>7</th><td>CES0000000001    </td><td>1985</td><td>M07</td><td>97648</td><td>missing</td></tr><tr><th>8</th><td>CES0000000001    </td><td>1985</td><td>M08</td><td>97840</td><td>missing</td></tr><tr><th>9</th><td>CES0000000001    </td><td>1985</td><td>M09</td><td>98045</td><td>missing</td></tr><tr><th>10</th><td>CES0000000001    </td><td>1985</td><td>M10</td><td>98233</td><td>missing</td></tr><tr><th>11</th><td>CES0000000001    </td><td>1985</td><td>M11</td><td>98443</td><td>missing</td></tr><tr><th>12</th><td>CES0000000001    </td><td>1985</td><td>M12</td><td>98609</td><td>missing</td></tr><tr><th>13</th><td>CES0000000001    </td><td>1986</td><td>M01</td><td>98732</td><td>missing</td></tr><tr><th>14</th><td>CES0000000001    </td><td>1986</td><td>M02</td><td>98847</td><td>missing</td></tr><tr><th>15</th><td>CES0000000001    </td><td>1986</td><td>M03</td><td>98934</td><td>missing</td></tr><tr><th>16</th><td>CES0000000001    </td><td>1986</td><td>M04</td><td>99121</td><td>missing</td></tr><tr><th>17</th><td>CES0000000001    </td><td>1986</td><td>M05</td><td>99248</td><td>missing</td></tr><tr><th>18</th><td>CES0000000001    </td><td>1986</td><td>M06</td><td>99155</td><td>missing</td></tr><tr><th>19</th><td>CES0000000001    </td><td>1986</td><td>M07</td><td>99473</td><td>missing</td></tr><tr><th>20</th><td>CES0000000001    </td><td>1986</td><td>M08</td><td>99588</td><td>missing</td></tr><tr><th>21</th><td>CES0000000001    </td><td>1986</td><td>M09</td><td>99934</td><td>missing</td></tr><tr><th>22</th><td>CES0000000001    </td><td>1986</td><td>M10</td><td>100121</td><td>missing</td></tr><tr><th>23</th><td>CES0000000001    </td><td>1986</td><td>M11</td><td>100308</td><td>missing</td></tr><tr><th>24</th><td>CES0000000001    </td><td>1986</td><td>M12</td><td>100509</td><td>missing</td></tr><tr><th>25</th><td>CES0000000001    </td><td>1987</td><td>M01</td><td>100678</td><td>missing</td></tr><tr><th>26</th><td>CES0000000001    </td><td>1987</td><td>M02</td><td>100919</td><td>missing</td></tr><tr><th>27</th><td>CES0000000001    </td><td>1987</td><td>M03</td><td>101164</td><td>missing</td></tr><tr><th>28</th><td>CES0000000001    </td><td>1987</td><td>M04</td><td>101499</td><td>missing</td></tr><tr><th>29</th><td>CES0000000001    </td><td>1987</td><td>M05</td><td>101728</td><td>missing</td></tr><tr><th>30</th><td>CES0000000001    </td><td>1987</td><td>M06</td><td>101900</td><td>missing</td></tr><tr><th>&vellip;</th><td>&vellip;</td><td>&vellip;</td><td>&vellip;</td><td>&vellip;</td><td>&vellip;</td></tr></tbody></table>"
      ],
      "text/latex": [
       "\\begin{tabular}{r|ccccc}\n",
       "\t& series\\_id & year & period & value & footnote\\_codes\\\\\n",
       "\t\\hline\n",
       "\t& String & Int64 & String & Int64 & String⍰\\\\\n",
       "\t\\hline\n",
       "\t1 & CES0000000001     & 1985 & M01 & 96372 &  \\\\\n",
       "\t2 & CES0000000001     & 1985 & M02 & 96503 &  \\\\\n",
       "\t3 & CES0000000001     & 1985 & M03 & 96842 &  \\\\\n",
       "\t4 & CES0000000001     & 1985 & M04 & 97038 &  \\\\\n",
       "\t5 & CES0000000001     & 1985 & M05 & 97312 &  \\\\\n",
       "\t6 & CES0000000001     & 1985 & M06 & 97459 &  \\\\\n",
       "\t7 & CES0000000001     & 1985 & M07 & 97648 &  \\\\\n",
       "\t8 & CES0000000001     & 1985 & M08 & 97840 &  \\\\\n",
       "\t9 & CES0000000001     & 1985 & M09 & 98045 &  \\\\\n",
       "\t10 & CES0000000001     & 1985 & M10 & 98233 &  \\\\\n",
       "\t11 & CES0000000001     & 1985 & M11 & 98443 &  \\\\\n",
       "\t12 & CES0000000001     & 1985 & M12 & 98609 &  \\\\\n",
       "\t13 & CES0000000001     & 1986 & M01 & 98732 &  \\\\\n",
       "\t14 & CES0000000001     & 1986 & M02 & 98847 &  \\\\\n",
       "\t15 & CES0000000001     & 1986 & M03 & 98934 &  \\\\\n",
       "\t16 & CES0000000001     & 1986 & M04 & 99121 &  \\\\\n",
       "\t17 & CES0000000001     & 1986 & M05 & 99248 &  \\\\\n",
       "\t18 & CES0000000001     & 1986 & M06 & 99155 &  \\\\\n",
       "\t19 & CES0000000001     & 1986 & M07 & 99473 &  \\\\\n",
       "\t20 & CES0000000001     & 1986 & M08 & 99588 &  \\\\\n",
       "\t21 & CES0000000001     & 1986 & M09 & 99934 &  \\\\\n",
       "\t22 & CES0000000001     & 1986 & M10 & 100121 &  \\\\\n",
       "\t23 & CES0000000001     & 1986 & M11 & 100308 &  \\\\\n",
       "\t24 & CES0000000001     & 1986 & M12 & 100509 &  \\\\\n",
       "\t25 & CES0000000001     & 1987 & M01 & 100678 &  \\\\\n",
       "\t26 & CES0000000001     & 1987 & M02 & 100919 &  \\\\\n",
       "\t27 & CES0000000001     & 1987 & M03 & 101164 &  \\\\\n",
       "\t28 & CES0000000001     & 1987 & M04 & 101499 &  \\\\\n",
       "\t29 & CES0000000001     & 1987 & M05 & 101728 &  \\\\\n",
       "\t30 & CES0000000001     & 1987 & M06 & 101900 &  \\\\\n",
       "\t$\\dots$ & $\\dots$ & $\\dots$ & $\\dots$ & $\\dots$ & $\\dots$ \\\\\n",
       "\\end{tabular}\n"
      ],
      "text/plain": [
       "396×5 DataFrame\n",
       "│ Row │ series_id         │ year  │ period │ value │ footnote_codes │\n",
       "│     │ \u001b[90mString\u001b[39m            │ \u001b[90mInt64\u001b[39m │ \u001b[90mString\u001b[39m │ \u001b[90mInt64\u001b[39m │ \u001b[90mString⍰\u001b[39m        │\n",
       "├─────┼───────────────────┼───────┼────────┼───────┼────────────────┤\n",
       "│ 1   │ CES0000000001     │ 1985  │ M01    │ 96372 │ \u001b[90mmissing\u001b[39m        │\n",
       "│ 2   │ CES0000000001     │ 1985  │ M02    │ 96503 │ \u001b[90mmissing\u001b[39m        │\n",
       "│ 3   │ CES0000000001     │ 1985  │ M03    │ 96842 │ \u001b[90mmissing\u001b[39m        │\n",
       "│ 4   │ CES0000000001     │ 1985  │ M04    │ 97038 │ \u001b[90mmissing\u001b[39m        │\n",
       "│ 5   │ CES0000000001     │ 1985  │ M05    │ 97312 │ \u001b[90mmissing\u001b[39m        │\n",
       "│ 6   │ CES0000000001     │ 1985  │ M06    │ 97459 │ \u001b[90mmissing\u001b[39m        │\n",
       "│ 7   │ CES0000000001     │ 1985  │ M07    │ 97648 │ \u001b[90mmissing\u001b[39m        │\n",
       "│ 8   │ CES0000000001     │ 1985  │ M08    │ 97840 │ \u001b[90mmissing\u001b[39m        │\n",
       "│ 9   │ CES0000000001     │ 1985  │ M09    │ 98045 │ \u001b[90mmissing\u001b[39m        │\n",
       "│ 10  │ CES0000000001     │ 1985  │ M10    │ 98233 │ \u001b[90mmissing\u001b[39m        │\n",
       "⋮\n",
       "│ 386 │ CEU0000000010     │ 1990  │ M03    │ 51336 │ \u001b[90mmissing\u001b[39m        │\n",
       "│ 387 │ CEU0000000010     │ 1990  │ M04    │ 51550 │ \u001b[90mmissing\u001b[39m        │\n",
       "│ 388 │ CEU0000000010     │ 1990  │ M05    │ 51882 │ \u001b[90mmissing\u001b[39m        │\n",
       "│ 389 │ CEU0000000010     │ 1990  │ M06    │ 51970 │ \u001b[90mmissing\u001b[39m        │\n",
       "│ 390 │ CEU0000000010     │ 1990  │ M07    │ 51015 │ \u001b[90mmissing\u001b[39m        │\n",
       "│ 391 │ CEU0000000010     │ 1990  │ M08    │ 51006 │ \u001b[90mmissing\u001b[39m        │\n",
       "│ 392 │ CEU0000000010     │ 1990  │ M09    │ 51765 │ \u001b[90mmissing\u001b[39m        │\n",
       "│ 393 │ CEU0000000010     │ 1990  │ M10    │ 52141 │ \u001b[90mmissing\u001b[39m        │\n",
       "│ 394 │ CEU0000000010     │ 1990  │ M11    │ 52399 │ \u001b[90mmissing\u001b[39m        │\n",
       "│ 395 │ CEU0000000010     │ 1990  │ M12    │ 52458 │ \u001b[90mmissing\u001b[39m        │\n",
       "│ 396 │ CEU0000000010     │ 1990  │ M13    │ 51619 │ \u001b[90mmissing\u001b[39m        │"
      ]
     },
     "execution_count": 9,
     "metadata": {},
     "output_type": "execute_result"
    }
   ],
   "source": [
    "# The . before the < operators is what allows us to 'broadcast' the comparisons across the entire year vector\n",
    "ces_data[1984 .< ces_data.year .< 1991, :]"
   ]
  },
  {
   "cell_type": "markdown",
   "metadata": {},
   "source": [
    "#### Grouping\n",
    "\n",
    "Now we can group our data by year. This operation will return a new kind of ```DataFrame```, a ```GroupedDataFrame```:"
   ]
  },
  {
   "cell_type": "code",
   "execution_count": 10,
   "metadata": {
    "jupyter": {
     "outputs_hidden": true
    }
   },
   "outputs": [
    {
     "data": {
      "text/html": [
       "<p><b>GroupedDataFrame with 82 groups based on key: year</b></p><p><i>First Group (38 rows): year = 1939</i></p><table class=\"data-frame\"><thead><tr><th></th><th>series_id</th><th>year</th><th>period</th><th>value</th><th>footnote_codes</th></tr><tr><th></th><th>String</th><th>Int64</th><th>String</th><th>Int64</th><th>String⍰</th></tr></thead><tbody><tr><th>1</th><td>CES0000000001    </td><td>1939</td><td>M01</td><td>29923</td><td>missing</td></tr><tr><th>2</th><td>CES0000000001    </td><td>1939</td><td>M02</td><td>30100</td><td>missing</td></tr><tr><th>3</th><td>CES0000000001    </td><td>1939</td><td>M03</td><td>30280</td><td>missing</td></tr><tr><th>4</th><td>CES0000000001    </td><td>1939</td><td>M04</td><td>30094</td><td>missing</td></tr><tr><th>5</th><td>CES0000000001    </td><td>1939</td><td>M05</td><td>30299</td><td>missing</td></tr><tr><th>6</th><td>CES0000000001    </td><td>1939</td><td>M06</td><td>30502</td><td>missing</td></tr><tr><th>7</th><td>CES0000000001    </td><td>1939</td><td>M07</td><td>30419</td><td>missing</td></tr><tr><th>8</th><td>CES0000000001    </td><td>1939</td><td>M08</td><td>30663</td><td>missing</td></tr><tr><th>9</th><td>CES0000000001    </td><td>1939</td><td>M09</td><td>31031</td><td>missing</td></tr><tr><th>10</th><td>CES0000000001    </td><td>1939</td><td>M10</td><td>31411</td><td>missing</td></tr><tr><th>11</th><td>CES0000000001    </td><td>1939</td><td>M11</td><td>31470</td><td>missing</td></tr><tr><th>12</th><td>CES0000000001    </td><td>1939</td><td>M12</td><td>31542</td><td>missing</td></tr><tr><th>13</th><td>CES0000000025    </td><td>1939</td><td>M03</td><td>30101</td><td>missing</td></tr><tr><th>14</th><td>CES0000000025    </td><td>1939</td><td>M06</td><td>30298</td><td>missing</td></tr><tr><th>15</th><td>CES0000000025    </td><td>1939</td><td>M09</td><td>30704</td><td>missing</td></tr><tr><th>16</th><td>CES0000000025    </td><td>1939</td><td>M12</td><td>31474</td><td>missing</td></tr><tr><th>17</th><td>CES0000000026    </td><td>1939</td><td>M04</td><td>57</td><td>missing</td></tr><tr><th>18</th><td>CES0000000026    </td><td>1939</td><td>M05</td><td>66</td><td>missing</td></tr><tr><th>19</th><td>CES0000000026    </td><td>1939</td><td>M06</td><td>74</td><td>missing</td></tr><tr><th>20</th><td>CES0000000026    </td><td>1939</td><td>M07</td><td>108</td><td>missing</td></tr><tr><th>21</th><td>CES0000000026    </td><td>1939</td><td>M08</td><td>121</td><td>missing</td></tr><tr><th>22</th><td>CES0000000026    </td><td>1939</td><td>M09</td><td>176</td><td>missing</td></tr><tr><th>23</th><td>CES0000000026    </td><td>1939</td><td>M10</td><td>331</td><td>missing</td></tr><tr><th>24</th><td>CES0000000026    </td><td>1939</td><td>M11</td><td>269</td><td>missing</td></tr><tr><th>25</th><td>CES0000000026    </td><td>1939</td><td>M12</td><td>170</td><td>missing</td></tr><tr><th>26</th><td>CEU0000000001    </td><td>1939</td><td>M01</td><td>29296</td><td>missing</td></tr><tr><th>27</th><td>CEU0000000001    </td><td>1939</td><td>M02</td><td>29394</td><td>missing</td></tr><tr><th>28</th><td>CEU0000000001    </td><td>1939</td><td>M03</td><td>29804</td><td>missing</td></tr><tr><th>29</th><td>CEU0000000001    </td><td>1939</td><td>M04</td><td>29786</td><td>missing</td></tr><tr><th>30</th><td>CEU0000000001    </td><td>1939</td><td>M05</td><td>30145</td><td>missing</td></tr><tr><th>&vellip;</th><td>&vellip;</td><td>&vellip;</td><td>&vellip;</td><td>&vellip;</td><td>&vellip;</td></tr></tbody></table><p>&vellip;</p><p><i>Last Group (16 rows): year = 2020</i></p><table class=\"data-frame\"><thead><tr><th></th><th>series_id</th><th>year</th><th>period</th><th>value</th><th>footnote_codes</th></tr><tr><th></th><th>String</th><th>Int64</th><th>String</th><th>Int64</th><th>String⍰</th></tr></thead><tbody><tr><th>1</th><td>CES0000000001    </td><td>2020</td><td>M01</td><td>152212</td><td>missing</td></tr><tr><th>2</th><td>CES0000000001    </td><td>2020</td><td>M02</td><td>152487</td><td>P</td></tr><tr><th>3</th><td>CES0000000001    </td><td>2020</td><td>M03</td><td>151786</td><td>P</td></tr><tr><th>4</th><td>CES0000000010    </td><td>2020</td><td>M01</td><td>76151</td><td>missing</td></tr><tr><th>5</th><td>CES0000000010    </td><td>2020</td><td>M02</td><td>76304</td><td>P</td></tr><tr><th>6</th><td>CES0000000010    </td><td>2020</td><td>M03</td><td>75892</td><td>P</td></tr><tr><th>7</th><td>CES0000000025    </td><td>2020</td><td>M03</td><td>152162</td><td>P</td></tr><tr><th>8</th><td>CES0000000026    </td><td>2020</td><td>M01</td><td>220</td><td>missing</td></tr><tr><th>9</th><td>CES0000000026    </td><td>2020</td><td>M02</td><td>224</td><td>P</td></tr><tr><th>10</th><td>CES0000000026    </td><td>2020</td><td>M03</td><td>-71</td><td>P</td></tr><tr><th>11</th><td>CEU0000000001    </td><td>2020</td><td>M01</td><td>150153</td><td>missing</td></tr><tr><th>12</th><td>CEU0000000001    </td><td>2020</td><td>M02</td><td>151055</td><td>P</td></tr><tr><th>13</th><td>CEU0000000001    </td><td>2020</td><td>M03</td><td>150804</td><td>P</td></tr><tr><th>14</th><td>CEU0000000010    </td><td>2020</td><td>M01</td><td>75426</td><td>missing</td></tr><tr><th>15</th><td>CEU0000000010    </td><td>2020</td><td>M02</td><td>75949</td><td>P</td></tr><tr><th>16</th><td>CEU0000000010    </td><td>2020</td><td>M03</td><td>75731</td><td>P</td></tr></tbody></table>"
      ],
      "text/latex": [
       "GroupedDataFrame with 82 groups based on key: year\n",
       "\n",
       "First Group (38 rows): year = 1939\n",
       "\n",
       "\\begin{tabular}{r|ccccc}\n",
       "\t& series\\_id & year & period & value & footnote\\_codes\\\\\n",
       "\t\\hline\n",
       "\t& String & Int64 & String & Int64 & String⍰\\\\\n",
       "\t\\hline\n",
       "\t1 & CES0000000001     & 1939 & M01 & 29923 &  \\\\\n",
       "\t2 & CES0000000001     & 1939 & M02 & 30100 &  \\\\\n",
       "\t3 & CES0000000001     & 1939 & M03 & 30280 &  \\\\\n",
       "\t4 & CES0000000001     & 1939 & M04 & 30094 &  \\\\\n",
       "\t5 & CES0000000001     & 1939 & M05 & 30299 &  \\\\\n",
       "\t6 & CES0000000001     & 1939 & M06 & 30502 &  \\\\\n",
       "\t7 & CES0000000001     & 1939 & M07 & 30419 &  \\\\\n",
       "\t8 & CES0000000001     & 1939 & M08 & 30663 &  \\\\\n",
       "\t9 & CES0000000001     & 1939 & M09 & 31031 &  \\\\\n",
       "\t10 & CES0000000001     & 1939 & M10 & 31411 &  \\\\\n",
       "\t11 & CES0000000001     & 1939 & M11 & 31470 &  \\\\\n",
       "\t12 & CES0000000001     & 1939 & M12 & 31542 &  \\\\\n",
       "\t13 & CES0000000025     & 1939 & M03 & 30101 &  \\\\\n",
       "\t14 & CES0000000025     & 1939 & M06 & 30298 &  \\\\\n",
       "\t15 & CES0000000025     & 1939 & M09 & 30704 &  \\\\\n",
       "\t16 & CES0000000025     & 1939 & M12 & 31474 &  \\\\\n",
       "\t17 & CES0000000026     & 1939 & M04 & 57 &  \\\\\n",
       "\t18 & CES0000000026     & 1939 & M05 & 66 &  \\\\\n",
       "\t19 & CES0000000026     & 1939 & M06 & 74 &  \\\\\n",
       "\t20 & CES0000000026     & 1939 & M07 & 108 &  \\\\\n",
       "\t21 & CES0000000026     & 1939 & M08 & 121 &  \\\\\n",
       "\t22 & CES0000000026     & 1939 & M09 & 176 &  \\\\\n",
       "\t23 & CES0000000026     & 1939 & M10 & 331 &  \\\\\n",
       "\t24 & CES0000000026     & 1939 & M11 & 269 &  \\\\\n",
       "\t25 & CES0000000026     & 1939 & M12 & 170 &  \\\\\n",
       "\t26 & CEU0000000001     & 1939 & M01 & 29296 &  \\\\\n",
       "\t27 & CEU0000000001     & 1939 & M02 & 29394 &  \\\\\n",
       "\t28 & CEU0000000001     & 1939 & M03 & 29804 &  \\\\\n",
       "\t29 & CEU0000000001     & 1939 & M04 & 29786 &  \\\\\n",
       "\t30 & CEU0000000001     & 1939 & M05 & 30145 &  \\\\\n",
       "\t$\\dots$ & $\\dots$ & $\\dots$ & $\\dots$ & $\\dots$ & $\\dots$ \\\\\n",
       "\\end{tabular}\n",
       "\n",
       "$\\dots$\n",
       "\n",
       "Last Group (16 rows): year = 2020\n",
       "\n",
       "\\begin{tabular}{r|ccccc}\n",
       "\t& series\\_id & year & period & value & footnote\\_codes\\\\\n",
       "\t\\hline\n",
       "\t& String & Int64 & String & Int64 & String⍰\\\\\n",
       "\t\\hline\n",
       "\t1 & CES0000000001     & 2020 & M01 & 152212 &  \\\\\n",
       "\t2 & CES0000000001     & 2020 & M02 & 152487 & P \\\\\n",
       "\t3 & CES0000000001     & 2020 & M03 & 151786 & P \\\\\n",
       "\t4 & CES0000000010     & 2020 & M01 & 76151 &  \\\\\n",
       "\t5 & CES0000000010     & 2020 & M02 & 76304 & P \\\\\n",
       "\t6 & CES0000000010     & 2020 & M03 & 75892 & P \\\\\n",
       "\t7 & CES0000000025     & 2020 & M03 & 152162 & P \\\\\n",
       "\t8 & CES0000000026     & 2020 & M01 & 220 &  \\\\\n",
       "\t9 & CES0000000026     & 2020 & M02 & 224 & P \\\\\n",
       "\t10 & CES0000000026     & 2020 & M03 & -71 & P \\\\\n",
       "\t11 & CEU0000000001     & 2020 & M01 & 150153 &  \\\\\n",
       "\t12 & CEU0000000001     & 2020 & M02 & 151055 & P \\\\\n",
       "\t13 & CEU0000000001     & 2020 & M03 & 150804 & P \\\\\n",
       "\t14 & CEU0000000010     & 2020 & M01 & 75426 &  \\\\\n",
       "\t15 & CEU0000000010     & 2020 & M02 & 75949 & P \\\\\n",
       "\t16 & CEU0000000010     & 2020 & M03 & 75731 & P \\\\\n",
       "\\end{tabular}\n"
      ],
      "text/plain": [
       "GroupedDataFrame with 82 groups based on key: year\n",
       "First Group (38 rows): year = 1939\n",
       "│ Row │ series_id         │ year  │ period │ value │ footnote_codes │\n",
       "│     │ \u001b[90mString\u001b[39m            │ \u001b[90mInt64\u001b[39m │ \u001b[90mString\u001b[39m │ \u001b[90mInt64\u001b[39m │ \u001b[90mString⍰\u001b[39m        │\n",
       "├─────┼───────────────────┼───────┼────────┼───────┼────────────────┤\n",
       "│ 1   │ CES0000000001     │ 1939  │ M01    │ 29923 │ \u001b[90mmissing\u001b[39m        │\n",
       "│ 2   │ CES0000000001     │ 1939  │ M02    │ 30100 │ \u001b[90mmissing\u001b[39m        │\n",
       "│ 3   │ CES0000000001     │ 1939  │ M03    │ 30280 │ \u001b[90mmissing\u001b[39m        │\n",
       "│ 4   │ CES0000000001     │ 1939  │ M04    │ 30094 │ \u001b[90mmissing\u001b[39m        │\n",
       "│ 5   │ CES0000000001     │ 1939  │ M05    │ 30299 │ \u001b[90mmissing\u001b[39m        │\n",
       "│ 6   │ CES0000000001     │ 1939  │ M06    │ 30502 │ \u001b[90mmissing\u001b[39m        │\n",
       "│ 7   │ CES0000000001     │ 1939  │ M07    │ 30419 │ \u001b[90mmissing\u001b[39m        │\n",
       "│ 8   │ CES0000000001     │ 1939  │ M08    │ 30663 │ \u001b[90mmissing\u001b[39m        │\n",
       "│ 9   │ CES0000000001     │ 1939  │ M09    │ 31031 │ \u001b[90mmissing\u001b[39m        │\n",
       "│ 10  │ CES0000000001     │ 1939  │ M10    │ 31411 │ \u001b[90mmissing\u001b[39m        │\n",
       "⋮\n",
       "│ 28  │ CEU0000000001     │ 1939  │ M03    │ 29804 │ \u001b[90mmissing\u001b[39m        │\n",
       "│ 29  │ CEU0000000001     │ 1939  │ M04    │ 29786 │ \u001b[90mmissing\u001b[39m        │\n",
       "│ 30  │ CEU0000000001     │ 1939  │ M05    │ 30145 │ \u001b[90mmissing\u001b[39m        │\n",
       "│ 31  │ CEU0000000001     │ 1939  │ M06    │ 30520 │ \u001b[90mmissing\u001b[39m        │\n",
       "│ 32  │ CEU0000000001     │ 1939  │ M07    │ 30472 │ \u001b[90mmissing\u001b[39m        │\n",
       "│ 33  │ CEU0000000001     │ 1939  │ M08    │ 30870 │ \u001b[90mmissing\u001b[39m        │\n",
       "│ 34  │ CEU0000000001     │ 1939  │ M09    │ 31608 │ \u001b[90mmissing\u001b[39m        │\n",
       "│ 35  │ CEU0000000001     │ 1939  │ M10    │ 31975 │ \u001b[90mmissing\u001b[39m        │\n",
       "│ 36  │ CEU0000000001     │ 1939  │ M11    │ 31837 │ \u001b[90mmissing\u001b[39m        │\n",
       "│ 37  │ CEU0000000001     │ 1939  │ M12    │ 32037 │ \u001b[90mmissing\u001b[39m        │\n",
       "│ 38  │ CEU0000000001     │ 1939  │ M13    │ 30645 │ \u001b[90mmissing\u001b[39m        │\n",
       "⋮\n",
       "Last Group (16 rows): year = 2020\n",
       "│ Row │ series_id         │ year  │ period │ value  │ footnote_codes │\n",
       "│     │ \u001b[90mString\u001b[39m            │ \u001b[90mInt64\u001b[39m │ \u001b[90mString\u001b[39m │ \u001b[90mInt64\u001b[39m  │ \u001b[90mString⍰\u001b[39m        │\n",
       "├─────┼───────────────────┼───────┼────────┼────────┼────────────────┤\n",
       "│ 1   │ CES0000000001     │ 2020  │ M01    │ 152212 │ \u001b[90mmissing\u001b[39m        │\n",
       "│ 2   │ CES0000000001     │ 2020  │ M02    │ 152487 │ P              │\n",
       "│ 3   │ CES0000000001     │ 2020  │ M03    │ 151786 │ P              │\n",
       "│ 4   │ CES0000000010     │ 2020  │ M01    │ 76151  │ \u001b[90mmissing\u001b[39m        │\n",
       "│ 5   │ CES0000000010     │ 2020  │ M02    │ 76304  │ P              │\n",
       "│ 6   │ CES0000000010     │ 2020  │ M03    │ 75892  │ P              │\n",
       "│ 7   │ CES0000000025     │ 2020  │ M03    │ 152162 │ P              │\n",
       "│ 8   │ CES0000000026     │ 2020  │ M01    │ 220    │ \u001b[90mmissing\u001b[39m        │\n",
       "│ 9   │ CES0000000026     │ 2020  │ M02    │ 224    │ P              │\n",
       "│ 10  │ CES0000000026     │ 2020  │ M03    │ -71    │ P              │\n",
       "│ 11  │ CEU0000000001     │ 2020  │ M01    │ 150153 │ \u001b[90mmissing\u001b[39m        │\n",
       "│ 12  │ CEU0000000001     │ 2020  │ M02    │ 151055 │ P              │\n",
       "│ 13  │ CEU0000000001     │ 2020  │ M03    │ 150804 │ P              │\n",
       "│ 14  │ CEU0000000010     │ 2020  │ M01    │ 75426  │ \u001b[90mmissing\u001b[39m        │\n",
       "│ 15  │ CEU0000000010     │ 2020  │ M02    │ 75949  │ P              │\n",
       "│ 16  │ CEU0000000010     │ 2020  │ M03    │ 75731  │ P              │"
      ]
     },
     "execution_count": 10,
     "metadata": {},
     "output_type": "execute_result"
    }
   ],
   "source": [
    "groupby(ces_data, :year)"
   ]
  },
  {
   "cell_type": "markdown",
   "metadata": {},
   "source": [
    "### Visualizing Data\n",
    "\n",
    "There are several very good plotting libraries in Julia. Each of them have their own strengths and weaknesses and what's best for you will likely depend on what kind of plotting you're doing. For this tutorial, we'll use basic functions from the Plots package and show how to plot information from our DataFrame that contains the CES data. First, we'll filter the CES data to isolate a single series, then we'll plot it."
   ]
  },
  {
   "cell_type": "code",
   "execution_count": 14,
   "metadata": {
    "scrolled": false
   },
   "outputs": [
    {
     "data": {
      "image/svg+xml": [
       "<?xml version=\"1.0\" encoding=\"utf-8\"?>\n",
       "<svg xmlns=\"http://www.w3.org/2000/svg\" xmlns:xlink=\"http://www.w3.org/1999/xlink\" width=\"600\" height=\"400\" viewBox=\"0 0 2400 1600\">\n",
       "<defs>\n",
       "  <clipPath id=\"clip9400\">\n",
       "    <rect x=\"0\" y=\"0\" width=\"2400\" height=\"1600\"/>\n",
       "  </clipPath>\n",
       "</defs>\n",
       "<path clip-path=\"url(#clip9400)\" d=\"\n",
       "M0 1600 L2400 1600 L2400 0 L0 0  Z\n",
       "  \" fill=\"#ffffff\" fill-rule=\"evenodd\" fill-opacity=\"1\"/>\n",
       "<defs>\n",
       "  <clipPath id=\"clip9401\">\n",
       "    <rect x=\"480\" y=\"0\" width=\"1681\" height=\"1600\"/>\n",
       "  </clipPath>\n",
       "</defs>\n",
       "<path clip-path=\"url(#clip9400)\" d=\"\n",
       "M242.639 1486.45 L2352.76 1486.45 L2352.76 47.2441 L242.639 47.2441  Z\n",
       "  \" fill=\"#ffffff\" fill-rule=\"evenodd\" fill-opacity=\"1\"/>\n",
       "<defs>\n",
       "  <clipPath id=\"clip9402\">\n",
       "    <rect x=\"242\" y=\"47\" width=\"2111\" height=\"1440\"/>\n",
       "  </clipPath>\n",
       "</defs>\n",
       "<polyline clip-path=\"url(#clip9402)\" style=\"stroke:#000000; stroke-width:2; stroke-opacity:0.1; fill:none\" points=\"\n",
       "  300.316,1486.45 300.316,47.2441 \n",
       "  \"/>\n",
       "<polyline clip-path=\"url(#clip9402)\" style=\"stroke:#000000; stroke-width:2; stroke-opacity:0.1; fill:none\" points=\"\n",
       "  811.27,1486.45 811.27,47.2441 \n",
       "  \"/>\n",
       "<polyline clip-path=\"url(#clip9402)\" style=\"stroke:#000000; stroke-width:2; stroke-opacity:0.1; fill:none\" points=\"\n",
       "  1322.22,1486.45 1322.22,47.2441 \n",
       "  \"/>\n",
       "<polyline clip-path=\"url(#clip9402)\" style=\"stroke:#000000; stroke-width:2; stroke-opacity:0.1; fill:none\" points=\"\n",
       "  1833.18,1486.45 1833.18,47.2441 \n",
       "  \"/>\n",
       "<polyline clip-path=\"url(#clip9402)\" style=\"stroke:#000000; stroke-width:2; stroke-opacity:0.1; fill:none\" points=\"\n",
       "  2344.13,1486.45 2344.13,47.2441 \n",
       "  \"/>\n",
       "<polyline clip-path=\"url(#clip9402)\" style=\"stroke:#000000; stroke-width:2; stroke-opacity:0.1; fill:none\" points=\"\n",
       "  242.639,1223.31 2352.76,1223.31 \n",
       "  \"/>\n",
       "<polyline clip-path=\"url(#clip9402)\" style=\"stroke:#000000; stroke-width:2; stroke-opacity:0.1; fill:none\" points=\"\n",
       "  242.639,946.362 2352.76,946.362 \n",
       "  \"/>\n",
       "<polyline clip-path=\"url(#clip9402)\" style=\"stroke:#000000; stroke-width:2; stroke-opacity:0.1; fill:none\" points=\"\n",
       "  242.639,669.417 2352.76,669.417 \n",
       "  \"/>\n",
       "<polyline clip-path=\"url(#clip9402)\" style=\"stroke:#000000; stroke-width:2; stroke-opacity:0.1; fill:none\" points=\"\n",
       "  242.639,392.472 2352.76,392.472 \n",
       "  \"/>\n",
       "<polyline clip-path=\"url(#clip9402)\" style=\"stroke:#000000; stroke-width:2; stroke-opacity:0.1; fill:none\" points=\"\n",
       "  242.639,115.527 2352.76,115.527 \n",
       "  \"/>\n",
       "<polyline clip-path=\"url(#clip9400)\" style=\"stroke:#000000; stroke-width:4; stroke-opacity:1; fill:none\" points=\"\n",
       "  242.639,1486.45 2352.76,1486.45 \n",
       "  \"/>\n",
       "<polyline clip-path=\"url(#clip9400)\" style=\"stroke:#000000; stroke-width:4; stroke-opacity:1; fill:none\" points=\"\n",
       "  242.639,1486.45 242.639,47.2441 \n",
       "  \"/>\n",
       "<polyline clip-path=\"url(#clip9400)\" style=\"stroke:#000000; stroke-width:4; stroke-opacity:1; fill:none\" points=\"\n",
       "  300.316,1486.45 300.316,1469.18 \n",
       "  \"/>\n",
       "<polyline clip-path=\"url(#clip9400)\" style=\"stroke:#000000; stroke-width:4; stroke-opacity:1; fill:none\" points=\"\n",
       "  811.27,1486.45 811.27,1469.18 \n",
       "  \"/>\n",
       "<polyline clip-path=\"url(#clip9400)\" style=\"stroke:#000000; stroke-width:4; stroke-opacity:1; fill:none\" points=\"\n",
       "  1322.22,1486.45 1322.22,1469.18 \n",
       "  \"/>\n",
       "<polyline clip-path=\"url(#clip9400)\" style=\"stroke:#000000; stroke-width:4; stroke-opacity:1; fill:none\" points=\"\n",
       "  1833.18,1486.45 1833.18,1469.18 \n",
       "  \"/>\n",
       "<polyline clip-path=\"url(#clip9400)\" style=\"stroke:#000000; stroke-width:4; stroke-opacity:1; fill:none\" points=\"\n",
       "  2344.13,1486.45 2344.13,1469.18 \n",
       "  \"/>\n",
       "<polyline clip-path=\"url(#clip9400)\" style=\"stroke:#000000; stroke-width:4; stroke-opacity:1; fill:none\" points=\"\n",
       "  242.639,1223.31 267.961,1223.31 \n",
       "  \"/>\n",
       "<polyline clip-path=\"url(#clip9400)\" style=\"stroke:#000000; stroke-width:4; stroke-opacity:1; fill:none\" points=\"\n",
       "  242.639,946.362 267.961,946.362 \n",
       "  \"/>\n",
       "<polyline clip-path=\"url(#clip9400)\" style=\"stroke:#000000; stroke-width:4; stroke-opacity:1; fill:none\" points=\"\n",
       "  242.639,669.417 267.961,669.417 \n",
       "  \"/>\n",
       "<polyline clip-path=\"url(#clip9400)\" style=\"stroke:#000000; stroke-width:4; stroke-opacity:1; fill:none\" points=\"\n",
       "  242.639,392.472 267.961,392.472 \n",
       "  \"/>\n",
       "<polyline clip-path=\"url(#clip9400)\" style=\"stroke:#000000; stroke-width:4; stroke-opacity:1; fill:none\" points=\"\n",
       "  242.639,115.527 267.961,115.527 \n",
       "  \"/>\n",
       "<path clip-path=\"url(#clip9400)\" d=\"M 0 0 M300.316 1508.44 Q296.705 1508.44 294.876 1512 Q293.071 1515.55 293.071 1522.67 Q293.071 1529.78 294.876 1533.35 Q296.705 1536.89 300.316 1536.89 Q303.95 1536.89 305.756 1533.35 Q307.584 1529.78 307.584 1522.67 Q307.584 1515.55 305.756 1512 Q303.95 1508.44 300.316 1508.44 M300.316 1504.73 Q306.126 1504.73 309.182 1509.34 Q312.26 1513.92 312.26 1522.67 Q312.26 1531.4 309.182 1536.01 Q306.126 1540.59 300.316 1540.59 Q294.506 1540.59 291.427 1536.01 Q288.372 1531.4 288.372 1522.67 Q288.372 1513.92 291.427 1509.34 Q294.506 1504.73 300.316 1504.73 Z\" fill=\"#000000\" fill-rule=\"evenodd\" fill-opacity=\"1\" /><path clip-path=\"url(#clip9400)\" d=\"M 0 0 M779.406 1535.98 L795.726 1535.98 L795.726 1539.92 L773.781 1539.92 L773.781 1535.98 Q776.443 1533.23 781.027 1528.6 Q785.633 1523.95 786.814 1522.61 Q789.059 1520.08 789.939 1518.35 Q790.842 1516.59 790.842 1514.9 Q790.842 1512.14 788.897 1510.41 Q786.976 1508.67 783.874 1508.67 Q781.675 1508.67 779.221 1509.43 Q776.791 1510.2 774.013 1511.75 L774.013 1507.03 Q776.837 1505.89 779.291 1505.31 Q781.744 1504.73 783.781 1504.73 Q789.152 1504.73 792.346 1507.42 Q795.541 1510.11 795.541 1514.6 Q795.541 1516.73 794.73 1518.65 Q793.943 1520.54 791.837 1523.14 Q791.258 1523.81 788.156 1527.03 Q785.055 1530.22 779.406 1535.98 Z\" fill=\"#000000\" fill-rule=\"evenodd\" fill-opacity=\"1\" /><path clip-path=\"url(#clip9400)\" d=\"M 0 0 M800.841 1505.36 L819.198 1505.36 L819.198 1509.3 L805.124 1509.3 L805.124 1517.77 Q806.142 1517.42 807.161 1517.26 Q808.179 1517.07 809.198 1517.07 Q814.985 1517.07 818.365 1520.24 Q821.744 1523.42 821.744 1528.83 Q821.744 1534.41 818.272 1537.51 Q814.8 1540.59 808.48 1540.59 Q806.304 1540.59 804.036 1540.22 Q801.791 1539.85 799.383 1539.11 L799.383 1534.41 Q801.466 1535.54 803.689 1536.1 Q805.911 1536.66 808.388 1536.66 Q812.392 1536.66 814.73 1534.55 Q817.068 1532.44 817.068 1528.83 Q817.068 1525.22 814.73 1523.11 Q812.392 1521.01 808.388 1521.01 Q806.513 1521.01 804.638 1521.42 Q802.786 1521.84 800.841 1522.72 L800.841 1505.36 Z\" fill=\"#000000\" fill-rule=\"evenodd\" fill-opacity=\"1\" /><path clip-path=\"url(#clip9400)\" d=\"M 0 0 M836.814 1508.44 Q833.202 1508.44 831.374 1512 Q829.568 1515.55 829.568 1522.67 Q829.568 1529.78 831.374 1533.35 Q833.202 1536.89 836.814 1536.89 Q840.448 1536.89 842.253 1533.35 Q844.082 1529.78 844.082 1522.67 Q844.082 1515.55 842.253 1512 Q840.448 1508.44 836.814 1508.44 M836.814 1504.73 Q842.624 1504.73 845.679 1509.34 Q848.758 1513.92 848.758 1522.67 Q848.758 1531.4 845.679 1536.01 Q842.624 1540.59 836.814 1540.59 Q831.003 1540.59 827.925 1536.01 Q824.869 1531.4 824.869 1522.67 Q824.869 1513.92 827.925 1509.34 Q831.003 1504.73 836.814 1504.73 Z\" fill=\"#000000\" fill-rule=\"evenodd\" fill-opacity=\"1\" /><path clip-path=\"url(#clip9400)\" d=\"M 0 0 M1285.49 1505.36 L1303.84 1505.36 L1303.84 1509.3 L1289.77 1509.3 L1289.77 1517.77 Q1290.79 1517.42 1291.81 1517.26 Q1292.83 1517.07 1293.84 1517.07 Q1299.63 1517.07 1303.01 1520.24 Q1306.39 1523.42 1306.39 1528.83 Q1306.39 1534.41 1302.92 1537.51 Q1299.45 1540.59 1293.13 1540.59 Q1290.95 1540.59 1288.68 1540.22 Q1286.44 1539.85 1284.03 1539.11 L1284.03 1534.41 Q1286.11 1535.54 1288.33 1536.1 Q1290.56 1536.66 1293.03 1536.66 Q1297.04 1536.66 1299.38 1534.55 Q1301.71 1532.44 1301.71 1528.83 Q1301.71 1525.22 1299.38 1523.11 Q1297.04 1521.01 1293.03 1521.01 Q1291.16 1521.01 1289.28 1521.42 Q1287.43 1521.84 1285.49 1522.72 L1285.49 1505.36 Z\" fill=\"#000000\" fill-rule=\"evenodd\" fill-opacity=\"1\" /><path clip-path=\"url(#clip9400)\" d=\"M 0 0 M1321.46 1508.44 Q1317.85 1508.44 1316.02 1512 Q1314.21 1515.55 1314.21 1522.67 Q1314.21 1529.78 1316.02 1533.35 Q1317.85 1536.89 1321.46 1536.89 Q1325.09 1536.89 1326.9 1533.35 Q1328.73 1529.78 1328.73 1522.67 Q1328.73 1515.55 1326.9 1512 Q1325.09 1508.44 1321.46 1508.44 M1321.46 1504.73 Q1327.27 1504.73 1330.33 1509.34 Q1333.4 1513.92 1333.4 1522.67 Q1333.4 1531.4 1330.33 1536.01 Q1327.27 1540.59 1321.46 1540.59 Q1315.65 1540.59 1312.57 1536.01 Q1309.52 1531.4 1309.52 1522.67 Q1309.52 1513.92 1312.57 1509.34 Q1315.65 1504.73 1321.46 1504.73 Z\" fill=\"#000000\" fill-rule=\"evenodd\" fill-opacity=\"1\" /><path clip-path=\"url(#clip9400)\" d=\"M 0 0 M1348.47 1508.44 Q1344.86 1508.44 1343.03 1512 Q1341.23 1515.55 1341.23 1522.67 Q1341.23 1529.78 1343.03 1533.35 Q1344.86 1536.89 1348.47 1536.89 Q1352.11 1536.89 1353.91 1533.35 Q1355.74 1529.78 1355.74 1522.67 Q1355.74 1515.55 1353.91 1512 Q1352.11 1508.44 1348.47 1508.44 M1348.47 1504.73 Q1354.28 1504.73 1357.34 1509.34 Q1360.42 1513.92 1360.42 1522.67 Q1360.42 1531.4 1357.34 1536.01 Q1354.28 1540.59 1348.47 1540.59 Q1342.66 1540.59 1339.58 1536.01 Q1336.53 1531.4 1336.53 1522.67 Q1336.53 1513.92 1339.58 1509.34 Q1342.66 1504.73 1348.47 1504.73 Z\" fill=\"#000000\" fill-rule=\"evenodd\" fill-opacity=\"1\" /><path clip-path=\"url(#clip9400)\" d=\"M 0 0 M1795.55 1505.36 L1817.77 1505.36 L1817.77 1507.35 L1805.23 1539.92 L1800.34 1539.92 L1812.15 1509.3 L1795.55 1509.3 L1795.55 1505.36 Z\" fill=\"#000000\" fill-rule=\"evenodd\" fill-opacity=\"1\" /><path clip-path=\"url(#clip9400)\" d=\"M 0 0 M1822.89 1505.36 L1841.24 1505.36 L1841.24 1509.3 L1827.17 1509.3 L1827.17 1517.77 Q1828.19 1517.42 1829.21 1517.26 Q1830.23 1517.07 1831.24 1517.07 Q1837.03 1517.07 1840.41 1520.24 Q1843.79 1523.42 1843.79 1528.83 Q1843.79 1534.41 1840.32 1537.51 Q1836.85 1540.59 1830.53 1540.59 Q1828.35 1540.59 1826.08 1540.22 Q1823.84 1539.85 1821.43 1539.11 L1821.43 1534.41 Q1823.51 1535.54 1825.74 1536.1 Q1827.96 1536.66 1830.43 1536.66 Q1834.44 1536.66 1836.78 1534.55 Q1839.11 1532.44 1839.11 1528.83 Q1839.11 1525.22 1836.78 1523.11 Q1834.44 1521.01 1830.43 1521.01 Q1828.56 1521.01 1826.68 1521.42 Q1824.83 1521.84 1822.89 1522.72 L1822.89 1505.36 Z\" fill=\"#000000\" fill-rule=\"evenodd\" fill-opacity=\"1\" /><path clip-path=\"url(#clip9400)\" d=\"M 0 0 M1858.86 1508.44 Q1855.25 1508.44 1853.42 1512 Q1851.61 1515.55 1851.61 1522.67 Q1851.61 1529.78 1853.42 1533.35 Q1855.25 1536.89 1858.86 1536.89 Q1862.49 1536.89 1864.3 1533.35 Q1866.13 1529.78 1866.13 1522.67 Q1866.13 1515.55 1864.3 1512 Q1862.49 1508.44 1858.86 1508.44 M1858.86 1504.73 Q1864.67 1504.73 1867.73 1509.34 Q1870.8 1513.92 1870.8 1522.67 Q1870.8 1531.4 1867.73 1536.01 Q1864.67 1540.59 1858.86 1540.59 Q1853.05 1540.59 1849.97 1536.01 Q1846.92 1531.4 1846.92 1522.67 Q1846.92 1513.92 1849.97 1509.34 Q1853.05 1504.73 1858.86 1504.73 Z\" fill=\"#000000\" fill-rule=\"evenodd\" fill-opacity=\"1\" /><path clip-path=\"url(#clip9400)\" d=\"M 0 0 M2293.99 1535.98 L2301.63 1535.98 L2301.63 1509.62 L2293.32 1511.29 L2293.32 1507.03 L2301.58 1505.36 L2306.26 1505.36 L2306.26 1535.98 L2313.9 1535.98 L2313.9 1539.92 L2293.99 1539.92 L2293.99 1535.98 Z\" fill=\"#000000\" fill-rule=\"evenodd\" fill-opacity=\"1\" /><path clip-path=\"url(#clip9400)\" d=\"M 0 0 M2328.97 1508.44 Q2325.36 1508.44 2323.53 1512 Q2321.72 1515.55 2321.72 1522.67 Q2321.72 1529.78 2323.53 1533.35 Q2325.36 1536.89 2328.97 1536.89 Q2332.6 1536.89 2334.41 1533.35 Q2336.24 1529.78 2336.24 1522.67 Q2336.24 1515.55 2334.41 1512 Q2332.6 1508.44 2328.97 1508.44 M2328.97 1504.73 Q2334.78 1504.73 2337.83 1509.34 Q2340.91 1513.92 2340.91 1522.67 Q2340.91 1531.4 2337.83 1536.01 Q2334.78 1540.59 2328.97 1540.59 Q2323.16 1540.59 2320.08 1536.01 Q2317.02 1531.4 2317.02 1522.67 Q2317.02 1513.92 2320.08 1509.34 Q2323.16 1504.73 2328.97 1504.73 Z\" fill=\"#000000\" fill-rule=\"evenodd\" fill-opacity=\"1\" /><path clip-path=\"url(#clip9400)\" d=\"M 0 0 M2355.98 1508.44 Q2352.37 1508.44 2350.54 1512 Q2348.74 1515.55 2348.74 1522.67 Q2348.74 1529.78 2350.54 1533.35 Q2352.37 1536.89 2355.98 1536.89 Q2359.62 1536.89 2361.42 1533.35 Q2363.25 1529.78 2363.25 1522.67 Q2363.25 1515.55 2361.42 1512 Q2359.62 1508.44 2355.98 1508.44 M2355.98 1504.73 Q2361.79 1504.73 2364.85 1509.34 Q2367.93 1513.92 2367.93 1522.67 Q2367.93 1531.4 2364.85 1536.01 Q2361.79 1540.59 2355.98 1540.59 Q2350.17 1540.59 2347.09 1536.01 Q2344.04 1531.4 2344.04 1522.67 Q2344.04 1513.92 2347.09 1509.34 Q2350.17 1504.73 2355.98 1504.73 Z\" fill=\"#000000\" fill-rule=\"evenodd\" fill-opacity=\"1\" /><path clip-path=\"url(#clip9400)\" d=\"M 0 0 M2383 1508.44 Q2379.39 1508.44 2377.56 1512 Q2375.75 1515.55 2375.75 1522.67 Q2375.75 1529.78 2377.56 1533.35 Q2379.39 1536.89 2383 1536.89 Q2386.63 1536.89 2388.44 1533.35 Q2390.27 1529.78 2390.27 1522.67 Q2390.27 1515.55 2388.44 1512 Q2386.63 1508.44 2383 1508.44 M2383 1504.73 Q2388.81 1504.73 2391.86 1509.34 Q2394.94 1513.92 2394.94 1522.67 Q2394.94 1531.4 2391.86 1536.01 Q2388.81 1540.59 2383 1540.59 Q2377.19 1540.59 2374.11 1536.01 Q2371.05 1531.4 2371.05 1522.67 Q2371.05 1513.92 2374.11 1509.34 Q2377.19 1504.73 2383 1504.73 Z\" fill=\"#000000\" fill-rule=\"evenodd\" fill-opacity=\"1\" /><path clip-path=\"url(#clip9400)\" d=\"M 0 0 M89.6818 1206.03 L108.038 1206.03 L108.038 1209.96 L93.9642 1209.96 L93.9642 1218.43 Q94.9827 1218.09 96.0012 1217.92 Q97.0197 1217.74 98.0382 1217.74 Q103.825 1217.74 107.205 1220.91 Q110.584 1224.08 110.584 1229.5 Q110.584 1235.08 107.112 1238.18 Q103.64 1241.26 97.3206 1241.26 Q95.1447 1241.26 92.8762 1240.89 Q90.6309 1240.52 88.2235 1239.78 L88.2235 1235.08 Q90.3068 1236.21 92.529 1236.77 Q94.7512 1237.32 97.2281 1237.32 Q101.233 1237.32 103.571 1235.22 Q105.909 1233.11 105.909 1229.5 Q105.909 1225.89 103.571 1223.78 Q101.233 1221.67 97.2281 1221.67 Q95.3531 1221.67 93.4781 1222.09 Q91.6262 1222.51 89.6818 1223.39 L89.6818 1206.03 Z\" fill=\"#000000\" fill-rule=\"evenodd\" fill-opacity=\"1\" /><path clip-path=\"url(#clip9400)\" d=\"M 0 0 M125.654 1209.11 Q122.043 1209.11 120.214 1212.67 Q118.408 1216.21 118.408 1223.34 Q118.408 1230.45 120.214 1234.01 Q122.043 1237.55 125.654 1237.55 Q129.288 1237.55 131.094 1234.01 Q132.922 1230.45 132.922 1223.34 Q132.922 1216.21 131.094 1212.67 Q129.288 1209.11 125.654 1209.11 M125.654 1205.4 Q131.464 1205.4 134.52 1210.01 Q137.598 1214.59 137.598 1223.34 Q137.598 1232.07 134.52 1236.67 Q131.464 1241.26 125.654 1241.26 Q119.844 1241.26 116.765 1236.67 Q113.709 1232.07 113.709 1223.34 Q113.709 1214.59 116.765 1210.01 Q119.844 1205.4 125.654 1205.4 Z\" fill=\"#000000\" fill-rule=\"evenodd\" fill-opacity=\"1\" /><path clip-path=\"url(#clip9400)\" d=\"M 0 0 M152.668 1209.11 Q149.056 1209.11 147.228 1212.67 Q145.422 1216.21 145.422 1223.34 Q145.422 1230.45 147.228 1234.01 Q149.056 1237.55 152.668 1237.55 Q156.302 1237.55 158.107 1234.01 Q159.936 1230.45 159.936 1223.34 Q159.936 1216.21 158.107 1212.67 Q156.302 1209.11 152.668 1209.11 M152.668 1205.4 Q158.478 1205.4 161.533 1210.01 Q164.612 1214.59 164.612 1223.34 Q164.612 1232.07 161.533 1236.67 Q158.478 1241.26 152.668 1241.26 Q146.857 1241.26 143.779 1236.67 Q140.723 1232.07 140.723 1223.34 Q140.723 1214.59 143.779 1210.01 Q146.857 1205.4 152.668 1205.4 Z\" fill=\"#000000\" fill-rule=\"evenodd\" fill-opacity=\"1\" /><path clip-path=\"url(#clip9400)\" d=\"M 0 0 M179.681 1209.11 Q176.07 1209.11 174.242 1212.67 Q172.436 1216.21 172.436 1223.34 Q172.436 1230.45 174.242 1234.01 Q176.07 1237.55 179.681 1237.55 Q183.316 1237.55 185.121 1234.01 Q186.95 1230.45 186.95 1223.34 Q186.95 1216.21 185.121 1212.67 Q183.316 1209.11 179.681 1209.11 M179.681 1205.4 Q185.491 1205.4 188.547 1210.01 Q191.626 1214.59 191.626 1223.34 Q191.626 1232.07 188.547 1236.67 Q185.491 1241.26 179.681 1241.26 Q173.871 1241.26 170.792 1236.67 Q167.737 1232.07 167.737 1223.34 Q167.737 1214.59 170.792 1210.01 Q173.871 1205.4 179.681 1205.4 Z\" fill=\"#000000\" fill-rule=\"evenodd\" fill-opacity=\"1\" /><path clip-path=\"url(#clip9400)\" d=\"M 0 0 M206.695 1209.11 Q203.084 1209.11 201.255 1212.67 Q199.45 1216.21 199.45 1223.34 Q199.45 1230.45 201.255 1234.01 Q203.084 1237.55 206.695 1237.55 Q210.329 1237.55 212.135 1234.01 Q213.964 1230.45 213.964 1223.34 Q213.964 1216.21 212.135 1212.67 Q210.329 1209.11 206.695 1209.11 M206.695 1205.4 Q212.505 1205.4 215.561 1210.01 Q218.639 1214.59 218.639 1223.34 Q218.639 1232.07 215.561 1236.67 Q212.505 1241.26 206.695 1241.26 Q200.885 1241.26 197.806 1236.67 Q194.751 1232.07 194.751 1223.34 Q194.751 1214.59 197.806 1210.01 Q200.885 1205.4 206.695 1205.4 Z\" fill=\"#000000\" fill-rule=\"evenodd\" fill-opacity=\"1\" /><path clip-path=\"url(#clip9400)\" d=\"M 0 0 M89.3577 929.082 L111.58 929.082 L111.58 931.072 L99.0336 963.642 L94.1494 963.642 L105.955 933.017 L89.3577 933.017 L89.3577 929.082 Z\" fill=\"#000000\" fill-rule=\"evenodd\" fill-opacity=\"1\" /><path clip-path=\"url(#clip9400)\" d=\"M 0 0 M116.696 929.082 L135.052 929.082 L135.052 933.017 L120.978 933.017 L120.978 941.489 Q121.996 941.142 123.015 940.98 Q124.033 940.795 125.052 940.795 Q130.839 940.795 134.219 943.966 Q137.598 947.137 137.598 952.554 Q137.598 958.132 134.126 961.234 Q130.654 964.313 124.334 964.313 Q122.158 964.313 119.89 963.943 Q117.645 963.572 115.237 962.832 L115.237 958.132 Q117.321 959.267 119.543 959.822 Q121.765 960.378 124.242 960.378 Q128.246 960.378 130.584 958.271 Q132.922 956.165 132.922 952.554 Q132.922 948.943 130.584 946.836 Q128.246 944.73 124.242 944.73 Q122.367 944.73 120.492 945.146 Q118.64 945.563 116.696 946.443 L116.696 929.082 Z\" fill=\"#000000\" fill-rule=\"evenodd\" fill-opacity=\"1\" /><path clip-path=\"url(#clip9400)\" d=\"M 0 0 M152.668 932.16 Q149.056 932.16 147.228 935.725 Q145.422 939.267 145.422 946.396 Q145.422 953.503 147.228 957.068 Q149.056 960.609 152.668 960.609 Q156.302 960.609 158.107 957.068 Q159.936 953.503 159.936 946.396 Q159.936 939.267 158.107 935.725 Q156.302 932.16 152.668 932.16 M152.668 928.457 Q158.478 928.457 161.533 933.063 Q164.612 937.646 164.612 946.396 Q164.612 955.123 161.533 959.73 Q158.478 964.313 152.668 964.313 Q146.857 964.313 143.779 959.73 Q140.723 955.123 140.723 946.396 Q140.723 937.646 143.779 933.063 Q146.857 928.457 152.668 928.457 Z\" fill=\"#000000\" fill-rule=\"evenodd\" fill-opacity=\"1\" /><path clip-path=\"url(#clip9400)\" d=\"M 0 0 M179.681 932.16 Q176.07 932.16 174.242 935.725 Q172.436 939.267 172.436 946.396 Q172.436 953.503 174.242 957.068 Q176.07 960.609 179.681 960.609 Q183.316 960.609 185.121 957.068 Q186.95 953.503 186.95 946.396 Q186.95 939.267 185.121 935.725 Q183.316 932.16 179.681 932.16 M179.681 928.457 Q185.491 928.457 188.547 933.063 Q191.626 937.646 191.626 946.396 Q191.626 955.123 188.547 959.73 Q185.491 964.313 179.681 964.313 Q173.871 964.313 170.792 959.73 Q167.737 955.123 167.737 946.396 Q167.737 937.646 170.792 933.063 Q173.871 928.457 179.681 928.457 Z\" fill=\"#000000\" fill-rule=\"evenodd\" fill-opacity=\"1\" /><path clip-path=\"url(#clip9400)\" d=\"M 0 0 M206.695 932.16 Q203.084 932.16 201.255 935.725 Q199.45 939.267 199.45 946.396 Q199.45 953.503 201.255 957.068 Q203.084 960.609 206.695 960.609 Q210.329 960.609 212.135 957.068 Q213.964 953.503 213.964 946.396 Q213.964 939.267 212.135 935.725 Q210.329 932.16 206.695 932.16 M206.695 928.457 Q212.505 928.457 215.561 933.063 Q218.639 937.646 218.639 946.396 Q218.639 955.123 215.561 959.73 Q212.505 964.313 206.695 964.313 Q200.885 964.313 197.806 959.73 Q194.751 955.123 194.751 946.396 Q194.751 937.646 197.806 933.063 Q200.885 928.457 206.695 928.457 Z\" fill=\"#000000\" fill-rule=\"evenodd\" fill-opacity=\"1\" /><path clip-path=\"url(#clip9400)\" d=\"M 0 0 M63.6634 682.762 L71.3023 682.762 L71.3023 656.396 L62.9921 658.063 L62.9921 653.803 L71.256 652.137 L75.9319 652.137 L75.9319 682.762 L83.5707 682.762 L83.5707 686.697 L63.6634 686.697 L63.6634 682.762 Z\" fill=\"#000000\" fill-rule=\"evenodd\" fill-opacity=\"1\" /><path clip-path=\"url(#clip9400)\" d=\"M 0 0 M98.6401 655.215 Q95.029 655.215 93.2003 658.78 Q91.3948 662.322 91.3948 669.451 Q91.3948 676.558 93.2003 680.123 Q95.029 683.664 98.6401 683.664 Q102.274 683.664 104.08 680.123 Q105.909 676.558 105.909 669.451 Q105.909 662.322 104.08 658.78 Q102.274 655.215 98.6401 655.215 M98.6401 651.512 Q104.45 651.512 107.506 656.118 Q110.584 660.702 110.584 669.451 Q110.584 678.178 107.506 682.785 Q104.45 687.368 98.6401 687.368 Q92.8299 687.368 89.7512 682.785 Q86.6957 678.178 86.6957 669.451 Q86.6957 660.702 89.7512 656.118 Q92.8299 651.512 98.6401 651.512 Z\" fill=\"#000000\" fill-rule=\"evenodd\" fill-opacity=\"1\" /><path clip-path=\"url(#clip9400)\" d=\"M 0 0 M125.654 655.215 Q122.043 655.215 120.214 658.78 Q118.408 662.322 118.408 669.451 Q118.408 676.558 120.214 680.123 Q122.043 683.664 125.654 683.664 Q129.288 683.664 131.094 680.123 Q132.922 676.558 132.922 669.451 Q132.922 662.322 131.094 658.78 Q129.288 655.215 125.654 655.215 M125.654 651.512 Q131.464 651.512 134.52 656.118 Q137.598 660.702 137.598 669.451 Q137.598 678.178 134.52 682.785 Q131.464 687.368 125.654 687.368 Q119.844 687.368 116.765 682.785 Q113.709 678.178 113.709 669.451 Q113.709 660.702 116.765 656.118 Q119.844 651.512 125.654 651.512 Z\" fill=\"#000000\" fill-rule=\"evenodd\" fill-opacity=\"1\" /><path clip-path=\"url(#clip9400)\" d=\"M 0 0 M152.668 655.215 Q149.056 655.215 147.228 658.78 Q145.422 662.322 145.422 669.451 Q145.422 676.558 147.228 680.123 Q149.056 683.664 152.668 683.664 Q156.302 683.664 158.107 680.123 Q159.936 676.558 159.936 669.451 Q159.936 662.322 158.107 658.78 Q156.302 655.215 152.668 655.215 M152.668 651.512 Q158.478 651.512 161.533 656.118 Q164.612 660.702 164.612 669.451 Q164.612 678.178 161.533 682.785 Q158.478 687.368 152.668 687.368 Q146.857 687.368 143.779 682.785 Q140.723 678.178 140.723 669.451 Q140.723 660.702 143.779 656.118 Q146.857 651.512 152.668 651.512 Z\" fill=\"#000000\" fill-rule=\"evenodd\" fill-opacity=\"1\" /><path clip-path=\"url(#clip9400)\" d=\"M 0 0 M179.681 655.215 Q176.07 655.215 174.242 658.78 Q172.436 662.322 172.436 669.451 Q172.436 676.558 174.242 680.123 Q176.07 683.664 179.681 683.664 Q183.316 683.664 185.121 680.123 Q186.95 676.558 186.95 669.451 Q186.95 662.322 185.121 658.78 Q183.316 655.215 179.681 655.215 M179.681 651.512 Q185.491 651.512 188.547 656.118 Q191.626 660.702 191.626 669.451 Q191.626 678.178 188.547 682.785 Q185.491 687.368 179.681 687.368 Q173.871 687.368 170.792 682.785 Q167.737 678.178 167.737 669.451 Q167.737 660.702 170.792 656.118 Q173.871 651.512 179.681 651.512 Z\" fill=\"#000000\" fill-rule=\"evenodd\" fill-opacity=\"1\" /><path clip-path=\"url(#clip9400)\" d=\"M 0 0 M206.695 655.215 Q203.084 655.215 201.255 658.78 Q199.45 662.322 199.45 669.451 Q199.45 676.558 201.255 680.123 Q203.084 683.664 206.695 683.664 Q210.329 683.664 212.135 680.123 Q213.964 676.558 213.964 669.451 Q213.964 662.322 212.135 658.78 Q210.329 655.215 206.695 655.215 M206.695 651.512 Q212.505 651.512 215.561 656.118 Q218.639 660.702 218.639 669.451 Q218.639 678.178 215.561 682.785 Q212.505 687.368 206.695 687.368 Q200.885 687.368 197.806 682.785 Q194.751 678.178 194.751 669.451 Q194.751 660.702 197.806 656.118 Q200.885 651.512 206.695 651.512 Z\" fill=\"#000000\" fill-rule=\"evenodd\" fill-opacity=\"1\" /><path clip-path=\"url(#clip9400)\" d=\"M 0 0 M66.256 405.817 L73.8948 405.817 L73.8948 379.451 L65.5847 381.118 L65.5847 376.858 L73.8485 375.192 L78.5245 375.192 L78.5245 405.817 L86.1633 405.817 L86.1633 409.752 L66.256 409.752 L66.256 405.817 Z\" fill=\"#000000\" fill-rule=\"evenodd\" fill-opacity=\"1\" /><path clip-path=\"url(#clip9400)\" d=\"M 0 0 M95.2605 405.817 L111.58 405.817 L111.58 409.752 L89.6355 409.752 L89.6355 405.817 Q92.2975 403.062 96.8808 398.432 Q101.487 393.78 102.668 392.437 Q104.913 389.914 105.793 388.178 Q106.696 386.419 106.696 384.729 Q106.696 381.974 104.751 380.238 Q102.83 378.502 99.728 378.502 Q97.529 378.502 95.0753 379.266 Q92.6447 380.03 89.867 381.581 L89.867 376.858 Q92.691 375.724 95.1447 375.145 Q97.5984 374.567 99.6354 374.567 Q105.006 374.567 108.2 377.252 Q111.395 379.937 111.395 384.428 Q111.395 386.557 110.584 388.479 Q109.797 390.377 107.691 392.969 Q107.112 393.641 104.01 396.858 Q100.909 400.053 95.2605 405.817 Z\" fill=\"#000000\" fill-rule=\"evenodd\" fill-opacity=\"1\" /><path clip-path=\"url(#clip9400)\" d=\"M 0 0 M116.696 375.192 L135.052 375.192 L135.052 379.127 L120.978 379.127 L120.978 387.599 Q121.996 387.252 123.015 387.09 Q124.033 386.905 125.052 386.905 Q130.839 386.905 134.219 390.076 Q137.598 393.247 137.598 398.664 Q137.598 404.243 134.126 407.344 Q130.654 410.423 124.334 410.423 Q122.158 410.423 119.89 410.053 Q117.645 409.682 115.237 408.942 L115.237 404.243 Q117.321 405.377 119.543 405.932 Q121.765 406.488 124.242 406.488 Q128.246 406.488 130.584 404.381 Q132.922 402.275 132.922 398.664 Q132.922 395.053 130.584 392.946 Q128.246 390.84 124.242 390.84 Q122.367 390.84 120.492 391.256 Q118.64 391.673 116.696 392.553 L116.696 375.192 Z\" fill=\"#000000\" fill-rule=\"evenodd\" fill-opacity=\"1\" /><path clip-path=\"url(#clip9400)\" d=\"M 0 0 M152.668 378.27 Q149.056 378.27 147.228 381.835 Q145.422 385.377 145.422 392.506 Q145.422 399.613 147.228 403.178 Q149.056 406.719 152.668 406.719 Q156.302 406.719 158.107 403.178 Q159.936 399.613 159.936 392.506 Q159.936 385.377 158.107 381.835 Q156.302 378.27 152.668 378.27 M152.668 374.567 Q158.478 374.567 161.533 379.173 Q164.612 383.757 164.612 392.506 Q164.612 401.233 161.533 405.84 Q158.478 410.423 152.668 410.423 Q146.857 410.423 143.779 405.84 Q140.723 401.233 140.723 392.506 Q140.723 383.757 143.779 379.173 Q146.857 374.567 152.668 374.567 Z\" fill=\"#000000\" fill-rule=\"evenodd\" fill-opacity=\"1\" /><path clip-path=\"url(#clip9400)\" d=\"M 0 0 M179.681 378.27 Q176.07 378.27 174.242 381.835 Q172.436 385.377 172.436 392.506 Q172.436 399.613 174.242 403.178 Q176.07 406.719 179.681 406.719 Q183.316 406.719 185.121 403.178 Q186.95 399.613 186.95 392.506 Q186.95 385.377 185.121 381.835 Q183.316 378.27 179.681 378.27 M179.681 374.567 Q185.491 374.567 188.547 379.173 Q191.626 383.757 191.626 392.506 Q191.626 401.233 188.547 405.84 Q185.491 410.423 179.681 410.423 Q173.871 410.423 170.792 405.84 Q167.737 401.233 167.737 392.506 Q167.737 383.757 170.792 379.173 Q173.871 374.567 179.681 374.567 Z\" fill=\"#000000\" fill-rule=\"evenodd\" fill-opacity=\"1\" /><path clip-path=\"url(#clip9400)\" d=\"M 0 0 M206.695 378.27 Q203.084 378.27 201.255 381.835 Q199.45 385.377 199.45 392.506 Q199.45 399.613 201.255 403.178 Q203.084 406.719 206.695 406.719 Q210.329 406.719 212.135 403.178 Q213.964 399.613 213.964 392.506 Q213.964 385.377 212.135 381.835 Q210.329 378.27 206.695 378.27 M206.695 374.567 Q212.505 374.567 215.561 379.173 Q218.639 383.757 218.639 392.506 Q218.639 401.233 215.561 405.84 Q212.505 410.423 206.695 410.423 Q200.885 410.423 197.806 405.84 Q194.751 401.233 194.751 392.506 Q194.751 383.757 197.806 379.173 Q200.885 374.567 206.695 374.567 Z\" fill=\"#000000\" fill-rule=\"evenodd\" fill-opacity=\"1\" /><path clip-path=\"url(#clip9400)\" d=\"M 0 0 M64.6588 128.872 L72.2976 128.872 L72.2976 102.506 L63.9875 104.173 L63.9875 99.9134 L72.2513 98.2468 L76.9272 98.2468 L76.9272 128.872 L84.5661 128.872 L84.5661 132.807 L64.6588 132.807 L64.6588 128.872 Z\" fill=\"#000000\" fill-rule=\"evenodd\" fill-opacity=\"1\" /><path clip-path=\"url(#clip9400)\" d=\"M 0 0 M89.6818 98.2468 L108.038 98.2468 L108.038 102.182 L93.9642 102.182 L93.9642 110.654 Q94.9827 110.307 96.0012 110.145 Q97.0197 109.96 98.0382 109.96 Q103.825 109.96 107.205 113.131 Q110.584 116.302 110.584 121.719 Q110.584 127.298 107.112 130.399 Q103.64 133.478 97.3206 133.478 Q95.1447 133.478 92.8762 133.108 Q90.6309 132.737 88.2235 131.997 L88.2235 127.298 Q90.3068 128.432 92.529 128.987 Q94.7512 129.543 97.2281 129.543 Q101.233 129.543 103.571 127.436 Q105.909 125.33 105.909 121.719 Q105.909 118.108 103.571 116.001 Q101.233 113.895 97.2281 113.895 Q95.3531 113.895 93.4781 114.311 Q91.6262 114.728 89.6818 115.608 L89.6818 98.2468 Z\" fill=\"#000000\" fill-rule=\"evenodd\" fill-opacity=\"1\" /><path clip-path=\"url(#clip9400)\" d=\"M 0 0 M125.654 101.325 Q122.043 101.325 120.214 104.89 Q118.408 108.432 118.408 115.561 Q118.408 122.668 120.214 126.233 Q122.043 129.774 125.654 129.774 Q129.288 129.774 131.094 126.233 Q132.922 122.668 132.922 115.561 Q132.922 108.432 131.094 104.89 Q129.288 101.325 125.654 101.325 M125.654 97.6218 Q131.464 97.6218 134.52 102.228 Q137.598 106.812 137.598 115.561 Q137.598 124.288 134.52 128.895 Q131.464 133.478 125.654 133.478 Q119.844 133.478 116.765 128.895 Q113.709 124.288 113.709 115.561 Q113.709 106.812 116.765 102.228 Q119.844 97.6218 125.654 97.6218 Z\" fill=\"#000000\" fill-rule=\"evenodd\" fill-opacity=\"1\" /><path clip-path=\"url(#clip9400)\" d=\"M 0 0 M152.668 101.325 Q149.056 101.325 147.228 104.89 Q145.422 108.432 145.422 115.561 Q145.422 122.668 147.228 126.233 Q149.056 129.774 152.668 129.774 Q156.302 129.774 158.107 126.233 Q159.936 122.668 159.936 115.561 Q159.936 108.432 158.107 104.89 Q156.302 101.325 152.668 101.325 M152.668 97.6218 Q158.478 97.6218 161.533 102.228 Q164.612 106.812 164.612 115.561 Q164.612 124.288 161.533 128.895 Q158.478 133.478 152.668 133.478 Q146.857 133.478 143.779 128.895 Q140.723 124.288 140.723 115.561 Q140.723 106.812 143.779 102.228 Q146.857 97.6218 152.668 97.6218 Z\" fill=\"#000000\" fill-rule=\"evenodd\" fill-opacity=\"1\" /><path clip-path=\"url(#clip9400)\" d=\"M 0 0 M179.681 101.325 Q176.07 101.325 174.242 104.89 Q172.436 108.432 172.436 115.561 Q172.436 122.668 174.242 126.233 Q176.07 129.774 179.681 129.774 Q183.316 129.774 185.121 126.233 Q186.95 122.668 186.95 115.561 Q186.95 108.432 185.121 104.89 Q183.316 101.325 179.681 101.325 M179.681 97.6218 Q185.491 97.6218 188.547 102.228 Q191.626 106.812 191.626 115.561 Q191.626 124.288 188.547 128.895 Q185.491 133.478 179.681 133.478 Q173.871 133.478 170.792 128.895 Q167.737 124.288 167.737 115.561 Q167.737 106.812 170.792 102.228 Q173.871 97.6218 179.681 97.6218 Z\" fill=\"#000000\" fill-rule=\"evenodd\" fill-opacity=\"1\" /><path clip-path=\"url(#clip9400)\" d=\"M 0 0 M206.695 101.325 Q203.084 101.325 201.255 104.89 Q199.45 108.432 199.45 115.561 Q199.45 122.668 201.255 126.233 Q203.084 129.774 206.695 129.774 Q210.329 129.774 212.135 126.233 Q213.964 122.668 213.964 115.561 Q213.964 108.432 212.135 104.89 Q210.329 101.325 206.695 101.325 M206.695 97.6218 Q212.505 97.6218 215.561 102.228 Q218.639 106.812 218.639 115.561 Q218.639 124.288 215.561 128.895 Q212.505 133.478 206.695 133.478 Q200.885 133.478 197.806 128.895 Q194.751 124.288 194.751 115.561 Q194.751 106.812 197.806 102.228 Q200.885 97.6218 206.695 97.6218 Z\" fill=\"#000000\" fill-rule=\"evenodd\" fill-opacity=\"1\" /><polyline clip-path=\"url(#clip9402)\" style=\"stroke:#009af9; stroke-width:4; stroke-opacity:1; fill:none\" points=\"\n",
       "  302.36,1445.72 304.404,1443.75 306.447,1441.76 308.491,1443.82 310.535,1441.55 312.579,1439.3 314.623,1440.22 316.666,1437.52 318.71,1433.44 320.754,1429.23 \n",
       "  322.798,1428.58 324.842,1427.78 326.885,1427.1 328.929,1425.86 330.973,1424.65 333.017,1426.02 335.061,1424.05 337.105,1422.96 339.148,1423.35 341.192,1418.81 \n",
       "  343.236,1413.73 345.28,1408.67 347.324,1404.22 349.367,1398.62 351.411,1395.22 353.455,1391.21 355.499,1388.45 357.543,1384.29 359.587,1376.38 361.63,1371.2 \n",
       "  363.674,1365.8 365.718,1361.29 367.762,1358.07 369.806,1356.81 371.849,1355.97 373.893,1355.09 375.937,1352.4 377.981,1350.57 380.025,1345.88 382.069,1341.26 \n",
       "  384.112,1336.62 386.156,1333.76 388.2,1328.86 390.244,1323.14 392.288,1320.14 394.331,1317.3 396.375,1315.54 398.419,1312.87 400.463,1310.02 402.507,1307.58 \n",
       "  404.55,1305.81 406.594,1304.76 408.638,1305.33 410.682,1303.28 412.726,1304.17 414.77,1305.88 416.813,1306.48 418.857,1304.45 420.901,1302.83 422.945,1303.67 \n",
       "  424.989,1304.68 427.032,1305.97 429.076,1308.67 431.12,1311.23 433.164,1312.1 435.208,1312.52 437.252,1312.99 439.295,1313.59 441.339,1315.49 443.383,1315.16 \n",
       "  445.427,1315.13 447.471,1313.48 449.514,1313.09 451.558,1313.07 453.602,1314.17 455.646,1318.07 457.69,1319.64 459.733,1321.36 461.777,1324.4 463.821,1328.92 \n",
       "  465.865,1350.62 467.909,1349.59 469.953,1345.21 471.996,1343.94 474.04,1335.98 476.084,1342.46 478.128,1331.92 480.172,1323.97 482.215,1319.14 484.259,1314.86 \n",
       "  486.303,1310.23 488.347,1304.82 490.391,1301.79 492.435,1299.82 494.478,1296.48 496.522,1296.65 498.566,1294.92 500.61,1294.68 502.654,1294.13 504.697,1295.32 \n",
       "  506.741,1293.78 508.785,1291.88 510.829,1292.62 512.873,1290.22 514.916,1287.52 516.96,1285.22 519.004,1284.41 521.048,1283.34 523.092,1282.25 525.136,1283.87 \n",
       "  527.179,1282.21 529.223,1285.58 531.267,1280.96 533.311,1278.32 535.355,1276.92 537.398,1276.72 539.442,1275.44 541.486,1275.98 543.53,1276.57 545.574,1278.34 \n",
       "  547.618,1282.37 549.661,1284.27 551.705,1287.11 553.749,1287.16 555.793,1289.95 557.837,1292.66 559.88,1294.97 561.924,1293.94 563.968,1292.21 566.012,1301.49 \n",
       "  568.056,1298.17 570.099,1295.07 572.143,1295.02 574.187,1297.56 576.231,1290.28 578.275,1285.54 580.319,1281.82 582.362,1277.78 584.406,1273.67 586.45,1265.49 \n",
       "  588.494,1262.77 590.538,1259.8 592.581,1259.02 594.625,1258.08 596.669,1253.35 598.713,1250.15 600.757,1246.87 602.801,1247 604.844,1245.99 606.888,1244.75 \n",
       "  608.932,1244.79 610.976,1245.33 613.02,1245.97 615.063,1245.4 617.107,1243.83 619.151,1241.98 621.195,1242.18 623.239,1239.68 625.283,1239.88 627.326,1238.59 \n",
       "  629.37,1238.35 631.414,1242.34 633.458,1243.88 635.502,1235.23 637.545,1230.84 639.589,1227.77 641.633,1225.35 643.677,1221.47 645.721,1221.71 647.764,1219.55 \n",
       "  649.808,1218.07 651.852,1218.49 653.896,1217.88 655.94,1217.56 657.984,1217.37 660.027,1217.89 662.071,1219.23 664.115,1220.65 666.159,1224.33 668.203,1226.6 \n",
       "  670.246,1229.19 672.29,1230.15 674.334,1232.65 676.378,1232.4 678.422,1234.77 680.466,1235.55 682.509,1236.21 684.553,1236.31 686.597,1235.65 688.641,1235.03 \n",
       "  690.685,1232.39 692.728,1230.72 694.772,1228.89 696.816,1227.25 698.86,1223.73 700.904,1220.56 702.947,1217.63 704.991,1214.56 707.035,1212.37 709.079,1211 \n",
       "  711.123,1209.28 713.167,1207.48 715.21,1205.67 717.254,1203.31 719.298,1201.43 721.342,1199.3 723.386,1197.89 725.429,1197 727.473,1195.55 729.517,1194.66 \n",
       "  731.561,1201.65 733.605,1194.16 735.649,1194.46 737.692,1192.54 739.736,1192.06 741.78,1190.86 743.824,1191.33 745.868,1189 747.911,1188.35 749.955,1187.44 \n",
       "  751.999,1188.41 754.043,1189.33 756.087,1188.71 758.13,1188.66 760.174,1190.8 762.218,1192.7 764.262,1194.97 766.306,1196.9 768.35,1200.31 770.393,1205.85 \n",
       "  772.437,1208.92 774.481,1211.93 776.525,1213.18 778.569,1213.18 780.612,1211.8 782.656,1209.65 784.7,1206.62 786.744,1206.86 788.788,1201.77 790.832,1200.21 \n",
       "  792.875,1195.86 794.919,1193.53 796.963,1189.92 799.007,1186.52 801.051,1183.98 803.094,1182.53 805.138,1181.17 807.182,1186.35 809.226,1185.33 811.27,1186.11 \n",
       "  813.313,1183.05 815.357,1177.07 817.401,1175.96 819.445,1173.31 821.489,1173.97 823.533,1169.99 825.576,1173.73 827.62,1175.14 829.664,1175.61 831.708,1175.98 \n",
       "  833.752,1176.48 835.795,1177.42 837.839,1179.43 839.883,1181.85 841.927,1182.51 843.971,1183.9 846.015,1182.77 848.058,1183.13 850.102,1181.37 852.146,1179.25 \n",
       "  854.19,1177.63 856.234,1175.69 858.277,1174.7 860.321,1173.21 862.365,1170.78 864.409,1169.34 866.453,1169.13 868.497,1165.84 870.54,1164.87 872.584,1161.25 \n",
       "  874.628,1160.96 876.672,1160.78 878.716,1159.65 880.759,1158.63 882.803,1157.08 884.847,1156.39 886.891,1156.22 888.935,1156.53 890.978,1155.57 893.022,1154.29 \n",
       "  895.066,1153.3 897.11,1150.41 899.154,1150.02 901.198,1149.54 903.241,1148.04 905.285,1146.76 907.329,1144.9 909.373,1142.63 911.417,1142.94 913.46,1141.76 \n",
       "  915.504,1140.37 917.548,1137.42 919.592,1135.83 921.636,1135.55 923.68,1133.7 925.723,1132.26 927.767,1130.12 929.811,1127.83 931.855,1124.68 933.899,1125.9 \n",
       "  935.942,1121.19 937.986,1118.94 940.03,1117.16 942.074,1114.74 944.118,1112.5 946.161,1109.66 948.205,1107.09 950.249,1104.89 952.293,1101.84 954.337,1098.93 \n",
       "  956.381,1096.02 958.424,1093.49 960.468,1090.42 962.512,1086.81 964.556,1084.51 966.6,1081.56 968.643,1077.17 970.687,1074.45 972.731,1071.41 974.775,1066.99 \n",
       "  976.819,1064.88 978.863,1062.6 980.906,1061.09 982.95,1058.76 984.994,1056.93 987.038,1054.94 989.082,1052.63 991.125,1052.39 993.169,1051.27 995.213,1051.98 \n",
       "  997.257,1050.27 999.301,1048.83 1001.34,1047.3 1003.39,1044.48 1005.43,1044.25 1007.48,1043.57 1009.52,1038.27 1011.56,1036.09 1013.61,1037.16 1015.65,1032.6 \n",
       "  1017.7,1031.72 1019.74,1028.82 1021.78,1027.76 1023.83,1024.96 1025.87,1022.51 1027.91,1020.25 1029.96,1018.54 1032,1015.92 1034.05,1013.01 1036.09,1010.08 \n",
       "  1038.13,1007.97 1040.18,1005.09 1042.22,1002.8 1044.26,1000.95 1046.31,998.117 1048.35,994.705 1050.4,993.675 1052.44,990.584 1054.48,991.626 1056.53,989.333 \n",
       "  1058.57,989.72 1060.62,988.003 1062.66,988.723 1064.7,987.294 1066.75,985.677 1068.79,986.818 1070.83,989.299 1072.88,990.352 1074.92,990.086 1076.97,991.371 \n",
       "  1079.01,991.293 1081.05,995.979 1083.1,997.22 1085.14,992.977 1087.18,992.168 1089.23,992.811 1091.27,992.224 1093.32,990.274 1095.36,987.937 1097.4,987.859 \n",
       "  1099.45,987.183 1101.49,986.541 1103.54,983.871 1105.58,983.561 1107.62,981.29 1109.67,978.388 1111.71,974.71 1113.75,972.417 1115.8,969.138 1117.84,966.723 \n",
       "  1119.89,963.322 1121.93,960.12 1123.97,960.663 1126.02,955.878 1128.06,954.515 1130.1,949.973 1132.15,946.661 1134.19,943.393 1136.24,939.527 1138.28,935.129 \n",
       "  1140.32,932.138 1142.37,930.244 1144.41,928.106 1146.46,925.458 1148.5,925.17 1150.54,922.345 1152.59,921.149 1154.63,917.482 1156.67,914.015 1158.72,912.785 \n",
       "  1160.76,912.021 1162.81,910.315 1164.85,909.849 1166.89,908.897 1168.94,907.047 1170.98,906.437 1173.02,906.083 1175.07,906.271 1177.11,906.371 1179.16,906.149 \n",
       "  1181.2,910.193 1183.24,916.983 1185.29,920.96 1187.33,925.115 1189.38,928.106 1191.42,930.188 1193.46,928.371 1195.51,929.512 1197.55,926.754 1199.59,922.511 \n",
       "  1201.64,921.68 1203.68,918.224 1205.73,916.618 1207.77,912.94 1209.81,907.556 1211.86,904.089 1213.9,901.519 1215.95,898.816 1217.99,898.594 1220.03,897.885 \n",
       "  1222.08,895.991 1224.12,894.252 1226.16,892.169 1228.21,891.959 1230.25,888.314 1232.3,886.01 1234.34,883.329 1236.38,880.028 1238.43,875.564 1240.47,871.83 \n",
       "  1242.51,867.842 1244.56,863.411 1246.6,859.578 1248.65,856.908 1250.69,851.846 1252.73,848.877 1254.78,844.745 1256.82,842.12 1258.87,840.081 1260.91,836.16 \n",
       "  1262.95,830.488 1265,822.711 1267.04,818.867 1269.08,813.982 1271.13,811.168 1273.17,808.078 1275.22,806.549 1277.26,802.838 1279.3,798.019 1281.35,794.917 \n",
       "  1283.39,793.399 1285.43,790.663 1287.48,785.966 1289.52,786.653 1291.57,782.532 1293.61,778.998 1295.65,777.791 1297.7,776.871 1299.74,776.572 1301.79,774.866 \n",
       "  1303.83,773.847 1305.87,772.75 1307.92,771.332 1309.96,770.413 1312,769.183 1314.05,770.79 1316.09,775.542 1318.14,779.076 1320.18,781.967 1322.22,779.098 \n",
       "  1324.27,777.835 1326.31,774.767 1328.35,771.92 1330.4,769.748 1332.44,768.751 1334.49,767.954 1336.53,766.791 1338.57,765.982 1340.62,765.838 1342.66,763.689 \n",
       "  1344.71,762.459 1346.75,762.858 1348.79,763.833 1350.84,764.907 1352.88,767.223 1354.92,770.28 1356.97,773.936 1359.01,773.958 1361.06,775.387 1363.1,778.533 \n",
       "  1365.14,779.009 1367.19,781.69 1369.23,785.501 1371.28,787.251 1373.32,789.245 1375.36,792.303 1377.41,793.643 1379.45,793.809 1381.49,791.383 1383.54,792.192 \n",
       "  1385.58,790.276 1387.63,787.24 1389.67,784.138 1391.71,779.962 1393.76,775.354 1395.8,778.766 1397.84,766.381 1399.89,763.356 1401.93,759.424 1403.98,755.491 \n",
       "  1406.02,750.584 1408.06,745.222 1410.11,742.209 1412.15,738.188 1414.2,734.798 1416.24,730.577 1418.28,727.143 1420.33,724.451 1422.37,720.995 1424.41,717.838 \n",
       "  1426.46,713.927 1428.5,712.543 1430.55,709.607 1432.59,708.156 1434.63,704.4 1436.68,702.229 1438.72,699.194 1440.76,697.565 1442.81,695.472 1444.85,693.345 \n",
       "  1446.9,691.074 1448.94,688.991 1450.98,686.665 1453.03,684.826 1455.07,683.463 1457.12,682.189 1459.16,681.226 1461.2,679.154 1463.25,677.747 1465.29,678.777 \n",
       "  1467.33,675.255 1469.38,673.981 1471.42,670.148 1473.47,668.076 1475.51,666.005 1477.55,663.778 1479.6,661.906 1481.64,659.236 1483.68,656.522 1485.73,652.811 \n",
       "  1487.77,650.274 1489.82,648.369 1491.86,644.525 1493.9,642.608 1495.95,640.094 1497.99,634.655 1500.04,632.062 1502.08,628.861 1504.12,627.842 1506.17,622.735 \n",
       "  1508.21,619.688 1510.25,616.997 1512.3,614.449 1514.34,610.416 1516.39,607.935 1518.43,606.561 1520.47,602.806 1522.52,599.892 1524.56,596.115 1526.6,593.002 \n",
       "  1528.65,590.089 1530.69,587.142 1532.74,584.993 1534.78,583.11 1536.82,581.758 1538.87,580.495 1540.91,580.03 1542.96,579.465 1545,576.707 1547.04,575.521 \n",
       "  1549.09,572.464 1551.13,571.533 1553.17,567.512 1555.22,564.898 1557.26,562.582 1559.31,562.117 1561.35,560.422 1563.39,560.234 1565.44,560.588 1567.48,562.893 \n",
       "  1569.53,563.978 1571.57,565.651 1573.61,567.346 1575.66,567.878 1577.7,569.107 1579.74,572.663 1581.79,574.436 1583.83,576.762 1585.88,578.036 1587.92,577.094 \n",
       "  1589.96,577.56 1592.01,577.36 1594.05,577.072 1596.09,576.84 1598.14,577.515 1600.18,577.161 1602.23,576.707 1604.27,577.349 1606.31,576.751 1608.36,575.045 \n",
       "  1610.4,573.605 1612.45,572.874 1614.49,572.01 1616.53,570.547 1618.58,570.171 1620.62,568.177 1622.66,566.703 1624.71,564.233 1626.75,560.921 1628.8,558.151 \n",
       "  1630.84,558.705 1632.88,555.36 1634.93,552.347 1636.97,550.341 1639.01,546.952 1641.06,545.279 1643.1,542.598 1645.15,539.441 1647.19,536.66 1649.23,533.005 \n",
       "  1651.28,529.892 1653.32,527.831 1655.37,522.725 1657.41,518.914 1659.45,515.203 1661.5,511.691 1663.54,507.57 1665.58,504.402 1667.63,500.514 1669.67,498.176 \n",
       "  1671.72,493.623 1673.76,490.344 1675.8,486.622 1677.85,484.451 1679.89,482.124 1681.93,480.33 1683.98,480.551 1686.02,477.926 1688.07,476.885 1690.11,474.071 \n",
       "  1692.15,471.401 1694.2,469.673 1696.24,468.078 1698.29,466.471 1700.33,466.516 1702.37,461.83 1704.42,459.016 1706.46,457.188 1708.5,453.555 1710.55,450.42 \n",
       "  1712.59,447.695 1714.64,445.656 1716.68,443.319 1718.72,440.494 1720.77,437.215 1722.81,435.199 1724.86,432.762 1726.9,429.305 1728.94,425.816 1730.99,422.537 \n",
       "  1733.03,419.657 1735.07,416.688 1737.12,413.398 1739.16,413.597 1741.21,408.147 1743.25,404.336 1745.29,400.946 1747.34,397.468 1749.38,394.554 1751.42,392.295 \n",
       "  1753.47,390.655 1755.51,387.575 1757.56,383.122 1759.6,380.552 1761.64,379.123 1763.69,375.368 1765.73,373.063 1767.78,370.826 1769.82,367.757 1771.86,363.714 \n",
       "  1773.91,362.54 1775.95,357.909 1777.99,356.724 1780.04,352.625 1782.08,350.287 1784.13,347.175 1786.17,343.574 1788.21,341.857 1790.26,339.608 1792.3,335.122 \n",
       "  1794.34,331.92 1796.39,328.531 1798.43,325.95 1800.48,324.631 1802.52,319.403 1804.56,316.168 1806.61,313.764 1808.65,314.251 1810.7,312.313 1812.74,312.379 \n",
       "  1814.78,311.017 1816.83,311.039 1818.87,308.768 1820.91,307.073 1822.96,307.195 1825,306.187 1827.05,306.652 1829.09,309.798 1831.13,310.385 1833.18,311.615 \n",
       "  1835.22,312.966 1837.26,314.617 1839.31,317.464 1841.35,320.976 1843.4,324.432 1845.44,326.204 1847.48,327.644 1849.53,328.929 1851.57,329.14 1853.62,330.181 \n",
       "  1855.66,330.059 1857.7,329.506 1859.75,330.547 1861.79,330.58 1863.83,331.533 1865.88,330.126 1867.92,330.27 1869.97,331.854 1872.01,330.658 1874.05,332.164 \n",
       "  1876.1,334.513 1878.14,335.122 1880.18,334.912 1882.23,334.934 1884.27,334.967 1886.32,335.432 1888.36,334.269 1890.4,332.053 1892.45,331.832 1894.49,330.569 \n",
       "  1896.54,328.564 1898.58,327.944 1900.62,324.432 1902.67,321.452 1904.71,318.317 1906.75,317.22 1908.8,316.611 1910.84,315.625 1912.89,313.897 1914.93,309.975 \n",
       "  1916.97,309.355 1919.02,308.015 1921.06,306.353 1923.11,303.495 1925.15,302.121 1927.19,298.111 1929.24,296.206 1931.28,293.414 1933.32,289.493 1935.37,287.255 \n",
       "  1937.41,286.502 1939.46,285.516 1941.5,281.771 1943.54,280.043 1945.59,276.941 1947.63,273.529 1949.67,270.095 1951.72,268.345 1953.76,267.913 1955.81,267.016 \n",
       "  1957.85,264.856 1959.89,262.928 1961.94,261.277 1963.98,261.178 1966.03,258.84 1968.07,256.78 1970.11,254.254 1972.16,253.357 1974.2,250.753 1976.24,250.211 \n",
       "  1978.29,248.538 1980.33,247.696 1982.38,248.039 1984.42,248.294 1986.46,247.408 1988.51,246.533 1990.55,245.314 1992.59,244.118 1994.64,243.996 1996.68,244.871 \n",
       "  1998.73,245.414 2000.77,248.073 2002.81,250.033 2004.86,251.928 2006.9,254.099 2008.95,257.179 2010.99,262.274 2013.03,267.603 2015.08,275.656 2017.12,283.477 \n",
       "  2019.16,292.162 2021.21,300.393 2023.25,309.255 2025.3,316.954 2027.34,320.743 2029.38,325.916 2031.43,329.683 2033.47,331.71 2035.51,334.38 2037.56,336.584 \n",
       "  2039.6,336.451 2041.65,339.431 2043.69,339.409 2045.73,340.428 2047.78,338.423 2049.82,335.864 2051.87,329.882 2053.91,331.422 2055.95,332.353 2058,332.408 \n",
       "  2060.04,333.128 2062.08,330.159 2064.13,328.774 2066.17,327.977 2068.22,327.766 2070.26,325.418 2072.3,322.815 2074.35,319.336 2076.39,318.217 2078.44,315.603 \n",
       "  2080.48,314.938 2082.52,313.542 2084.57,310.961 2086.61,308.701 2088.65,307.239 2090.7,305.001 2092.74,301.08 2094.79,298.178 2096.83,295.519 2098.87,294.61 \n",
       "  2100.92,293.503 2102.96,292.694 2105,291.01 2107.05,289.105 2109.09,287.033 2111.14,285.272 2113.18,283.544 2115.22,280.896 2117.27,278.78 2119.31,275.701 \n",
       "  2121.36,274.161 2123.4,272.045 2125.44,269.586 2127.49,267.581 2129.53,266.34 2131.57,263.659 2133.62,261.588 2135.66,259.095 2137.71,256.171 2139.75,255.406 \n",
       "  2141.79,253.468 2143.84,251.629 2145.88,248.815 2147.92,245.215 2149.97,242.8 2152.01,239.188 2154.06,236.618 2156.1,234.536 2158.14,231.113 2160.19,228.321 \n",
       "  2162.23,225.097 2164.28,222.128 2166.32,220.013 2168.36,217.01 2170.41,216.224 2172.45,213.078 2174.49,209.411 2176.54,207.484 2178.58,204.138 2180.63,202.753 \n",
       "  2182.67,201.036 2184.71,197.646 2186.76,195.021 2188.8,191.997 2190.84,191.188 2192.89,188.275 2194.93,185.738 2196.98,183.666 2199.02,183.201 2201.06,180.243 \n",
       "  2203.11,176.322 2205.15,174.826 2207.2,171.846 2209.24,170.24 2211.28,168.567 2213.33,166.019 2215.37,163.97 2217.41,161.887 2219.46,160.458 2221.5,158.276 \n",
       "  2223.55,156.559 2225.59,154.166 2227.63,151.784 2229.68,149.746 2231.72,149.547 2233.76,146.589 2235.81,144.096 2237.85,142.656 2239.9,141.316 2241.94,136.818 \n",
       "  2243.98,134.869 2246.03,133.351 2248.07,130.271 2250.12,127.845 2252.16,126.339 2254.2,123.636 2256.25,122.749 2258.29,120.523 2260.33,119.038 2262.38,117.022 \n",
       "  2264.42,114.042 2266.47,114.031 2268.51,112.403 2270.55,110.076 2272.6,109.135 2274.64,107.119 2276.69,104.97 2278.73,102.677 2280.77,100.372 2282.82,98.3229 \n",
       "  2284.86,95.4316 2286.9,93.3933 2288.95,91.0227 2290.99,87.9763 2293.04,95.7418 \n",
       "  \"/>\n",
       "</svg>\n"
      ]
     },
     "execution_count": 14,
     "metadata": {},
     "output_type": "execute_result"
    }
   ],
   "source": [
    "using Plots\n",
    "\n",
    "ces_plot_data = ces_data[ces_data.series_id .== ces_data[1,1], :]\n",
    "\n",
    "ces_plot = plot(ces_plot_data.value, legend=false, formatter=:plain)"
   ]
  },
  {
   "cell_type": "code",
   "execution_count": 12,
   "metadata": {},
   "outputs": [
    {
     "data": {
      "image/svg+xml": [
       "<?xml version=\"1.0\" encoding=\"utf-8\"?>\n",
       "<svg xmlns=\"http://www.w3.org/2000/svg\" xmlns:xlink=\"http://www.w3.org/1999/xlink\" width=\"600\" height=\"400\" viewBox=\"0 0 2400 1600\">\n",
       "<defs>\n",
       "  <clipPath id=\"clip8600\">\n",
       "    <rect x=\"0\" y=\"0\" width=\"2400\" height=\"1600\"/>\n",
       "  </clipPath>\n",
       "</defs>\n",
       "<path clip-path=\"url(#clip8600)\" d=\"\n",
       "M0 1600 L2400 1600 L2400 0 L0 0  Z\n",
       "  \" fill=\"#ffffff\" fill-rule=\"evenodd\" fill-opacity=\"1\"/>\n",
       "<defs>\n",
       "  <clipPath id=\"clip8601\">\n",
       "    <rect x=\"480\" y=\"0\" width=\"1681\" height=\"1600\"/>\n",
       "  </clipPath>\n",
       "</defs>\n",
       "<path clip-path=\"url(#clip8600)\" d=\"\n",
       "M305.907 1423.18 L2352.76 1423.18 L2352.76 123.472 L305.907 123.472  Z\n",
       "  \" fill=\"#ffffff\" fill-rule=\"evenodd\" fill-opacity=\"1\"/>\n",
       "<defs>\n",
       "  <clipPath id=\"clip8602\">\n",
       "    <rect x=\"305\" y=\"123\" width=\"2048\" height=\"1301\"/>\n",
       "  </clipPath>\n",
       "</defs>\n",
       "<polyline clip-path=\"url(#clip8602)\" style=\"stroke:#000000; stroke-width:2; stroke-opacity:0.1; fill:none\" points=\"\n",
       "  361.855,1423.18 361.855,123.472 \n",
       "  \"/>\n",
       "<polyline clip-path=\"url(#clip8602)\" style=\"stroke:#000000; stroke-width:2; stroke-opacity:0.1; fill:none\" points=\"\n",
       "  857.488,1423.18 857.488,123.472 \n",
       "  \"/>\n",
       "<polyline clip-path=\"url(#clip8602)\" style=\"stroke:#000000; stroke-width:2; stroke-opacity:0.1; fill:none\" points=\"\n",
       "  1353.12,1423.18 1353.12,123.472 \n",
       "  \"/>\n",
       "<polyline clip-path=\"url(#clip8602)\" style=\"stroke:#000000; stroke-width:2; stroke-opacity:0.1; fill:none\" points=\"\n",
       "  1848.76,1423.18 1848.76,123.472 \n",
       "  \"/>\n",
       "<polyline clip-path=\"url(#clip8602)\" style=\"stroke:#000000; stroke-width:2; stroke-opacity:0.1; fill:none\" points=\"\n",
       "  2344.39,1423.18 2344.39,123.472 \n",
       "  \"/>\n",
       "<polyline clip-path=\"url(#clip8602)\" style=\"stroke:#000000; stroke-width:2; stroke-opacity:0.1; fill:none\" points=\"\n",
       "  305.907,1185.54 2352.76,1185.54 \n",
       "  \"/>\n",
       "<polyline clip-path=\"url(#clip8602)\" style=\"stroke:#000000; stroke-width:2; stroke-opacity:0.1; fill:none\" points=\"\n",
       "  305.907,935.442 2352.76,935.442 \n",
       "  \"/>\n",
       "<polyline clip-path=\"url(#clip8602)\" style=\"stroke:#000000; stroke-width:2; stroke-opacity:0.1; fill:none\" points=\"\n",
       "  305.907,685.34 2352.76,685.34 \n",
       "  \"/>\n",
       "<polyline clip-path=\"url(#clip8602)\" style=\"stroke:#000000; stroke-width:2; stroke-opacity:0.1; fill:none\" points=\"\n",
       "  305.907,435.238 2352.76,435.238 \n",
       "  \"/>\n",
       "<polyline clip-path=\"url(#clip8602)\" style=\"stroke:#000000; stroke-width:2; stroke-opacity:0.1; fill:none\" points=\"\n",
       "  305.907,185.136 2352.76,185.136 \n",
       "  \"/>\n",
       "<polyline clip-path=\"url(#clip8600)\" style=\"stroke:#000000; stroke-width:4; stroke-opacity:1; fill:none\" points=\"\n",
       "  305.907,1423.18 2352.76,1423.18 \n",
       "  \"/>\n",
       "<polyline clip-path=\"url(#clip8600)\" style=\"stroke:#000000; stroke-width:4; stroke-opacity:1; fill:none\" points=\"\n",
       "  305.907,1423.18 305.907,123.472 \n",
       "  \"/>\n",
       "<polyline clip-path=\"url(#clip8600)\" style=\"stroke:#000000; stroke-width:4; stroke-opacity:1; fill:none\" points=\"\n",
       "  361.855,1423.18 361.855,1407.58 \n",
       "  \"/>\n",
       "<polyline clip-path=\"url(#clip8600)\" style=\"stroke:#000000; stroke-width:4; stroke-opacity:1; fill:none\" points=\"\n",
       "  857.488,1423.18 857.488,1407.58 \n",
       "  \"/>\n",
       "<polyline clip-path=\"url(#clip8600)\" style=\"stroke:#000000; stroke-width:4; stroke-opacity:1; fill:none\" points=\"\n",
       "  1353.12,1423.18 1353.12,1407.58 \n",
       "  \"/>\n",
       "<polyline clip-path=\"url(#clip8600)\" style=\"stroke:#000000; stroke-width:4; stroke-opacity:1; fill:none\" points=\"\n",
       "  1848.76,1423.18 1848.76,1407.58 \n",
       "  \"/>\n",
       "<polyline clip-path=\"url(#clip8600)\" style=\"stroke:#000000; stroke-width:4; stroke-opacity:1; fill:none\" points=\"\n",
       "  2344.39,1423.18 2344.39,1407.58 \n",
       "  \"/>\n",
       "<polyline clip-path=\"url(#clip8600)\" style=\"stroke:#000000; stroke-width:4; stroke-opacity:1; fill:none\" points=\"\n",
       "  305.907,1185.54 330.47,1185.54 \n",
       "  \"/>\n",
       "<polyline clip-path=\"url(#clip8600)\" style=\"stroke:#000000; stroke-width:4; stroke-opacity:1; fill:none\" points=\"\n",
       "  305.907,935.442 330.47,935.442 \n",
       "  \"/>\n",
       "<polyline clip-path=\"url(#clip8600)\" style=\"stroke:#000000; stroke-width:4; stroke-opacity:1; fill:none\" points=\"\n",
       "  305.907,685.34 330.47,685.34 \n",
       "  \"/>\n",
       "<polyline clip-path=\"url(#clip8600)\" style=\"stroke:#000000; stroke-width:4; stroke-opacity:1; fill:none\" points=\"\n",
       "  305.907,435.238 330.47,435.238 \n",
       "  \"/>\n",
       "<polyline clip-path=\"url(#clip8600)\" style=\"stroke:#000000; stroke-width:4; stroke-opacity:1; fill:none\" points=\"\n",
       "  305.907,185.136 330.47,185.136 \n",
       "  \"/>\n",
       "<path clip-path=\"url(#clip8600)\" d=\"M 0 0 M361.855 1445.17 Q358.244 1445.17 356.415 1448.74 Q354.609 1452.28 354.609 1459.41 Q354.609 1466.51 356.415 1470.08 Q358.244 1473.62 361.855 1473.62 Q365.489 1473.62 367.294 1470.08 Q369.123 1466.51 369.123 1459.41 Q369.123 1452.28 367.294 1448.74 Q365.489 1445.17 361.855 1445.17 M361.855 1441.47 Q367.665 1441.47 370.72 1446.07 Q373.799 1450.66 373.799 1459.41 Q373.799 1468.13 370.72 1472.74 Q367.665 1477.32 361.855 1477.32 Q356.044 1477.32 352.966 1472.74 Q349.91 1468.13 349.91 1459.41 Q349.91 1450.66 352.966 1446.07 Q356.044 1441.47 361.855 1441.47 Z\" fill=\"#000000\" fill-rule=\"evenodd\" fill-opacity=\"1\" /><path clip-path=\"url(#clip8600)\" d=\"M 0 0 M825.625 1472.72 L841.944 1472.72 L841.944 1476.65 L820 1476.65 L820 1472.72 Q822.662 1469.96 827.245 1465.33 Q831.852 1460.68 833.032 1459.34 Q835.278 1456.81 836.157 1455.08 Q837.06 1453.32 837.06 1451.63 Q837.06 1448.87 835.116 1447.14 Q833.195 1445.4 830.093 1445.4 Q827.894 1445.4 825.44 1446.17 Q823.009 1446.93 820.232 1448.48 L820.232 1443.76 Q823.056 1442.62 825.509 1442.05 Q827.963 1441.47 830 1441.47 Q835.37 1441.47 838.565 1444.15 Q841.759 1446.84 841.759 1451.33 Q841.759 1453.46 840.949 1455.38 Q840.162 1457.28 838.056 1459.87 Q837.477 1460.54 834.375 1463.76 Q831.273 1466.95 825.625 1472.72 Z\" fill=\"#000000\" fill-rule=\"evenodd\" fill-opacity=\"1\" /><path clip-path=\"url(#clip8600)\" d=\"M 0 0 M847.06 1442.09 L865.417 1442.09 L865.417 1446.03 L851.343 1446.03 L851.343 1454.5 Q852.361 1454.15 853.38 1453.99 Q854.398 1453.8 855.417 1453.8 Q861.204 1453.8 864.583 1456.98 Q867.963 1460.15 867.963 1465.56 Q867.963 1471.14 864.491 1474.24 Q861.018 1477.32 854.699 1477.32 Q852.523 1477.32 850.255 1476.95 Q848.009 1476.58 845.602 1475.84 L845.602 1471.14 Q847.685 1472.28 849.907 1472.83 Q852.13 1473.39 854.606 1473.39 Q858.611 1473.39 860.949 1471.28 Q863.287 1469.18 863.287 1465.56 Q863.287 1461.95 860.949 1459.85 Q858.611 1457.74 854.606 1457.74 Q852.731 1457.74 850.856 1458.16 Q849.005 1458.57 847.06 1459.45 L847.06 1442.09 Z\" fill=\"#000000\" fill-rule=\"evenodd\" fill-opacity=\"1\" /><path clip-path=\"url(#clip8600)\" d=\"M 0 0 M883.032 1445.17 Q879.421 1445.17 877.592 1448.74 Q875.787 1452.28 875.787 1459.41 Q875.787 1466.51 877.592 1470.08 Q879.421 1473.62 883.032 1473.62 Q886.666 1473.62 888.472 1470.08 Q890.301 1466.51 890.301 1459.41 Q890.301 1452.28 888.472 1448.74 Q886.666 1445.17 883.032 1445.17 M883.032 1441.47 Q888.842 1441.47 891.898 1446.07 Q894.977 1450.66 894.977 1459.41 Q894.977 1468.13 891.898 1472.74 Q888.842 1477.32 883.032 1477.32 Q877.222 1477.32 874.143 1472.74 Q871.088 1468.13 871.088 1459.41 Q871.088 1450.66 874.143 1446.07 Q877.222 1441.47 883.032 1441.47 Z\" fill=\"#000000\" fill-rule=\"evenodd\" fill-opacity=\"1\" /><path clip-path=\"url(#clip8600)\" d=\"M 0 0 M1316.39 1442.09 L1334.74 1442.09 L1334.74 1446.03 L1320.67 1446.03 L1320.67 1454.5 Q1321.69 1454.15 1322.71 1453.99 Q1323.72 1453.8 1324.74 1453.8 Q1330.53 1453.8 1333.91 1456.98 Q1337.29 1460.15 1337.29 1465.56 Q1337.29 1471.14 1333.82 1474.24 Q1330.34 1477.32 1324.03 1477.32 Q1321.85 1477.32 1319.58 1476.95 Q1317.34 1476.58 1314.93 1475.84 L1314.93 1471.14 Q1317.01 1472.28 1319.23 1472.83 Q1321.46 1473.39 1323.93 1473.39 Q1327.94 1473.39 1330.28 1471.28 Q1332.61 1469.18 1332.61 1465.56 Q1332.61 1461.95 1330.28 1459.85 Q1327.94 1457.74 1323.93 1457.74 Q1322.06 1457.74 1320.18 1458.16 Q1318.33 1458.57 1316.39 1459.45 L1316.39 1442.09 Z\" fill=\"#000000\" fill-rule=\"evenodd\" fill-opacity=\"1\" /><path clip-path=\"url(#clip8600)\" d=\"M 0 0 M1352.36 1445.17 Q1348.75 1445.17 1346.92 1448.74 Q1345.11 1452.28 1345.11 1459.41 Q1345.11 1466.51 1346.92 1470.08 Q1348.75 1473.62 1352.36 1473.62 Q1355.99 1473.62 1357.8 1470.08 Q1359.63 1466.51 1359.63 1459.41 Q1359.63 1452.28 1357.8 1448.74 Q1355.99 1445.17 1352.36 1445.17 M1352.36 1441.47 Q1358.17 1441.47 1361.22 1446.07 Q1364.3 1450.66 1364.3 1459.41 Q1364.3 1468.13 1361.22 1472.74 Q1358.17 1477.32 1352.36 1477.32 Q1346.55 1477.32 1343.47 1472.74 Q1340.41 1468.13 1340.41 1459.41 Q1340.41 1450.66 1343.47 1446.07 Q1346.55 1441.47 1352.36 1441.47 Z\" fill=\"#000000\" fill-rule=\"evenodd\" fill-opacity=\"1\" /><path clip-path=\"url(#clip8600)\" d=\"M 0 0 M1379.37 1445.17 Q1375.76 1445.17 1373.93 1448.74 Q1372.13 1452.28 1372.13 1459.41 Q1372.13 1466.51 1373.93 1470.08 Q1375.76 1473.62 1379.37 1473.62 Q1383.01 1473.62 1384.81 1470.08 Q1386.64 1466.51 1386.64 1459.41 Q1386.64 1452.28 1384.81 1448.74 Q1383.01 1445.17 1379.37 1445.17 M1379.37 1441.47 Q1385.18 1441.47 1388.24 1446.07 Q1391.32 1450.66 1391.32 1459.41 Q1391.32 1468.13 1388.24 1472.74 Q1385.18 1477.32 1379.37 1477.32 Q1373.56 1477.32 1370.48 1472.74 Q1367.43 1468.13 1367.43 1459.41 Q1367.43 1450.66 1370.48 1446.07 Q1373.56 1441.47 1379.37 1441.47 Z\" fill=\"#000000\" fill-rule=\"evenodd\" fill-opacity=\"1\" /><path clip-path=\"url(#clip8600)\" d=\"M 0 0 M1811.13 1442.09 L1833.35 1442.09 L1833.35 1444.08 L1820.8 1476.65 L1815.92 1476.65 L1827.73 1446.03 L1811.13 1446.03 L1811.13 1442.09 Z\" fill=\"#000000\" fill-rule=\"evenodd\" fill-opacity=\"1\" /><path clip-path=\"url(#clip8600)\" d=\"M 0 0 M1838.47 1442.09 L1856.82 1442.09 L1856.82 1446.03 L1842.75 1446.03 L1842.75 1454.5 Q1843.77 1454.15 1844.79 1453.99 Q1845.8 1453.8 1846.82 1453.8 Q1852.61 1453.8 1855.99 1456.98 Q1859.37 1460.15 1859.37 1465.56 Q1859.37 1471.14 1855.9 1474.24 Q1852.42 1477.32 1846.11 1477.32 Q1843.93 1477.32 1841.66 1476.95 Q1839.42 1476.58 1837.01 1475.84 L1837.01 1471.14 Q1839.09 1472.28 1841.31 1472.83 Q1843.54 1473.39 1846.01 1473.39 Q1850.02 1473.39 1852.36 1471.28 Q1854.69 1469.18 1854.69 1465.56 Q1854.69 1461.95 1852.36 1459.85 Q1850.02 1457.74 1846.01 1457.74 Q1844.14 1457.74 1842.26 1458.16 Q1840.41 1458.57 1838.47 1459.45 L1838.47 1442.09 Z\" fill=\"#000000\" fill-rule=\"evenodd\" fill-opacity=\"1\" /><path clip-path=\"url(#clip8600)\" d=\"M 0 0 M1874.44 1445.17 Q1870.83 1445.17 1869 1448.74 Q1867.19 1452.28 1867.19 1459.41 Q1867.19 1466.51 1869 1470.08 Q1870.83 1473.62 1874.44 1473.62 Q1878.07 1473.62 1879.88 1470.08 Q1881.71 1466.51 1881.71 1459.41 Q1881.71 1452.28 1879.88 1448.74 Q1878.07 1445.17 1874.44 1445.17 M1874.44 1441.47 Q1880.25 1441.47 1883.3 1446.07 Q1886.38 1450.66 1886.38 1459.41 Q1886.38 1468.13 1883.3 1472.74 Q1880.25 1477.32 1874.44 1477.32 Q1868.63 1477.32 1865.55 1472.74 Q1862.49 1468.13 1862.49 1459.41 Q1862.49 1450.66 1865.55 1446.07 Q1868.63 1441.47 1874.44 1441.47 Z\" fill=\"#000000\" fill-rule=\"evenodd\" fill-opacity=\"1\" /><path clip-path=\"url(#clip8600)\" d=\"M 0 0 M2294.25 1472.72 L2301.89 1472.72 L2301.89 1446.35 L2293.58 1448.02 L2293.58 1443.76 L2301.84 1442.09 L2306.52 1442.09 L2306.52 1472.72 L2314.16 1472.72 L2314.16 1476.65 L2294.25 1476.65 L2294.25 1472.72 Z\" fill=\"#000000\" fill-rule=\"evenodd\" fill-opacity=\"1\" /><path clip-path=\"url(#clip8600)\" d=\"M 0 0 M2329.23 1445.17 Q2325.62 1445.17 2323.79 1448.74 Q2321.98 1452.28 2321.98 1459.41 Q2321.98 1466.51 2323.79 1470.08 Q2325.62 1473.62 2329.23 1473.62 Q2332.86 1473.62 2334.67 1470.08 Q2336.5 1466.51 2336.5 1459.41 Q2336.5 1452.28 2334.67 1448.74 Q2332.86 1445.17 2329.23 1445.17 M2329.23 1441.47 Q2335.04 1441.47 2338.09 1446.07 Q2341.17 1450.66 2341.17 1459.41 Q2341.17 1468.13 2338.09 1472.74 Q2335.04 1477.32 2329.23 1477.32 Q2323.42 1477.32 2320.34 1472.74 Q2317.28 1468.13 2317.28 1459.41 Q2317.28 1450.66 2320.34 1446.07 Q2323.42 1441.47 2329.23 1441.47 Z\" fill=\"#000000\" fill-rule=\"evenodd\" fill-opacity=\"1\" /><path clip-path=\"url(#clip8600)\" d=\"M 0 0 M2356.24 1445.17 Q2352.63 1445.17 2350.8 1448.74 Q2349 1452.28 2349 1459.41 Q2349 1466.51 2350.8 1470.08 Q2352.63 1473.62 2356.24 1473.62 Q2359.88 1473.62 2361.68 1470.08 Q2363.51 1466.51 2363.51 1459.41 Q2363.51 1452.28 2361.68 1448.74 Q2359.88 1445.17 2356.24 1445.17 M2356.24 1441.47 Q2362.05 1441.47 2365.11 1446.07 Q2368.19 1450.66 2368.19 1459.41 Q2368.19 1468.13 2365.11 1472.74 Q2362.05 1477.32 2356.24 1477.32 Q2350.43 1477.32 2347.35 1472.74 Q2344.3 1468.13 2344.3 1459.41 Q2344.3 1450.66 2347.35 1446.07 Q2350.43 1441.47 2356.24 1441.47 Z\" fill=\"#000000\" fill-rule=\"evenodd\" fill-opacity=\"1\" /><path clip-path=\"url(#clip8600)\" d=\"M 0 0 M2383.26 1445.17 Q2379.64 1445.17 2377.82 1448.74 Q2376.01 1452.28 2376.01 1459.41 Q2376.01 1466.51 2377.82 1470.08 Q2379.64 1473.62 2383.26 1473.62 Q2386.89 1473.62 2388.69 1470.08 Q2390.52 1466.51 2390.52 1459.41 Q2390.52 1452.28 2388.69 1448.74 Q2386.89 1445.17 2383.26 1445.17 M2383.26 1441.47 Q2389.07 1441.47 2392.12 1446.07 Q2395.2 1450.66 2395.2 1459.41 Q2395.2 1468.13 2392.12 1472.74 Q2389.07 1477.32 2383.26 1477.32 Q2377.44 1477.32 2374.37 1472.74 Q2371.31 1468.13 2371.31 1459.41 Q2371.31 1450.66 2374.37 1446.07 Q2377.44 1441.47 2383.26 1441.47 Z\" fill=\"#000000\" fill-rule=\"evenodd\" fill-opacity=\"1\" /><path clip-path=\"url(#clip8600)\" d=\"M 0 0 M152.95 1168.26 L171.306 1168.26 L171.306 1172.2 L157.232 1172.2 L157.232 1180.67 Q158.251 1180.32 159.269 1180.16 Q160.288 1179.98 161.306 1179.98 Q167.093 1179.98 170.473 1183.15 Q173.852 1186.32 173.852 1191.74 Q173.852 1197.31 170.38 1200.42 Q166.908 1203.5 160.589 1203.5 Q158.413 1203.5 156.144 1203.12 Q153.899 1202.75 151.492 1202.01 L151.492 1197.31 Q153.575 1198.45 155.797 1199 Q158.019 1199.56 160.496 1199.56 Q164.501 1199.56 166.839 1197.45 Q169.177 1195.35 169.177 1191.74 Q169.177 1188.12 166.839 1186.02 Q164.501 1183.91 160.496 1183.91 Q158.621 1183.91 156.746 1184.33 Q154.894 1184.75 152.95 1185.62 L152.95 1168.26 Z\" fill=\"#000000\" fill-rule=\"evenodd\" fill-opacity=\"1\" /><path clip-path=\"url(#clip8600)\" d=\"M 0 0 M188.922 1171.34 Q185.311 1171.34 183.482 1174.91 Q181.677 1178.45 181.677 1185.58 Q181.677 1192.69 183.482 1196.25 Q185.311 1199.79 188.922 1199.79 Q192.556 1199.79 194.362 1196.25 Q196.19 1192.69 196.19 1185.58 Q196.19 1178.45 194.362 1174.91 Q192.556 1171.34 188.922 1171.34 M188.922 1167.64 Q194.732 1167.64 197.788 1172.25 Q200.866 1176.83 200.866 1185.58 Q200.866 1194.31 197.788 1198.91 Q194.732 1203.5 188.922 1203.5 Q183.112 1203.5 180.033 1198.91 Q176.977 1194.31 176.977 1185.58 Q176.977 1176.83 180.033 1172.25 Q183.112 1167.64 188.922 1167.64 Z\" fill=\"#000000\" fill-rule=\"evenodd\" fill-opacity=\"1\" /><path clip-path=\"url(#clip8600)\" d=\"M 0 0 M215.936 1171.34 Q212.325 1171.34 210.496 1174.91 Q208.69 1178.45 208.69 1185.58 Q208.69 1192.69 210.496 1196.25 Q212.325 1199.79 215.936 1199.79 Q219.57 1199.79 221.375 1196.25 Q223.204 1192.69 223.204 1185.58 Q223.204 1178.45 221.375 1174.91 Q219.57 1171.34 215.936 1171.34 M215.936 1167.64 Q221.746 1167.64 224.801 1172.25 Q227.88 1176.83 227.88 1185.58 Q227.88 1194.31 224.801 1198.91 Q221.746 1203.5 215.936 1203.5 Q210.125 1203.5 207.047 1198.91 Q203.991 1194.31 203.991 1185.58 Q203.991 1176.83 207.047 1172.25 Q210.125 1167.64 215.936 1167.64 Z\" fill=\"#000000\" fill-rule=\"evenodd\" fill-opacity=\"1\" /><path clip-path=\"url(#clip8600)\" d=\"M 0 0 M242.949 1171.34 Q239.338 1171.34 237.51 1174.91 Q235.704 1178.45 235.704 1185.58 Q235.704 1192.69 237.51 1196.25 Q239.338 1199.79 242.949 1199.79 Q246.584 1199.79 248.389 1196.25 Q250.218 1192.69 250.218 1185.58 Q250.218 1178.45 248.389 1174.91 Q246.584 1171.34 242.949 1171.34 M242.949 1167.64 Q248.76 1167.64 251.815 1172.25 Q254.894 1176.83 254.894 1185.58 Q254.894 1194.31 251.815 1198.91 Q248.76 1203.5 242.949 1203.5 Q237.139 1203.5 234.061 1198.91 Q231.005 1194.31 231.005 1185.58 Q231.005 1176.83 234.061 1172.25 Q237.139 1167.64 242.949 1167.64 Z\" fill=\"#000000\" fill-rule=\"evenodd\" fill-opacity=\"1\" /><path clip-path=\"url(#clip8600)\" d=\"M 0 0 M269.963 1171.34 Q266.352 1171.34 264.523 1174.91 Q262.718 1178.45 262.718 1185.58 Q262.718 1192.69 264.523 1196.25 Q266.352 1199.79 269.963 1199.79 Q273.597 1199.79 275.403 1196.25 Q277.232 1192.69 277.232 1185.58 Q277.232 1178.45 275.403 1174.91 Q273.597 1171.34 269.963 1171.34 M269.963 1167.64 Q275.773 1167.64 278.829 1172.25 Q281.907 1176.83 281.907 1185.58 Q281.907 1194.31 278.829 1198.91 Q275.773 1203.5 269.963 1203.5 Q264.153 1203.5 261.074 1198.91 Q258.019 1194.31 258.019 1185.58 Q258.019 1176.83 261.074 1172.25 Q264.153 1167.64 269.963 1167.64 Z\" fill=\"#000000\" fill-rule=\"evenodd\" fill-opacity=\"1\" /><path clip-path=\"url(#clip8600)\" d=\"M 0 0 M152.626 918.162 L174.848 918.162 L174.848 920.153 L162.302 952.722 L157.417 952.722 L169.223 922.097 L152.626 922.097 L152.626 918.162 Z\" fill=\"#000000\" fill-rule=\"evenodd\" fill-opacity=\"1\" /><path clip-path=\"url(#clip8600)\" d=\"M 0 0 M179.964 918.162 L198.32 918.162 L198.32 922.097 L184.246 922.097 L184.246 930.569 Q185.264 930.222 186.283 930.06 Q187.301 929.875 188.32 929.875 Q194.107 929.875 197.487 933.046 Q200.866 936.217 200.866 941.634 Q200.866 947.213 197.394 950.315 Q193.922 953.393 187.602 953.393 Q185.427 953.393 183.158 953.023 Q180.913 952.653 178.505 951.912 L178.505 947.213 Q180.589 948.347 182.811 948.903 Q185.033 949.458 187.51 949.458 Q191.514 949.458 193.852 947.352 Q196.19 945.245 196.19 941.634 Q196.19 938.023 193.852 935.917 Q191.514 933.81 187.51 933.81 Q185.635 933.81 183.76 934.227 Q181.908 934.643 179.964 935.523 L179.964 918.162 Z\" fill=\"#000000\" fill-rule=\"evenodd\" fill-opacity=\"1\" /><path clip-path=\"url(#clip8600)\" d=\"M 0 0 M215.936 921.241 Q212.325 921.241 210.496 924.805 Q208.69 928.347 208.69 935.477 Q208.69 942.583 210.496 946.148 Q212.325 949.69 215.936 949.69 Q219.57 949.69 221.375 946.148 Q223.204 942.583 223.204 935.477 Q223.204 928.347 221.375 924.805 Q219.57 921.241 215.936 921.241 M215.936 917.537 Q221.746 917.537 224.801 922.143 Q227.88 926.727 227.88 935.477 Q227.88 944.204 224.801 948.81 Q221.746 953.393 215.936 953.393 Q210.125 953.393 207.047 948.81 Q203.991 944.204 203.991 935.477 Q203.991 926.727 207.047 922.143 Q210.125 917.537 215.936 917.537 Z\" fill=\"#000000\" fill-rule=\"evenodd\" fill-opacity=\"1\" /><path clip-path=\"url(#clip8600)\" d=\"M 0 0 M242.949 921.241 Q239.338 921.241 237.51 924.805 Q235.704 928.347 235.704 935.477 Q235.704 942.583 237.51 946.148 Q239.338 949.69 242.949 949.69 Q246.584 949.69 248.389 946.148 Q250.218 942.583 250.218 935.477 Q250.218 928.347 248.389 924.805 Q246.584 921.241 242.949 921.241 M242.949 917.537 Q248.76 917.537 251.815 922.143 Q254.894 926.727 254.894 935.477 Q254.894 944.204 251.815 948.81 Q248.76 953.393 242.949 953.393 Q237.139 953.393 234.061 948.81 Q231.005 944.204 231.005 935.477 Q231.005 926.727 234.061 922.143 Q237.139 917.537 242.949 917.537 Z\" fill=\"#000000\" fill-rule=\"evenodd\" fill-opacity=\"1\" /><path clip-path=\"url(#clip8600)\" d=\"M 0 0 M269.963 921.241 Q266.352 921.241 264.523 924.805 Q262.718 928.347 262.718 935.477 Q262.718 942.583 264.523 946.148 Q266.352 949.69 269.963 949.69 Q273.597 949.69 275.403 946.148 Q277.232 942.583 277.232 935.477 Q277.232 928.347 275.403 924.805 Q273.597 921.241 269.963 921.241 M269.963 917.537 Q275.773 917.537 278.829 922.143 Q281.907 926.727 281.907 935.477 Q281.907 944.204 278.829 948.81 Q275.773 953.393 269.963 953.393 Q264.153 953.393 261.074 948.81 Q258.019 944.204 258.019 935.477 Q258.019 926.727 261.074 922.143 Q264.153 917.537 269.963 917.537 Z\" fill=\"#000000\" fill-rule=\"evenodd\" fill-opacity=\"1\" /><path clip-path=\"url(#clip8600)\" d=\"M 0 0 M126.931 698.685 L134.57 698.685 L134.57 672.319 L126.26 673.986 L126.26 669.727 L134.524 668.06 L139.2 668.06 L139.2 698.685 L146.839 698.685 L146.839 702.62 L126.931 702.62 L126.931 698.685 Z\" fill=\"#000000\" fill-rule=\"evenodd\" fill-opacity=\"1\" /><path clip-path=\"url(#clip8600)\" d=\"M 0 0 M161.908 671.139 Q158.297 671.139 156.468 674.704 Q154.663 678.245 154.663 685.375 Q154.663 692.481 156.468 696.046 Q158.297 699.588 161.908 699.588 Q165.542 699.588 167.348 696.046 Q169.177 692.481 169.177 685.375 Q169.177 678.245 167.348 674.704 Q165.542 671.139 161.908 671.139 M161.908 667.435 Q167.718 667.435 170.774 672.042 Q173.852 676.625 173.852 685.375 Q173.852 694.102 170.774 698.708 Q167.718 703.291 161.908 703.291 Q156.098 703.291 153.019 698.708 Q149.964 694.102 149.964 685.375 Q149.964 676.625 153.019 672.042 Q156.098 667.435 161.908 667.435 Z\" fill=\"#000000\" fill-rule=\"evenodd\" fill-opacity=\"1\" /><path clip-path=\"url(#clip8600)\" d=\"M 0 0 M188.922 671.139 Q185.311 671.139 183.482 674.704 Q181.677 678.245 181.677 685.375 Q181.677 692.481 183.482 696.046 Q185.311 699.588 188.922 699.588 Q192.556 699.588 194.362 696.046 Q196.19 692.481 196.19 685.375 Q196.19 678.245 194.362 674.704 Q192.556 671.139 188.922 671.139 M188.922 667.435 Q194.732 667.435 197.788 672.042 Q200.866 676.625 200.866 685.375 Q200.866 694.102 197.788 698.708 Q194.732 703.291 188.922 703.291 Q183.112 703.291 180.033 698.708 Q176.977 694.102 176.977 685.375 Q176.977 676.625 180.033 672.042 Q183.112 667.435 188.922 667.435 Z\" fill=\"#000000\" fill-rule=\"evenodd\" fill-opacity=\"1\" /><path clip-path=\"url(#clip8600)\" d=\"M 0 0 M215.936 671.139 Q212.325 671.139 210.496 674.704 Q208.69 678.245 208.69 685.375 Q208.69 692.481 210.496 696.046 Q212.325 699.588 215.936 699.588 Q219.57 699.588 221.375 696.046 Q223.204 692.481 223.204 685.375 Q223.204 678.245 221.375 674.704 Q219.57 671.139 215.936 671.139 M215.936 667.435 Q221.746 667.435 224.801 672.042 Q227.88 676.625 227.88 685.375 Q227.88 694.102 224.801 698.708 Q221.746 703.291 215.936 703.291 Q210.125 703.291 207.047 698.708 Q203.991 694.102 203.991 685.375 Q203.991 676.625 207.047 672.042 Q210.125 667.435 215.936 667.435 Z\" fill=\"#000000\" fill-rule=\"evenodd\" fill-opacity=\"1\" /><path clip-path=\"url(#clip8600)\" d=\"M 0 0 M242.949 671.139 Q239.338 671.139 237.51 674.704 Q235.704 678.245 235.704 685.375 Q235.704 692.481 237.51 696.046 Q239.338 699.588 242.949 699.588 Q246.584 699.588 248.389 696.046 Q250.218 692.481 250.218 685.375 Q250.218 678.245 248.389 674.704 Q246.584 671.139 242.949 671.139 M242.949 667.435 Q248.76 667.435 251.815 672.042 Q254.894 676.625 254.894 685.375 Q254.894 694.102 251.815 698.708 Q248.76 703.291 242.949 703.291 Q237.139 703.291 234.061 698.708 Q231.005 694.102 231.005 685.375 Q231.005 676.625 234.061 672.042 Q237.139 667.435 242.949 667.435 Z\" fill=\"#000000\" fill-rule=\"evenodd\" fill-opacity=\"1\" /><path clip-path=\"url(#clip8600)\" d=\"M 0 0 M269.963 671.139 Q266.352 671.139 264.523 674.704 Q262.718 678.245 262.718 685.375 Q262.718 692.481 264.523 696.046 Q266.352 699.588 269.963 699.588 Q273.597 699.588 275.403 696.046 Q277.232 692.481 277.232 685.375 Q277.232 678.245 275.403 674.704 Q273.597 671.139 269.963 671.139 M269.963 667.435 Q275.773 667.435 278.829 672.042 Q281.907 676.625 281.907 685.375 Q281.907 694.102 278.829 698.708 Q275.773 703.291 269.963 703.291 Q264.153 703.291 261.074 698.708 Q258.019 694.102 258.019 685.375 Q258.019 676.625 261.074 672.042 Q264.153 667.435 269.963 667.435 Z\" fill=\"#000000\" fill-rule=\"evenodd\" fill-opacity=\"1\" /><path clip-path=\"url(#clip8600)\" d=\"M 0 0 M129.524 448.583 L137.163 448.583 L137.163 422.218 L128.853 423.884 L128.853 419.625 L137.117 417.958 L141.792 417.958 L141.792 448.583 L149.431 448.583 L149.431 452.518 L129.524 452.518 L129.524 448.583 Z\" fill=\"#000000\" fill-rule=\"evenodd\" fill-opacity=\"1\" /><path clip-path=\"url(#clip8600)\" d=\"M 0 0 M158.529 448.583 L174.848 448.583 L174.848 452.518 L152.904 452.518 L152.904 448.583 Q155.566 445.829 160.149 441.199 Q164.755 436.546 165.936 435.204 Q168.181 432.68 169.061 430.944 Q169.964 429.185 169.964 427.495 Q169.964 424.741 168.019 423.005 Q166.098 421.268 162.996 421.268 Q160.797 421.268 158.343 422.032 Q155.913 422.796 153.135 424.347 L153.135 419.625 Q155.959 418.491 158.413 417.912 Q160.866 417.333 162.903 417.333 Q168.274 417.333 171.468 420.018 Q174.663 422.704 174.663 427.194 Q174.663 429.324 173.852 431.245 Q173.065 433.143 170.959 435.736 Q170.38 436.407 167.278 439.625 Q164.177 442.819 158.529 448.583 Z\" fill=\"#000000\" fill-rule=\"evenodd\" fill-opacity=\"1\" /><path clip-path=\"url(#clip8600)\" d=\"M 0 0 M179.964 417.958 L198.32 417.958 L198.32 421.893 L184.246 421.893 L184.246 430.366 Q185.264 430.018 186.283 429.856 Q187.301 429.671 188.32 429.671 Q194.107 429.671 197.487 432.842 Q200.866 436.014 200.866 441.43 Q200.866 447.009 197.394 450.111 Q193.922 453.19 187.602 453.19 Q185.427 453.19 183.158 452.819 Q180.913 452.449 178.505 451.708 L178.505 447.009 Q180.589 448.143 182.811 448.699 Q185.033 449.254 187.51 449.254 Q191.514 449.254 193.852 447.148 Q196.19 445.041 196.19 441.43 Q196.19 437.819 193.852 435.713 Q191.514 433.606 187.51 433.606 Q185.635 433.606 183.76 434.023 Q181.908 434.44 179.964 435.319 L179.964 417.958 Z\" fill=\"#000000\" fill-rule=\"evenodd\" fill-opacity=\"1\" /><path clip-path=\"url(#clip8600)\" d=\"M 0 0 M215.936 421.037 Q212.325 421.037 210.496 424.602 Q208.69 428.143 208.69 435.273 Q208.69 442.379 210.496 445.944 Q212.325 449.486 215.936 449.486 Q219.57 449.486 221.375 445.944 Q223.204 442.379 223.204 435.273 Q223.204 428.143 221.375 424.602 Q219.57 421.037 215.936 421.037 M215.936 417.333 Q221.746 417.333 224.801 421.94 Q227.88 426.523 227.88 435.273 Q227.88 444 224.801 448.606 Q221.746 453.19 215.936 453.19 Q210.125 453.19 207.047 448.606 Q203.991 444 203.991 435.273 Q203.991 426.523 207.047 421.94 Q210.125 417.333 215.936 417.333 Z\" fill=\"#000000\" fill-rule=\"evenodd\" fill-opacity=\"1\" /><path clip-path=\"url(#clip8600)\" d=\"M 0 0 M242.949 421.037 Q239.338 421.037 237.51 424.602 Q235.704 428.143 235.704 435.273 Q235.704 442.379 237.51 445.944 Q239.338 449.486 242.949 449.486 Q246.584 449.486 248.389 445.944 Q250.218 442.379 250.218 435.273 Q250.218 428.143 248.389 424.602 Q246.584 421.037 242.949 421.037 M242.949 417.333 Q248.76 417.333 251.815 421.94 Q254.894 426.523 254.894 435.273 Q254.894 444 251.815 448.606 Q248.76 453.19 242.949 453.19 Q237.139 453.19 234.061 448.606 Q231.005 444 231.005 435.273 Q231.005 426.523 234.061 421.94 Q237.139 417.333 242.949 417.333 Z\" fill=\"#000000\" fill-rule=\"evenodd\" fill-opacity=\"1\" /><path clip-path=\"url(#clip8600)\" d=\"M 0 0 M269.963 421.037 Q266.352 421.037 264.523 424.602 Q262.718 428.143 262.718 435.273 Q262.718 442.379 264.523 445.944 Q266.352 449.486 269.963 449.486 Q273.597 449.486 275.403 445.944 Q277.232 442.379 277.232 435.273 Q277.232 428.143 275.403 424.602 Q273.597 421.037 269.963 421.037 M269.963 417.333 Q275.773 417.333 278.829 421.94 Q281.907 426.523 281.907 435.273 Q281.907 444 278.829 448.606 Q275.773 453.19 269.963 453.19 Q264.153 453.19 261.074 448.606 Q258.019 444 258.019 435.273 Q258.019 426.523 261.074 421.94 Q264.153 417.333 269.963 417.333 Z\" fill=\"#000000\" fill-rule=\"evenodd\" fill-opacity=\"1\" /><path clip-path=\"url(#clip8600)\" d=\"M 0 0 M127.927 198.481 L135.566 198.481 L135.566 172.116 L127.256 173.782 L127.256 169.523 L135.519 167.856 L140.195 167.856 L140.195 198.481 L147.834 198.481 L147.834 202.416 L127.927 202.416 L127.927 198.481 Z\" fill=\"#000000\" fill-rule=\"evenodd\" fill-opacity=\"1\" /><path clip-path=\"url(#clip8600)\" d=\"M 0 0 M152.95 167.856 L171.306 167.856 L171.306 171.792 L157.232 171.792 L157.232 180.264 Q158.251 179.917 159.269 179.755 Q160.288 179.569 161.306 179.569 Q167.093 179.569 170.473 182.741 Q173.852 185.912 173.852 191.329 Q173.852 196.907 170.38 200.009 Q166.908 203.088 160.589 203.088 Q158.413 203.088 156.144 202.717 Q153.899 202.347 151.492 201.606 L151.492 196.907 Q153.575 198.041 155.797 198.597 Q158.019 199.153 160.496 199.153 Q164.501 199.153 166.839 197.046 Q169.177 194.94 169.177 191.329 Q169.177 187.717 166.839 185.611 Q164.501 183.505 160.496 183.505 Q158.621 183.505 156.746 183.921 Q154.894 184.338 152.95 185.217 L152.95 167.856 Z\" fill=\"#000000\" fill-rule=\"evenodd\" fill-opacity=\"1\" /><path clip-path=\"url(#clip8600)\" d=\"M 0 0 M188.922 170.935 Q185.311 170.935 183.482 174.5 Q181.677 178.042 181.677 185.171 Q181.677 192.278 183.482 195.842 Q185.311 199.384 188.922 199.384 Q192.556 199.384 194.362 195.842 Q196.19 192.278 196.19 185.171 Q196.19 178.042 194.362 174.5 Q192.556 170.935 188.922 170.935 M188.922 167.231 Q194.732 167.231 197.788 171.838 Q200.866 176.421 200.866 185.171 Q200.866 193.898 197.788 198.504 Q194.732 203.088 188.922 203.088 Q183.112 203.088 180.033 198.504 Q176.977 193.898 176.977 185.171 Q176.977 176.421 180.033 171.838 Q183.112 167.231 188.922 167.231 Z\" fill=\"#000000\" fill-rule=\"evenodd\" fill-opacity=\"1\" /><path clip-path=\"url(#clip8600)\" d=\"M 0 0 M215.936 170.935 Q212.325 170.935 210.496 174.5 Q208.69 178.042 208.69 185.171 Q208.69 192.278 210.496 195.842 Q212.325 199.384 215.936 199.384 Q219.57 199.384 221.375 195.842 Q223.204 192.278 223.204 185.171 Q223.204 178.042 221.375 174.5 Q219.57 170.935 215.936 170.935 M215.936 167.231 Q221.746 167.231 224.801 171.838 Q227.88 176.421 227.88 185.171 Q227.88 193.898 224.801 198.504 Q221.746 203.088 215.936 203.088 Q210.125 203.088 207.047 198.504 Q203.991 193.898 203.991 185.171 Q203.991 176.421 207.047 171.838 Q210.125 167.231 215.936 167.231 Z\" fill=\"#000000\" fill-rule=\"evenodd\" fill-opacity=\"1\" /><path clip-path=\"url(#clip8600)\" d=\"M 0 0 M242.949 170.935 Q239.338 170.935 237.51 174.5 Q235.704 178.042 235.704 185.171 Q235.704 192.278 237.51 195.842 Q239.338 199.384 242.949 199.384 Q246.584 199.384 248.389 195.842 Q250.218 192.278 250.218 185.171 Q250.218 178.042 248.389 174.5 Q246.584 170.935 242.949 170.935 M242.949 167.231 Q248.76 167.231 251.815 171.838 Q254.894 176.421 254.894 185.171 Q254.894 193.898 251.815 198.504 Q248.76 203.088 242.949 203.088 Q237.139 203.088 234.061 198.504 Q231.005 193.898 231.005 185.171 Q231.005 176.421 234.061 171.838 Q237.139 167.231 242.949 167.231 Z\" fill=\"#000000\" fill-rule=\"evenodd\" fill-opacity=\"1\" /><path clip-path=\"url(#clip8600)\" d=\"M 0 0 M269.963 170.935 Q266.352 170.935 264.523 174.5 Q262.718 178.042 262.718 185.171 Q262.718 192.278 264.523 195.842 Q266.352 199.384 269.963 199.384 Q273.597 199.384 275.403 195.842 Q277.232 192.278 277.232 185.171 Q277.232 178.042 275.403 174.5 Q273.597 170.935 269.963 170.935 M269.963 167.231 Q275.773 167.231 278.829 171.838 Q281.907 176.421 281.907 185.171 Q281.907 193.898 278.829 198.504 Q275.773 203.088 269.963 203.088 Q264.153 203.088 261.074 198.504 Q258.019 193.898 258.019 185.171 Q258.019 176.421 261.074 171.838 Q264.153 167.231 269.963 167.231 Z\" fill=\"#000000\" fill-rule=\"evenodd\" fill-opacity=\"1\" /><path clip-path=\"url(#clip8600)\" d=\"M 0 0 M855.254 16.7545 L855.254 25.383 Q851.122 21.5346 846.423 19.6307 Q841.765 17.7268 836.499 17.7268 Q826.128 17.7268 820.619 24.0867 Q815.11 30.4061 815.11 42.3968 Q815.11 54.3469 820.619 60.7069 Q826.128 67.0263 836.499 67.0263 Q841.765 67.0263 846.423 65.1223 Q851.122 63.2184 855.254 59.3701 L855.254 67.9175 Q850.96 70.8341 846.14 72.2924 Q841.36 73.7508 836.013 73.7508 Q822.28 73.7508 814.381 65.3654 Q806.481 56.9395 806.481 42.3968 Q806.481 27.8135 814.381 19.4281 Q822.28 11.0023 836.013 11.0023 Q841.441 11.0023 846.221 12.4606 Q851.041 13.8784 855.254 16.7545 Z\" fill=\"#000000\" fill-rule=\"evenodd\" fill-opacity=\"1\" /><path clip-path=\"url(#clip8600)\" d=\"M 0 0 M863.397 12.096 L901.637 12.096 L901.637 18.9825 L871.58 18.9825 L871.58 36.8875 L900.381 36.8875 L900.381 43.7741 L871.58 43.7741 L871.58 65.6895 L902.366 65.6895 L902.366 72.576 L863.397 72.576 L863.397 12.096 Z\" fill=\"#000000\" fill-rule=\"evenodd\" fill-opacity=\"1\" /><path clip-path=\"url(#clip8600)\" d=\"M 0 0 M946.764 14.0809 L946.764 22.0612 Q942.106 19.8332 937.974 18.7395 Q933.842 17.6457 929.994 17.6457 Q923.31 17.6457 919.664 20.2383 Q916.058 22.8309 916.058 27.611 Q916.058 31.6214 918.448 33.6873 Q920.879 35.7128 927.604 36.9686 L932.546 37.9813 Q941.701 39.7232 946.035 44.1387 Q950.41 48.5136 950.41 55.8863 Q950.41 64.6767 944.496 69.2137 Q938.622 73.7508 927.239 73.7508 Q922.945 73.7508 918.084 72.7785 Q913.263 71.8063 908.078 69.9024 L908.078 61.4765 Q913.061 64.2716 917.841 65.6895 Q922.621 67.1073 927.239 67.1073 Q934.247 67.1073 938.055 64.3527 Q941.863 61.598 941.863 56.4939 Q941.863 52.0379 939.108 49.5264 Q936.394 47.0148 930.156 45.759 L925.173 44.7868 Q916.018 42.9639 911.927 39.075 Q907.835 35.1862 907.835 28.2591 Q907.835 20.2383 913.466 15.6203 Q919.137 11.0023 929.062 11.0023 Q933.315 11.0023 937.731 11.7719 Q942.146 12.5416 946.764 14.0809 Z\" fill=\"#000000\" fill-rule=\"evenodd\" fill-opacity=\"1\" /><path clip-path=\"url(#clip8600)\" d=\"M 0 0 M1021.18 14.0809 L1021.18 22.0612 Q1016.52 19.8332 1012.39 18.7395 Q1008.26 17.6457 1004.41 17.6457 Q997.725 17.6457 994.079 20.2383 Q990.474 22.8309 990.474 27.611 Q990.474 31.6214 992.864 33.6873 Q995.294 35.7128 1002.02 36.9686 L1006.96 37.9813 Q1016.12 39.7232 1020.45 44.1387 Q1024.83 48.5136 1024.83 55.8863 Q1024.83 64.6767 1018.91 69.2137 Q1013.04 73.7508 1001.65 73.7508 Q997.36 73.7508 992.499 72.7785 Q987.678 71.8063 982.493 69.9024 L982.493 61.4765 Q987.476 64.2716 992.256 65.6895 Q997.036 67.1073 1001.65 67.1073 Q1008.66 67.1073 1012.47 64.3527 Q1016.28 61.598 1016.28 56.4939 Q1016.28 52.0379 1013.52 49.5264 Q1010.81 47.0148 1004.57 45.759 L999.588 44.7868 Q990.433 42.9639 986.342 39.075 Q982.25 35.1862 982.25 28.2591 Q982.25 20.2383 987.881 15.6203 Q993.552 11.0023 1003.48 11.0023 Q1007.73 11.0023 1012.15 11.7719 Q1016.56 12.5416 1021.18 14.0809 Z\" fill=\"#000000\" fill-rule=\"evenodd\" fill-opacity=\"1\" /><path clip-path=\"url(#clip8600)\" d=\"M 0 0 M1071.45 48.0275 L1071.45 51.6733 L1037.18 51.6733 Q1037.67 59.3701 1041.8 63.421 Q1045.97 67.4314 1053.38 67.4314 Q1057.68 67.4314 1061.69 66.3781 Q1065.74 65.3249 1069.71 63.2184 L1069.71 70.267 Q1065.7 71.9684 1061.49 72.8596 Q1057.27 73.7508 1052.94 73.7508 Q1042.08 73.7508 1035.72 67.4314 Q1029.4 61.1119 1029.4 50.3365 Q1029.4 39.1965 1035.4 32.6746 Q1041.43 26.1121 1051.64 26.1121 Q1060.8 26.1121 1066.1 32.0264 Q1071.45 37.9003 1071.45 48.0275 M1064 45.84 Q1063.92 39.7232 1060.55 36.0774 Q1057.23 32.4315 1051.72 32.4315 Q1045.48 32.4315 1041.72 35.9558 Q1037.99 39.4801 1037.42 45.8805 L1064 45.84 Z\" fill=\"#000000\" fill-rule=\"evenodd\" fill-opacity=\"1\" /><path clip-path=\"url(#clip8600)\" d=\"M 0 0 M1105.56 34.1734 Q1104.3 33.4443 1102.81 33.1202 Q1101.35 32.7556 1099.56 32.7556 Q1093.24 32.7556 1089.84 36.8875 Q1086.48 40.9789 1086.48 48.6757 L1086.48 72.576 L1078.99 72.576 L1078.99 27.2059 L1086.48 27.2059 L1086.48 34.2544 Q1088.83 30.1225 1092.6 28.1376 Q1096.36 26.1121 1101.75 26.1121 Q1102.52 26.1121 1103.45 26.2337 Q1104.38 26.3147 1105.52 26.5172 L1105.56 34.1734 Z\" fill=\"#000000\" fill-rule=\"evenodd\" fill-opacity=\"1\" /><path clip-path=\"url(#clip8600)\" d=\"M 0 0 M1113.38 27.2059 L1120.83 27.2059 L1120.83 72.576 L1113.38 72.576 L1113.38 27.2059 M1113.38 9.54393 L1120.83 9.54393 L1120.83 18.9825 L1113.38 18.9825 L1113.38 9.54393 Z\" fill=\"#000000\" fill-rule=\"evenodd\" fill-opacity=\"1\" /><path clip-path=\"url(#clip8600)\" d=\"M 0 0 M1167.46 48.0275 L1167.46 51.6733 L1133.19 51.6733 Q1133.67 59.3701 1137.8 63.421 Q1141.98 67.4314 1149.39 67.4314 Q1153.68 67.4314 1157.69 66.3781 Q1161.75 65.3249 1165.72 63.2184 L1165.72 70.267 Q1161.71 71.9684 1157.49 72.8596 Q1153.28 73.7508 1148.94 73.7508 Q1138.09 73.7508 1131.73 67.4314 Q1125.41 61.1119 1125.41 50.3365 Q1125.41 39.1965 1131.4 32.6746 Q1137.44 26.1121 1147.65 26.1121 Q1156.8 26.1121 1162.11 32.0264 Q1167.46 37.9003 1167.46 48.0275 M1160 45.84 Q1159.92 39.7232 1156.56 36.0774 Q1153.24 32.4315 1147.73 32.4315 Q1141.49 32.4315 1137.72 35.9558 Q1134 39.4801 1133.43 45.8805 L1160 45.84 Z\" fill=\"#000000\" fill-rule=\"evenodd\" fill-opacity=\"1\" /><path clip-path=\"url(#clip8600)\" d=\"M 0 0 M1204.2 28.5427 L1204.2 35.5912 Q1201.04 33.9709 1197.64 33.1607 Q1194.23 32.3505 1190.59 32.3505 Q1185.04 32.3505 1182.24 34.0519 Q1179.49 35.7533 1179.49 39.156 Q1179.49 41.7486 1181.47 43.2475 Q1183.46 44.7058 1189.45 46.0426 L1192.01 46.6097 Q1199.95 48.3111 1203.27 51.4303 Q1206.63 54.509 1206.63 60.0587 Q1206.63 66.3781 1201.61 70.0644 Q1196.62 73.7508 1187.87 73.7508 Q1184.23 73.7508 1180.26 73.0216 Q1176.33 72.3329 1171.95 70.9151 L1171.95 63.2184 Q1176.09 65.3654 1180.1 66.4591 Q1184.11 67.5124 1188.04 67.5124 Q1193.3 67.5124 1196.14 65.73 Q1198.97 63.9071 1198.97 60.6258 Q1198.97 57.5877 1196.91 55.9673 Q1194.88 54.3469 1187.96 52.8481 L1185.36 52.2405 Q1178.44 50.7821 1175.36 47.7845 Q1172.28 44.7463 1172.28 39.4801 Q1172.28 33.0797 1176.82 29.5959 Q1181.35 26.1121 1189.7 26.1121 Q1193.83 26.1121 1197.47 26.7198 Q1201.12 27.3274 1204.2 28.5427 Z\" fill=\"#000000\" fill-rule=\"evenodd\" fill-opacity=\"1\" /><path clip-path=\"url(#clip8600)\" d=\"M 0 0 M1286.43 16.7545 L1286.43 25.383 Q1282.3 21.5346 1277.6 19.6307 Q1272.94 17.7268 1267.68 17.7268 Q1257.31 17.7268 1251.8 24.0867 Q1246.29 30.4061 1246.29 42.3968 Q1246.29 54.3469 1251.8 60.7069 Q1257.31 67.0263 1267.68 67.0263 Q1272.94 67.0263 1277.6 65.1223 Q1282.3 63.2184 1286.43 59.3701 L1286.43 67.9175 Q1282.14 70.8341 1277.32 72.2924 Q1272.54 73.7508 1267.19 73.7508 Q1253.46 73.7508 1245.56 65.3654 Q1237.66 56.9395 1237.66 42.3968 Q1237.66 27.8135 1245.56 19.4281 Q1253.46 11.0023 1267.19 11.0023 Q1272.62 11.0023 1277.4 12.4606 Q1282.22 13.8784 1286.43 16.7545 Z\" fill=\"#000000\" fill-rule=\"evenodd\" fill-opacity=\"1\" /><path clip-path=\"url(#clip8600)\" d=\"M 0 0 M1294.57 12.096 L1332.82 12.096 L1332.82 18.9825 L1302.76 18.9825 L1302.76 36.8875 L1331.56 36.8875 L1331.56 43.7741 L1302.76 43.7741 L1302.76 65.6895 L1333.54 65.6895 L1333.54 72.576 L1294.57 72.576 L1294.57 12.096 Z\" fill=\"#000000\" fill-rule=\"evenodd\" fill-opacity=\"1\" /><path clip-path=\"url(#clip8600)\" d=\"M 0 0 M1377.94 14.0809 L1377.94 22.0612 Q1373.28 19.8332 1369.15 18.7395 Q1365.02 17.6457 1361.17 17.6457 Q1354.49 17.6457 1350.84 20.2383 Q1347.24 22.8309 1347.24 27.611 Q1347.24 31.6214 1349.63 33.6873 Q1352.06 35.7128 1358.78 36.9686 L1363.72 37.9813 Q1372.88 39.7232 1377.21 44.1387 Q1381.59 48.5136 1381.59 55.8863 Q1381.59 64.6767 1375.67 69.2137 Q1369.8 73.7508 1358.42 73.7508 Q1354.12 73.7508 1349.26 72.7785 Q1344.44 71.8063 1339.26 69.9024 L1339.26 61.4765 Q1344.24 64.2716 1349.02 65.6895 Q1353.8 67.1073 1358.42 67.1073 Q1365.43 67.1073 1369.23 64.3527 Q1373.04 61.598 1373.04 56.4939 Q1373.04 52.0379 1370.29 49.5264 Q1367.57 47.0148 1361.33 45.759 L1356.35 44.7868 Q1347.2 42.9639 1343.1 39.075 Q1339.01 35.1862 1339.01 28.2591 Q1339.01 20.2383 1344.64 15.6203 Q1350.32 11.0023 1360.24 11.0023 Q1364.49 11.0023 1368.91 11.7719 Q1373.32 12.5416 1377.94 14.0809 Z\" fill=\"#000000\" fill-rule=\"evenodd\" fill-opacity=\"1\" /><path clip-path=\"url(#clip8600)\" d=\"M 0 0 M1407.96 17.4837 Q1401.64 17.4837 1398.44 23.7221 Q1395.28 29.92 1395.28 42.3968 Q1395.28 54.833 1398.44 61.0714 Q1401.64 67.2693 1407.96 67.2693 Q1414.32 67.2693 1417.48 61.0714 Q1420.68 54.833 1420.68 42.3968 Q1420.68 29.92 1417.48 23.7221 Q1414.32 17.4837 1407.96 17.4837 M1407.96 11.0023 Q1418.13 11.0023 1423.47 19.0636 Q1428.86 27.0843 1428.86 42.3968 Q1428.86 57.6687 1423.47 65.73 Q1418.13 73.7508 1407.96 73.7508 Q1397.79 73.7508 1392.4 65.73 Q1387.06 57.6687 1387.06 42.3968 Q1387.06 27.0843 1392.4 19.0636 Q1397.79 11.0023 1407.96 11.0023 Z\" fill=\"#000000\" fill-rule=\"evenodd\" fill-opacity=\"1\" /><path clip-path=\"url(#clip8600)\" d=\"M 0 0 M1455.23 17.4837 Q1448.91 17.4837 1445.71 23.7221 Q1442.55 29.92 1442.55 42.3968 Q1442.55 54.833 1445.71 61.0714 Q1448.91 67.2693 1455.23 67.2693 Q1461.59 67.2693 1464.75 61.0714 Q1467.95 54.833 1467.95 42.3968 Q1467.95 29.92 1464.75 23.7221 Q1461.59 17.4837 1455.23 17.4837 M1455.23 11.0023 Q1465.4 11.0023 1470.75 19.0636 Q1476.14 27.0843 1476.14 42.3968 Q1476.14 57.6687 1470.75 65.73 Q1465.4 73.7508 1455.23 73.7508 Q1445.07 73.7508 1439.68 65.73 Q1434.33 57.6687 1434.33 42.3968 Q1434.33 27.0843 1439.68 19.0636 Q1445.07 11.0023 1455.23 11.0023 Z\" fill=\"#000000\" fill-rule=\"evenodd\" fill-opacity=\"1\" /><path clip-path=\"url(#clip8600)\" d=\"M 0 0 M1502.51 17.4837 Q1496.19 17.4837 1492.99 23.7221 Q1489.83 29.92 1489.83 42.3968 Q1489.83 54.833 1492.99 61.0714 Q1496.19 67.2693 1502.51 67.2693 Q1508.87 67.2693 1512.03 61.0714 Q1515.23 54.833 1515.23 42.3968 Q1515.23 29.92 1512.03 23.7221 Q1508.87 17.4837 1502.51 17.4837 M1502.51 11.0023 Q1512.68 11.0023 1518.02 19.0636 Q1523.41 27.0843 1523.41 42.3968 Q1523.41 57.6687 1518.02 65.73 Q1512.68 73.7508 1502.51 73.7508 Q1492.34 73.7508 1486.95 65.73 Q1481.61 57.6687 1481.61 42.3968 Q1481.61 27.0843 1486.95 19.0636 Q1492.34 11.0023 1502.51 11.0023 Z\" fill=\"#000000\" fill-rule=\"evenodd\" fill-opacity=\"1\" /><path clip-path=\"url(#clip8600)\" d=\"M 0 0 M1549.78 17.4837 Q1543.46 17.4837 1540.26 23.7221 Q1537.1 29.92 1537.1 42.3968 Q1537.1 54.833 1540.26 61.0714 Q1543.46 67.2693 1549.78 67.2693 Q1556.14 67.2693 1559.3 61.0714 Q1562.5 54.833 1562.5 42.3968 Q1562.5 29.92 1559.3 23.7221 Q1556.14 17.4837 1549.78 17.4837 M1549.78 11.0023 Q1559.95 11.0023 1565.3 19.0636 Q1570.68 27.0843 1570.68 42.3968 Q1570.68 57.6687 1565.3 65.73 Q1559.95 73.7508 1549.78 73.7508 Q1539.61 73.7508 1534.23 65.73 Q1528.88 57.6687 1528.88 42.3968 Q1528.88 27.0843 1534.23 19.0636 Q1539.61 11.0023 1549.78 11.0023 Z\" fill=\"#000000\" fill-rule=\"evenodd\" fill-opacity=\"1\" /><path clip-path=\"url(#clip8600)\" d=\"M 0 0 M1597.06 17.4837 Q1590.74 17.4837 1587.54 23.7221 Q1584.38 29.92 1584.38 42.3968 Q1584.38 54.833 1587.54 61.0714 Q1590.74 67.2693 1597.06 67.2693 Q1603.42 67.2693 1606.58 61.0714 Q1609.78 54.833 1609.78 42.3968 Q1609.78 29.92 1606.58 23.7221 Q1603.42 17.4837 1597.06 17.4837 M1597.06 11.0023 Q1607.22 11.0023 1612.57 19.0636 Q1617.96 27.0843 1617.96 42.3968 Q1617.96 57.6687 1612.57 65.73 Q1607.22 73.7508 1597.06 73.7508 Q1586.89 73.7508 1581.5 65.73 Q1576.15 57.6687 1576.15 42.3968 Q1576.15 27.0843 1581.5 19.0636 Q1586.89 11.0023 1597.06 11.0023 Z\" fill=\"#000000\" fill-rule=\"evenodd\" fill-opacity=\"1\" /><path clip-path=\"url(#clip8600)\" d=\"M 0 0 M1644.33 17.4837 Q1638.01 17.4837 1634.81 23.7221 Q1631.65 29.92 1631.65 42.3968 Q1631.65 54.833 1634.81 61.0714 Q1638.01 67.2693 1644.33 67.2693 Q1650.69 67.2693 1653.85 61.0714 Q1657.05 54.833 1657.05 42.3968 Q1657.05 29.92 1653.85 23.7221 Q1650.69 17.4837 1644.33 17.4837 M1644.33 11.0023 Q1654.5 11.0023 1659.84 19.0636 Q1665.23 27.0843 1665.23 42.3968 Q1665.23 57.6687 1659.84 65.73 Q1654.5 73.7508 1644.33 73.7508 Q1634.16 73.7508 1628.77 65.73 Q1623.43 57.6687 1623.43 42.3968 Q1623.43 27.0843 1628.77 19.0636 Q1634.16 11.0023 1644.33 11.0023 Z\" fill=\"#000000\" fill-rule=\"evenodd\" fill-opacity=\"1\" /><path clip-path=\"url(#clip8600)\" d=\"M 0 0 M1691.6 17.4837 Q1685.28 17.4837 1682.08 23.7221 Q1678.92 29.92 1678.92 42.3968 Q1678.92 54.833 1682.08 61.0714 Q1685.28 67.2693 1691.6 67.2693 Q1697.96 67.2693 1701.12 61.0714 Q1704.32 54.833 1704.32 42.3968 Q1704.32 29.92 1701.12 23.7221 Q1697.96 17.4837 1691.6 17.4837 M1691.6 11.0023 Q1701.77 11.0023 1707.12 19.0636 Q1712.51 27.0843 1712.51 42.3968 Q1712.51 57.6687 1707.12 65.73 Q1701.77 73.7508 1691.6 73.7508 Q1681.44 73.7508 1676.05 65.73 Q1670.7 57.6687 1670.7 42.3968 Q1670.7 27.0843 1676.05 19.0636 Q1681.44 11.0023 1691.6 11.0023 Z\" fill=\"#000000\" fill-rule=\"evenodd\" fill-opacity=\"1\" /><path clip-path=\"url(#clip8600)\" d=\"M 0 0 M1738.88 17.4837 Q1732.56 17.4837 1729.36 23.7221 Q1726.2 29.92 1726.2 42.3968 Q1726.2 54.833 1729.36 61.0714 Q1732.56 67.2693 1738.88 67.2693 Q1745.24 67.2693 1748.4 61.0714 Q1751.6 54.833 1751.6 42.3968 Q1751.6 29.92 1748.4 23.7221 Q1745.24 17.4837 1738.88 17.4837 M1738.88 11.0023 Q1749.05 11.0023 1754.39 19.0636 Q1759.78 27.0843 1759.78 42.3968 Q1759.78 57.6687 1754.39 65.73 Q1749.05 73.7508 1738.88 73.7508 Q1728.71 73.7508 1723.32 65.73 Q1717.98 57.6687 1717.98 42.3968 Q1717.98 27.0843 1723.32 19.0636 Q1728.71 11.0023 1738.88 11.0023 Z\" fill=\"#000000\" fill-rule=\"evenodd\" fill-opacity=\"1\" /><path clip-path=\"url(#clip8600)\" d=\"M 0 0 M1786.15 17.4837 Q1779.83 17.4837 1776.63 23.7221 Q1773.47 29.92 1773.47 42.3968 Q1773.47 54.833 1776.63 61.0714 Q1779.83 67.2693 1786.15 67.2693 Q1792.51 67.2693 1795.67 61.0714 Q1798.87 54.833 1798.87 42.3968 Q1798.87 29.92 1795.67 23.7221 Q1792.51 17.4837 1786.15 17.4837 M1786.15 11.0023 Q1796.32 11.0023 1801.67 19.0636 Q1807.05 27.0843 1807.05 42.3968 Q1807.05 57.6687 1801.67 65.73 Q1796.32 73.7508 1786.15 73.7508 Q1775.98 73.7508 1770.6 65.73 Q1765.25 57.6687 1765.25 42.3968 Q1765.25 27.0843 1770.6 19.0636 Q1775.98 11.0023 1786.15 11.0023 Z\" fill=\"#000000\" fill-rule=\"evenodd\" fill-opacity=\"1\" /><path clip-path=\"url(#clip8600)\" d=\"M 0 0 M1817.34 65.6895 L1830.71 65.6895 L1830.71 19.5497 L1816.17 22.4663 L1816.17 15.0127 L1830.63 12.096 L1838.81 12.096 L1838.81 65.6895 L1852.18 65.6895 L1852.18 72.576 L1817.34 72.576 L1817.34 65.6895 Z\" fill=\"#000000\" fill-rule=\"evenodd\" fill-opacity=\"1\" /><path clip-path=\"url(#clip8600)\" d=\"M 0 0 M1247.98 1513.81 L1247.98 1531.66 L1256.06 1531.66 Q1260.55 1531.66 1263 1529.34 Q1265.45 1527.02 1265.45 1522.72 Q1265.45 1518.45 1263 1516.13 Q1260.55 1513.81 1256.06 1513.81 L1247.98 1513.81 M1241.55 1508.52 L1256.06 1508.52 Q1264.05 1508.52 1268.13 1512.15 Q1272.23 1515.75 1272.23 1522.72 Q1272.23 1529.75 1268.13 1533.35 Q1264.05 1536.95 1256.06 1536.95 L1247.98 1536.95 L1247.98 1556.04 L1241.55 1556.04 L1241.55 1508.52 Z\" fill=\"#000000\" fill-rule=\"evenodd\" fill-opacity=\"1\" /><path clip-path=\"url(#clip8600)\" d=\"M 0 0 M1306.54 1536.76 L1306.54 1539.62 L1279.62 1539.62 Q1280 1545.67 1283.24 1548.85 Q1286.52 1552 1292.35 1552 Q1295.72 1552 1298.87 1551.17 Q1302.05 1550.35 1305.17 1548.69 L1305.17 1554.23 Q1302.02 1555.57 1298.71 1556.27 Q1295.4 1556.97 1292 1556.97 Q1283.47 1556.97 1278.47 1552 Q1273.5 1547.04 1273.5 1538.57 Q1273.5 1529.82 1278.22 1524.69 Q1282.96 1519.54 1290.98 1519.54 Q1298.17 1519.54 1302.34 1524.18 Q1306.54 1528.8 1306.54 1536.76 M1300.69 1535.04 Q1300.62 1530.23 1297.98 1527.37 Q1295.37 1524.5 1291.04 1524.5 Q1286.14 1524.5 1283.18 1527.27 Q1280.25 1530.04 1279.81 1535.07 L1300.69 1535.04 Z\" fill=\"#000000\" fill-rule=\"evenodd\" fill-opacity=\"1\" /><path clip-path=\"url(#clip8600)\" d=\"M 0 0 M1333.34 1525.87 Q1332.36 1525.3 1331.18 1525.04 Q1330.03 1524.76 1328.63 1524.76 Q1323.67 1524.76 1320.99 1528 Q1318.35 1531.22 1318.35 1537.27 L1318.35 1556.04 L1312.46 1556.04 L1312.46 1520.4 L1318.35 1520.4 L1318.35 1525.93 Q1320.2 1522.69 1323.16 1521.13 Q1326.12 1519.54 1330.35 1519.54 Q1330.95 1519.54 1331.69 1519.63 Q1332.42 1519.7 1333.31 1519.85 L1333.34 1525.87 Z\" fill=\"#000000\" fill-rule=\"evenodd\" fill-opacity=\"1\" /><path clip-path=\"url(#clip8600)\" d=\"M 0 0 M1339.48 1520.4 L1345.34 1520.4 L1345.34 1556.04 L1339.48 1556.04 L1339.48 1520.4 M1339.48 1506.52 L1345.34 1506.52 L1345.34 1513.93 L1339.48 1513.93 L1339.48 1506.52 Z\" fill=\"#000000\" fill-rule=\"evenodd\" fill-opacity=\"1\" /><path clip-path=\"url(#clip8600)\" d=\"M 0 0 M1365.3 1524.5 Q1360.59 1524.5 1357.85 1528.19 Q1355.11 1531.85 1355.11 1538.25 Q1355.11 1544.65 1357.82 1548.34 Q1360.56 1552 1365.3 1552 Q1369.98 1552 1372.71 1548.31 Q1375.45 1544.62 1375.45 1538.25 Q1375.45 1531.92 1372.71 1528.23 Q1369.98 1524.5 1365.3 1524.5 M1365.3 1519.54 Q1372.94 1519.54 1377.3 1524.5 Q1381.66 1529.47 1381.66 1538.25 Q1381.66 1547 1377.3 1552 Q1372.94 1556.97 1365.3 1556.97 Q1357.63 1556.97 1353.27 1552 Q1348.94 1547 1348.94 1538.25 Q1348.94 1529.47 1353.27 1524.5 Q1357.63 1519.54 1365.3 1519.54 Z\" fill=\"#000000\" fill-rule=\"evenodd\" fill-opacity=\"1\" /><path clip-path=\"url(#clip8600)\" d=\"M 0 0 M1411.26 1525.81 L1411.26 1506.52 L1417.11 1506.52 L1417.11 1556.04 L1411.26 1556.04 L1411.26 1550.7 Q1409.41 1553.88 1406.58 1555.44 Q1403.78 1556.97 1399.83 1556.97 Q1393.37 1556.97 1389.3 1551.81 Q1385.25 1546.65 1385.25 1538.25 Q1385.25 1529.85 1389.3 1524.69 Q1393.37 1519.54 1399.83 1519.54 Q1403.78 1519.54 1406.58 1521.1 Q1409.41 1522.62 1411.26 1525.81 M1391.3 1538.25 Q1391.3 1544.71 1393.94 1548.4 Q1396.62 1552.07 1401.26 1552.07 Q1405.91 1552.07 1408.58 1548.4 Q1411.26 1544.71 1411.26 1538.25 Q1411.26 1531.79 1408.58 1528.13 Q1405.91 1524.44 1401.26 1524.44 Q1396.62 1524.44 1393.94 1528.13 Q1391.3 1531.79 1391.3 1538.25 Z\" fill=\"#000000\" fill-rule=\"evenodd\" fill-opacity=\"1\" /><path clip-path=\"url(#clip8600)\" d=\"M 0 0 M88.0042 833.45 L40.4842 851.592 L40.4842 844.877 L80.4926 829.822 L40.4842 814.735 L40.4842 808.051 L88.0042 826.161 L88.0042 833.45 Z\" fill=\"#000000\" fill-rule=\"evenodd\" fill-opacity=\"1\" /><path clip-path=\"url(#clip8600)\" d=\"M 0 0 M70.0847 790.768 Q70.0847 797.866 71.7079 800.603 Q73.3312 803.34 77.2461 803.34 Q80.3653 803.34 82.2114 801.303 Q84.0256 799.234 84.0256 795.701 Q84.0256 790.832 80.5881 787.903 Q77.1188 784.943 71.3897 784.943 L70.0847 784.943 L70.0847 790.768 M67.6657 779.087 L88.0042 779.087 L88.0042 784.943 L82.5933 784.943 Q85.8398 786.949 87.3994 789.94 Q88.9272 792.932 88.9272 797.261 Q88.9272 802.736 85.8716 805.982 Q82.7843 809.197 77.6281 809.197 Q71.6125 809.197 68.5569 805.186 Q65.5014 801.144 65.5014 793.155 L65.5014 784.943 L64.9285 784.943 Q60.8862 784.943 58.6901 787.617 Q56.4621 790.259 56.4621 795.065 Q56.4621 798.12 57.1941 801.017 Q57.9262 803.913 59.3903 806.587 L53.9795 806.587 Q52.7381 803.372 52.1334 800.348 Q51.4968 797.325 51.4968 794.46 Q51.4968 786.726 55.5072 782.906 Q59.5176 779.087 67.6657 779.087 Z\" fill=\"#000000\" fill-rule=\"evenodd\" fill-opacity=\"1\" /><path clip-path=\"url(#clip8600)\" d=\"M 0 0 M38.479 772.944 L38.479 767.088 L88.0042 767.088 L88.0042 772.944 L38.479 772.944 Z\" fill=\"#000000\" fill-rule=\"evenodd\" fill-opacity=\"1\" /><path clip-path=\"url(#clip8600)\" d=\"M 0 0 M73.9359 761.549 L52.3562 761.549 L52.3562 755.693 L73.7131 755.693 Q78.7739 755.693 81.3202 753.72 Q83.8346 751.746 83.8346 747.8 Q83.8346 743.057 80.8109 740.32 Q77.7872 737.551 72.5673 737.551 L52.3562 737.551 L52.3562 731.694 L88.0042 731.694 L88.0042 737.551 L82.5296 737.551 Q85.7762 739.683 87.3676 742.516 Q88.9272 745.317 88.9272 749.041 Q88.9272 755.184 85.1078 758.367 Q81.2883 761.549 73.9359 761.549 M51.4968 746.813 L51.4968 746.813 Z\" fill=\"#000000\" fill-rule=\"evenodd\" fill-opacity=\"1\" /><path clip-path=\"url(#clip8600)\" d=\"M 0 0 M68.7161 695.06 L71.5806 695.06 L71.5806 721.987 Q77.6281 721.605 80.8109 718.358 Q83.9619 715.08 83.9619 709.255 Q83.9619 705.881 83.1344 702.73 Q82.3069 699.547 80.6518 696.428 L86.1899 696.428 Q87.5267 699.579 88.227 702.889 Q88.9272 706.2 88.9272 709.605 Q88.9272 718.135 83.9619 723.132 Q78.9967 728.098 70.5303 728.098 Q61.7774 728.098 56.6531 723.387 Q51.4968 718.645 51.4968 710.624 Q51.4968 703.431 56.1438 699.261 Q60.7589 695.06 68.7161 695.06 M66.9973 700.916 Q62.1912 700.98 59.3266 703.621 Q56.4621 706.231 56.4621 710.56 Q56.4621 715.462 59.2312 718.422 Q62.0002 721.35 67.0292 721.796 L66.9973 700.916 Z\" fill=\"#000000\" fill-rule=\"evenodd\" fill-opacity=\"1\" /><polyline clip-path=\"url(#clip8602)\" style=\"stroke:#009af9; stroke-width:4; stroke-opacity:1; fill:none\" points=\"\n",
       "  363.837,1386.4 365.82,1384.62 367.802,1382.82 369.785,1384.68 371.767,1382.63 373.75,1380.6 375.732,1381.43 377.715,1378.99 379.697,1375.31 381.68,1371.51 \n",
       "  383.662,1370.92 385.645,1370.2 387.628,1369.59 389.61,1368.47 391.593,1367.37 393.575,1368.61 395.558,1366.83 397.54,1365.85 399.523,1366.2 401.505,1362.1 \n",
       "  403.488,1357.51 405.47,1352.94 407.453,1348.92 409.435,1343.87 411.418,1340.8 413.401,1337.18 415.383,1334.68 417.366,1330.92 419.348,1323.78 421.331,1319.1 \n",
       "  423.313,1314.23 425.296,1310.15 427.278,1307.24 429.261,1306.1 431.243,1305.35 433.226,1304.55 435.208,1302.12 437.191,1300.47 439.173,1296.24 441.156,1292.07 \n",
       "  443.139,1287.88 445.121,1285.29 447.104,1280.86 449.086,1275.7 451.069,1272.99 453.051,1270.43 455.034,1268.84 457.016,1266.43 458.999,1263.86 460.981,1261.64 \n",
       "  462.964,1260.05 464.946,1259.1 466.929,1259.61 468.911,1257.76 470.894,1258.57 472.877,1260.11 474.859,1260.65 476.842,1258.82 478.824,1257.36 480.807,1258.11 \n",
       "  482.789,1259.03 484.772,1260.19 486.754,1262.64 488.737,1264.95 490.719,1265.73 492.702,1266.11 494.684,1266.54 496.667,1267.08 498.65,1268.79 500.632,1268.5 \n",
       "  502.615,1268.47 504.597,1266.98 506.58,1266.63 508.562,1266.61 510.545,1267.6 512.527,1271.12 514.51,1272.54 516.492,1274.09 518.475,1276.84 520.457,1280.92 \n",
       "  522.44,1300.52 524.422,1299.59 526.405,1295.63 528.388,1294.49 530.37,1287.3 532.353,1293.15 534.335,1283.63 536.318,1276.45 538.3,1272.09 540.283,1268.23 \n",
       "  542.265,1264.05 544.248,1259.15 546.23,1256.42 548.213,1254.64 550.195,1251.62 552.178,1251.78 554.161,1250.22 556.143,1250 558.126,1249.5 560.108,1250.58 \n",
       "  562.091,1249.19 564.073,1247.47 566.056,1248.14 568.038,1245.97 570.021,1243.54 572.003,1241.46 573.986,1240.73 575.968,1239.76 577.951,1238.78 579.933,1240.24 \n",
       "  581.916,1238.74 583.899,1241.78 585.881,1237.61 587.864,1235.22 589.846,1233.96 591.829,1233.78 593.811,1232.62 595.794,1233.11 597.776,1233.64 599.759,1235.24 \n",
       "  601.741,1238.89 603.724,1240.6 605.706,1243.17 607.689,1243.21 609.671,1245.73 611.654,1248.18 613.637,1250.26 615.619,1249.33 617.602,1247.77 619.584,1256.15 \n",
       "  621.567,1253.15 623.549,1250.35 625.532,1250.31 627.514,1252.6 629.497,1246.03 631.479,1241.75 633.462,1238.39 635.444,1234.73 637.427,1231.02 639.41,1223.64 \n",
       "  641.392,1221.18 643.375,1218.5 645.357,1217.8 647.34,1216.95 649.322,1212.67 651.305,1209.78 653.287,1206.82 655.27,1206.94 657.252,1206.03 659.235,1204.91 \n",
       "  661.217,1204.94 663.2,1205.43 665.182,1206.01 667.165,1205.49 669.148,1204.08 671.13,1202.41 673.113,1202.59 675.095,1200.33 677.078,1200.51 679.06,1199.35 \n",
       "  681.043,1199.13 683.025,1202.73 685.008,1204.12 686.99,1196.31 688.973,1192.35 690.955,1189.58 692.938,1187.38 694.92,1183.88 696.903,1184.1 698.886,1182.15 \n",
       "  700.868,1180.81 702.851,1181.19 704.833,1180.64 706.816,1180.35 708.798,1180.18 710.781,1180.65 712.763,1181.86 714.746,1183.14 716.728,1186.46 718.711,1188.52 \n",
       "  720.693,1190.86 722.676,1191.73 724.659,1193.98 726.641,1193.76 728.624,1195.9 730.606,1196.6 732.589,1197.2 734.571,1197.29 736.554,1196.69 738.536,1196.13 \n",
       "  740.519,1193.75 742.501,1192.24 744.484,1190.59 746.466,1189.11 748.449,1185.92 750.431,1183.06 752.414,1180.42 754.397,1177.64 756.379,1175.67 758.362,1174.43 \n",
       "  760.344,1172.88 762.327,1171.25 764.309,1169.62 766.292,1167.49 768.274,1165.79 770.257,1163.87 772.239,1162.59 774.222,1161.78 776.204,1160.47 778.187,1159.67 \n",
       "  780.169,1165.99 782.152,1159.22 784.135,1159.49 786.117,1157.76 788.1,1157.32 790.082,1156.24 792.065,1156.66 794.047,1154.56 796.03,1153.97 798.012,1153.15 \n",
       "  799.995,1154.03 801.977,1154.86 803.96,1154.3 805.942,1154.25 807.925,1156.19 809.908,1157.9 811.89,1159.95 813.873,1161.69 815.855,1164.78 817.838,1169.78 \n",
       "  819.82,1172.55 821.803,1175.27 823.785,1176.4 825.768,1176.4 827.75,1175.15 829.733,1173.21 831.715,1170.48 833.698,1170.69 835.68,1166.1 837.663,1164.69 \n",
       "  839.646,1160.75 841.628,1158.65 843.611,1155.39 845.593,1152.32 847.576,1150.03 849.558,1148.72 851.541,1147.49 853.523,1152.17 855.506,1151.25 857.488,1151.95 \n",
       "  859.471,1149.19 861.453,1143.79 863.436,1142.79 865.418,1140.4 867.401,1140.99 869.384,1137.39 871.366,1140.78 873.349,1142.05 875.331,1142.47 877.314,1142.81 \n",
       "  879.296,1143.26 881.279,1144.11 883.261,1145.92 885.244,1148.11 887.226,1148.7 889.209,1149.96 891.191,1148.94 893.174,1149.26 895.157,1147.67 897.139,1145.76 \n",
       "  899.122,1144.3 901.104,1142.55 903.087,1141.65 905.069,1140.31 907.052,1138.1 909.034,1136.8 911.017,1136.61 912.999,1133.64 914.982,1132.77 916.964,1129.5 \n",
       "  918.947,1129.24 920.929,1129.08 922.912,1128.06 924.895,1127.14 926.877,1125.74 928.86,1125.11 930.842,1124.96 932.825,1125.24 934.807,1124.37 936.79,1123.22 \n",
       "  938.772,1122.32 940.755,1119.72 942.737,1119.36 944.72,1118.93 946.702,1117.58 948.685,1116.42 950.668,1114.74 952.65,1112.68 954.633,1112.96 956.615,1111.9 \n",
       "  958.598,1110.64 960.58,1107.98 962.563,1106.54 964.545,1106.29 966.528,1104.62 968.51,1103.32 970.493,1101.39 972.475,1099.32 974.458,1096.48 976.44,1097.58 \n",
       "  978.423,1093.33 980.406,1091.3 982.388,1089.68 984.371,1087.5 986.353,1085.47 988.336,1082.91 990.318,1080.59 992.301,1078.6 994.283,1075.85 996.266,1073.22 \n",
       "  998.248,1070.6 1000.23,1068.31 1002.21,1065.53 1004.2,1062.27 1006.18,1060.2 1008.16,1057.53 1010.14,1053.57 1012.13,1051.12 1014.11,1048.37 1016.09,1044.38 \n",
       "  1018.07,1042.48 1020.06,1040.41 1022.04,1039.05 1024.02,1036.94 1026,1035.29 1027.99,1033.49 1029.97,1031.41 1031.95,1031.19 1033.93,1030.18 1035.92,1030.82 \n",
       "  1037.9,1029.28 1039.88,1027.98 1041.86,1026.6 1043.85,1024.05 1045.83,1023.84 1047.81,1023.23 1049.79,1018.45 1051.78,1016.48 1053.76,1017.44 1055.74,1013.32 \n",
       "  1057.72,1012.52 1059.71,1009.91 1061.69,1008.95 1063.67,1006.42 1065.65,1004.21 1067.64,1002.17 1069.62,1000.63 1071.6,998.258 1073.58,995.627 1075.57,992.985 \n",
       "  1077.55,991.075 1079.53,988.474 1081.51,986.413 1083.5,984.742 1085.48,982.181 1087.46,979.1 1089.44,978.169 1091.43,975.378 1093.41,976.319 1095.39,974.248 \n",
       "  1097.38,974.598 1099.36,973.047 1101.34,973.698 1103.32,972.407 1105.31,970.946 1107.29,971.977 1109.27,974.218 1111.25,975.168 1113.24,974.928 1115.22,976.089 \n",
       "  1117.2,976.019 1119.18,980.25 1121.17,981.371 1123.15,977.539 1125.13,976.809 1127.11,977.389 1129.1,976.859 1131.08,975.098 1133.06,972.987 1135.04,972.917 \n",
       "  1137.03,972.307 1139.01,971.727 1140.99,969.316 1142.97,969.036 1144.96,966.985 1146.94,964.364 1148.92,961.042 1150.9,958.972 1152.89,956.01 1154.87,953.829 \n",
       "  1156.85,950.758 1158.83,947.867 1160.82,948.357 1162.8,944.036 1164.78,942.805 1166.76,938.703 1168.75,935.712 1170.73,932.761 1172.71,929.269 1174.69,925.298 \n",
       "  1176.68,922.597 1178.66,920.886 1180.64,918.955 1182.62,916.564 1184.61,916.304 1186.59,913.753 1188.57,912.673 1190.55,909.361 1192.54,906.23 1194.52,905.12 \n",
       "  1196.5,904.429 1198.48,902.889 1200.47,902.469 1202.45,901.608 1204.43,899.938 1206.41,899.387 1208.4,899.067 1210.38,899.237 1212.36,899.327 1214.34,899.127 \n",
       "  1216.33,902.779 1218.31,908.911 1220.29,912.503 1222.27,916.254 1224.26,918.955 1226.24,920.836 1228.22,919.195 1230.2,920.226 1232.19,917.735 1234.17,913.903 \n",
       "  1236.15,913.153 1238.14,910.032 1240.12,908.581 1242.1,905.26 1244.08,900.398 1246.07,897.266 1248.05,894.946 1250.03,892.505 1252.01,892.304 1254,891.664 \n",
       "  1255.98,889.953 1257.96,888.383 1259.94,886.502 1261.93,886.312 1263.91,883.021 1265.89,880.94 1267.87,878.519 1269.86,875.538 1271.84,871.506 1273.82,868.135 \n",
       "  1275.8,864.533 1277.79,860.531 1279.77,857.07 1281.75,854.659 1283.73,850.087 1285.72,847.406 1287.7,843.675 1289.68,841.304 1291.66,839.463 1293.65,835.921 \n",
       "  1295.63,830.799 1297.61,823.777 1299.59,820.305 1301.58,815.893 1303.56,813.352 1305.54,810.561 1307.52,809.181 1309.51,805.829 1311.49,801.477 1313.47,798.676 \n",
       "  1315.45,797.306 1317.44,794.835 1319.42,790.593 1321.4,791.213 1323.38,787.492 1325.37,784.3 1327.35,783.21 1329.33,782.38 1331.31,782.11 1333.3,780.569 \n",
       "  1335.28,779.649 1337.26,778.658 1339.24,777.378 1341.23,776.547 1343.21,775.437 1345.19,776.887 1347.17,781.179 1349.16,784.37 1351.14,786.982 1353.12,784.39 \n",
       "  1355.1,783.25 1357.09,780.479 1359.07,777.908 1361.05,775.947 1363.03,775.047 1365.02,774.326 1367,773.276 1368.98,772.546 1370.96,772.416 1372.95,770.475 \n",
       "  1374.93,769.364 1376.91,769.725 1378.9,770.605 1380.88,771.575 1382.86,773.666 1384.84,776.427 1386.83,779.729 1388.81,779.749 1390.79,781.039 1392.77,783.88 \n",
       "  1394.76,784.31 1396.74,786.731 1398.72,790.173 1400.7,791.753 1402.69,793.554 1404.67,796.315 1406.65,797.526 1408.63,797.676 1410.62,795.485 1412.6,796.215 \n",
       "  1414.58,794.485 1416.56,791.743 1418.55,788.942 1420.53,785.171 1422.51,781.009 1424.49,784.09 1426.48,772.906 1428.46,770.175 1430.44,766.623 1432.42,763.072 \n",
       "  1434.41,758.64 1436.39,753.798 1438.37,751.077 1440.35,747.445 1442.34,744.384 1444.32,740.573 1446.3,737.471 1448.28,735.04 1450.27,731.919 1452.25,729.068 \n",
       "  1454.23,725.537 1456.21,724.286 1458.2,721.635 1460.18,720.324 1462.16,716.933 1464.14,714.972 1466.13,712.231 1468.11,710.761 1470.09,708.87 1472.07,706.949 \n",
       "  1474.06,704.898 1476.04,703.017 1478.02,700.916 1480,699.256 1481.99,698.025 1483.97,696.875 1485.95,696.004 1487.93,694.134 1489.92,692.863 1491.9,693.794 \n",
       "  1493.88,690.612 1495.86,689.462 1497.85,686 1499.83,684.13 1501.81,682.259 1503.79,680.248 1505.78,678.557 1507.76,676.146 1509.74,673.695 1511.72,670.344 \n",
       "  1513.71,668.053 1515.69,666.332 1517.67,662.861 1519.66,661.13 1521.64,658.859 1523.62,653.947 1525.6,651.606 1527.59,648.715 1529.57,647.795 1531.55,643.183 \n",
       "  1533.53,640.432 1535.52,638.001 1537.5,635.7 1539.48,632.058 1541.46,629.818 1543.45,628.577 1545.43,625.186 1547.41,622.555 1549.39,619.143 1551.38,616.332 \n",
       "  1553.36,613.701 1555.34,611.04 1557.32,609.099 1559.31,607.398 1561.29,606.178 1563.27,605.037 1565.25,604.617 1567.24,604.107 1569.22,601.616 1571.2,600.546 \n",
       "  1573.18,597.784 1575.17,596.944 1577.15,593.313 1579.13,590.952 1581.11,588.861 1583.1,588.441 1585.08,586.91 1587.06,586.74 1589.04,587.06 1591.03,589.141 \n",
       "  1593.01,590.121 1594.99,591.632 1596.97,593.163 1598.96,593.643 1600.94,594.753 1602.92,597.965 1604.9,599.565 1606.89,601.666 1608.87,602.817 1610.85,601.966 \n",
       "  1612.83,602.386 1614.82,602.206 1616.8,601.946 1618.78,601.736 1620.76,602.346 1622.75,602.026 1624.73,601.616 1626.71,602.196 1628.69,601.656 1630.68,600.115 \n",
       "  1632.66,598.815 1634.64,598.155 1636.62,597.374 1638.61,596.054 1640.59,595.714 1642.57,593.913 1644.55,592.582 1646.54,590.351 1648.52,587.36 1650.5,584.859 \n",
       "  1652.48,585.359 1654.47,582.338 1656.45,579.617 1658.43,577.806 1660.42,574.745 1662.4,573.234 1664.38,570.814 1666.36,567.962 1668.35,565.451 1670.33,562.15 \n",
       "  1672.31,559.339 1674.29,557.478 1676.28,552.866 1678.26,549.425 1680.24,546.073 1682.22,542.902 1684.21,539.181 1686.19,536.319 1688.17,532.808 1690.15,530.697 \n",
       "  1692.14,526.585 1694.12,523.624 1696.1,520.263 1698.08,518.302 1700.07,516.201 1702.05,514.581 1704.03,514.781 1706.01,512.41 1708,511.469 1709.98,508.928 \n",
       "  1711.96,506.517 1713.94,504.957 1715.93,503.516 1717.91,502.066 1719.89,502.106 1721.87,497.874 1723.86,495.333 1725.84,493.682 1727.82,490.401 1729.8,487.57 \n",
       "  1731.79,485.109 1733.77,483.268 1735.75,481.157 1737.73,478.606 1739.72,475.645 1741.7,473.824 1743.68,471.623 1745.66,468.502 1747.65,465.351 1749.63,462.389 \n",
       "  1751.61,459.788 1753.59,457.107 1755.58,454.136 1757.56,454.316 1759.54,449.394 1761.52,445.953 1763.51,442.891 1765.49,439.75 1767.47,437.119 1769.45,435.078 \n",
       "  1771.44,433.598 1773.42,430.816 1775.4,426.795 1777.38,424.474 1779.37,423.183 1781.35,419.792 1783.33,417.711 1785.31,415.69 1787.3,412.919 1789.28,409.268 \n",
       "  1791.26,408.207 1793.24,404.026 1795.23,402.955 1797.21,399.254 1799.19,397.143 1801.18,394.332 1803.16,391.08 1805.14,389.53 1807.12,387.499 1809.11,383.447 \n",
       "  1811.09,380.556 1813.07,377.495 1815.05,375.164 1817.04,373.973 1819.02,369.251 1821,366.33 1822.98,364.159 1824.97,364.6 1826.95,362.849 1828.93,362.909 \n",
       "  1830.91,361.678 1832.9,361.698 1834.88,359.648 1836.86,358.117 1838.84,358.227 1840.83,357.317 1842.81,357.737 1844.79,360.578 1846.77,361.108 1848.76,362.219 \n",
       "  1850.74,363.439 1852.72,364.93 1854.7,367.501 1856.69,370.672 1858.67,373.793 1860.65,375.394 1862.63,376.694 1864.62,377.855 1866.6,378.045 1868.58,378.985 \n",
       "  1870.56,378.875 1872.55,378.375 1874.53,379.316 1876.51,379.346 1878.49,380.206 1880.48,378.935 1882.46,379.065 1884.44,380.496 1886.42,379.416 1888.41,380.776 \n",
       "  1890.39,382.897 1892.37,383.447 1894.35,383.257 1896.34,383.277 1898.32,383.307 1900.3,383.727 1902.28,382.677 1904.27,380.676 1906.25,380.476 1908.23,379.336 \n",
       "  1910.21,377.525 1912.2,376.965 1914.18,373.793 1916.16,371.102 1918.14,368.271 1920.13,367.281 1922.11,366.73 1924.09,365.84 1926.07,364.279 1928.06,360.738 \n",
       "  1930.04,360.178 1932.02,358.967 1934,357.467 1935.99,354.886 1937.97,353.645 1939.95,350.024 1941.94,348.303 1943.92,345.782 1945.9,342.24 1947.88,340.22 \n",
       "  1949.87,339.539 1951.85,338.649 1953.83,335.268 1955.81,333.707 1957.8,330.906 1959.78,327.825 1961.76,324.723 1963.74,323.143 1965.73,322.752 1967.71,321.942 \n",
       "  1969.69,319.991 1971.67,318.251 1973.66,316.76 1975.64,316.67 1977.62,314.559 1979.6,312.698 1981.59,310.417 1983.57,309.607 1985.55,307.256 1987.53,306.766 \n",
       "  1989.52,305.255 1991.5,304.495 1993.48,304.805 1995.46,305.035 1997.45,304.235 1999.43,303.445 2001.41,302.344 2003.39,301.264 2005.38,301.154 2007.36,301.944 \n",
       "  2009.34,302.434 2011.32,304.835 2013.31,306.606 2015.29,308.317 2017.27,310.277 2019.25,313.059 2021.24,317.66 2023.22,322.472 2025.2,329.745 2027.18,336.808 \n",
       "  2029.17,344.651 2031.15,352.084 2033.13,360.088 2035.11,367.041 2037.1,370.462 2039.08,375.134 2041.06,378.535 2043.04,380.366 2045.03,382.777 2047.01,384.768 \n",
       "  2048.99,384.648 2050.97,387.339 2052.96,387.319 2054.94,388.239 2056.92,386.428 2058.9,384.117 2060.89,378.715 2062.87,380.106 2064.85,380.946 2066.83,380.996 \n",
       "  2068.82,381.646 2070.8,378.965 2072.78,377.715 2074.76,376.995 2076.75,376.804 2078.73,374.684 2080.71,372.333 2082.69,369.191 2084.68,368.181 2086.66,365.82 \n",
       "  2088.64,365.22 2090.63,363.959 2092.61,361.628 2094.59,359.587 2096.57,358.267 2098.56,356.246 2100.54,352.705 2102.52,350.084 2104.5,347.683 2106.49,346.862 \n",
       "  2108.47,345.862 2110.45,345.132 2112.43,343.611 2114.42,341.89 2116.4,340.02 2118.38,338.429 2120.36,336.868 2122.35,334.477 2124.33,332.566 2126.31,329.785 \n",
       "  2128.29,328.395 2130.28,326.484 2132.26,324.263 2134.24,322.452 2136.22,321.332 2138.21,318.911 2140.19,317.04 2142.17,314.789 2144.15,312.148 2146.14,311.458 \n",
       "  2148.12,309.707 2150.1,308.046 2152.08,305.505 2154.07,302.254 2156.05,300.073 2158.03,296.812 2160.01,294.491 2162,292.61 2163.98,289.519 2165.96,286.998 \n",
       "  2167.94,284.087 2169.93,281.406 2171.91,279.495 2173.89,276.784 2175.87,276.073 2177.86,273.232 2179.84,269.921 2181.82,268.18 2183.8,265.159 2185.79,263.909 \n",
       "  2187.77,262.358 2189.75,259.297 2191.73,256.926 2193.72,254.195 2195.7,253.464 2197.68,250.833 2199.66,248.542 2201.65,246.671 2203.63,246.251 2205.61,243.58 \n",
       "  2207.59,240.039 2209.58,238.688 2211.56,235.997 2213.54,234.547 2215.52,233.036 2217.51,230.735 2219.49,228.884 2221.47,227.003 2223.45,225.713 2225.44,223.742 \n",
       "  2227.42,222.192 2229.4,220.031 2231.39,217.88 2233.37,216.039 2235.35,215.859 2237.33,213.188 2239.32,210.937 2241.3,209.636 2243.28,208.426 2245.26,204.364 \n",
       "  2247.25,202.604 2249.23,201.233 2251.21,198.452 2253.19,196.261 2255.18,194.9 2257.16,192.459 2259.14,191.659 2261.12,189.648 2263.11,188.308 2265.09,186.487 \n",
       "  2267.07,183.796 2269.05,183.786 2271.04,182.315 2273.02,180.214 2275,179.364 2276.98,177.543 2278.97,175.603 2280.95,173.532 2282.93,171.451 2284.91,169.6 \n",
       "  2286.9,166.989 2288.88,165.148 2290.86,163.007 2292.84,160.256 2294.83,167.269 \n",
       "  \"/>\n",
       "</svg>\n"
      ]
     },
     "execution_count": 12,
     "metadata": {},
     "output_type": "execute_result"
    }
   ],
   "source": [
    "ces_plot = plot(\n",
    "    ces_plot_data.value,\n",
    "    legend=false,\n",
    "    formatter=:plain,\n",
    "    xlabel=\"Period\",\n",
    "    ylabel=\"Value\",\n",
    "    title=\"CES Series CES0000000001\"\n",
    ")"
   ]
  },
  {
   "cell_type": "code",
   "execution_count": 13,
   "metadata": {},
   "outputs": [
    {
     "data": {
      "image/svg+xml": [
       "<?xml version=\"1.0\" encoding=\"utf-8\"?>\n",
       "<svg xmlns=\"http://www.w3.org/2000/svg\" xmlns:xlink=\"http://www.w3.org/1999/xlink\" width=\"600\" height=\"400\" viewBox=\"0 0 2400 1600\">\n",
       "<defs>\n",
       "  <clipPath id=\"clip9000\">\n",
       "    <rect x=\"0\" y=\"0\" width=\"2400\" height=\"1600\"/>\n",
       "  </clipPath>\n",
       "</defs>\n",
       "<path clip-path=\"url(#clip9000)\" d=\"\n",
       "M0 1600 L2400 1600 L2400 0 L0 0  Z\n",
       "  \" fill=\"#ffffff\" fill-rule=\"evenodd\" fill-opacity=\"1\"/>\n",
       "<defs>\n",
       "  <clipPath id=\"clip9001\">\n",
       "    <rect x=\"480\" y=\"0\" width=\"1681\" height=\"1600\"/>\n",
       "  </clipPath>\n",
       "</defs>\n",
       "<path clip-path=\"url(#clip9000)\" d=\"\n",
       "M305.907 1423.18 L2352.76 1423.18 L2352.76 123.472 L305.907 123.472  Z\n",
       "  \" fill=\"#ffffff\" fill-rule=\"evenodd\" fill-opacity=\"1\"/>\n",
       "<defs>\n",
       "  <clipPath id=\"clip9002\">\n",
       "    <rect x=\"305\" y=\"123\" width=\"2048\" height=\"1301\"/>\n",
       "  </clipPath>\n",
       "</defs>\n",
       "<polyline clip-path=\"url(#clip9002)\" style=\"stroke:#000000; stroke-width:2; stroke-opacity:0.1; fill:none\" points=\"\n",
       "  770.361,1423.18 770.361,123.472 \n",
       "  \"/>\n",
       "<polyline clip-path=\"url(#clip9002)\" style=\"stroke:#000000; stroke-width:2; stroke-opacity:0.1; fill:none\" points=\"\n",
       "  1278.52,1423.18 1278.52,123.472 \n",
       "  \"/>\n",
       "<polyline clip-path=\"url(#clip9002)\" style=\"stroke:#000000; stroke-width:2; stroke-opacity:0.1; fill:none\" points=\"\n",
       "  1786.67,1423.18 1786.67,123.472 \n",
       "  \"/>\n",
       "<polyline clip-path=\"url(#clip9002)\" style=\"stroke:#000000; stroke-width:2; stroke-opacity:0.1; fill:none\" points=\"\n",
       "  2294.83,1423.18 2294.83,123.472 \n",
       "  \"/>\n",
       "<polyline clip-path=\"url(#clip9002)\" style=\"stroke:#000000; stroke-width:2; stroke-opacity:0.1; fill:none\" points=\"\n",
       "  305.907,1178.36 2352.76,1178.36 \n",
       "  \"/>\n",
       "<polyline clip-path=\"url(#clip9002)\" style=\"stroke:#000000; stroke-width:2; stroke-opacity:0.1; fill:none\" points=\"\n",
       "  305.907,919.31 2352.76,919.31 \n",
       "  \"/>\n",
       "<polyline clip-path=\"url(#clip9002)\" style=\"stroke:#000000; stroke-width:2; stroke-opacity:0.1; fill:none\" points=\"\n",
       "  305.907,660.262 2352.76,660.262 \n",
       "  \"/>\n",
       "<polyline clip-path=\"url(#clip9002)\" style=\"stroke:#000000; stroke-width:2; stroke-opacity:0.1; fill:none\" points=\"\n",
       "  305.907,401.213 2352.76,401.213 \n",
       "  \"/>\n",
       "<polyline clip-path=\"url(#clip9002)\" style=\"stroke:#000000; stroke-width:2; stroke-opacity:0.1; fill:none\" points=\"\n",
       "  305.907,142.164 2352.76,142.164 \n",
       "  \"/>\n",
       "<polyline clip-path=\"url(#clip9000)\" style=\"stroke:#000000; stroke-width:4; stroke-opacity:1; fill:none\" points=\"\n",
       "  305.907,1423.18 2352.76,1423.18 \n",
       "  \"/>\n",
       "<polyline clip-path=\"url(#clip9000)\" style=\"stroke:#000000; stroke-width:4; stroke-opacity:1; fill:none\" points=\"\n",
       "  305.907,1423.18 305.907,123.472 \n",
       "  \"/>\n",
       "<polyline clip-path=\"url(#clip9000)\" style=\"stroke:#000000; stroke-width:4; stroke-opacity:1; fill:none\" points=\"\n",
       "  770.361,1423.18 770.361,1407.58 \n",
       "  \"/>\n",
       "<polyline clip-path=\"url(#clip9000)\" style=\"stroke:#000000; stroke-width:4; stroke-opacity:1; fill:none\" points=\"\n",
       "  1278.52,1423.18 1278.52,1407.58 \n",
       "  \"/>\n",
       "<polyline clip-path=\"url(#clip9000)\" style=\"stroke:#000000; stroke-width:4; stroke-opacity:1; fill:none\" points=\"\n",
       "  1786.67,1423.18 1786.67,1407.58 \n",
       "  \"/>\n",
       "<polyline clip-path=\"url(#clip9000)\" style=\"stroke:#000000; stroke-width:4; stroke-opacity:1; fill:none\" points=\"\n",
       "  2294.83,1423.18 2294.83,1407.58 \n",
       "  \"/>\n",
       "<polyline clip-path=\"url(#clip9000)\" style=\"stroke:#000000; stroke-width:4; stroke-opacity:1; fill:none\" points=\"\n",
       "  305.907,1178.36 330.47,1178.36 \n",
       "  \"/>\n",
       "<polyline clip-path=\"url(#clip9000)\" style=\"stroke:#000000; stroke-width:4; stroke-opacity:1; fill:none\" points=\"\n",
       "  305.907,919.31 330.47,919.31 \n",
       "  \"/>\n",
       "<polyline clip-path=\"url(#clip9000)\" style=\"stroke:#000000; stroke-width:4; stroke-opacity:1; fill:none\" points=\"\n",
       "  305.907,660.262 330.47,660.262 \n",
       "  \"/>\n",
       "<polyline clip-path=\"url(#clip9000)\" style=\"stroke:#000000; stroke-width:4; stroke-opacity:1; fill:none\" points=\"\n",
       "  305.907,401.213 330.47,401.213 \n",
       "  \"/>\n",
       "<polyline clip-path=\"url(#clip9000)\" style=\"stroke:#000000; stroke-width:4; stroke-opacity:1; fill:none\" points=\"\n",
       "  305.907,142.164 330.47,142.164 \n",
       "  \"/>\n",
       "<path clip-path=\"url(#clip9000)\" d=\"M 0 0 M760.639 1442.09 L778.995 1442.09 L778.995 1446.03 L764.921 1446.03 L764.921 1454.5 Q765.94 1454.15 766.958 1453.99 Q767.977 1453.8 768.995 1453.8 Q774.782 1453.8 778.162 1456.98 Q781.542 1460.15 781.542 1465.56 Q781.542 1471.14 778.069 1474.24 Q774.597 1477.32 768.278 1477.32 Q766.102 1477.32 763.833 1476.95 Q761.588 1476.58 759.181 1475.84 L759.181 1471.14 Q761.264 1472.28 763.486 1472.83 Q765.708 1473.39 768.185 1473.39 Q772.19 1473.39 774.528 1471.28 Q776.866 1469.18 776.866 1465.56 Q776.866 1461.95 774.528 1459.85 Q772.19 1457.74 768.185 1457.74 Q766.31 1457.74 764.435 1458.16 Q762.583 1458.57 760.639 1459.45 L760.639 1442.09 Z\" fill=\"#000000\" fill-rule=\"evenodd\" fill-opacity=\"1\" /><path clip-path=\"url(#clip9000)\" d=\"M 0 0 M1255.39 1472.72 L1263.03 1472.72 L1263.03 1446.35 L1254.72 1448.02 L1254.72 1443.76 L1262.98 1442.09 L1267.66 1442.09 L1267.66 1472.72 L1275.3 1472.72 L1275.3 1476.65 L1255.39 1476.65 L1255.39 1472.72 Z\" fill=\"#000000\" fill-rule=\"evenodd\" fill-opacity=\"1\" /><path clip-path=\"url(#clip9000)\" d=\"M 0 0 M1290.37 1445.17 Q1286.76 1445.17 1284.93 1448.74 Q1283.12 1452.28 1283.12 1459.41 Q1283.12 1466.51 1284.93 1470.08 Q1286.76 1473.62 1290.37 1473.62 Q1294 1473.62 1295.81 1470.08 Q1297.64 1466.51 1297.64 1459.41 Q1297.64 1452.28 1295.81 1448.74 Q1294 1445.17 1290.37 1445.17 M1290.37 1441.47 Q1296.18 1441.47 1299.23 1446.07 Q1302.31 1450.66 1302.31 1459.41 Q1302.31 1468.13 1299.23 1472.74 Q1296.18 1477.32 1290.37 1477.32 Q1284.56 1477.32 1281.48 1472.74 Q1278.42 1468.13 1278.42 1459.41 Q1278.42 1450.66 1281.48 1446.07 Q1284.56 1441.47 1290.37 1441.47 Z\" fill=\"#000000\" fill-rule=\"evenodd\" fill-opacity=\"1\" /><path clip-path=\"url(#clip9000)\" d=\"M 0 0 M1764.04 1472.72 L1771.68 1472.72 L1771.68 1446.35 L1763.37 1448.02 L1763.37 1443.76 L1771.64 1442.09 L1776.31 1442.09 L1776.31 1472.72 L1783.95 1472.72 L1783.95 1476.65 L1764.04 1476.65 L1764.04 1472.72 Z\" fill=\"#000000\" fill-rule=\"evenodd\" fill-opacity=\"1\" /><path clip-path=\"url(#clip9000)\" d=\"M 0 0 M1789.07 1442.09 L1807.42 1442.09 L1807.42 1446.03 L1793.35 1446.03 L1793.35 1454.5 Q1794.37 1454.15 1795.39 1453.99 Q1796.4 1453.8 1797.42 1453.8 Q1803.21 1453.8 1806.59 1456.98 Q1809.97 1460.15 1809.97 1465.56 Q1809.97 1471.14 1806.5 1474.24 Q1803.03 1477.32 1796.71 1477.32 Q1794.53 1477.32 1792.26 1476.95 Q1790.02 1476.58 1787.61 1475.84 L1787.61 1471.14 Q1789.69 1472.28 1791.91 1472.83 Q1794.14 1473.39 1796.61 1473.39 Q1800.62 1473.39 1802.96 1471.28 Q1805.29 1469.18 1805.29 1465.56 Q1805.29 1461.95 1802.96 1459.85 Q1800.62 1457.74 1796.61 1457.74 Q1794.74 1457.74 1792.86 1458.16 Q1791.01 1458.57 1789.07 1459.45 L1789.07 1442.09 Z\" fill=\"#000000\" fill-rule=\"evenodd\" fill-opacity=\"1\" /><path clip-path=\"url(#clip9000)\" d=\"M 0 0 M2275.97 1472.72 L2292.29 1472.72 L2292.29 1476.65 L2270.35 1476.65 L2270.35 1472.72 Q2273.01 1469.96 2277.59 1465.33 Q2282.2 1460.68 2283.38 1459.34 Q2285.62 1456.81 2286.5 1455.08 Q2287.41 1453.32 2287.41 1451.63 Q2287.41 1448.87 2285.46 1447.14 Q2283.54 1445.4 2280.44 1445.4 Q2278.24 1445.4 2275.79 1446.17 Q2273.36 1446.93 2270.58 1448.48 L2270.58 1443.76 Q2273.4 1442.62 2275.86 1442.05 Q2278.31 1441.47 2280.35 1441.47 Q2285.72 1441.47 2288.91 1444.15 Q2292.11 1446.84 2292.11 1451.33 Q2292.11 1453.46 2291.3 1455.38 Q2290.51 1457.28 2288.4 1459.87 Q2287.82 1460.54 2284.72 1463.76 Q2281.62 1466.95 2275.97 1472.72 Z\" fill=\"#000000\" fill-rule=\"evenodd\" fill-opacity=\"1\" /><path clip-path=\"url(#clip9000)\" d=\"M 0 0 M2307.36 1445.17 Q2303.75 1445.17 2301.92 1448.74 Q2300.12 1452.28 2300.12 1459.41 Q2300.12 1466.51 2301.92 1470.08 Q2303.75 1473.62 2307.36 1473.62 Q2311 1473.62 2312.8 1470.08 Q2314.63 1466.51 2314.63 1459.41 Q2314.63 1452.28 2312.8 1448.74 Q2311 1445.17 2307.36 1445.17 M2307.36 1441.47 Q2313.17 1441.47 2316.23 1446.07 Q2319.31 1450.66 2319.31 1459.41 Q2319.31 1468.13 2316.23 1472.74 Q2313.17 1477.32 2307.36 1477.32 Q2301.55 1477.32 2298.47 1472.74 Q2295.42 1468.13 2295.42 1459.41 Q2295.42 1450.66 2298.47 1446.07 Q2301.55 1441.47 2307.36 1441.47 Z\" fill=\"#000000\" fill-rule=\"evenodd\" fill-opacity=\"1\" /><path clip-path=\"url(#clip9000)\" d=\"M 0 0 M152.95 1161.08 L171.306 1161.08 L171.306 1165.01 L157.232 1165.01 L157.232 1173.49 Q158.251 1173.14 159.269 1172.98 Q160.288 1172.79 161.306 1172.79 Q167.093 1172.79 170.473 1175.96 Q173.852 1179.13 173.852 1184.55 Q173.852 1190.13 170.38 1193.23 Q166.908 1196.31 160.589 1196.31 Q158.413 1196.31 156.144 1195.94 Q153.899 1195.57 151.492 1194.83 L151.492 1190.13 Q153.575 1191.26 155.797 1191.82 Q158.019 1192.38 160.496 1192.38 Q164.501 1192.38 166.839 1190.27 Q169.177 1188.16 169.177 1184.55 Q169.177 1180.94 166.839 1178.83 Q164.501 1176.73 160.496 1176.73 Q158.621 1176.73 156.746 1177.14 Q154.894 1177.56 152.95 1178.44 L152.95 1161.08 Z\" fill=\"#000000\" fill-rule=\"evenodd\" fill-opacity=\"1\" /><path clip-path=\"url(#clip9000)\" d=\"M 0 0 M188.922 1164.16 Q185.311 1164.16 183.482 1167.72 Q181.677 1171.26 181.677 1178.39 Q181.677 1185.5 183.482 1189.06 Q185.311 1192.61 188.922 1192.61 Q192.556 1192.61 194.362 1189.06 Q196.19 1185.5 196.19 1178.39 Q196.19 1171.26 194.362 1167.72 Q192.556 1164.16 188.922 1164.16 M188.922 1160.45 Q194.732 1160.45 197.788 1165.06 Q200.866 1169.64 200.866 1178.39 Q200.866 1187.12 197.788 1191.73 Q194.732 1196.31 188.922 1196.31 Q183.112 1196.31 180.033 1191.73 Q176.977 1187.12 176.977 1178.39 Q176.977 1169.64 180.033 1165.06 Q183.112 1160.45 188.922 1160.45 Z\" fill=\"#000000\" fill-rule=\"evenodd\" fill-opacity=\"1\" /><path clip-path=\"url(#clip9000)\" d=\"M 0 0 M215.936 1164.16 Q212.325 1164.16 210.496 1167.72 Q208.69 1171.26 208.69 1178.39 Q208.69 1185.5 210.496 1189.06 Q212.325 1192.61 215.936 1192.61 Q219.57 1192.61 221.375 1189.06 Q223.204 1185.5 223.204 1178.39 Q223.204 1171.26 221.375 1167.72 Q219.57 1164.16 215.936 1164.16 M215.936 1160.45 Q221.746 1160.45 224.801 1165.06 Q227.88 1169.64 227.88 1178.39 Q227.88 1187.12 224.801 1191.73 Q221.746 1196.31 215.936 1196.31 Q210.125 1196.31 207.047 1191.73 Q203.991 1187.12 203.991 1178.39 Q203.991 1169.64 207.047 1165.06 Q210.125 1160.45 215.936 1160.45 Z\" fill=\"#000000\" fill-rule=\"evenodd\" fill-opacity=\"1\" /><path clip-path=\"url(#clip9000)\" d=\"M 0 0 M242.949 1164.16 Q239.338 1164.16 237.51 1167.72 Q235.704 1171.26 235.704 1178.39 Q235.704 1185.5 237.51 1189.06 Q239.338 1192.61 242.949 1192.61 Q246.584 1192.61 248.389 1189.06 Q250.218 1185.5 250.218 1178.39 Q250.218 1171.26 248.389 1167.72 Q246.584 1164.16 242.949 1164.16 M242.949 1160.45 Q248.76 1160.45 251.815 1165.06 Q254.894 1169.64 254.894 1178.39 Q254.894 1187.12 251.815 1191.73 Q248.76 1196.31 242.949 1196.31 Q237.139 1196.31 234.061 1191.73 Q231.005 1187.12 231.005 1178.39 Q231.005 1169.64 234.061 1165.06 Q237.139 1160.45 242.949 1160.45 Z\" fill=\"#000000\" fill-rule=\"evenodd\" fill-opacity=\"1\" /><path clip-path=\"url(#clip9000)\" d=\"M 0 0 M269.963 1164.16 Q266.352 1164.16 264.523 1167.72 Q262.718 1171.26 262.718 1178.39 Q262.718 1185.5 264.523 1189.06 Q266.352 1192.61 269.963 1192.61 Q273.597 1192.61 275.403 1189.06 Q277.232 1185.5 277.232 1178.39 Q277.232 1171.26 275.403 1167.72 Q273.597 1164.16 269.963 1164.16 M269.963 1160.45 Q275.773 1160.45 278.829 1165.06 Q281.907 1169.64 281.907 1178.39 Q281.907 1187.12 278.829 1191.73 Q275.773 1196.31 269.963 1196.31 Q264.153 1196.31 261.074 1191.73 Q258.019 1187.12 258.019 1178.39 Q258.019 1169.64 261.074 1165.06 Q264.153 1160.45 269.963 1160.45 Z\" fill=\"#000000\" fill-rule=\"evenodd\" fill-opacity=\"1\" /><path clip-path=\"url(#clip9000)\" d=\"M 0 0 M152.626 902.03 L174.848 902.03 L174.848 904.021 L162.302 936.59 L157.417 936.59 L169.223 905.965 L152.626 905.965 L152.626 902.03 Z\" fill=\"#000000\" fill-rule=\"evenodd\" fill-opacity=\"1\" /><path clip-path=\"url(#clip9000)\" d=\"M 0 0 M179.964 902.03 L198.32 902.03 L198.32 905.965 L184.246 905.965 L184.246 914.438 Q185.264 914.09 186.283 913.928 Q187.301 913.743 188.32 913.743 Q194.107 913.743 197.487 916.914 Q200.866 920.086 200.866 925.502 Q200.866 931.081 197.394 934.183 Q193.922 937.262 187.602 937.262 Q185.427 937.262 183.158 936.891 Q180.913 936.521 178.505 935.78 L178.505 931.081 Q180.589 932.215 182.811 932.771 Q185.033 933.326 187.51 933.326 Q191.514 933.326 193.852 931.22 Q196.19 929.113 196.19 925.502 Q196.19 921.891 193.852 919.785 Q191.514 917.678 187.51 917.678 Q185.635 917.678 183.76 918.095 Q181.908 918.512 179.964 919.391 L179.964 902.03 Z\" fill=\"#000000\" fill-rule=\"evenodd\" fill-opacity=\"1\" /><path clip-path=\"url(#clip9000)\" d=\"M 0 0 M215.936 905.109 Q212.325 905.109 210.496 908.674 Q208.69 912.215 208.69 919.345 Q208.69 926.451 210.496 930.016 Q212.325 933.558 215.936 933.558 Q219.57 933.558 221.375 930.016 Q223.204 926.451 223.204 919.345 Q223.204 912.215 221.375 908.674 Q219.57 905.109 215.936 905.109 M215.936 901.405 Q221.746 901.405 224.801 906.012 Q227.88 910.595 227.88 919.345 Q227.88 928.072 224.801 932.678 Q221.746 937.262 215.936 937.262 Q210.125 937.262 207.047 932.678 Q203.991 928.072 203.991 919.345 Q203.991 910.595 207.047 906.012 Q210.125 901.405 215.936 901.405 Z\" fill=\"#000000\" fill-rule=\"evenodd\" fill-opacity=\"1\" /><path clip-path=\"url(#clip9000)\" d=\"M 0 0 M242.949 905.109 Q239.338 905.109 237.51 908.674 Q235.704 912.215 235.704 919.345 Q235.704 926.451 237.51 930.016 Q239.338 933.558 242.949 933.558 Q246.584 933.558 248.389 930.016 Q250.218 926.451 250.218 919.345 Q250.218 912.215 248.389 908.674 Q246.584 905.109 242.949 905.109 M242.949 901.405 Q248.76 901.405 251.815 906.012 Q254.894 910.595 254.894 919.345 Q254.894 928.072 251.815 932.678 Q248.76 937.262 242.949 937.262 Q237.139 937.262 234.061 932.678 Q231.005 928.072 231.005 919.345 Q231.005 910.595 234.061 906.012 Q237.139 901.405 242.949 901.405 Z\" fill=\"#000000\" fill-rule=\"evenodd\" fill-opacity=\"1\" /><path clip-path=\"url(#clip9000)\" d=\"M 0 0 M269.963 905.109 Q266.352 905.109 264.523 908.674 Q262.718 912.215 262.718 919.345 Q262.718 926.451 264.523 930.016 Q266.352 933.558 269.963 933.558 Q273.597 933.558 275.403 930.016 Q277.232 926.451 277.232 919.345 Q277.232 912.215 275.403 908.674 Q273.597 905.109 269.963 905.109 M269.963 901.405 Q275.773 901.405 278.829 906.012 Q281.907 910.595 281.907 919.345 Q281.907 928.072 278.829 932.678 Q275.773 937.262 269.963 937.262 Q264.153 937.262 261.074 932.678 Q258.019 928.072 258.019 919.345 Q258.019 910.595 261.074 906.012 Q264.153 901.405 269.963 901.405 Z\" fill=\"#000000\" fill-rule=\"evenodd\" fill-opacity=\"1\" /><path clip-path=\"url(#clip9000)\" d=\"M 0 0 M126.931 673.606 L134.57 673.606 L134.57 647.241 L126.26 648.908 L126.26 644.648 L134.524 642.982 L139.2 642.982 L139.2 673.606 L146.839 673.606 L146.839 677.542 L126.931 677.542 L126.931 673.606 Z\" fill=\"#000000\" fill-rule=\"evenodd\" fill-opacity=\"1\" /><path clip-path=\"url(#clip9000)\" d=\"M 0 0 M161.908 646.06 Q158.297 646.06 156.468 649.625 Q154.663 653.167 154.663 660.296 Q154.663 667.403 156.468 670.968 Q158.297 674.509 161.908 674.509 Q165.542 674.509 167.348 670.968 Q169.177 667.403 169.177 660.296 Q169.177 653.167 167.348 649.625 Q165.542 646.06 161.908 646.06 M161.908 642.357 Q167.718 642.357 170.774 646.963 Q173.852 651.546 173.852 660.296 Q173.852 669.023 170.774 673.63 Q167.718 678.213 161.908 678.213 Q156.098 678.213 153.019 673.63 Q149.964 669.023 149.964 660.296 Q149.964 651.546 153.019 646.963 Q156.098 642.357 161.908 642.357 Z\" fill=\"#000000\" fill-rule=\"evenodd\" fill-opacity=\"1\" /><path clip-path=\"url(#clip9000)\" d=\"M 0 0 M188.922 646.06 Q185.311 646.06 183.482 649.625 Q181.677 653.167 181.677 660.296 Q181.677 667.403 183.482 670.968 Q185.311 674.509 188.922 674.509 Q192.556 674.509 194.362 670.968 Q196.19 667.403 196.19 660.296 Q196.19 653.167 194.362 649.625 Q192.556 646.06 188.922 646.06 M188.922 642.357 Q194.732 642.357 197.788 646.963 Q200.866 651.546 200.866 660.296 Q200.866 669.023 197.788 673.63 Q194.732 678.213 188.922 678.213 Q183.112 678.213 180.033 673.63 Q176.977 669.023 176.977 660.296 Q176.977 651.546 180.033 646.963 Q183.112 642.357 188.922 642.357 Z\" fill=\"#000000\" fill-rule=\"evenodd\" fill-opacity=\"1\" /><path clip-path=\"url(#clip9000)\" d=\"M 0 0 M215.936 646.06 Q212.325 646.06 210.496 649.625 Q208.69 653.167 208.69 660.296 Q208.69 667.403 210.496 670.968 Q212.325 674.509 215.936 674.509 Q219.57 674.509 221.375 670.968 Q223.204 667.403 223.204 660.296 Q223.204 653.167 221.375 649.625 Q219.57 646.06 215.936 646.06 M215.936 642.357 Q221.746 642.357 224.801 646.963 Q227.88 651.546 227.88 660.296 Q227.88 669.023 224.801 673.63 Q221.746 678.213 215.936 678.213 Q210.125 678.213 207.047 673.63 Q203.991 669.023 203.991 660.296 Q203.991 651.546 207.047 646.963 Q210.125 642.357 215.936 642.357 Z\" fill=\"#000000\" fill-rule=\"evenodd\" fill-opacity=\"1\" /><path clip-path=\"url(#clip9000)\" d=\"M 0 0 M242.949 646.06 Q239.338 646.06 237.51 649.625 Q235.704 653.167 235.704 660.296 Q235.704 667.403 237.51 670.968 Q239.338 674.509 242.949 674.509 Q246.584 674.509 248.389 670.968 Q250.218 667.403 250.218 660.296 Q250.218 653.167 248.389 649.625 Q246.584 646.06 242.949 646.06 M242.949 642.357 Q248.76 642.357 251.815 646.963 Q254.894 651.546 254.894 660.296 Q254.894 669.023 251.815 673.63 Q248.76 678.213 242.949 678.213 Q237.139 678.213 234.061 673.63 Q231.005 669.023 231.005 660.296 Q231.005 651.546 234.061 646.963 Q237.139 642.357 242.949 642.357 Z\" fill=\"#000000\" fill-rule=\"evenodd\" fill-opacity=\"1\" /><path clip-path=\"url(#clip9000)\" d=\"M 0 0 M269.963 646.06 Q266.352 646.06 264.523 649.625 Q262.718 653.167 262.718 660.296 Q262.718 667.403 264.523 670.968 Q266.352 674.509 269.963 674.509 Q273.597 674.509 275.403 670.968 Q277.232 667.403 277.232 660.296 Q277.232 653.167 275.403 649.625 Q273.597 646.06 269.963 646.06 M269.963 642.357 Q275.773 642.357 278.829 646.963 Q281.907 651.546 281.907 660.296 Q281.907 669.023 278.829 673.63 Q275.773 678.213 269.963 678.213 Q264.153 678.213 261.074 673.63 Q258.019 669.023 258.019 660.296 Q258.019 651.546 261.074 646.963 Q264.153 642.357 269.963 642.357 Z\" fill=\"#000000\" fill-rule=\"evenodd\" fill-opacity=\"1\" /><path clip-path=\"url(#clip9000)\" d=\"M 0 0 M129.524 414.558 L137.163 414.558 L137.163 388.192 L128.853 389.859 L128.853 385.6 L137.117 383.933 L141.792 383.933 L141.792 414.558 L149.431 414.558 L149.431 418.493 L129.524 418.493 L129.524 414.558 Z\" fill=\"#000000\" fill-rule=\"evenodd\" fill-opacity=\"1\" /><path clip-path=\"url(#clip9000)\" d=\"M 0 0 M158.529 414.558 L174.848 414.558 L174.848 418.493 L152.904 418.493 L152.904 414.558 Q155.566 411.803 160.149 407.174 Q164.755 402.521 165.936 401.178 Q168.181 398.655 169.061 396.919 Q169.964 395.16 169.964 393.47 Q169.964 390.715 168.019 388.979 Q166.098 387.243 162.996 387.243 Q160.797 387.243 158.343 388.007 Q155.913 388.771 153.135 390.322 L153.135 385.6 Q155.959 384.465 158.413 383.887 Q160.866 383.308 162.903 383.308 Q168.274 383.308 171.468 385.993 Q174.663 388.678 174.663 393.169 Q174.663 395.299 173.852 397.22 Q173.065 399.118 170.959 401.711 Q170.38 402.382 167.278 405.6 Q164.177 408.794 158.529 414.558 Z\" fill=\"#000000\" fill-rule=\"evenodd\" fill-opacity=\"1\" /><path clip-path=\"url(#clip9000)\" d=\"M 0 0 M179.964 383.933 L198.32 383.933 L198.32 387.868 L184.246 387.868 L184.246 396.34 Q185.264 395.993 186.283 395.831 Q187.301 395.646 188.32 395.646 Q194.107 395.646 197.487 398.817 Q200.866 401.988 200.866 407.405 Q200.866 412.984 197.394 416.086 Q193.922 419.164 187.602 419.164 Q185.427 419.164 183.158 418.794 Q180.913 418.424 178.505 417.683 L178.505 412.984 Q180.589 414.118 182.811 414.674 Q185.033 415.229 187.51 415.229 Q191.514 415.229 193.852 413.123 Q196.19 411.016 196.19 407.405 Q196.19 403.794 193.852 401.688 Q191.514 399.581 187.51 399.581 Q185.635 399.581 183.76 399.998 Q181.908 400.414 179.964 401.294 L179.964 383.933 Z\" fill=\"#000000\" fill-rule=\"evenodd\" fill-opacity=\"1\" /><path clip-path=\"url(#clip9000)\" d=\"M 0 0 M215.936 387.012 Q212.325 387.012 210.496 390.576 Q208.69 394.118 208.69 401.248 Q208.69 408.354 210.496 411.919 Q212.325 415.461 215.936 415.461 Q219.57 415.461 221.375 411.919 Q223.204 408.354 223.204 401.248 Q223.204 394.118 221.375 390.576 Q219.57 387.012 215.936 387.012 M215.936 383.308 Q221.746 383.308 224.801 387.914 Q227.88 392.498 227.88 401.248 Q227.88 409.975 224.801 414.581 Q221.746 419.164 215.936 419.164 Q210.125 419.164 207.047 414.581 Q203.991 409.975 203.991 401.248 Q203.991 392.498 207.047 387.914 Q210.125 383.308 215.936 383.308 Z\" fill=\"#000000\" fill-rule=\"evenodd\" fill-opacity=\"1\" /><path clip-path=\"url(#clip9000)\" d=\"M 0 0 M242.949 387.012 Q239.338 387.012 237.51 390.576 Q235.704 394.118 235.704 401.248 Q235.704 408.354 237.51 411.919 Q239.338 415.461 242.949 415.461 Q246.584 415.461 248.389 411.919 Q250.218 408.354 250.218 401.248 Q250.218 394.118 248.389 390.576 Q246.584 387.012 242.949 387.012 M242.949 383.308 Q248.76 383.308 251.815 387.914 Q254.894 392.498 254.894 401.248 Q254.894 409.975 251.815 414.581 Q248.76 419.164 242.949 419.164 Q237.139 419.164 234.061 414.581 Q231.005 409.975 231.005 401.248 Q231.005 392.498 234.061 387.914 Q237.139 383.308 242.949 383.308 Z\" fill=\"#000000\" fill-rule=\"evenodd\" fill-opacity=\"1\" /><path clip-path=\"url(#clip9000)\" d=\"M 0 0 M269.963 387.012 Q266.352 387.012 264.523 390.576 Q262.718 394.118 262.718 401.248 Q262.718 408.354 264.523 411.919 Q266.352 415.461 269.963 415.461 Q273.597 415.461 275.403 411.919 Q277.232 408.354 277.232 401.248 Q277.232 394.118 275.403 390.576 Q273.597 387.012 269.963 387.012 M269.963 383.308 Q275.773 383.308 278.829 387.914 Q281.907 392.498 281.907 401.248 Q281.907 409.975 278.829 414.581 Q275.773 419.164 269.963 419.164 Q264.153 419.164 261.074 414.581 Q258.019 409.975 258.019 401.248 Q258.019 392.498 261.074 387.914 Q264.153 383.308 269.963 383.308 Z\" fill=\"#000000\" fill-rule=\"evenodd\" fill-opacity=\"1\" /><path clip-path=\"url(#clip9000)\" d=\"M 0 0 M127.927 155.509 L135.566 155.509 L135.566 129.144 L127.256 130.81 L127.256 126.551 L135.519 124.884 L140.195 124.884 L140.195 155.509 L147.834 155.509 L147.834 159.444 L127.927 159.444 L127.927 155.509 Z\" fill=\"#000000\" fill-rule=\"evenodd\" fill-opacity=\"1\" /><path clip-path=\"url(#clip9000)\" d=\"M 0 0 M152.95 124.884 L171.306 124.884 L171.306 128.82 L157.232 128.82 L157.232 137.292 Q158.251 136.944 159.269 136.782 Q160.288 136.597 161.306 136.597 Q167.093 136.597 170.473 139.769 Q173.852 142.94 173.852 148.356 Q173.852 153.935 170.38 157.037 Q166.908 160.116 160.589 160.116 Q158.413 160.116 156.144 159.745 Q153.899 159.375 151.492 158.634 L151.492 153.935 Q153.575 155.069 155.797 155.625 Q158.019 156.18 160.496 156.18 Q164.501 156.18 166.839 154.074 Q169.177 151.968 169.177 148.356 Q169.177 144.745 166.839 142.639 Q164.501 140.532 160.496 140.532 Q158.621 140.532 156.746 140.949 Q154.894 141.366 152.95 142.245 L152.95 124.884 Z\" fill=\"#000000\" fill-rule=\"evenodd\" fill-opacity=\"1\" /><path clip-path=\"url(#clip9000)\" d=\"M 0 0 M188.922 127.963 Q185.311 127.963 183.482 131.528 Q181.677 135.069 181.677 142.199 Q181.677 149.306 183.482 152.87 Q185.311 156.412 188.922 156.412 Q192.556 156.412 194.362 152.87 Q196.19 149.306 196.19 142.199 Q196.19 135.069 194.362 131.528 Q192.556 127.963 188.922 127.963 M188.922 124.259 Q194.732 124.259 197.788 128.866 Q200.866 133.449 200.866 142.199 Q200.866 150.926 197.788 155.532 Q194.732 160.116 188.922 160.116 Q183.112 160.116 180.033 155.532 Q176.977 150.926 176.977 142.199 Q176.977 133.449 180.033 128.866 Q183.112 124.259 188.922 124.259 Z\" fill=\"#000000\" fill-rule=\"evenodd\" fill-opacity=\"1\" /><path clip-path=\"url(#clip9000)\" d=\"M 0 0 M215.936 127.963 Q212.325 127.963 210.496 131.528 Q208.69 135.069 208.69 142.199 Q208.69 149.306 210.496 152.87 Q212.325 156.412 215.936 156.412 Q219.57 156.412 221.375 152.87 Q223.204 149.306 223.204 142.199 Q223.204 135.069 221.375 131.528 Q219.57 127.963 215.936 127.963 M215.936 124.259 Q221.746 124.259 224.801 128.866 Q227.88 133.449 227.88 142.199 Q227.88 150.926 224.801 155.532 Q221.746 160.116 215.936 160.116 Q210.125 160.116 207.047 155.532 Q203.991 150.926 203.991 142.199 Q203.991 133.449 207.047 128.866 Q210.125 124.259 215.936 124.259 Z\" fill=\"#000000\" fill-rule=\"evenodd\" fill-opacity=\"1\" /><path clip-path=\"url(#clip9000)\" d=\"M 0 0 M242.949 127.963 Q239.338 127.963 237.51 131.528 Q235.704 135.069 235.704 142.199 Q235.704 149.306 237.51 152.87 Q239.338 156.412 242.949 156.412 Q246.584 156.412 248.389 152.87 Q250.218 149.306 250.218 142.199 Q250.218 135.069 248.389 131.528 Q246.584 127.963 242.949 127.963 M242.949 124.259 Q248.76 124.259 251.815 128.866 Q254.894 133.449 254.894 142.199 Q254.894 150.926 251.815 155.532 Q248.76 160.116 242.949 160.116 Q237.139 160.116 234.061 155.532 Q231.005 150.926 231.005 142.199 Q231.005 133.449 234.061 128.866 Q237.139 124.259 242.949 124.259 Z\" fill=\"#000000\" fill-rule=\"evenodd\" fill-opacity=\"1\" /><path clip-path=\"url(#clip9000)\" d=\"M 0 0 M269.963 127.963 Q266.352 127.963 264.523 131.528 Q262.718 135.069 262.718 142.199 Q262.718 149.306 264.523 152.87 Q266.352 156.412 269.963 156.412 Q273.597 156.412 275.403 152.87 Q277.232 149.306 277.232 142.199 Q277.232 135.069 275.403 131.528 Q273.597 127.963 269.963 127.963 M269.963 124.259 Q275.773 124.259 278.829 128.866 Q281.907 133.449 281.907 142.199 Q281.907 150.926 278.829 155.532 Q275.773 160.116 269.963 160.116 Q264.153 160.116 261.074 155.532 Q258.019 150.926 258.019 142.199 Q258.019 133.449 261.074 128.866 Q264.153 124.259 269.963 124.259 Z\" fill=\"#000000\" fill-rule=\"evenodd\" fill-opacity=\"1\" /><path clip-path=\"url(#clip9000)\" d=\"M 0 0 M855.254 16.7545 L855.254 25.383 Q851.122 21.5346 846.423 19.6307 Q841.765 17.7268 836.499 17.7268 Q826.128 17.7268 820.619 24.0867 Q815.11 30.4061 815.11 42.3968 Q815.11 54.3469 820.619 60.7069 Q826.128 67.0263 836.499 67.0263 Q841.765 67.0263 846.423 65.1223 Q851.122 63.2184 855.254 59.3701 L855.254 67.9175 Q850.96 70.8341 846.14 72.2924 Q841.36 73.7508 836.013 73.7508 Q822.28 73.7508 814.381 65.3654 Q806.481 56.9395 806.481 42.3968 Q806.481 27.8135 814.381 19.4281 Q822.28 11.0023 836.013 11.0023 Q841.441 11.0023 846.221 12.4606 Q851.041 13.8784 855.254 16.7545 Z\" fill=\"#000000\" fill-rule=\"evenodd\" fill-opacity=\"1\" /><path clip-path=\"url(#clip9000)\" d=\"M 0 0 M863.397 12.096 L901.637 12.096 L901.637 18.9825 L871.58 18.9825 L871.58 36.8875 L900.381 36.8875 L900.381 43.7741 L871.58 43.7741 L871.58 65.6895 L902.366 65.6895 L902.366 72.576 L863.397 72.576 L863.397 12.096 Z\" fill=\"#000000\" fill-rule=\"evenodd\" fill-opacity=\"1\" /><path clip-path=\"url(#clip9000)\" d=\"M 0 0 M946.764 14.0809 L946.764 22.0612 Q942.106 19.8332 937.974 18.7395 Q933.842 17.6457 929.994 17.6457 Q923.31 17.6457 919.664 20.2383 Q916.058 22.8309 916.058 27.611 Q916.058 31.6214 918.448 33.6873 Q920.879 35.7128 927.604 36.9686 L932.546 37.9813 Q941.701 39.7232 946.035 44.1387 Q950.41 48.5136 950.41 55.8863 Q950.41 64.6767 944.496 69.2137 Q938.622 73.7508 927.239 73.7508 Q922.945 73.7508 918.084 72.7785 Q913.263 71.8063 908.078 69.9024 L908.078 61.4765 Q913.061 64.2716 917.841 65.6895 Q922.621 67.1073 927.239 67.1073 Q934.247 67.1073 938.055 64.3527 Q941.863 61.598 941.863 56.4939 Q941.863 52.0379 939.108 49.5264 Q936.394 47.0148 930.156 45.759 L925.173 44.7868 Q916.018 42.9639 911.927 39.075 Q907.835 35.1862 907.835 28.2591 Q907.835 20.2383 913.466 15.6203 Q919.137 11.0023 929.062 11.0023 Q933.315 11.0023 937.731 11.7719 Q942.146 12.5416 946.764 14.0809 Z\" fill=\"#000000\" fill-rule=\"evenodd\" fill-opacity=\"1\" /><path clip-path=\"url(#clip9000)\" d=\"M 0 0 M1021.18 14.0809 L1021.18 22.0612 Q1016.52 19.8332 1012.39 18.7395 Q1008.26 17.6457 1004.41 17.6457 Q997.725 17.6457 994.079 20.2383 Q990.474 22.8309 990.474 27.611 Q990.474 31.6214 992.864 33.6873 Q995.294 35.7128 1002.02 36.9686 L1006.96 37.9813 Q1016.12 39.7232 1020.45 44.1387 Q1024.83 48.5136 1024.83 55.8863 Q1024.83 64.6767 1018.91 69.2137 Q1013.04 73.7508 1001.65 73.7508 Q997.36 73.7508 992.499 72.7785 Q987.678 71.8063 982.493 69.9024 L982.493 61.4765 Q987.476 64.2716 992.256 65.6895 Q997.036 67.1073 1001.65 67.1073 Q1008.66 67.1073 1012.47 64.3527 Q1016.28 61.598 1016.28 56.4939 Q1016.28 52.0379 1013.52 49.5264 Q1010.81 47.0148 1004.57 45.759 L999.588 44.7868 Q990.433 42.9639 986.342 39.075 Q982.25 35.1862 982.25 28.2591 Q982.25 20.2383 987.881 15.6203 Q993.552 11.0023 1003.48 11.0023 Q1007.73 11.0023 1012.15 11.7719 Q1016.56 12.5416 1021.18 14.0809 Z\" fill=\"#000000\" fill-rule=\"evenodd\" fill-opacity=\"1\" /><path clip-path=\"url(#clip9000)\" d=\"M 0 0 M1071.45 48.0275 L1071.45 51.6733 L1037.18 51.6733 Q1037.67 59.3701 1041.8 63.421 Q1045.97 67.4314 1053.38 67.4314 Q1057.68 67.4314 1061.69 66.3781 Q1065.74 65.3249 1069.71 63.2184 L1069.71 70.267 Q1065.7 71.9684 1061.49 72.8596 Q1057.27 73.7508 1052.94 73.7508 Q1042.08 73.7508 1035.72 67.4314 Q1029.4 61.1119 1029.4 50.3365 Q1029.4 39.1965 1035.4 32.6746 Q1041.43 26.1121 1051.64 26.1121 Q1060.8 26.1121 1066.1 32.0264 Q1071.45 37.9003 1071.45 48.0275 M1064 45.84 Q1063.92 39.7232 1060.55 36.0774 Q1057.23 32.4315 1051.72 32.4315 Q1045.48 32.4315 1041.72 35.9558 Q1037.99 39.4801 1037.42 45.8805 L1064 45.84 Z\" fill=\"#000000\" fill-rule=\"evenodd\" fill-opacity=\"1\" /><path clip-path=\"url(#clip9000)\" d=\"M 0 0 M1105.56 34.1734 Q1104.3 33.4443 1102.81 33.1202 Q1101.35 32.7556 1099.56 32.7556 Q1093.24 32.7556 1089.84 36.8875 Q1086.48 40.9789 1086.48 48.6757 L1086.48 72.576 L1078.99 72.576 L1078.99 27.2059 L1086.48 27.2059 L1086.48 34.2544 Q1088.83 30.1225 1092.6 28.1376 Q1096.36 26.1121 1101.75 26.1121 Q1102.52 26.1121 1103.45 26.2337 Q1104.38 26.3147 1105.52 26.5172 L1105.56 34.1734 Z\" fill=\"#000000\" fill-rule=\"evenodd\" fill-opacity=\"1\" /><path clip-path=\"url(#clip9000)\" d=\"M 0 0 M1113.38 27.2059 L1120.83 27.2059 L1120.83 72.576 L1113.38 72.576 L1113.38 27.2059 M1113.38 9.54393 L1120.83 9.54393 L1120.83 18.9825 L1113.38 18.9825 L1113.38 9.54393 Z\" fill=\"#000000\" fill-rule=\"evenodd\" fill-opacity=\"1\" /><path clip-path=\"url(#clip9000)\" d=\"M 0 0 M1167.46 48.0275 L1167.46 51.6733 L1133.19 51.6733 Q1133.67 59.3701 1137.8 63.421 Q1141.98 67.4314 1149.39 67.4314 Q1153.68 67.4314 1157.69 66.3781 Q1161.75 65.3249 1165.72 63.2184 L1165.72 70.267 Q1161.71 71.9684 1157.49 72.8596 Q1153.28 73.7508 1148.94 73.7508 Q1138.09 73.7508 1131.73 67.4314 Q1125.41 61.1119 1125.41 50.3365 Q1125.41 39.1965 1131.4 32.6746 Q1137.44 26.1121 1147.65 26.1121 Q1156.8 26.1121 1162.11 32.0264 Q1167.46 37.9003 1167.46 48.0275 M1160 45.84 Q1159.92 39.7232 1156.56 36.0774 Q1153.24 32.4315 1147.73 32.4315 Q1141.49 32.4315 1137.72 35.9558 Q1134 39.4801 1133.43 45.8805 L1160 45.84 Z\" fill=\"#000000\" fill-rule=\"evenodd\" fill-opacity=\"1\" /><path clip-path=\"url(#clip9000)\" d=\"M 0 0 M1204.2 28.5427 L1204.2 35.5912 Q1201.04 33.9709 1197.64 33.1607 Q1194.23 32.3505 1190.59 32.3505 Q1185.04 32.3505 1182.24 34.0519 Q1179.49 35.7533 1179.49 39.156 Q1179.49 41.7486 1181.47 43.2475 Q1183.46 44.7058 1189.45 46.0426 L1192.01 46.6097 Q1199.95 48.3111 1203.27 51.4303 Q1206.63 54.509 1206.63 60.0587 Q1206.63 66.3781 1201.61 70.0644 Q1196.62 73.7508 1187.87 73.7508 Q1184.23 73.7508 1180.26 73.0216 Q1176.33 72.3329 1171.95 70.9151 L1171.95 63.2184 Q1176.09 65.3654 1180.1 66.4591 Q1184.11 67.5124 1188.04 67.5124 Q1193.3 67.5124 1196.14 65.73 Q1198.97 63.9071 1198.97 60.6258 Q1198.97 57.5877 1196.91 55.9673 Q1194.88 54.3469 1187.96 52.8481 L1185.36 52.2405 Q1178.44 50.7821 1175.36 47.7845 Q1172.28 44.7463 1172.28 39.4801 Q1172.28 33.0797 1176.82 29.5959 Q1181.35 26.1121 1189.7 26.1121 Q1193.83 26.1121 1197.47 26.7198 Q1201.12 27.3274 1204.2 28.5427 Z\" fill=\"#000000\" fill-rule=\"evenodd\" fill-opacity=\"1\" /><path clip-path=\"url(#clip9000)\" d=\"M 0 0 M1286.43 16.7545 L1286.43 25.383 Q1282.3 21.5346 1277.6 19.6307 Q1272.94 17.7268 1267.68 17.7268 Q1257.31 17.7268 1251.8 24.0867 Q1246.29 30.4061 1246.29 42.3968 Q1246.29 54.3469 1251.8 60.7069 Q1257.31 67.0263 1267.68 67.0263 Q1272.94 67.0263 1277.6 65.1223 Q1282.3 63.2184 1286.43 59.3701 L1286.43 67.9175 Q1282.14 70.8341 1277.32 72.2924 Q1272.54 73.7508 1267.19 73.7508 Q1253.46 73.7508 1245.56 65.3654 Q1237.66 56.9395 1237.66 42.3968 Q1237.66 27.8135 1245.56 19.4281 Q1253.46 11.0023 1267.19 11.0023 Q1272.62 11.0023 1277.4 12.4606 Q1282.22 13.8784 1286.43 16.7545 Z\" fill=\"#000000\" fill-rule=\"evenodd\" fill-opacity=\"1\" /><path clip-path=\"url(#clip9000)\" d=\"M 0 0 M1294.57 12.096 L1332.82 12.096 L1332.82 18.9825 L1302.76 18.9825 L1302.76 36.8875 L1331.56 36.8875 L1331.56 43.7741 L1302.76 43.7741 L1302.76 65.6895 L1333.54 65.6895 L1333.54 72.576 L1294.57 72.576 L1294.57 12.096 Z\" fill=\"#000000\" fill-rule=\"evenodd\" fill-opacity=\"1\" /><path clip-path=\"url(#clip9000)\" d=\"M 0 0 M1377.94 14.0809 L1377.94 22.0612 Q1373.28 19.8332 1369.15 18.7395 Q1365.02 17.6457 1361.17 17.6457 Q1354.49 17.6457 1350.84 20.2383 Q1347.24 22.8309 1347.24 27.611 Q1347.24 31.6214 1349.63 33.6873 Q1352.06 35.7128 1358.78 36.9686 L1363.72 37.9813 Q1372.88 39.7232 1377.21 44.1387 Q1381.59 48.5136 1381.59 55.8863 Q1381.59 64.6767 1375.67 69.2137 Q1369.8 73.7508 1358.42 73.7508 Q1354.12 73.7508 1349.26 72.7785 Q1344.44 71.8063 1339.26 69.9024 L1339.26 61.4765 Q1344.24 64.2716 1349.02 65.6895 Q1353.8 67.1073 1358.42 67.1073 Q1365.43 67.1073 1369.23 64.3527 Q1373.04 61.598 1373.04 56.4939 Q1373.04 52.0379 1370.29 49.5264 Q1367.57 47.0148 1361.33 45.759 L1356.35 44.7868 Q1347.2 42.9639 1343.1 39.075 Q1339.01 35.1862 1339.01 28.2591 Q1339.01 20.2383 1344.64 15.6203 Q1350.32 11.0023 1360.24 11.0023 Q1364.49 11.0023 1368.91 11.7719 Q1373.32 12.5416 1377.94 14.0809 Z\" fill=\"#000000\" fill-rule=\"evenodd\" fill-opacity=\"1\" /><path clip-path=\"url(#clip9000)\" d=\"M 0 0 M1407.96 17.4837 Q1401.64 17.4837 1398.44 23.7221 Q1395.28 29.92 1395.28 42.3968 Q1395.28 54.833 1398.44 61.0714 Q1401.64 67.2693 1407.96 67.2693 Q1414.32 67.2693 1417.48 61.0714 Q1420.68 54.833 1420.68 42.3968 Q1420.68 29.92 1417.48 23.7221 Q1414.32 17.4837 1407.96 17.4837 M1407.96 11.0023 Q1418.13 11.0023 1423.47 19.0636 Q1428.86 27.0843 1428.86 42.3968 Q1428.86 57.6687 1423.47 65.73 Q1418.13 73.7508 1407.96 73.7508 Q1397.79 73.7508 1392.4 65.73 Q1387.06 57.6687 1387.06 42.3968 Q1387.06 27.0843 1392.4 19.0636 Q1397.79 11.0023 1407.96 11.0023 Z\" fill=\"#000000\" fill-rule=\"evenodd\" fill-opacity=\"1\" /><path clip-path=\"url(#clip9000)\" d=\"M 0 0 M1455.23 17.4837 Q1448.91 17.4837 1445.71 23.7221 Q1442.55 29.92 1442.55 42.3968 Q1442.55 54.833 1445.71 61.0714 Q1448.91 67.2693 1455.23 67.2693 Q1461.59 67.2693 1464.75 61.0714 Q1467.95 54.833 1467.95 42.3968 Q1467.95 29.92 1464.75 23.7221 Q1461.59 17.4837 1455.23 17.4837 M1455.23 11.0023 Q1465.4 11.0023 1470.75 19.0636 Q1476.14 27.0843 1476.14 42.3968 Q1476.14 57.6687 1470.75 65.73 Q1465.4 73.7508 1455.23 73.7508 Q1445.07 73.7508 1439.68 65.73 Q1434.33 57.6687 1434.33 42.3968 Q1434.33 27.0843 1439.68 19.0636 Q1445.07 11.0023 1455.23 11.0023 Z\" fill=\"#000000\" fill-rule=\"evenodd\" fill-opacity=\"1\" /><path clip-path=\"url(#clip9000)\" d=\"M 0 0 M1502.51 17.4837 Q1496.19 17.4837 1492.99 23.7221 Q1489.83 29.92 1489.83 42.3968 Q1489.83 54.833 1492.99 61.0714 Q1496.19 67.2693 1502.51 67.2693 Q1508.87 67.2693 1512.03 61.0714 Q1515.23 54.833 1515.23 42.3968 Q1515.23 29.92 1512.03 23.7221 Q1508.87 17.4837 1502.51 17.4837 M1502.51 11.0023 Q1512.68 11.0023 1518.02 19.0636 Q1523.41 27.0843 1523.41 42.3968 Q1523.41 57.6687 1518.02 65.73 Q1512.68 73.7508 1502.51 73.7508 Q1492.34 73.7508 1486.95 65.73 Q1481.61 57.6687 1481.61 42.3968 Q1481.61 27.0843 1486.95 19.0636 Q1492.34 11.0023 1502.51 11.0023 Z\" fill=\"#000000\" fill-rule=\"evenodd\" fill-opacity=\"1\" /><path clip-path=\"url(#clip9000)\" d=\"M 0 0 M1549.78 17.4837 Q1543.46 17.4837 1540.26 23.7221 Q1537.1 29.92 1537.1 42.3968 Q1537.1 54.833 1540.26 61.0714 Q1543.46 67.2693 1549.78 67.2693 Q1556.14 67.2693 1559.3 61.0714 Q1562.5 54.833 1562.5 42.3968 Q1562.5 29.92 1559.3 23.7221 Q1556.14 17.4837 1549.78 17.4837 M1549.78 11.0023 Q1559.95 11.0023 1565.3 19.0636 Q1570.68 27.0843 1570.68 42.3968 Q1570.68 57.6687 1565.3 65.73 Q1559.95 73.7508 1549.78 73.7508 Q1539.61 73.7508 1534.23 65.73 Q1528.88 57.6687 1528.88 42.3968 Q1528.88 27.0843 1534.23 19.0636 Q1539.61 11.0023 1549.78 11.0023 Z\" fill=\"#000000\" fill-rule=\"evenodd\" fill-opacity=\"1\" /><path clip-path=\"url(#clip9000)\" d=\"M 0 0 M1597.06 17.4837 Q1590.74 17.4837 1587.54 23.7221 Q1584.38 29.92 1584.38 42.3968 Q1584.38 54.833 1587.54 61.0714 Q1590.74 67.2693 1597.06 67.2693 Q1603.42 67.2693 1606.58 61.0714 Q1609.78 54.833 1609.78 42.3968 Q1609.78 29.92 1606.58 23.7221 Q1603.42 17.4837 1597.06 17.4837 M1597.06 11.0023 Q1607.22 11.0023 1612.57 19.0636 Q1617.96 27.0843 1617.96 42.3968 Q1617.96 57.6687 1612.57 65.73 Q1607.22 73.7508 1597.06 73.7508 Q1586.89 73.7508 1581.5 65.73 Q1576.15 57.6687 1576.15 42.3968 Q1576.15 27.0843 1581.5 19.0636 Q1586.89 11.0023 1597.06 11.0023 Z\" fill=\"#000000\" fill-rule=\"evenodd\" fill-opacity=\"1\" /><path clip-path=\"url(#clip9000)\" d=\"M 0 0 M1644.33 17.4837 Q1638.01 17.4837 1634.81 23.7221 Q1631.65 29.92 1631.65 42.3968 Q1631.65 54.833 1634.81 61.0714 Q1638.01 67.2693 1644.33 67.2693 Q1650.69 67.2693 1653.85 61.0714 Q1657.05 54.833 1657.05 42.3968 Q1657.05 29.92 1653.85 23.7221 Q1650.69 17.4837 1644.33 17.4837 M1644.33 11.0023 Q1654.5 11.0023 1659.84 19.0636 Q1665.23 27.0843 1665.23 42.3968 Q1665.23 57.6687 1659.84 65.73 Q1654.5 73.7508 1644.33 73.7508 Q1634.16 73.7508 1628.77 65.73 Q1623.43 57.6687 1623.43 42.3968 Q1623.43 27.0843 1628.77 19.0636 Q1634.16 11.0023 1644.33 11.0023 Z\" fill=\"#000000\" fill-rule=\"evenodd\" fill-opacity=\"1\" /><path clip-path=\"url(#clip9000)\" d=\"M 0 0 M1691.6 17.4837 Q1685.28 17.4837 1682.08 23.7221 Q1678.92 29.92 1678.92 42.3968 Q1678.92 54.833 1682.08 61.0714 Q1685.28 67.2693 1691.6 67.2693 Q1697.96 67.2693 1701.12 61.0714 Q1704.32 54.833 1704.32 42.3968 Q1704.32 29.92 1701.12 23.7221 Q1697.96 17.4837 1691.6 17.4837 M1691.6 11.0023 Q1701.77 11.0023 1707.12 19.0636 Q1712.51 27.0843 1712.51 42.3968 Q1712.51 57.6687 1707.12 65.73 Q1701.77 73.7508 1691.6 73.7508 Q1681.44 73.7508 1676.05 65.73 Q1670.7 57.6687 1670.7 42.3968 Q1670.7 27.0843 1676.05 19.0636 Q1681.44 11.0023 1691.6 11.0023 Z\" fill=\"#000000\" fill-rule=\"evenodd\" fill-opacity=\"1\" /><path clip-path=\"url(#clip9000)\" d=\"M 0 0 M1738.88 17.4837 Q1732.56 17.4837 1729.36 23.7221 Q1726.2 29.92 1726.2 42.3968 Q1726.2 54.833 1729.36 61.0714 Q1732.56 67.2693 1738.88 67.2693 Q1745.24 67.2693 1748.4 61.0714 Q1751.6 54.833 1751.6 42.3968 Q1751.6 29.92 1748.4 23.7221 Q1745.24 17.4837 1738.88 17.4837 M1738.88 11.0023 Q1749.05 11.0023 1754.39 19.0636 Q1759.78 27.0843 1759.78 42.3968 Q1759.78 57.6687 1754.39 65.73 Q1749.05 73.7508 1738.88 73.7508 Q1728.71 73.7508 1723.32 65.73 Q1717.98 57.6687 1717.98 42.3968 Q1717.98 27.0843 1723.32 19.0636 Q1728.71 11.0023 1738.88 11.0023 Z\" fill=\"#000000\" fill-rule=\"evenodd\" fill-opacity=\"1\" /><path clip-path=\"url(#clip9000)\" d=\"M 0 0 M1786.15 17.4837 Q1779.83 17.4837 1776.63 23.7221 Q1773.47 29.92 1773.47 42.3968 Q1773.47 54.833 1776.63 61.0714 Q1779.83 67.2693 1786.15 67.2693 Q1792.51 67.2693 1795.67 61.0714 Q1798.87 54.833 1798.87 42.3968 Q1798.87 29.92 1795.67 23.7221 Q1792.51 17.4837 1786.15 17.4837 M1786.15 11.0023 Q1796.32 11.0023 1801.67 19.0636 Q1807.05 27.0843 1807.05 42.3968 Q1807.05 57.6687 1801.67 65.73 Q1796.32 73.7508 1786.15 73.7508 Q1775.98 73.7508 1770.6 65.73 Q1765.25 57.6687 1765.25 42.3968 Q1765.25 27.0843 1770.6 19.0636 Q1775.98 11.0023 1786.15 11.0023 Z\" fill=\"#000000\" fill-rule=\"evenodd\" fill-opacity=\"1\" /><path clip-path=\"url(#clip9000)\" d=\"M 0 0 M1817.34 65.6895 L1830.71 65.6895 L1830.71 19.5497 L1816.17 22.4663 L1816.17 15.0127 L1830.63 12.096 L1838.81 12.096 L1838.81 65.6895 L1852.18 65.6895 L1852.18 72.576 L1817.34 72.576 L1817.34 65.6895 Z\" fill=\"#000000\" fill-rule=\"evenodd\" fill-opacity=\"1\" /><path clip-path=\"url(#clip9000)\" d=\"M 0 0 M1247.98 1513.81 L1247.98 1531.66 L1256.06 1531.66 Q1260.55 1531.66 1263 1529.34 Q1265.45 1527.02 1265.45 1522.72 Q1265.45 1518.45 1263 1516.13 Q1260.55 1513.81 1256.06 1513.81 L1247.98 1513.81 M1241.55 1508.52 L1256.06 1508.52 Q1264.05 1508.52 1268.13 1512.15 Q1272.23 1515.75 1272.23 1522.72 Q1272.23 1529.75 1268.13 1533.35 Q1264.05 1536.95 1256.06 1536.95 L1247.98 1536.95 L1247.98 1556.04 L1241.55 1556.04 L1241.55 1508.52 Z\" fill=\"#000000\" fill-rule=\"evenodd\" fill-opacity=\"1\" /><path clip-path=\"url(#clip9000)\" d=\"M 0 0 M1306.54 1536.76 L1306.54 1539.62 L1279.62 1539.62 Q1280 1545.67 1283.24 1548.85 Q1286.52 1552 1292.35 1552 Q1295.72 1552 1298.87 1551.17 Q1302.05 1550.35 1305.17 1548.69 L1305.17 1554.23 Q1302.02 1555.57 1298.71 1556.27 Q1295.4 1556.97 1292 1556.97 Q1283.47 1556.97 1278.47 1552 Q1273.5 1547.04 1273.5 1538.57 Q1273.5 1529.82 1278.22 1524.69 Q1282.96 1519.54 1290.98 1519.54 Q1298.17 1519.54 1302.34 1524.18 Q1306.54 1528.8 1306.54 1536.76 M1300.69 1535.04 Q1300.62 1530.23 1297.98 1527.37 Q1295.37 1524.5 1291.04 1524.5 Q1286.14 1524.5 1283.18 1527.27 Q1280.25 1530.04 1279.81 1535.07 L1300.69 1535.04 Z\" fill=\"#000000\" fill-rule=\"evenodd\" fill-opacity=\"1\" /><path clip-path=\"url(#clip9000)\" d=\"M 0 0 M1333.34 1525.87 Q1332.36 1525.3 1331.18 1525.04 Q1330.03 1524.76 1328.63 1524.76 Q1323.67 1524.76 1320.99 1528 Q1318.35 1531.22 1318.35 1537.27 L1318.35 1556.04 L1312.46 1556.04 L1312.46 1520.4 L1318.35 1520.4 L1318.35 1525.93 Q1320.2 1522.69 1323.16 1521.13 Q1326.12 1519.54 1330.35 1519.54 Q1330.95 1519.54 1331.69 1519.63 Q1332.42 1519.7 1333.31 1519.85 L1333.34 1525.87 Z\" fill=\"#000000\" fill-rule=\"evenodd\" fill-opacity=\"1\" /><path clip-path=\"url(#clip9000)\" d=\"M 0 0 M1339.48 1520.4 L1345.34 1520.4 L1345.34 1556.04 L1339.48 1556.04 L1339.48 1520.4 M1339.48 1506.52 L1345.34 1506.52 L1345.34 1513.93 L1339.48 1513.93 L1339.48 1506.52 Z\" fill=\"#000000\" fill-rule=\"evenodd\" fill-opacity=\"1\" /><path clip-path=\"url(#clip9000)\" d=\"M 0 0 M1365.3 1524.5 Q1360.59 1524.5 1357.85 1528.19 Q1355.11 1531.85 1355.11 1538.25 Q1355.11 1544.65 1357.82 1548.34 Q1360.56 1552 1365.3 1552 Q1369.98 1552 1372.71 1548.31 Q1375.45 1544.62 1375.45 1538.25 Q1375.45 1531.92 1372.71 1528.23 Q1369.98 1524.5 1365.3 1524.5 M1365.3 1519.54 Q1372.94 1519.54 1377.3 1524.5 Q1381.66 1529.47 1381.66 1538.25 Q1381.66 1547 1377.3 1552 Q1372.94 1556.97 1365.3 1556.97 Q1357.63 1556.97 1353.27 1552 Q1348.94 1547 1348.94 1538.25 Q1348.94 1529.47 1353.27 1524.5 Q1357.63 1519.54 1365.3 1519.54 Z\" fill=\"#000000\" fill-rule=\"evenodd\" fill-opacity=\"1\" /><path clip-path=\"url(#clip9000)\" d=\"M 0 0 M1411.26 1525.81 L1411.26 1506.52 L1417.11 1506.52 L1417.11 1556.04 L1411.26 1556.04 L1411.26 1550.7 Q1409.41 1553.88 1406.58 1555.44 Q1403.78 1556.97 1399.83 1556.97 Q1393.37 1556.97 1389.3 1551.81 Q1385.25 1546.65 1385.25 1538.25 Q1385.25 1529.85 1389.3 1524.69 Q1393.37 1519.54 1399.83 1519.54 Q1403.78 1519.54 1406.58 1521.1 Q1409.41 1522.62 1411.26 1525.81 M1391.3 1538.25 Q1391.3 1544.71 1393.94 1548.4 Q1396.62 1552.07 1401.26 1552.07 Q1405.91 1552.07 1408.58 1548.4 Q1411.26 1544.71 1411.26 1538.25 Q1411.26 1531.79 1408.58 1528.13 Q1405.91 1524.44 1401.26 1524.44 Q1396.62 1524.44 1393.94 1528.13 Q1391.3 1531.79 1391.3 1538.25 Z\" fill=\"#000000\" fill-rule=\"evenodd\" fill-opacity=\"1\" /><path clip-path=\"url(#clip9000)\" d=\"M 0 0 M88.0042 833.45 L40.4842 851.592 L40.4842 844.877 L80.4926 829.822 L40.4842 814.735 L40.4842 808.051 L88.0042 826.161 L88.0042 833.45 Z\" fill=\"#000000\" fill-rule=\"evenodd\" fill-opacity=\"1\" /><path clip-path=\"url(#clip9000)\" d=\"M 0 0 M70.0847 790.768 Q70.0847 797.866 71.7079 800.603 Q73.3312 803.34 77.2461 803.34 Q80.3653 803.34 82.2114 801.303 Q84.0256 799.234 84.0256 795.701 Q84.0256 790.832 80.5881 787.903 Q77.1188 784.943 71.3897 784.943 L70.0847 784.943 L70.0847 790.768 M67.6657 779.087 L88.0042 779.087 L88.0042 784.943 L82.5933 784.943 Q85.8398 786.949 87.3994 789.94 Q88.9272 792.932 88.9272 797.261 Q88.9272 802.736 85.8716 805.982 Q82.7843 809.197 77.6281 809.197 Q71.6125 809.197 68.5569 805.186 Q65.5014 801.144 65.5014 793.155 L65.5014 784.943 L64.9285 784.943 Q60.8862 784.943 58.6901 787.617 Q56.4621 790.259 56.4621 795.065 Q56.4621 798.12 57.1941 801.017 Q57.9262 803.913 59.3903 806.587 L53.9795 806.587 Q52.7381 803.372 52.1334 800.348 Q51.4968 797.325 51.4968 794.46 Q51.4968 786.726 55.5072 782.906 Q59.5176 779.087 67.6657 779.087 Z\" fill=\"#000000\" fill-rule=\"evenodd\" fill-opacity=\"1\" /><path clip-path=\"url(#clip9000)\" d=\"M 0 0 M38.479 772.944 L38.479 767.088 L88.0042 767.088 L88.0042 772.944 L38.479 772.944 Z\" fill=\"#000000\" fill-rule=\"evenodd\" fill-opacity=\"1\" /><path clip-path=\"url(#clip9000)\" d=\"M 0 0 M73.9359 761.549 L52.3562 761.549 L52.3562 755.693 L73.7131 755.693 Q78.7739 755.693 81.3202 753.72 Q83.8346 751.746 83.8346 747.8 Q83.8346 743.057 80.8109 740.32 Q77.7872 737.551 72.5673 737.551 L52.3562 737.551 L52.3562 731.694 L88.0042 731.694 L88.0042 737.551 L82.5296 737.551 Q85.7762 739.683 87.3676 742.516 Q88.9272 745.317 88.9272 749.041 Q88.9272 755.184 85.1078 758.367 Q81.2883 761.549 73.9359 761.549 M51.4968 746.813 L51.4968 746.813 Z\" fill=\"#000000\" fill-rule=\"evenodd\" fill-opacity=\"1\" /><path clip-path=\"url(#clip9000)\" d=\"M 0 0 M68.7161 695.06 L71.5806 695.06 L71.5806 721.987 Q77.6281 721.605 80.8109 718.358 Q83.9619 715.08 83.9619 709.255 Q83.9619 705.881 83.1344 702.73 Q82.3069 699.547 80.6518 696.428 L86.1899 696.428 Q87.5267 699.579 88.227 702.889 Q88.9272 706.2 88.9272 709.605 Q88.9272 718.135 83.9619 723.132 Q78.9967 728.098 70.5303 728.098 Q61.7774 728.098 56.6531 723.387 Q51.4968 718.645 51.4968 710.624 Q51.4968 703.431 56.1438 699.261 Q60.7589 695.06 68.7161 695.06 M66.9973 700.916 Q62.1912 700.98 59.3266 703.621 Q56.4621 706.231 56.4621 710.56 Q56.4621 715.462 59.2312 718.422 Q62.0002 721.35 67.0292 721.796 L66.9973 700.916 Z\" fill=\"#000000\" fill-rule=\"evenodd\" fill-opacity=\"1\" /><polyline clip-path=\"url(#clip9002)\" style=\"stroke:#009af9; stroke-width:4; stroke-opacity:1; fill:none\" points=\"\n",
       "  363.837,1386.4 465.468,1255.53 567.099,1244.28 668.73,1198.45 770.361,1165.24 871.992,1140.7 973.623,1100.78 1075.25,999.149 1176.89,935.174 1278.52,872.194 \n",
       "  1380.15,761.674 1481.78,701.896 1583.41,586.06 1685.04,556.704 1786.67,426.641 1888.3,326.845 1989.93,302.091 2091.56,348.813 2193.2,271.191 2294.83,160.256 \n",
       "  \n",
       "  \"/>\n",
       "<path clip-path=\"url(#clip9002)\" d=\"M363.837 1370.4 L347.837 1386.4 L363.837 1402.4 L379.837 1386.4 L363.837 1370.4 Z\" fill=\"#009af9\" fill-rule=\"evenodd\" fill-opacity=\"1\" stroke=\"#000000\" stroke-opacity=\"1\" stroke-width=\"3.2\"/>\n",
       "<path clip-path=\"url(#clip9002)\" d=\"M465.468 1239.53 L449.468 1255.53 L465.468 1271.53 L481.468 1255.53 L465.468 1239.53 Z\" fill=\"#009af9\" fill-rule=\"evenodd\" fill-opacity=\"1\" stroke=\"#000000\" stroke-opacity=\"1\" stroke-width=\"3.2\"/>\n",
       "<path clip-path=\"url(#clip9002)\" d=\"M567.099 1228.28 L551.099 1244.28 L567.099 1260.28 L583.099 1244.28 L567.099 1228.28 Z\" fill=\"#009af9\" fill-rule=\"evenodd\" fill-opacity=\"1\" stroke=\"#000000\" stroke-opacity=\"1\" stroke-width=\"3.2\"/>\n",
       "<path clip-path=\"url(#clip9002)\" d=\"M668.73 1182.45 L652.73 1198.45 L668.73 1214.45 L684.73 1198.45 L668.73 1182.45 Z\" fill=\"#009af9\" fill-rule=\"evenodd\" fill-opacity=\"1\" stroke=\"#000000\" stroke-opacity=\"1\" stroke-width=\"3.2\"/>\n",
       "<path clip-path=\"url(#clip9002)\" d=\"M770.361 1149.24 L754.361 1165.24 L770.361 1181.24 L786.361 1165.24 L770.361 1149.24 Z\" fill=\"#009af9\" fill-rule=\"evenodd\" fill-opacity=\"1\" stroke=\"#000000\" stroke-opacity=\"1\" stroke-width=\"3.2\"/>\n",
       "<path clip-path=\"url(#clip9002)\" d=\"M871.992 1124.7 L855.992 1140.7 L871.992 1156.7 L887.992 1140.7 L871.992 1124.7 Z\" fill=\"#009af9\" fill-rule=\"evenodd\" fill-opacity=\"1\" stroke=\"#000000\" stroke-opacity=\"1\" stroke-width=\"3.2\"/>\n",
       "<path clip-path=\"url(#clip9002)\" d=\"M973.623 1084.78 L957.623 1100.78 L973.623 1116.78 L989.623 1100.78 L973.623 1084.78 Z\" fill=\"#009af9\" fill-rule=\"evenodd\" fill-opacity=\"1\" stroke=\"#000000\" stroke-opacity=\"1\" stroke-width=\"3.2\"/>\n",
       "<path clip-path=\"url(#clip9002)\" d=\"M1075.25 983.149 L1059.25 999.149 L1075.25 1015.15 L1091.25 999.149 L1075.25 983.149 Z\" fill=\"#009af9\" fill-rule=\"evenodd\" fill-opacity=\"1\" stroke=\"#000000\" stroke-opacity=\"1\" stroke-width=\"3.2\"/>\n",
       "<path clip-path=\"url(#clip9002)\" d=\"M1176.89 919.174 L1160.89 935.174 L1176.89 951.174 L1192.89 935.174 L1176.89 919.174 Z\" fill=\"#009af9\" fill-rule=\"evenodd\" fill-opacity=\"1\" stroke=\"#000000\" stroke-opacity=\"1\" stroke-width=\"3.2\"/>\n",
       "<path clip-path=\"url(#clip9002)\" d=\"M1278.52 856.194 L1262.52 872.194 L1278.52 888.194 L1294.52 872.194 L1278.52 856.194 Z\" fill=\"#009af9\" fill-rule=\"evenodd\" fill-opacity=\"1\" stroke=\"#000000\" stroke-opacity=\"1\" stroke-width=\"3.2\"/>\n",
       "<path clip-path=\"url(#clip9002)\" d=\"M1380.15 745.674 L1364.15 761.674 L1380.15 777.674 L1396.15 761.674 L1380.15 745.674 Z\" fill=\"#009af9\" fill-rule=\"evenodd\" fill-opacity=\"1\" stroke=\"#000000\" stroke-opacity=\"1\" stroke-width=\"3.2\"/>\n",
       "<path clip-path=\"url(#clip9002)\" d=\"M1481.78 685.896 L1465.78 701.896 L1481.78 717.896 L1497.78 701.896 L1481.78 685.896 Z\" fill=\"#009af9\" fill-rule=\"evenodd\" fill-opacity=\"1\" stroke=\"#000000\" stroke-opacity=\"1\" stroke-width=\"3.2\"/>\n",
       "<path clip-path=\"url(#clip9002)\" d=\"M1583.41 570.06 L1567.41 586.06 L1583.41 602.06 L1599.41 586.06 L1583.41 570.06 Z\" fill=\"#009af9\" fill-rule=\"evenodd\" fill-opacity=\"1\" stroke=\"#000000\" stroke-opacity=\"1\" stroke-width=\"3.2\"/>\n",
       "<path clip-path=\"url(#clip9002)\" d=\"M1685.04 540.704 L1669.04 556.704 L1685.04 572.704 L1701.04 556.704 L1685.04 540.704 Z\" fill=\"#009af9\" fill-rule=\"evenodd\" fill-opacity=\"1\" stroke=\"#000000\" stroke-opacity=\"1\" stroke-width=\"3.2\"/>\n",
       "<path clip-path=\"url(#clip9002)\" d=\"M1786.67 410.641 L1770.67 426.641 L1786.67 442.641 L1802.67 426.641 L1786.67 410.641 Z\" fill=\"#009af9\" fill-rule=\"evenodd\" fill-opacity=\"1\" stroke=\"#000000\" stroke-opacity=\"1\" stroke-width=\"3.2\"/>\n",
       "<path clip-path=\"url(#clip9002)\" d=\"M1888.3 310.845 L1872.3 326.845 L1888.3 342.845 L1904.3 326.845 L1888.3 310.845 Z\" fill=\"#009af9\" fill-rule=\"evenodd\" fill-opacity=\"1\" stroke=\"#000000\" stroke-opacity=\"1\" stroke-width=\"3.2\"/>\n",
       "<path clip-path=\"url(#clip9002)\" d=\"M1989.93 286.091 L1973.93 302.091 L1989.93 318.091 L2005.93 302.091 L1989.93 286.091 Z\" fill=\"#009af9\" fill-rule=\"evenodd\" fill-opacity=\"1\" stroke=\"#000000\" stroke-opacity=\"1\" stroke-width=\"3.2\"/>\n",
       "<path clip-path=\"url(#clip9002)\" d=\"M2091.56 332.813 L2075.56 348.813 L2091.56 364.813 L2107.56 348.813 L2091.56 332.813 Z\" fill=\"#009af9\" fill-rule=\"evenodd\" fill-opacity=\"1\" stroke=\"#000000\" stroke-opacity=\"1\" stroke-width=\"3.2\"/>\n",
       "<path clip-path=\"url(#clip9002)\" d=\"M2193.2 255.191 L2177.2 271.191 L2193.2 287.191 L2209.2 271.191 L2193.2 255.191 Z\" fill=\"#009af9\" fill-rule=\"evenodd\" fill-opacity=\"1\" stroke=\"#000000\" stroke-opacity=\"1\" stroke-width=\"3.2\"/>\n",
       "<path clip-path=\"url(#clip9002)\" d=\"M2294.83 144.256 L2278.83 160.256 L2294.83 176.256 L2310.83 160.256 L2294.83 144.256 Z\" fill=\"#009af9\" fill-rule=\"evenodd\" fill-opacity=\"1\" stroke=\"#000000\" stroke-opacity=\"1\" stroke-width=\"3.2\"/>\n",
       "</svg>\n"
      ]
     },
     "execution_count": 13,
     "metadata": {},
     "output_type": "execute_result"
    }
   ],
   "source": [
    "ces_plot = plot(\n",
    "    ces_plot_data.value[1:50:end],\n",
    "    legend=false,\n",
    "    formatter=:plain,\n",
    "    xlabel=\"Period\",\n",
    "    ylabel=\"Value\",\n",
    "    title=\"CES Series CES0000000001\",\n",
    "    markershape=:diamond\n",
    ")"
   ]
  },
  {
   "cell_type": "markdown",
   "metadata": {},
   "source": [
    "### Composing Functions\n",
    "\n",
    "It's generally advisable to divide your code into discrete functions, each with its own purpose, as opposed to composing your code as one big chunk of operations. There are numerous reasons for this but, in Julia, this will result in significant performance gains and will generally result in code that is easier to understand and maintain.\n",
    "\n",
    "There are a few ways to compose functions in Julia but I'll only cover the most common way here. With this method, every function starts with the word ```function``` followed by its name as well as a set of parentheses which enclose any parameters. Functions conclude with the word ```end``` as you will see below. The ```end``` keyword in Julia is used to mark the conclusion of a block of expressions (e.g. ```for``` loops, functions, modules, etc.).\n",
    "\n",
    "Let's write a function that performs a mathematical operation on the ```values``` column in our ```ces_data``` DataFrame:"
   ]
  },
  {
   "cell_type": "code",
   "execution_count": 15,
   "metadata": {},
   "outputs": [
    {
     "data": {
      "text/plain": [
       "change_value (generic function with 1 method)"
      ]
     },
     "execution_count": 15,
     "metadata": {},
     "output_type": "execute_result"
    }
   ],
   "source": [
    "function change_value(value)\n",
    "    return value / 2 + 3\n",
    "end"
   ]
  },
  {
   "cell_type": "code",
   "execution_count": 16,
   "metadata": {},
   "outputs": [
    {
     "data": {
      "text/plain": [
       "14964.5"
      ]
     },
     "execution_count": 16,
     "metadata": {},
     "output_type": "execute_result"
    }
   ],
   "source": [
    "change_value(ces_data[1,:value])"
   ]
  },
  {
   "cell_type": "code",
   "execution_count": 17,
   "metadata": {},
   "outputs": [
    {
     "data": {
      "text/plain": [
       "check_value (generic function with 1 method)"
      ]
     },
     "execution_count": 17,
     "metadata": {},
     "output_type": "execute_result"
    }
   ],
   "source": [
    "function check_value(value, threshold)\n",
    "    t = threshold * 1.5 * 75000\n",
    "    if value > t\n",
    "        return value\n",
    "    else\n",
    "        return t\n",
    "    end\n",
    "end"
   ]
  },
  {
   "cell_type": "code",
   "execution_count": 18,
   "metadata": {},
   "outputs": [
    {
     "data": {
      "text/plain": [
       "101250.0"
      ]
     },
     "execution_count": 18,
     "metadata": {},
     "output_type": "execute_result"
    }
   ],
   "source": [
    "# ces_data[1,:value] == 29923\n",
    "check_value(ces_data[1,:value], 0.9)"
   ]
  }
 ],
 "metadata": {
  "kernelspec": {
   "display_name": "Julia 1.4.0",
   "language": "julia",
   "name": "julia-1.4"
  },
  "language_info": {
   "file_extension": ".jl",
   "mimetype": "application/julia",
   "name": "julia",
   "version": "1.4.0"
  }
 },
 "nbformat": 4,
 "nbformat_minor": 4
}
