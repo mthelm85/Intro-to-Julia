{
 "cells": [
  {
   "cell_type": "markdown",
   "metadata": {},
   "source": [
    "## Intro to Julia for Data Analysis"
   ]
  },
  {
   "cell_type": "markdown",
   "metadata": {},
   "source": [
    "In this tutorial, you will learn very basic Julia features for ingesting, processing, and visualizing data. At the end of this tutorial you should understand how to:\n",
    "\n",
    "* Work with local data\n",
    "* Work with remote data\n",
    "* Consume data that are stored in different file formats\n",
    "* Create basic plots of your data\n",
    "* Compose functions in Julia"
   ]
  },
  {
   "cell_type": "markdown",
   "metadata": {},
   "source": [
    "### Wait - Why should I learn Julia in the first place!?\n",
    "\n",
    "A few of Julia's very appealing features are its speed, multiple dispatch, robust type system, and the ease with which you can express many object-oriented and functional programming patterns. To keep this notebook as brief as possible, we'll only look at the first of these features. \n",
    "\n",
    "**Julia is fast.** How fast? Let's find out. We will use the PyCall package, which provides an interface to Python from Julia, to perform a simple summation and we'll compare results with the BenchmarkTools package."
   ]
  },
  {
   "cell_type": "markdown",
   "metadata": {},
   "source": [
    "This is a good opportunity to demonstrate how to add new packages to your Julia environment. To add PyCall we simply begin by using the built-in package ```Pkg``` and then adding them (along with BenchmarkTools) like so:"
   ]
  },
  {
   "cell_type": "code",
   "execution_count": null,
   "metadata": {},
   "outputs": [],
   "source": [
    "# You only need to do this the first time you install a package in a given environment.\n",
    "using Pkg\n",
    "Pkg.add([\"BenchmarkTools\",\"PyCall\"]);"
   ]
  },
  {
   "cell_type": "markdown",
   "metadata": {},
   "source": [
    "Now that we've added our packages, let's go ahead and begin **using** them:"
   ]
  },
  {
   "cell_type": "code",
   "execution_count": 1,
   "metadata": {},
   "outputs": [],
   "source": [
    "using BenchmarkTools\n",
    "using PyCall;"
   ]
  },
  {
   "cell_type": "markdown",
   "metadata": {},
   "source": [
    "With our packages loaded, let's start our performance comparison by creating a vector of 10 million random numbers, which we will take the sum of:"
   ]
  },
  {
   "cell_type": "code",
   "execution_count": 2,
   "metadata": {
    "collapsed": true,
    "jupyter": {
     "outputs_hidden": true
    }
   },
   "outputs": [
    {
     "data": {
      "text/plain": [
       "10000000-element Array{Float64,1}:\n",
       " 0.27116781972499227\n",
       " 0.44602030828660766\n",
       " 0.6212387395933594\n",
       " 0.3274954477019698\n",
       " 0.6554828631942078\n",
       " 0.3390556367261539\n",
       " 0.08214799038138532\n",
       " 0.8021172826810674\n",
       " 0.6900158293444008\n",
       " 0.29436862630134275\n",
       " 0.9447676409340264\n",
       " 0.31793532510985956\n",
       " 0.9826509007692579\n",
       " ⋮\n",
       " 0.45817900893205343\n",
       " 0.1928418665453655\n",
       " 0.509411945025048\n",
       " 0.29128667747368286\n",
       " 0.7858363536034694\n",
       " 0.8224041807343729\n",
       " 0.3101626116615217\n",
       " 0.8829796940588006\n",
       " 0.6742459428722363\n",
       " 0.3386279346318095\n",
       " 0.8070545566002092\n",
       " 0.34426556301953437"
      ]
     },
     "execution_count": 2,
     "metadata": {},
     "output_type": "execute_result"
    }
   ],
   "source": [
    "a = rand(10^7)"
   ]
  },
  {
   "cell_type": "markdown",
   "metadata": {},
   "source": [
    "And now let's use the ```@benchmark``` macro (exported by BenchmarkTools) to benchmark the performance of Python and then Julia (don't worry about what a macro is for now; just remember that they exist 😉):"
   ]
  },
  {
   "cell_type": "code",
   "execution_count": 3,
   "metadata": {},
   "outputs": [
    {
     "data": {
      "text/plain": [
       "836.8126741666666"
      ]
     },
     "execution_count": 3,
     "metadata": {},
     "output_type": "execute_result"
    }
   ],
   "source": [
    "python_speed = mean((@benchmark pybuiltin(\"sum\")($a)).times) / 1000000"
   ]
  },
  {
   "cell_type": "code",
   "execution_count": 4,
   "metadata": {},
   "outputs": [
    {
     "data": {
      "text/plain": [
       "4.2579869146029035"
      ]
     },
     "execution_count": 4,
     "metadata": {},
     "output_type": "execute_result"
    }
   ],
   "source": [
    "julia_speed = mean((@benchmark sum($a)).times) / 1000000"
   ]
  },
  {
   "cell_type": "markdown",
   "metadata": {},
   "source": [
    "As you can see, **Julia was *much* faster than Python** in this simple test."
   ]
  },
  {
   "cell_type": "markdown",
   "metadata": {},
   "source": [
    "### Reading Data\n",
    "\n",
    "In this section, we'll focus on a couple of popular methods for reading data in Julia. Let's start by using the CSV and DataFrames packages in unison to read a couple of different files:"
   ]
  },
  {
   "cell_type": "code",
   "execution_count": 5,
   "metadata": {},
   "outputs": [],
   "source": [
    "# It is important to note that DataFrames are just one of many different data structures available in Julia.\n",
    "using CSV\n",
    "using DataFrames;"
   ]
  },
  {
   "cell_type": "markdown",
   "metadata": {},
   "source": [
    "#### Local Data\n",
    "\n",
    "To read local data, simply pass the file path to the ```File()``` function from CSV and optionally convert the data to a DataFrame via the ```|>``` syntax."
   ]
  },
  {
   "cell_type": "code",
   "execution_count": 6,
   "metadata": {
    "collapsed": true,
    "jupyter": {
     "outputs_hidden": true
    }
   },
   "outputs": [
    {
     "data": {
      "text/html": [
       "<table class=\"data-frame\"><thead><tr><th></th><th>code</th><th>description</th></tr><tr><th></th><th>Int64</th><th>String</th></tr></thead><tbody><p>2,328 rows × 2 columns</p><tr><th>1</th><td>11</td><td>Agriculture, Forestry, Fishing and Hunting</td></tr><tr><th>2</th><td>111</td><td>Crop Production</td></tr><tr><th>3</th><td>1111</td><td>Oilseed and Grain Farming</td></tr><tr><th>4</th><td>11111</td><td>Soybean Farming</td></tr><tr><th>5</th><td>111110</td><td>Soybean Farming</td></tr><tr><th>6</th><td>11112</td><td>Oilseed (except Soybean) Farming</td></tr><tr><th>7</th><td>111120</td><td>Oilseed (except Soybean) Farming</td></tr><tr><th>8</th><td>11113</td><td>Dry Pea and Bean Farming</td></tr><tr><th>9</th><td>111130</td><td>Dry Pea and Bean Farming</td></tr><tr><th>10</th><td>11114</td><td>Wheat Farming</td></tr><tr><th>11</th><td>111140</td><td>Wheat Farming</td></tr><tr><th>12</th><td>11115</td><td>Corn Farming</td></tr><tr><th>13</th><td>111150</td><td>Corn Farming</td></tr><tr><th>14</th><td>11116</td><td>Rice Farming</td></tr><tr><th>15</th><td>111160</td><td>Rice Farming</td></tr><tr><th>16</th><td>11119</td><td>Other Grain Farming</td></tr><tr><th>17</th><td>111191</td><td>Oilseed and Grain Combination Farming</td></tr><tr><th>18</th><td>111199</td><td>All Other Grain Farming</td></tr><tr><th>19</th><td>1112</td><td>Vegetable and Melon Farming</td></tr><tr><th>20</th><td>11121</td><td>Vegetable and Melon Farming</td></tr><tr><th>21</th><td>111211</td><td>Potato Farming</td></tr><tr><th>22</th><td>111219</td><td>Other Vegetable (except Potato) and Melon Farming</td></tr><tr><th>23</th><td>1113</td><td>Fruit and Tree Nut Farming</td></tr><tr><th>24</th><td>11131</td><td>Orange Groves</td></tr><tr><th>25</th><td>111310</td><td>Orange Groves</td></tr><tr><th>26</th><td>11132</td><td>Citrus (except Orange) Groves</td></tr><tr><th>27</th><td>111320</td><td>Citrus (except Orange) Groves</td></tr><tr><th>28</th><td>11133</td><td>Noncitrus Fruit and Tree Nut Farming</td></tr><tr><th>29</th><td>111331</td><td>Apple Orchards</td></tr><tr><th>30</th><td>111332</td><td>Grape Vineyards</td></tr><tr><th>&vellip;</th><td>&vellip;</td><td>&vellip;</td></tr></tbody></table>"
      ],
      "text/latex": [
       "\\begin{tabular}{r|cc}\n",
       "\t& code & description\\\\\n",
       "\t\\hline\n",
       "\t& Int64 & String\\\\\n",
       "\t\\hline\n",
       "\t1 & 11 & Agriculture, Forestry, Fishing and Hunting \\\\\n",
       "\t2 & 111 & Crop Production \\\\\n",
       "\t3 & 1111 & Oilseed and Grain Farming \\\\\n",
       "\t4 & 11111 & Soybean Farming \\\\\n",
       "\t5 & 111110 & Soybean Farming \\\\\n",
       "\t6 & 11112 & Oilseed (except Soybean) Farming \\\\\n",
       "\t7 & 111120 & Oilseed (except Soybean) Farming \\\\\n",
       "\t8 & 11113 & Dry Pea and Bean Farming \\\\\n",
       "\t9 & 111130 & Dry Pea and Bean Farming \\\\\n",
       "\t10 & 11114 & Wheat Farming \\\\\n",
       "\t11 & 111140 & Wheat Farming \\\\\n",
       "\t12 & 11115 & Corn Farming \\\\\n",
       "\t13 & 111150 & Corn Farming \\\\\n",
       "\t14 & 11116 & Rice Farming \\\\\n",
       "\t15 & 111160 & Rice Farming \\\\\n",
       "\t16 & 11119 & Other Grain Farming \\\\\n",
       "\t17 & 111191 & Oilseed and Grain Combination Farming \\\\\n",
       "\t18 & 111199 & All Other Grain Farming \\\\\n",
       "\t19 & 1112 & Vegetable and Melon Farming \\\\\n",
       "\t20 & 11121 & Vegetable and Melon Farming \\\\\n",
       "\t21 & 111211 & Potato Farming \\\\\n",
       "\t22 & 111219 & Other Vegetable (except Potato) and Melon Farming \\\\\n",
       "\t23 & 1113 & Fruit and Tree Nut Farming \\\\\n",
       "\t24 & 11131 & Orange Groves \\\\\n",
       "\t25 & 111310 & Orange Groves \\\\\n",
       "\t26 & 11132 & Citrus (except Orange) Groves \\\\\n",
       "\t27 & 111320 & Citrus (except Orange) Groves \\\\\n",
       "\t28 & 11133 & Noncitrus Fruit and Tree Nut Farming \\\\\n",
       "\t29 & 111331 & Apple Orchards \\\\\n",
       "\t30 & 111332 & Grape Vineyards \\\\\n",
       "\t$\\dots$ & $\\dots$ & $\\dots$ \\\\\n",
       "\\end{tabular}\n"
      ],
      "text/plain": [
       "2328×2 DataFrame. Omitted printing of 1 columns\n",
       "│ Row  │ code   │\n",
       "│      │ \u001b[90mInt64\u001b[39m  │\n",
       "├──────┼────────┤\n",
       "│ 1    │ 11     │\n",
       "│ 2    │ 111    │\n",
       "│ 3    │ 1111   │\n",
       "│ 4    │ 11111  │\n",
       "│ 5    │ 111110 │\n",
       "│ 6    │ 11112  │\n",
       "│ 7    │ 111120 │\n",
       "│ 8    │ 11113  │\n",
       "│ 9    │ 111130 │\n",
       "│ 10   │ 11114  │\n",
       "⋮\n",
       "│ 2318 │ 926150 │\n",
       "│ 2319 │ 927    │\n",
       "│ 2320 │ 9271   │\n",
       "│ 2321 │ 92711  │\n",
       "│ 2322 │ 927110 │\n",
       "│ 2323 │ 928    │\n",
       "│ 2324 │ 9281   │\n",
       "│ 2325 │ 92811  │\n",
       "│ 2326 │ 928110 │\n",
       "│ 2327 │ 92812  │\n",
       "│ 2328 │ 928120 │"
      ]
     },
     "execution_count": 6,
     "metadata": {},
     "output_type": "execute_result"
    }
   ],
   "source": [
    "#= Replace the value of the filepath variable below with the filepath to a local .csv file on your machine. Make sure you use forward\n",
    "slashes or the word 'raw' immediately in front of the filepath string e.g. raw\"\\path\\to\\my\\file.csv\"\n",
    "=#\n",
    "filepath = \"C:/Users/path/to/my/file.csv\"\n",
    "fips_codes = CSV.File(filepath) |> DataFrame"
   ]
  },
  {
   "cell_type": "markdown",
   "metadata": {},
   "source": [
    "#### Remote Data\n",
    "\n",
    "To read data from a URL, just ```download``` it first!"
   ]
  },
  {
   "cell_type": "code",
   "execution_count": 7,
   "metadata": {},
   "outputs": [
    {
     "data": {
      "text/html": [
       "<table class=\"data-frame\"><thead><tr><th></th><th>series_id</th><th>year</th><th>period</th><th>value</th><th>footnote_codes</th></tr><tr><th></th><th>String</th><th>Int64</th><th>String</th><th>Int64</th><th>String⍰</th></tr></thead><tbody><p>4,734 rows × 5 columns</p><tr><th>1</th><td>CES0000000001    </td><td>1939</td><td>M01</td><td>29923</td><td>missing</td></tr><tr><th>2</th><td>CES0000000001    </td><td>1939</td><td>M02</td><td>30100</td><td>missing</td></tr><tr><th>3</th><td>CES0000000001    </td><td>1939</td><td>M03</td><td>30280</td><td>missing</td></tr><tr><th>4</th><td>CES0000000001    </td><td>1939</td><td>M04</td><td>30094</td><td>missing</td></tr><tr><th>5</th><td>CES0000000001    </td><td>1939</td><td>M05</td><td>30299</td><td>missing</td></tr><tr><th>6</th><td>CES0000000001    </td><td>1939</td><td>M06</td><td>30502</td><td>missing</td></tr><tr><th>7</th><td>CES0000000001    </td><td>1939</td><td>M07</td><td>30419</td><td>missing</td></tr><tr><th>8</th><td>CES0000000001    </td><td>1939</td><td>M08</td><td>30663</td><td>missing</td></tr><tr><th>9</th><td>CES0000000001    </td><td>1939</td><td>M09</td><td>31031</td><td>missing</td></tr><tr><th>10</th><td>CES0000000001    </td><td>1939</td><td>M10</td><td>31411</td><td>missing</td></tr><tr><th>11</th><td>CES0000000001    </td><td>1939</td><td>M11</td><td>31470</td><td>missing</td></tr><tr><th>12</th><td>CES0000000001    </td><td>1939</td><td>M12</td><td>31542</td><td>missing</td></tr><tr><th>13</th><td>CES0000000001    </td><td>1940</td><td>M01</td><td>31603</td><td>missing</td></tr><tr><th>14</th><td>CES0000000001    </td><td>1940</td><td>M02</td><td>31715</td><td>missing</td></tr><tr><th>15</th><td>CES0000000001    </td><td>1940</td><td>M03</td><td>31825</td><td>missing</td></tr><tr><th>16</th><td>CES0000000001    </td><td>1940</td><td>M04</td><td>31701</td><td>missing</td></tr><tr><th>17</th><td>CES0000000001    </td><td>1940</td><td>M05</td><td>31879</td><td>missing</td></tr><tr><th>18</th><td>CES0000000001    </td><td>1940</td><td>M06</td><td>31977</td><td>missing</td></tr><tr><th>19</th><td>CES0000000001    </td><td>1940</td><td>M07</td><td>31942</td><td>missing</td></tr><tr><th>20</th><td>CES0000000001    </td><td>1940</td><td>M08</td><td>32352</td><td>missing</td></tr><tr><th>21</th><td>CES0000000001    </td><td>1940</td><td>M09</td><td>32810</td><td>missing</td></tr><tr><th>22</th><td>CES0000000001    </td><td>1940</td><td>M10</td><td>33267</td><td>missing</td></tr><tr><th>23</th><td>CES0000000001    </td><td>1940</td><td>M11</td><td>33669</td><td>missing</td></tr><tr><th>24</th><td>CES0000000001    </td><td>1940</td><td>M12</td><td>34174</td><td>missing</td></tr><tr><th>25</th><td>CES0000000001    </td><td>1941</td><td>M01</td><td>34481</td><td>missing</td></tr><tr><th>26</th><td>CES0000000001    </td><td>1941</td><td>M02</td><td>34843</td><td>missing</td></tr><tr><th>27</th><td>CES0000000001    </td><td>1941</td><td>M03</td><td>35092</td><td>missing</td></tr><tr><th>28</th><td>CES0000000001    </td><td>1941</td><td>M04</td><td>35468</td><td>missing</td></tr><tr><th>29</th><td>CES0000000001    </td><td>1941</td><td>M05</td><td>36182</td><td>missing</td></tr><tr><th>30</th><td>CES0000000001    </td><td>1941</td><td>M06</td><td>36650</td><td>missing</td></tr><tr><th>&vellip;</th><td>&vellip;</td><td>&vellip;</td><td>&vellip;</td><td>&vellip;</td><td>&vellip;</td></tr></tbody></table>"
      ],
      "text/latex": [
       "\\begin{tabular}{r|ccccc}\n",
       "\t& series\\_id & year & period & value & footnote\\_codes\\\\\n",
       "\t\\hline\n",
       "\t& String & Int64 & String & Int64 & String⍰\\\\\n",
       "\t\\hline\n",
       "\t1 & CES0000000001     & 1939 & M01 & 29923 &  \\\\\n",
       "\t2 & CES0000000001     & 1939 & M02 & 30100 &  \\\\\n",
       "\t3 & CES0000000001     & 1939 & M03 & 30280 &  \\\\\n",
       "\t4 & CES0000000001     & 1939 & M04 & 30094 &  \\\\\n",
       "\t5 & CES0000000001     & 1939 & M05 & 30299 &  \\\\\n",
       "\t6 & CES0000000001     & 1939 & M06 & 30502 &  \\\\\n",
       "\t7 & CES0000000001     & 1939 & M07 & 30419 &  \\\\\n",
       "\t8 & CES0000000001     & 1939 & M08 & 30663 &  \\\\\n",
       "\t9 & CES0000000001     & 1939 & M09 & 31031 &  \\\\\n",
       "\t10 & CES0000000001     & 1939 & M10 & 31411 &  \\\\\n",
       "\t11 & CES0000000001     & 1939 & M11 & 31470 &  \\\\\n",
       "\t12 & CES0000000001     & 1939 & M12 & 31542 &  \\\\\n",
       "\t13 & CES0000000001     & 1940 & M01 & 31603 &  \\\\\n",
       "\t14 & CES0000000001     & 1940 & M02 & 31715 &  \\\\\n",
       "\t15 & CES0000000001     & 1940 & M03 & 31825 &  \\\\\n",
       "\t16 & CES0000000001     & 1940 & M04 & 31701 &  \\\\\n",
       "\t17 & CES0000000001     & 1940 & M05 & 31879 &  \\\\\n",
       "\t18 & CES0000000001     & 1940 & M06 & 31977 &  \\\\\n",
       "\t19 & CES0000000001     & 1940 & M07 & 31942 &  \\\\\n",
       "\t20 & CES0000000001     & 1940 & M08 & 32352 &  \\\\\n",
       "\t21 & CES0000000001     & 1940 & M09 & 32810 &  \\\\\n",
       "\t22 & CES0000000001     & 1940 & M10 & 33267 &  \\\\\n",
       "\t23 & CES0000000001     & 1940 & M11 & 33669 &  \\\\\n",
       "\t24 & CES0000000001     & 1940 & M12 & 34174 &  \\\\\n",
       "\t25 & CES0000000001     & 1941 & M01 & 34481 &  \\\\\n",
       "\t26 & CES0000000001     & 1941 & M02 & 34843 &  \\\\\n",
       "\t27 & CES0000000001     & 1941 & M03 & 35092 &  \\\\\n",
       "\t28 & CES0000000001     & 1941 & M04 & 35468 &  \\\\\n",
       "\t29 & CES0000000001     & 1941 & M05 & 36182 &  \\\\\n",
       "\t30 & CES0000000001     & 1941 & M06 & 36650 &  \\\\\n",
       "\t$\\dots$ & $\\dots$ & $\\dots$ & $\\dots$ & $\\dots$ & $\\dots$ \\\\\n",
       "\\end{tabular}\n"
      ],
      "text/plain": [
       "4734×5 DataFrame\n",
       "│ Row  │ series_id         │ year  │ period │ value │ footnote_codes │\n",
       "│      │ \u001b[90mString\u001b[39m            │ \u001b[90mInt64\u001b[39m │ \u001b[90mString\u001b[39m │ \u001b[90mInt64\u001b[39m │ \u001b[90mString⍰\u001b[39m        │\n",
       "├──────┼───────────────────┼───────┼────────┼───────┼────────────────┤\n",
       "│ 1    │ CES0000000001     │ 1939  │ M01    │ 29923 │ \u001b[90mmissing\u001b[39m        │\n",
       "│ 2    │ CES0000000001     │ 1939  │ M02    │ 30100 │ \u001b[90mmissing\u001b[39m        │\n",
       "│ 3    │ CES0000000001     │ 1939  │ M03    │ 30280 │ \u001b[90mmissing\u001b[39m        │\n",
       "│ 4    │ CES0000000001     │ 1939  │ M04    │ 30094 │ \u001b[90mmissing\u001b[39m        │\n",
       "│ 5    │ CES0000000001     │ 1939  │ M05    │ 30299 │ \u001b[90mmissing\u001b[39m        │\n",
       "│ 6    │ CES0000000001     │ 1939  │ M06    │ 30502 │ \u001b[90mmissing\u001b[39m        │\n",
       "│ 7    │ CES0000000001     │ 1939  │ M07    │ 30419 │ \u001b[90mmissing\u001b[39m        │\n",
       "│ 8    │ CES0000000001     │ 1939  │ M08    │ 30663 │ \u001b[90mmissing\u001b[39m        │\n",
       "│ 9    │ CES0000000001     │ 1939  │ M09    │ 31031 │ \u001b[90mmissing\u001b[39m        │\n",
       "│ 10   │ CES0000000001     │ 1939  │ M10    │ 31411 │ \u001b[90mmissing\u001b[39m        │\n",
       "⋮\n",
       "│ 4724 │ CEU0000000010     │ 2019  │ M06    │ 75430 │ \u001b[90mmissing\u001b[39m        │\n",
       "│ 4725 │ CEU0000000010     │ 2019  │ M07    │ 74492 │ \u001b[90mmissing\u001b[39m        │\n",
       "│ 4726 │ CEU0000000010     │ 2019  │ M08    │ 74892 │ \u001b[90mmissing\u001b[39m        │\n",
       "│ 4727 │ CEU0000000010     │ 2019  │ M09    │ 75538 │ \u001b[90mmissing\u001b[39m        │\n",
       "│ 4728 │ CEU0000000010     │ 2019  │ M10    │ 76260 │ \u001b[90mmissing\u001b[39m        │\n",
       "│ 4729 │ CEU0000000010     │ 2019  │ M11    │ 76738 │ \u001b[90mmissing\u001b[39m        │\n",
       "│ 4730 │ CEU0000000010     │ 2019  │ M12    │ 76784 │ \u001b[90mmissing\u001b[39m        │\n",
       "│ 4731 │ CEU0000000010     │ 2019  │ M13    │ 75309 │ \u001b[90mmissing\u001b[39m        │\n",
       "│ 4732 │ CEU0000000010     │ 2020  │ M01    │ 75426 │ \u001b[90mmissing\u001b[39m        │\n",
       "│ 4733 │ CEU0000000010     │ 2020  │ M02    │ 75949 │ P              │\n",
       "│ 4734 │ CEU0000000010     │ 2020  │ M03    │ 75731 │ P              │"
      ]
     },
     "execution_count": 7,
     "metadata": {},
     "output_type": "execute_result"
    }
   ],
   "source": [
    "ces_data = CSV.File(download(\"https://download.bls.gov/pub/time.series/ce/ce.data.00a.TotalNonfarm.Employment\"), normalizenames=true) |> DataFrame"
   ]
  },
  {
   "cell_type": "markdown",
   "metadata": {
    "jupyter": {
     "outputs_hidden": true
    }
   },
   "source": [
    "#### What about other file formats?\n",
    "\n",
    "Julia can ingest data in a wide variety of file formats. For example, what if you have data from previous SAS or STATA projects that are stored in .sas7bdat or .data files? Let's see:"
   ]
  },
  {
   "cell_type": "code",
   "execution_count": 8,
   "metadata": {},
   "outputs": [
    {
     "data": {
      "text/html": [
       "<table class=\"data-frame\"><thead><tr><th></th><th>CIRCUIT</th><th>DISTRICT</th><th>OFFICE</th><th>DOCKET</th><th>FILEDATE</th><th>JURIS</th><th>NOS</th><th>ORIGIN</th><th>RESIDENC</th></tr><tr><th></th><th>Float64⍰</th><th>String⍰</th><th>String⍰</th><th>String⍰</th><th>Float64⍰</th><th>Float64⍰</th><th>Float64⍰</th><th>Float64⍰</th><th>Float64⍰</th></tr></thead><tbody><p>237,999 rows × 28 columns (omitted printing of 19 columns)</p><tr><th>1</th><td>0.0</td><td>90</td><td>1</td><td>6401802</td><td>8810.0</td><td>3.0</td><td>550.0</td><td>4.0</td><td>-8.0</td></tr><tr><th>2</th><td>0.0</td><td>90</td><td>1</td><td>6702909</td><td>4864.0</td><td>3.0</td><td>950.0</td><td>3.0</td><td>-8.0</td></tr><tr><th>3</th><td>0.0</td><td>90</td><td>1</td><td>7401388</td><td>8873.0</td><td>2.0</td><td>890.0</td><td>3.0</td><td>-8.0</td></tr><tr><th>4</th><td>0.0</td><td>90</td><td>1</td><td>7500642</td><td>8873.0</td><td>2.0</td><td>890.0</td><td>3.0</td><td>-8.0</td></tr><tr><th>5</th><td>0.0</td><td>90</td><td>1</td><td>7501606</td><td>5751.0</td><td>4.0</td><td>190.0</td><td>1.0</td><td>14.0</td></tr><tr><th>6</th><td>0.0</td><td>90</td><td>1</td><td>7601278</td><td>8810.0</td><td>3.0</td><td>890.0</td><td>4.0</td><td>-8.0</td></tr><tr><th>7</th><td>0.0</td><td>90</td><td>1</td><td>7601518</td><td>9799.0</td><td>1.0</td><td>890.0</td><td>4.0</td><td>-8.0</td></tr><tr><th>8</th><td>0.0</td><td>90</td><td>1</td><td>7700488</td><td>8686.0</td><td>2.0</td><td>860.0</td><td>4.0</td><td>-8.0</td></tr><tr><th>9</th><td>0.0</td><td>90</td><td>1</td><td>7800420</td><td>8847.0</td><td>2.0</td><td>895.0</td><td>4.0</td><td>-8.0</td></tr><tr><th>10</th><td>0.0</td><td>90</td><td>1</td><td>7801744</td><td>6835.0</td><td>2.0</td><td>890.0</td><td>1.0</td><td>-8.0</td></tr><tr><th>11</th><td>0.0</td><td>90</td><td>1</td><td>7802311</td><td>8650.0</td><td>2.0</td><td>860.0</td><td>4.0</td><td>-8.0</td></tr><tr><th>12</th><td>0.0</td><td>90</td><td>1</td><td>7900251</td><td>6963.0</td><td>3.0</td><td>890.0</td><td>1.0</td><td>-8.0</td></tr><tr><th>13</th><td>0.0</td><td>90</td><td>1</td><td>7901337</td><td>8798.0</td><td>4.0</td><td>365.0</td><td>4.0</td><td>43.0</td></tr><tr><th>14</th><td>0.0</td><td>90</td><td>1</td><td>7901816</td><td>8543.0</td><td>2.0</td><td>442.0</td><td>4.0</td><td>-8.0</td></tr><tr><th>15</th><td>0.0</td><td>90</td><td>1</td><td>7901849</td><td>9881.0</td><td>3.0</td><td>890.0</td><td>4.0</td><td>-8.0</td></tr><tr><th>16</th><td>0.0</td><td>90</td><td>1</td><td>7902688</td><td>8755.0</td><td>2.0</td><td>895.0</td><td>4.0</td><td>-8.0</td></tr><tr><th>17</th><td>0.0</td><td>90</td><td>1</td><td>7902973</td><td>7244.0</td><td>2.0</td><td>790.0</td><td>1.0</td><td>-8.0</td></tr><tr><th>18</th><td>0.0</td><td>90</td><td>1</td><td>8000683</td><td>7381.0</td><td>1.0</td><td>370.0</td><td>1.0</td><td>-8.0</td></tr><tr><th>19</th><td>0.0</td><td>90</td><td>1</td><td>8001628</td><td>8672.0</td><td>2.0</td><td>442.0</td><td>4.0</td><td>-8.0</td></tr><tr><th>20</th><td>0.0</td><td>90</td><td>1</td><td>8002079</td><td>8595.0</td><td>4.0</td><td>360.0</td><td>4.0</td><td>13.0</td></tr><tr><th>21</th><td>0.0</td><td>90</td><td>1</td><td>8002253</td><td>8722.0</td><td>1.0</td><td>150.0</td><td>4.0</td><td>-8.0</td></tr><tr><th>22</th><td>0.0</td><td>90</td><td>1</td><td>8002997</td><td>8825.0</td><td>2.0</td><td>895.0</td><td>4.0</td><td>-8.0</td></tr><tr><th>23</th><td>0.0</td><td>90</td><td>1</td><td>8100171</td><td>7693.0</td><td>2.0</td><td>440.0</td><td>1.0</td><td>-8.0</td></tr><tr><th>24</th><td>0.0</td><td>90</td><td>1</td><td>8100328</td><td>7712.0</td><td>3.0</td><td>890.0</td><td>3.0</td><td>-8.0</td></tr><tr><th>25</th><td>0.0</td><td>90</td><td>1</td><td>8100394</td><td>8916.0</td><td>3.0</td><td>440.0</td><td>4.0</td><td>-8.0</td></tr><tr><th>26</th><td>0.0</td><td>90</td><td>1</td><td>8101541</td><td>8825.0</td><td>3.0</td><td>440.0</td><td>4.0</td><td>-8.0</td></tr><tr><th>27</th><td>0.0</td><td>90</td><td>1</td><td>8101565</td><td>8686.0</td><td>2.0</td><td>790.0</td><td>4.0</td><td>-8.0</td></tr><tr><th>28</th><td>0.0</td><td>90</td><td>1</td><td>8102012</td><td>8180.0</td><td>3.0</td><td>442.0</td><td>4.0</td><td>-8.0</td></tr><tr><th>29</th><td>0.0</td><td>90</td><td>1</td><td>8102030</td><td>7909.0</td><td>1.0</td><td>442.0</td><td>1.0</td><td>-8.0</td></tr><tr><th>30</th><td>0.0</td><td>90</td><td>1</td><td>8102715</td><td>8685.0</td><td>4.0</td><td>362.0</td><td>3.0</td><td>41.0</td></tr><tr><th>&vellip;</th><td>&vellip;</td><td>&vellip;</td><td>&vellip;</td><td>&vellip;</td><td>&vellip;</td><td>&vellip;</td><td>&vellip;</td><td>&vellip;</td><td>&vellip;</td></tr></tbody></table>"
      ],
      "text/latex": [
       "\\begin{tabular}{r|cccccccccc}\n",
       "\t& CIRCUIT & DISTRICT & OFFICE & DOCKET & FILEDATE & JURIS & NOS & ORIGIN & RESIDENC & \\\\\n",
       "\t\\hline\n",
       "\t& Float64⍰ & String⍰ & String⍰ & String⍰ & Float64⍰ & Float64⍰ & Float64⍰ & Float64⍰ & Float64⍰ & \\\\\n",
       "\t\\hline\n",
       "\t1 & 0.0 & 90 & 1 & 6401802 & 8810.0 & 3.0 & 550.0 & 4.0 & -8.0 & $\\dots$ \\\\\n",
       "\t2 & 0.0 & 90 & 1 & 6702909 & 4864.0 & 3.0 & 950.0 & 3.0 & -8.0 & $\\dots$ \\\\\n",
       "\t3 & 0.0 & 90 & 1 & 7401388 & 8873.0 & 2.0 & 890.0 & 3.0 & -8.0 & $\\dots$ \\\\\n",
       "\t4 & 0.0 & 90 & 1 & 7500642 & 8873.0 & 2.0 & 890.0 & 3.0 & -8.0 & $\\dots$ \\\\\n",
       "\t5 & 0.0 & 90 & 1 & 7501606 & 5751.0 & 4.0 & 190.0 & 1.0 & 14.0 & $\\dots$ \\\\\n",
       "\t6 & 0.0 & 90 & 1 & 7601278 & 8810.0 & 3.0 & 890.0 & 4.0 & -8.0 & $\\dots$ \\\\\n",
       "\t7 & 0.0 & 90 & 1 & 7601518 & 9799.0 & 1.0 & 890.0 & 4.0 & -8.0 & $\\dots$ \\\\\n",
       "\t8 & 0.0 & 90 & 1 & 7700488 & 8686.0 & 2.0 & 860.0 & 4.0 & -8.0 & $\\dots$ \\\\\n",
       "\t9 & 0.0 & 90 & 1 & 7800420 & 8847.0 & 2.0 & 895.0 & 4.0 & -8.0 & $\\dots$ \\\\\n",
       "\t10 & 0.0 & 90 & 1 & 7801744 & 6835.0 & 2.0 & 890.0 & 1.0 & -8.0 & $\\dots$ \\\\\n",
       "\t11 & 0.0 & 90 & 1 & 7802311 & 8650.0 & 2.0 & 860.0 & 4.0 & -8.0 & $\\dots$ \\\\\n",
       "\t12 & 0.0 & 90 & 1 & 7900251 & 6963.0 & 3.0 & 890.0 & 1.0 & -8.0 & $\\dots$ \\\\\n",
       "\t13 & 0.0 & 90 & 1 & 7901337 & 8798.0 & 4.0 & 365.0 & 4.0 & 43.0 & $\\dots$ \\\\\n",
       "\t14 & 0.0 & 90 & 1 & 7901816 & 8543.0 & 2.0 & 442.0 & 4.0 & -8.0 & $\\dots$ \\\\\n",
       "\t15 & 0.0 & 90 & 1 & 7901849 & 9881.0 & 3.0 & 890.0 & 4.0 & -8.0 & $\\dots$ \\\\\n",
       "\t16 & 0.0 & 90 & 1 & 7902688 & 8755.0 & 2.0 & 895.0 & 4.0 & -8.0 & $\\dots$ \\\\\n",
       "\t17 & 0.0 & 90 & 1 & 7902973 & 7244.0 & 2.0 & 790.0 & 1.0 & -8.0 & $\\dots$ \\\\\n",
       "\t18 & 0.0 & 90 & 1 & 8000683 & 7381.0 & 1.0 & 370.0 & 1.0 & -8.0 & $\\dots$ \\\\\n",
       "\t19 & 0.0 & 90 & 1 & 8001628 & 8672.0 & 2.0 & 442.0 & 4.0 & -8.0 & $\\dots$ \\\\\n",
       "\t20 & 0.0 & 90 & 1 & 8002079 & 8595.0 & 4.0 & 360.0 & 4.0 & 13.0 & $\\dots$ \\\\\n",
       "\t21 & 0.0 & 90 & 1 & 8002253 & 8722.0 & 1.0 & 150.0 & 4.0 & -8.0 & $\\dots$ \\\\\n",
       "\t22 & 0.0 & 90 & 1 & 8002997 & 8825.0 & 2.0 & 895.0 & 4.0 & -8.0 & $\\dots$ \\\\\n",
       "\t23 & 0.0 & 90 & 1 & 8100171 & 7693.0 & 2.0 & 440.0 & 1.0 & -8.0 & $\\dots$ \\\\\n",
       "\t24 & 0.0 & 90 & 1 & 8100328 & 7712.0 & 3.0 & 890.0 & 3.0 & -8.0 & $\\dots$ \\\\\n",
       "\t25 & 0.0 & 90 & 1 & 8100394 & 8916.0 & 3.0 & 440.0 & 4.0 & -8.0 & $\\dots$ \\\\\n",
       "\t26 & 0.0 & 90 & 1 & 8101541 & 8825.0 & 3.0 & 440.0 & 4.0 & -8.0 & $\\dots$ \\\\\n",
       "\t27 & 0.0 & 90 & 1 & 8101565 & 8686.0 & 2.0 & 790.0 & 4.0 & -8.0 & $\\dots$ \\\\\n",
       "\t28 & 0.0 & 90 & 1 & 8102012 & 8180.0 & 3.0 & 442.0 & 4.0 & -8.0 & $\\dots$ \\\\\n",
       "\t29 & 0.0 & 90 & 1 & 8102030 & 7909.0 & 1.0 & 442.0 & 1.0 & -8.0 & $\\dots$ \\\\\n",
       "\t30 & 0.0 & 90 & 1 & 8102715 & 8685.0 & 4.0 & 362.0 & 3.0 & 41.0 & $\\dots$ \\\\\n",
       "\t$\\dots$ & $\\dots$ & $\\dots$ & $\\dots$ & $\\dots$ & $\\dots$ & $\\dots$ & $\\dots$ & $\\dots$ & $\\dots$ &  \\\\\n",
       "\\end{tabular}\n"
      ],
      "text/plain": [
       "237999×28 DataFrame. Omitted printing of 22 columns\n",
       "│ Row    │ CIRCUIT  │ DISTRICT │ OFFICE  │ DOCKET  │ FILEDATE │ JURIS    │\n",
       "│        │ \u001b[90mFloat64⍰\u001b[39m │ \u001b[90mString⍰\u001b[39m  │ \u001b[90mString⍰\u001b[39m │ \u001b[90mString⍰\u001b[39m │ \u001b[90mFloat64⍰\u001b[39m │ \u001b[90mFloat64⍰\u001b[39m │\n",
       "├────────┼──────────┼──────────┼─────────┼─────────┼──────────┼──────────┤\n",
       "│ 1      │ 0.0      │ 90       │ 1       │ 6401802 │ 8810.0   │ 3.0      │\n",
       "│ 2      │ 0.0      │ 90       │ 1       │ 6702909 │ 4864.0   │ 3.0      │\n",
       "│ 3      │ 0.0      │ 90       │ 1       │ 7401388 │ 8873.0   │ 2.0      │\n",
       "│ 4      │ 0.0      │ 90       │ 1       │ 7500642 │ 8873.0   │ 2.0      │\n",
       "│ 5      │ 0.0      │ 90       │ 1       │ 7501606 │ 5751.0   │ 4.0      │\n",
       "│ 6      │ 0.0      │ 90       │ 1       │ 7601278 │ 8810.0   │ 3.0      │\n",
       "│ 7      │ 0.0      │ 90       │ 1       │ 7601518 │ 9799.0   │ 1.0      │\n",
       "│ 8      │ 0.0      │ 90       │ 1       │ 7700488 │ 8686.0   │ 2.0      │\n",
       "│ 9      │ 0.0      │ 90       │ 1       │ 7800420 │ 8847.0   │ 2.0      │\n",
       "│ 10     │ 0.0      │ 90       │ 1       │ 7801744 │ 6835.0   │ 2.0      │\n",
       "⋮\n",
       "│ 237989 │ 11.0     │ 3J       │ 6       │ 8700016 │ 9925.0   │ 3.0      │\n",
       "│ 237990 │ 11.0     │ 3J       │ 6       │ 8700023 │ 9931.0   │ 3.0      │\n",
       "│ 237991 │ 11.0     │ 3J       │ 6       │ 8700024 │ 9939.0   │ 1.0      │\n",
       "│ 237992 │ 11.0     │ 3J       │ 6       │ 8700026 │ 9951.0   │ 3.0      │\n",
       "│ 237993 │ 11.0     │ 3J       │ 6       │ 8700034 │ 9972.0   │ 3.0      │\n",
       "│ 237994 │ 11.0     │ 3J       │ 6       │ 8700037 │ 9978.0   │ 3.0      │\n",
       "│ 237995 │ 11.0     │ 3J       │ 6       │ 8700042 │ 9981.0   │ 3.0      │\n",
       "│ 237996 │ 11.0     │ 3J       │ 6       │ 8700043 │ 9981.0   │ 3.0      │\n",
       "│ 237997 │ 11.0     │ 3J       │ 6       │ 8700046 │ 9985.0   │ 3.0      │\n",
       "│ 237998 │ 11.0     │ 3J       │ 6       │ 8700048 │ 9995.0   │ 3.0      │\n",
       "│ 237999 │ 11.0     │ 3J       │ 6       │ 8700049 │ 9995.0   │ 3.0      │"
      ]
     },
     "execution_count": 8,
     "metadata": {},
     "output_type": "execute_result"
    }
   ],
   "source": [
    "using StatFiles\n",
    "\n",
    "sas_file = load(download(\n",
    "        \"https://www.fjc.gov/sites/default/files/idb/datasets/cv87_0.sas7bdat\",\n",
    "        # Replace this with the file path/name where you would like to store the file on your local machine\n",
    "        \"C:/Users/path/to/the/file.sas7bdat\"\n",
    "    )) |> DataFrame"
   ]
  },
  {
   "cell_type": "markdown",
   "metadata": {},
   "source": [
    "### Manipulating Data\n",
    "\n",
    "How you manipulate your data will depend largely on what interface you use to interact with it. For example, the DataFrames package exports a variety of different methods that you can use to sort, filter, group, etc. Other packages have their own methods for doing these basic operations. That being said, the way that these actions work across packages is typically similar; the differences are primarily in syntax.\n",
    "\n",
    "Below we'll do perform some basic manipulation tasks with the ```DataFrames``` package. We'll be working with the CES data we fetched earlier from BLS."
   ]
  },
  {
   "cell_type": "markdown",
   "metadata": {},
   "source": [
    "#### Fetching Rows/Columns\n",
    "\n",
    "Let's see how to fetch specific rows and columns from a DataFrame. The basic syntax is ```dataframe[row_index, column_index]```."
   ]
  },
  {
   "cell_type": "code",
   "execution_count": 9,
   "metadata": {},
   "outputs": [
    {
     "data": {
      "text/plain": [
       "30100"
      ]
     },
     "execution_count": 9,
     "metadata": {},
     "output_type": "execute_result"
    }
   ],
   "source": [
    "# Get the value stored in row 2, column 4\n",
    "ces_data[2,4]"
   ]
  },
  {
   "cell_type": "code",
   "execution_count": 10,
   "metadata": {
    "collapsed": true,
    "jupyter": {
     "outputs_hidden": true
    }
   },
   "outputs": [
    {
     "data": {
      "text/plain": [
       "4734-element Array{Int64,1}:\n",
       " 1939\n",
       " 1939\n",
       " 1939\n",
       " 1939\n",
       " 1939\n",
       " 1939\n",
       " 1939\n",
       " 1939\n",
       " 1939\n",
       " 1939\n",
       " 1939\n",
       " 1939\n",
       " 1940\n",
       "    ⋮\n",
       " 2019\n",
       " 2019\n",
       " 2019\n",
       " 2019\n",
       " 2019\n",
       " 2019\n",
       " 2019\n",
       " 2019\n",
       " 2019\n",
       " 2020\n",
       " 2020\n",
       " 2020"
      ]
     },
     "execution_count": 10,
     "metadata": {},
     "output_type": "execute_result"
    }
   ],
   "source": [
    "# To get the entire year column, there are several ways:\n",
    "ces_data.year # or\n",
    "ces_data[:, 2] # or\n",
    "ces_data[:, :year]"
   ]
  },
  {
   "cell_type": "code",
   "execution_count": 11,
   "metadata": {},
   "outputs": [
    {
     "data": {
      "text/html": [
       "<p>DataFrameRow (5 columns)</p><table class=\"data-frame\"><thead><tr><th></th><th>series_id</th><th>year</th><th>period</th><th>value</th><th>footnote_codes</th></tr><tr><th></th><th>String</th><th>Int64</th><th>String</th><th>Int64</th><th>String⍰</th></tr></thead><tbody><tr><th>5</th><td>CES0000000001    </td><td>1939</td><td>M05</td><td>30299</td><td>missing</td></tr></tbody></table>"
      ],
      "text/latex": [
       "\\begin{tabular}{r|ccccc}\n",
       "\t& series\\_id & year & period & value & footnote\\_codes\\\\\n",
       "\t\\hline\n",
       "\t& String & Int64 & String & Int64 & String⍰\\\\\n",
       "\t\\hline\n",
       "\t5 & CES0000000001     & 1939 & M05 & 30299 &  \\\\\n",
       "\\end{tabular}\n"
      ],
      "text/plain": [
       "DataFrameRow\n",
       "│ Row │ series_id         │ year  │ period │ value │ footnote_codes │\n",
       "│     │ \u001b[90mString\u001b[39m            │ \u001b[90mInt64\u001b[39m │ \u001b[90mString\u001b[39m │ \u001b[90mInt64\u001b[39m │ \u001b[90mString⍰\u001b[39m        │\n",
       "├─────┼───────────────────┼───────┼────────┼───────┼────────────────┤\n",
       "│ 5   │ CES0000000001     │ 1939  │ M05    │ 30299 │ \u001b[90mmissing\u001b[39m        │"
      ]
     },
     "execution_count": 11,
     "metadata": {},
     "output_type": "execute_result"
    }
   ],
   "source": [
    "# Get the entire 5th row\n",
    "ces_data[5, :]"
   ]
  },
  {
   "cell_type": "markdown",
   "metadata": {},
   "source": [
    "#### Sorting\n",
    "\n",
    "Let's sort the CES data by the values in the ```value``` column. The default behavior is to sort in ascending order, so we'll pass in the ```rev=true``` keyword argument to the ```sort``` function to make it sort in descending order:"
   ]
  },
  {
   "cell_type": "code",
   "execution_count": 12,
   "metadata": {
    "collapsed": true,
    "jupyter": {
     "outputs_hidden": true
    }
   },
   "outputs": [
    {
     "data": {
      "text/html": [
       "<table class=\"data-frame\"><thead><tr><th></th><th>series_id</th><th>year</th><th>period</th><th>value</th><th>footnote_codes</th></tr><tr><th></th><th>String</th><th>Int64</th><th>String</th><th>Int64</th><th>String⍰</th></tr></thead><tbody><p>4,734 rows × 5 columns</p><tr><th>1</th><td>CEU0000000001    </td><td>2019</td><td>M11</td><td>153177</td><td>missing</td></tr><tr><th>2</th><td>CEU0000000001    </td><td>2019</td><td>M12</td><td>152929</td><td>missing</td></tr><tr><th>3</th><td>CEU0000000001    </td><td>2019</td><td>M10</td><td>152570</td><td>missing</td></tr><tr><th>4</th><td>CES0000000001    </td><td>2020</td><td>M02</td><td>152487</td><td>P</td></tr><tr><th>5</th><td>CES0000000001    </td><td>2020</td><td>M01</td><td>152212</td><td>missing</td></tr><tr><th>6</th><td>CES0000000025    </td><td>2020</td><td>M03</td><td>152162</td><td>P</td></tr><tr><th>7</th><td>CES0000000001    </td><td>2019</td><td>M12</td><td>151998</td><td>missing</td></tr><tr><th>8</th><td>CES0000000001    </td><td>2019</td><td>M11</td><td>151814</td><td>missing</td></tr><tr><th>9</th><td>CES0000000025    </td><td>2019</td><td>M12</td><td>151788</td><td>missing</td></tr><tr><th>10</th><td>CES0000000001    </td><td>2020</td><td>M03</td><td>151786</td><td>P</td></tr><tr><th>11</th><td>CEU0000000001    </td><td>2019</td><td>M06</td><td>151739</td><td>missing</td></tr><tr><th>12</th><td>CEU0000000001    </td><td>2019</td><td>M09</td><td>151556</td><td>missing</td></tr><tr><th>13</th><td>CES0000000001    </td><td>2019</td><td>M10</td><td>151553</td><td>missing</td></tr><tr><th>14</th><td>CES0000000001    </td><td>2019</td><td>M09</td><td>151368</td><td>missing</td></tr><tr><th>15</th><td>CES0000000001    </td><td>2019</td><td>M08</td><td>151160</td><td>missing</td></tr><tr><th>16</th><td>CES0000000025    </td><td>2019</td><td>M09</td><td>151160</td><td>missing</td></tr><tr><th>17</th><td>CEU0000000001    </td><td>2019</td><td>M08</td><td>151141</td><td>missing</td></tr><tr><th>18</th><td>CEU0000000001    </td><td>2019</td><td>M05</td><td>151109</td><td>missing</td></tr><tr><th>19</th><td>CEU0000000001    </td><td>2020</td><td>M02</td><td>151055</td><td>P</td></tr><tr><th>20</th><td>CEU0000000001    </td><td>2018</td><td>M11</td><td>151032</td><td>missing</td></tr><tr><th>21</th><td>CES0000000001    </td><td>2019</td><td>M07</td><td>150953</td><td>missing</td></tr><tr><th>22</th><td>CEU0000000001    </td><td>2019</td><td>M13</td><td>150939</td><td>missing</td></tr><tr><th>23</th><td>CEU0000000001    </td><td>2018</td><td>M12</td><td>150832</td><td>missing</td></tr><tr><th>24</th><td>CEU0000000001    </td><td>2020</td><td>M03</td><td>150804</td><td>P</td></tr><tr><th>25</th><td>CES0000000001    </td><td>2019</td><td>M06</td><td>150759</td><td>missing</td></tr><tr><th>26</th><td>CEU0000000001    </td><td>2019</td><td>M07</td><td>150699</td><td>missing</td></tr><tr><th>27</th><td>CES0000000025    </td><td>2019</td><td>M06</td><td>150609</td><td>missing</td></tr><tr><th>28</th><td>CES0000000001    </td><td>2019</td><td>M05</td><td>150577</td><td>missing</td></tr><tr><th>29</th><td>CEU0000000001    </td><td>2018</td><td>M10</td><td>150551</td><td>missing</td></tr><tr><th>30</th><td>CES0000000001    </td><td>2019</td><td>M04</td><td>150492</td><td>missing</td></tr><tr><th>&vellip;</th><td>&vellip;</td><td>&vellip;</td><td>&vellip;</td><td>&vellip;</td><td>&vellip;</td></tr></tbody></table>"
      ],
      "text/latex": [
       "\\begin{tabular}{r|ccccc}\n",
       "\t& series\\_id & year & period & value & footnote\\_codes\\\\\n",
       "\t\\hline\n",
       "\t& String & Int64 & String & Int64 & String⍰\\\\\n",
       "\t\\hline\n",
       "\t1 & CEU0000000001     & 2019 & M11 & 153177 &  \\\\\n",
       "\t2 & CEU0000000001     & 2019 & M12 & 152929 &  \\\\\n",
       "\t3 & CEU0000000001     & 2019 & M10 & 152570 &  \\\\\n",
       "\t4 & CES0000000001     & 2020 & M02 & 152487 & P \\\\\n",
       "\t5 & CES0000000001     & 2020 & M01 & 152212 &  \\\\\n",
       "\t6 & CES0000000025     & 2020 & M03 & 152162 & P \\\\\n",
       "\t7 & CES0000000001     & 2019 & M12 & 151998 &  \\\\\n",
       "\t8 & CES0000000001     & 2019 & M11 & 151814 &  \\\\\n",
       "\t9 & CES0000000025     & 2019 & M12 & 151788 &  \\\\\n",
       "\t10 & CES0000000001     & 2020 & M03 & 151786 & P \\\\\n",
       "\t11 & CEU0000000001     & 2019 & M06 & 151739 &  \\\\\n",
       "\t12 & CEU0000000001     & 2019 & M09 & 151556 &  \\\\\n",
       "\t13 & CES0000000001     & 2019 & M10 & 151553 &  \\\\\n",
       "\t14 & CES0000000001     & 2019 & M09 & 151368 &  \\\\\n",
       "\t15 & CES0000000001     & 2019 & M08 & 151160 &  \\\\\n",
       "\t16 & CES0000000025     & 2019 & M09 & 151160 &  \\\\\n",
       "\t17 & CEU0000000001     & 2019 & M08 & 151141 &  \\\\\n",
       "\t18 & CEU0000000001     & 2019 & M05 & 151109 &  \\\\\n",
       "\t19 & CEU0000000001     & 2020 & M02 & 151055 & P \\\\\n",
       "\t20 & CEU0000000001     & 2018 & M11 & 151032 &  \\\\\n",
       "\t21 & CES0000000001     & 2019 & M07 & 150953 &  \\\\\n",
       "\t22 & CEU0000000001     & 2019 & M13 & 150939 &  \\\\\n",
       "\t23 & CEU0000000001     & 2018 & M12 & 150832 &  \\\\\n",
       "\t24 & CEU0000000001     & 2020 & M03 & 150804 & P \\\\\n",
       "\t25 & CES0000000001     & 2019 & M06 & 150759 &  \\\\\n",
       "\t26 & CEU0000000001     & 2019 & M07 & 150699 &  \\\\\n",
       "\t27 & CES0000000025     & 2019 & M06 & 150609 &  \\\\\n",
       "\t28 & CES0000000001     & 2019 & M05 & 150577 &  \\\\\n",
       "\t29 & CEU0000000001     & 2018 & M10 & 150551 &  \\\\\n",
       "\t30 & CES0000000001     & 2019 & M04 & 150492 &  \\\\\n",
       "\t$\\dots$ & $\\dots$ & $\\dots$ & $\\dots$ & $\\dots$ & $\\dots$ \\\\\n",
       "\\end{tabular}\n"
      ],
      "text/plain": [
       "4734×5 DataFrame\n",
       "│ Row  │ series_id         │ year  │ period │ value  │ footnote_codes │\n",
       "│      │ \u001b[90mString\u001b[39m            │ \u001b[90mInt64\u001b[39m │ \u001b[90mString\u001b[39m │ \u001b[90mInt64\u001b[39m  │ \u001b[90mString⍰\u001b[39m        │\n",
       "├──────┼───────────────────┼───────┼────────┼────────┼────────────────┤\n",
       "│ 1    │ CEU0000000001     │ 2019  │ M11    │ 153177 │ \u001b[90mmissing\u001b[39m        │\n",
       "│ 2    │ CEU0000000001     │ 2019  │ M12    │ 152929 │ \u001b[90mmissing\u001b[39m        │\n",
       "│ 3    │ CEU0000000001     │ 2019  │ M10    │ 152570 │ \u001b[90mmissing\u001b[39m        │\n",
       "│ 4    │ CES0000000001     │ 2020  │ M02    │ 152487 │ P              │\n",
       "│ 5    │ CES0000000001     │ 2020  │ M01    │ 152212 │ \u001b[90mmissing\u001b[39m        │\n",
       "│ 6    │ CES0000000025     │ 2020  │ M03    │ 152162 │ P              │\n",
       "│ 7    │ CES0000000001     │ 2019  │ M12    │ 151998 │ \u001b[90mmissing\u001b[39m        │\n",
       "│ 8    │ CES0000000001     │ 2019  │ M11    │ 151814 │ \u001b[90mmissing\u001b[39m        │\n",
       "│ 9    │ CES0000000025     │ 2019  │ M12    │ 151788 │ \u001b[90mmissing\u001b[39m        │\n",
       "│ 10   │ CES0000000001     │ 2020  │ M03    │ 151786 │ P              │\n",
       "⋮\n",
       "│ 4724 │ CES0000000026     │ 1945  │ M11    │ -490   │ \u001b[90mmissing\u001b[39m        │\n",
       "│ 4725 │ CES0000000026     │ 2009  │ M06    │ -501   │ \u001b[90mmissing\u001b[39m        │\n",
       "│ 4726 │ CES0000000026     │ 2008  │ M11    │ -556   │ \u001b[90mmissing\u001b[39m        │\n",
       "│ 4727 │ CES0000000026     │ 2009  │ M05    │ -612   │ \u001b[90mmissing\u001b[39m        │\n",
       "│ 4728 │ CES0000000026     │ 2008  │ M12    │ -638   │ \u001b[90mmissing\u001b[39m        │\n",
       "│ 4729 │ CES0000000026     │ 2009  │ M01    │ -739   │ \u001b[90mmissing\u001b[39m        │\n",
       "│ 4730 │ CES0000000026     │ 2009  │ M02    │ -744   │ \u001b[90mmissing\u001b[39m        │\n",
       "│ 4731 │ CES0000000026     │ 2009  │ M04    │ -746   │ \u001b[90mmissing\u001b[39m        │\n",
       "│ 4732 │ CES0000000026     │ 1945  │ M10    │ -758   │ \u001b[90mmissing\u001b[39m        │\n",
       "│ 4733 │ CES0000000026     │ 2009  │ M03    │ -776   │ \u001b[90mmissing\u001b[39m        │\n",
       "│ 4734 │ CES0000000026     │ 1945  │ M09    │ -881   │ \u001b[90mmissing\u001b[39m        │"
      ]
     },
     "execution_count": 12,
     "metadata": {},
     "output_type": "execute_result"
    }
   ],
   "source": [
    "sort(ces_data, :value, rev=true)"
   ]
  },
  {
   "cell_type": "markdown",
   "metadata": {},
   "source": [
    "#### Filtering\n",
    "\n",
    "Let's filter the CES data so that we only end up with rows where the ```year``` variables is between 1985 - 1990. There are several ways to perform this operation, but I think making use of Julia's broadcasting feature is the most inuitive, after having seen the above examples. "
   ]
  },
  {
   "cell_type": "code",
   "execution_count": 13,
   "metadata": {
    "collapsed": true,
    "jupyter": {
     "outputs_hidden": true
    }
   },
   "outputs": [
    {
     "data": {
      "text/html": [
       "<table class=\"data-frame\"><thead><tr><th></th><th>series_id</th><th>year</th><th>period</th><th>value</th><th>footnote_codes</th></tr><tr><th></th><th>String</th><th>Int64</th><th>String</th><th>Int64</th><th>String⍰</th></tr></thead><tbody><p>396 rows × 5 columns</p><tr><th>1</th><td>CES0000000001    </td><td>1985</td><td>M01</td><td>96372</td><td>missing</td></tr><tr><th>2</th><td>CES0000000001    </td><td>1985</td><td>M02</td><td>96503</td><td>missing</td></tr><tr><th>3</th><td>CES0000000001    </td><td>1985</td><td>M03</td><td>96842</td><td>missing</td></tr><tr><th>4</th><td>CES0000000001    </td><td>1985</td><td>M04</td><td>97038</td><td>missing</td></tr><tr><th>5</th><td>CES0000000001    </td><td>1985</td><td>M05</td><td>97312</td><td>missing</td></tr><tr><th>6</th><td>CES0000000001    </td><td>1985</td><td>M06</td><td>97459</td><td>missing</td></tr><tr><th>7</th><td>CES0000000001    </td><td>1985</td><td>M07</td><td>97648</td><td>missing</td></tr><tr><th>8</th><td>CES0000000001    </td><td>1985</td><td>M08</td><td>97840</td><td>missing</td></tr><tr><th>9</th><td>CES0000000001    </td><td>1985</td><td>M09</td><td>98045</td><td>missing</td></tr><tr><th>10</th><td>CES0000000001    </td><td>1985</td><td>M10</td><td>98233</td><td>missing</td></tr><tr><th>11</th><td>CES0000000001    </td><td>1985</td><td>M11</td><td>98443</td><td>missing</td></tr><tr><th>12</th><td>CES0000000001    </td><td>1985</td><td>M12</td><td>98609</td><td>missing</td></tr><tr><th>13</th><td>CES0000000001    </td><td>1986</td><td>M01</td><td>98732</td><td>missing</td></tr><tr><th>14</th><td>CES0000000001    </td><td>1986</td><td>M02</td><td>98847</td><td>missing</td></tr><tr><th>15</th><td>CES0000000001    </td><td>1986</td><td>M03</td><td>98934</td><td>missing</td></tr><tr><th>16</th><td>CES0000000001    </td><td>1986</td><td>M04</td><td>99121</td><td>missing</td></tr><tr><th>17</th><td>CES0000000001    </td><td>1986</td><td>M05</td><td>99248</td><td>missing</td></tr><tr><th>18</th><td>CES0000000001    </td><td>1986</td><td>M06</td><td>99155</td><td>missing</td></tr><tr><th>19</th><td>CES0000000001    </td><td>1986</td><td>M07</td><td>99473</td><td>missing</td></tr><tr><th>20</th><td>CES0000000001    </td><td>1986</td><td>M08</td><td>99588</td><td>missing</td></tr><tr><th>21</th><td>CES0000000001    </td><td>1986</td><td>M09</td><td>99934</td><td>missing</td></tr><tr><th>22</th><td>CES0000000001    </td><td>1986</td><td>M10</td><td>100121</td><td>missing</td></tr><tr><th>23</th><td>CES0000000001    </td><td>1986</td><td>M11</td><td>100308</td><td>missing</td></tr><tr><th>24</th><td>CES0000000001    </td><td>1986</td><td>M12</td><td>100509</td><td>missing</td></tr><tr><th>25</th><td>CES0000000001    </td><td>1987</td><td>M01</td><td>100678</td><td>missing</td></tr><tr><th>26</th><td>CES0000000001    </td><td>1987</td><td>M02</td><td>100919</td><td>missing</td></tr><tr><th>27</th><td>CES0000000001    </td><td>1987</td><td>M03</td><td>101164</td><td>missing</td></tr><tr><th>28</th><td>CES0000000001    </td><td>1987</td><td>M04</td><td>101499</td><td>missing</td></tr><tr><th>29</th><td>CES0000000001    </td><td>1987</td><td>M05</td><td>101728</td><td>missing</td></tr><tr><th>30</th><td>CES0000000001    </td><td>1987</td><td>M06</td><td>101900</td><td>missing</td></tr><tr><th>&vellip;</th><td>&vellip;</td><td>&vellip;</td><td>&vellip;</td><td>&vellip;</td><td>&vellip;</td></tr></tbody></table>"
      ],
      "text/latex": [
       "\\begin{tabular}{r|ccccc}\n",
       "\t& series\\_id & year & period & value & footnote\\_codes\\\\\n",
       "\t\\hline\n",
       "\t& String & Int64 & String & Int64 & String⍰\\\\\n",
       "\t\\hline\n",
       "\t1 & CES0000000001     & 1985 & M01 & 96372 &  \\\\\n",
       "\t2 & CES0000000001     & 1985 & M02 & 96503 &  \\\\\n",
       "\t3 & CES0000000001     & 1985 & M03 & 96842 &  \\\\\n",
       "\t4 & CES0000000001     & 1985 & M04 & 97038 &  \\\\\n",
       "\t5 & CES0000000001     & 1985 & M05 & 97312 &  \\\\\n",
       "\t6 & CES0000000001     & 1985 & M06 & 97459 &  \\\\\n",
       "\t7 & CES0000000001     & 1985 & M07 & 97648 &  \\\\\n",
       "\t8 & CES0000000001     & 1985 & M08 & 97840 &  \\\\\n",
       "\t9 & CES0000000001     & 1985 & M09 & 98045 &  \\\\\n",
       "\t10 & CES0000000001     & 1985 & M10 & 98233 &  \\\\\n",
       "\t11 & CES0000000001     & 1985 & M11 & 98443 &  \\\\\n",
       "\t12 & CES0000000001     & 1985 & M12 & 98609 &  \\\\\n",
       "\t13 & CES0000000001     & 1986 & M01 & 98732 &  \\\\\n",
       "\t14 & CES0000000001     & 1986 & M02 & 98847 &  \\\\\n",
       "\t15 & CES0000000001     & 1986 & M03 & 98934 &  \\\\\n",
       "\t16 & CES0000000001     & 1986 & M04 & 99121 &  \\\\\n",
       "\t17 & CES0000000001     & 1986 & M05 & 99248 &  \\\\\n",
       "\t18 & CES0000000001     & 1986 & M06 & 99155 &  \\\\\n",
       "\t19 & CES0000000001     & 1986 & M07 & 99473 &  \\\\\n",
       "\t20 & CES0000000001     & 1986 & M08 & 99588 &  \\\\\n",
       "\t21 & CES0000000001     & 1986 & M09 & 99934 &  \\\\\n",
       "\t22 & CES0000000001     & 1986 & M10 & 100121 &  \\\\\n",
       "\t23 & CES0000000001     & 1986 & M11 & 100308 &  \\\\\n",
       "\t24 & CES0000000001     & 1986 & M12 & 100509 &  \\\\\n",
       "\t25 & CES0000000001     & 1987 & M01 & 100678 &  \\\\\n",
       "\t26 & CES0000000001     & 1987 & M02 & 100919 &  \\\\\n",
       "\t27 & CES0000000001     & 1987 & M03 & 101164 &  \\\\\n",
       "\t28 & CES0000000001     & 1987 & M04 & 101499 &  \\\\\n",
       "\t29 & CES0000000001     & 1987 & M05 & 101728 &  \\\\\n",
       "\t30 & CES0000000001     & 1987 & M06 & 101900 &  \\\\\n",
       "\t$\\dots$ & $\\dots$ & $\\dots$ & $\\dots$ & $\\dots$ & $\\dots$ \\\\\n",
       "\\end{tabular}\n"
      ],
      "text/plain": [
       "396×5 DataFrame\n",
       "│ Row │ series_id         │ year  │ period │ value │ footnote_codes │\n",
       "│     │ \u001b[90mString\u001b[39m            │ \u001b[90mInt64\u001b[39m │ \u001b[90mString\u001b[39m │ \u001b[90mInt64\u001b[39m │ \u001b[90mString⍰\u001b[39m        │\n",
       "├─────┼───────────────────┼───────┼────────┼───────┼────────────────┤\n",
       "│ 1   │ CES0000000001     │ 1985  │ M01    │ 96372 │ \u001b[90mmissing\u001b[39m        │\n",
       "│ 2   │ CES0000000001     │ 1985  │ M02    │ 96503 │ \u001b[90mmissing\u001b[39m        │\n",
       "│ 3   │ CES0000000001     │ 1985  │ M03    │ 96842 │ \u001b[90mmissing\u001b[39m        │\n",
       "│ 4   │ CES0000000001     │ 1985  │ M04    │ 97038 │ \u001b[90mmissing\u001b[39m        │\n",
       "│ 5   │ CES0000000001     │ 1985  │ M05    │ 97312 │ \u001b[90mmissing\u001b[39m        │\n",
       "│ 6   │ CES0000000001     │ 1985  │ M06    │ 97459 │ \u001b[90mmissing\u001b[39m        │\n",
       "│ 7   │ CES0000000001     │ 1985  │ M07    │ 97648 │ \u001b[90mmissing\u001b[39m        │\n",
       "│ 8   │ CES0000000001     │ 1985  │ M08    │ 97840 │ \u001b[90mmissing\u001b[39m        │\n",
       "│ 9   │ CES0000000001     │ 1985  │ M09    │ 98045 │ \u001b[90mmissing\u001b[39m        │\n",
       "│ 10  │ CES0000000001     │ 1985  │ M10    │ 98233 │ \u001b[90mmissing\u001b[39m        │\n",
       "⋮\n",
       "│ 386 │ CEU0000000010     │ 1990  │ M03    │ 51336 │ \u001b[90mmissing\u001b[39m        │\n",
       "│ 387 │ CEU0000000010     │ 1990  │ M04    │ 51550 │ \u001b[90mmissing\u001b[39m        │\n",
       "│ 388 │ CEU0000000010     │ 1990  │ M05    │ 51882 │ \u001b[90mmissing\u001b[39m        │\n",
       "│ 389 │ CEU0000000010     │ 1990  │ M06    │ 51970 │ \u001b[90mmissing\u001b[39m        │\n",
       "│ 390 │ CEU0000000010     │ 1990  │ M07    │ 51015 │ \u001b[90mmissing\u001b[39m        │\n",
       "│ 391 │ CEU0000000010     │ 1990  │ M08    │ 51006 │ \u001b[90mmissing\u001b[39m        │\n",
       "│ 392 │ CEU0000000010     │ 1990  │ M09    │ 51765 │ \u001b[90mmissing\u001b[39m        │\n",
       "│ 393 │ CEU0000000010     │ 1990  │ M10    │ 52141 │ \u001b[90mmissing\u001b[39m        │\n",
       "│ 394 │ CEU0000000010     │ 1990  │ M11    │ 52399 │ \u001b[90mmissing\u001b[39m        │\n",
       "│ 395 │ CEU0000000010     │ 1990  │ M12    │ 52458 │ \u001b[90mmissing\u001b[39m        │\n",
       "│ 396 │ CEU0000000010     │ 1990  │ M13    │ 51619 │ \u001b[90mmissing\u001b[39m        │"
      ]
     },
     "execution_count": 13,
     "metadata": {},
     "output_type": "execute_result"
    }
   ],
   "source": [
    "# The . before the < operators is what allows us to 'broadcast' the comparisons across the entire year vector\n",
    "ces_data[1984 .< ces_data.year .< 1991, :]"
   ]
  },
  {
   "cell_type": "markdown",
   "metadata": {},
   "source": [
    "#### Grouping\n",
    "\n",
    "Now we can group our data by year. This operation will return a new kind of ```DataFrame```, a ```GroupedDataFrame```:"
   ]
  },
  {
   "cell_type": "code",
   "execution_count": 14,
   "metadata": {
    "collapsed": true,
    "jupyter": {
     "outputs_hidden": true
    }
   },
   "outputs": [
    {
     "data": {
      "text/html": [
       "<p><b>GroupedDataFrame with 82 groups based on key: year</b></p><p><i>First Group (38 rows): year = 1939</i></p><table class=\"data-frame\"><thead><tr><th></th><th>series_id</th><th>year</th><th>period</th><th>value</th><th>footnote_codes</th></tr><tr><th></th><th>String</th><th>Int64</th><th>String</th><th>Int64</th><th>String⍰</th></tr></thead><tbody><tr><th>1</th><td>CES0000000001    </td><td>1939</td><td>M01</td><td>29923</td><td>missing</td></tr><tr><th>2</th><td>CES0000000001    </td><td>1939</td><td>M02</td><td>30100</td><td>missing</td></tr><tr><th>3</th><td>CES0000000001    </td><td>1939</td><td>M03</td><td>30280</td><td>missing</td></tr><tr><th>4</th><td>CES0000000001    </td><td>1939</td><td>M04</td><td>30094</td><td>missing</td></tr><tr><th>5</th><td>CES0000000001    </td><td>1939</td><td>M05</td><td>30299</td><td>missing</td></tr><tr><th>6</th><td>CES0000000001    </td><td>1939</td><td>M06</td><td>30502</td><td>missing</td></tr><tr><th>7</th><td>CES0000000001    </td><td>1939</td><td>M07</td><td>30419</td><td>missing</td></tr><tr><th>8</th><td>CES0000000001    </td><td>1939</td><td>M08</td><td>30663</td><td>missing</td></tr><tr><th>9</th><td>CES0000000001    </td><td>1939</td><td>M09</td><td>31031</td><td>missing</td></tr><tr><th>10</th><td>CES0000000001    </td><td>1939</td><td>M10</td><td>31411</td><td>missing</td></tr><tr><th>11</th><td>CES0000000001    </td><td>1939</td><td>M11</td><td>31470</td><td>missing</td></tr><tr><th>12</th><td>CES0000000001    </td><td>1939</td><td>M12</td><td>31542</td><td>missing</td></tr><tr><th>13</th><td>CES0000000025    </td><td>1939</td><td>M03</td><td>30101</td><td>missing</td></tr><tr><th>14</th><td>CES0000000025    </td><td>1939</td><td>M06</td><td>30298</td><td>missing</td></tr><tr><th>15</th><td>CES0000000025    </td><td>1939</td><td>M09</td><td>30704</td><td>missing</td></tr><tr><th>16</th><td>CES0000000025    </td><td>1939</td><td>M12</td><td>31474</td><td>missing</td></tr><tr><th>17</th><td>CES0000000026    </td><td>1939</td><td>M04</td><td>57</td><td>missing</td></tr><tr><th>18</th><td>CES0000000026    </td><td>1939</td><td>M05</td><td>66</td><td>missing</td></tr><tr><th>19</th><td>CES0000000026    </td><td>1939</td><td>M06</td><td>74</td><td>missing</td></tr><tr><th>20</th><td>CES0000000026    </td><td>1939</td><td>M07</td><td>108</td><td>missing</td></tr><tr><th>21</th><td>CES0000000026    </td><td>1939</td><td>M08</td><td>121</td><td>missing</td></tr><tr><th>22</th><td>CES0000000026    </td><td>1939</td><td>M09</td><td>176</td><td>missing</td></tr><tr><th>23</th><td>CES0000000026    </td><td>1939</td><td>M10</td><td>331</td><td>missing</td></tr><tr><th>24</th><td>CES0000000026    </td><td>1939</td><td>M11</td><td>269</td><td>missing</td></tr><tr><th>25</th><td>CES0000000026    </td><td>1939</td><td>M12</td><td>170</td><td>missing</td></tr><tr><th>26</th><td>CEU0000000001    </td><td>1939</td><td>M01</td><td>29296</td><td>missing</td></tr><tr><th>27</th><td>CEU0000000001    </td><td>1939</td><td>M02</td><td>29394</td><td>missing</td></tr><tr><th>28</th><td>CEU0000000001    </td><td>1939</td><td>M03</td><td>29804</td><td>missing</td></tr><tr><th>29</th><td>CEU0000000001    </td><td>1939</td><td>M04</td><td>29786</td><td>missing</td></tr><tr><th>30</th><td>CEU0000000001    </td><td>1939</td><td>M05</td><td>30145</td><td>missing</td></tr><tr><th>&vellip;</th><td>&vellip;</td><td>&vellip;</td><td>&vellip;</td><td>&vellip;</td><td>&vellip;</td></tr></tbody></table><p>&vellip;</p><p><i>Last Group (16 rows): year = 2020</i></p><table class=\"data-frame\"><thead><tr><th></th><th>series_id</th><th>year</th><th>period</th><th>value</th><th>footnote_codes</th></tr><tr><th></th><th>String</th><th>Int64</th><th>String</th><th>Int64</th><th>String⍰</th></tr></thead><tbody><tr><th>1</th><td>CES0000000001    </td><td>2020</td><td>M01</td><td>152212</td><td>missing</td></tr><tr><th>2</th><td>CES0000000001    </td><td>2020</td><td>M02</td><td>152487</td><td>P</td></tr><tr><th>3</th><td>CES0000000001    </td><td>2020</td><td>M03</td><td>151786</td><td>P</td></tr><tr><th>4</th><td>CES0000000010    </td><td>2020</td><td>M01</td><td>76151</td><td>missing</td></tr><tr><th>5</th><td>CES0000000010    </td><td>2020</td><td>M02</td><td>76304</td><td>P</td></tr><tr><th>6</th><td>CES0000000010    </td><td>2020</td><td>M03</td><td>75892</td><td>P</td></tr><tr><th>7</th><td>CES0000000025    </td><td>2020</td><td>M03</td><td>152162</td><td>P</td></tr><tr><th>8</th><td>CES0000000026    </td><td>2020</td><td>M01</td><td>220</td><td>missing</td></tr><tr><th>9</th><td>CES0000000026    </td><td>2020</td><td>M02</td><td>224</td><td>P</td></tr><tr><th>10</th><td>CES0000000026    </td><td>2020</td><td>M03</td><td>-71</td><td>P</td></tr><tr><th>11</th><td>CEU0000000001    </td><td>2020</td><td>M01</td><td>150153</td><td>missing</td></tr><tr><th>12</th><td>CEU0000000001    </td><td>2020</td><td>M02</td><td>151055</td><td>P</td></tr><tr><th>13</th><td>CEU0000000001    </td><td>2020</td><td>M03</td><td>150804</td><td>P</td></tr><tr><th>14</th><td>CEU0000000010    </td><td>2020</td><td>M01</td><td>75426</td><td>missing</td></tr><tr><th>15</th><td>CEU0000000010    </td><td>2020</td><td>M02</td><td>75949</td><td>P</td></tr><tr><th>16</th><td>CEU0000000010    </td><td>2020</td><td>M03</td><td>75731</td><td>P</td></tr></tbody></table>"
      ],
      "text/latex": [
       "GroupedDataFrame with 82 groups based on key: year\n",
       "\n",
       "First Group (38 rows): year = 1939\n",
       "\n",
       "\\begin{tabular}{r|ccccc}\n",
       "\t& series\\_id & year & period & value & footnote\\_codes\\\\\n",
       "\t\\hline\n",
       "\t& String & Int64 & String & Int64 & String⍰\\\\\n",
       "\t\\hline\n",
       "\t1 & CES0000000001     & 1939 & M01 & 29923 &  \\\\\n",
       "\t2 & CES0000000001     & 1939 & M02 & 30100 &  \\\\\n",
       "\t3 & CES0000000001     & 1939 & M03 & 30280 &  \\\\\n",
       "\t4 & CES0000000001     & 1939 & M04 & 30094 &  \\\\\n",
       "\t5 & CES0000000001     & 1939 & M05 & 30299 &  \\\\\n",
       "\t6 & CES0000000001     & 1939 & M06 & 30502 &  \\\\\n",
       "\t7 & CES0000000001     & 1939 & M07 & 30419 &  \\\\\n",
       "\t8 & CES0000000001     & 1939 & M08 & 30663 &  \\\\\n",
       "\t9 & CES0000000001     & 1939 & M09 & 31031 &  \\\\\n",
       "\t10 & CES0000000001     & 1939 & M10 & 31411 &  \\\\\n",
       "\t11 & CES0000000001     & 1939 & M11 & 31470 &  \\\\\n",
       "\t12 & CES0000000001     & 1939 & M12 & 31542 &  \\\\\n",
       "\t13 & CES0000000025     & 1939 & M03 & 30101 &  \\\\\n",
       "\t14 & CES0000000025     & 1939 & M06 & 30298 &  \\\\\n",
       "\t15 & CES0000000025     & 1939 & M09 & 30704 &  \\\\\n",
       "\t16 & CES0000000025     & 1939 & M12 & 31474 &  \\\\\n",
       "\t17 & CES0000000026     & 1939 & M04 & 57 &  \\\\\n",
       "\t18 & CES0000000026     & 1939 & M05 & 66 &  \\\\\n",
       "\t19 & CES0000000026     & 1939 & M06 & 74 &  \\\\\n",
       "\t20 & CES0000000026     & 1939 & M07 & 108 &  \\\\\n",
       "\t21 & CES0000000026     & 1939 & M08 & 121 &  \\\\\n",
       "\t22 & CES0000000026     & 1939 & M09 & 176 &  \\\\\n",
       "\t23 & CES0000000026     & 1939 & M10 & 331 &  \\\\\n",
       "\t24 & CES0000000026     & 1939 & M11 & 269 &  \\\\\n",
       "\t25 & CES0000000026     & 1939 & M12 & 170 &  \\\\\n",
       "\t26 & CEU0000000001     & 1939 & M01 & 29296 &  \\\\\n",
       "\t27 & CEU0000000001     & 1939 & M02 & 29394 &  \\\\\n",
       "\t28 & CEU0000000001     & 1939 & M03 & 29804 &  \\\\\n",
       "\t29 & CEU0000000001     & 1939 & M04 & 29786 &  \\\\\n",
       "\t30 & CEU0000000001     & 1939 & M05 & 30145 &  \\\\\n",
       "\t$\\dots$ & $\\dots$ & $\\dots$ & $\\dots$ & $\\dots$ & $\\dots$ \\\\\n",
       "\\end{tabular}\n",
       "\n",
       "$\\dots$\n",
       "\n",
       "Last Group (16 rows): year = 2020\n",
       "\n",
       "\\begin{tabular}{r|ccccc}\n",
       "\t& series\\_id & year & period & value & footnote\\_codes\\\\\n",
       "\t\\hline\n",
       "\t& String & Int64 & String & Int64 & String⍰\\\\\n",
       "\t\\hline\n",
       "\t1 & CES0000000001     & 2020 & M01 & 152212 &  \\\\\n",
       "\t2 & CES0000000001     & 2020 & M02 & 152487 & P \\\\\n",
       "\t3 & CES0000000001     & 2020 & M03 & 151786 & P \\\\\n",
       "\t4 & CES0000000010     & 2020 & M01 & 76151 &  \\\\\n",
       "\t5 & CES0000000010     & 2020 & M02 & 76304 & P \\\\\n",
       "\t6 & CES0000000010     & 2020 & M03 & 75892 & P \\\\\n",
       "\t7 & CES0000000025     & 2020 & M03 & 152162 & P \\\\\n",
       "\t8 & CES0000000026     & 2020 & M01 & 220 &  \\\\\n",
       "\t9 & CES0000000026     & 2020 & M02 & 224 & P \\\\\n",
       "\t10 & CES0000000026     & 2020 & M03 & -71 & P \\\\\n",
       "\t11 & CEU0000000001     & 2020 & M01 & 150153 &  \\\\\n",
       "\t12 & CEU0000000001     & 2020 & M02 & 151055 & P \\\\\n",
       "\t13 & CEU0000000001     & 2020 & M03 & 150804 & P \\\\\n",
       "\t14 & CEU0000000010     & 2020 & M01 & 75426 &  \\\\\n",
       "\t15 & CEU0000000010     & 2020 & M02 & 75949 & P \\\\\n",
       "\t16 & CEU0000000010     & 2020 & M03 & 75731 & P \\\\\n",
       "\\end{tabular}\n"
      ],
      "text/plain": [
       "GroupedDataFrame with 82 groups based on key: year\n",
       "First Group (38 rows): year = 1939\n",
       "│ Row │ series_id         │ year  │ period │ value │ footnote_codes │\n",
       "│     │ \u001b[90mString\u001b[39m            │ \u001b[90mInt64\u001b[39m │ \u001b[90mString\u001b[39m │ \u001b[90mInt64\u001b[39m │ \u001b[90mString⍰\u001b[39m        │\n",
       "├─────┼───────────────────┼───────┼────────┼───────┼────────────────┤\n",
       "│ 1   │ CES0000000001     │ 1939  │ M01    │ 29923 │ \u001b[90mmissing\u001b[39m        │\n",
       "│ 2   │ CES0000000001     │ 1939  │ M02    │ 30100 │ \u001b[90mmissing\u001b[39m        │\n",
       "│ 3   │ CES0000000001     │ 1939  │ M03    │ 30280 │ \u001b[90mmissing\u001b[39m        │\n",
       "│ 4   │ CES0000000001     │ 1939  │ M04    │ 30094 │ \u001b[90mmissing\u001b[39m        │\n",
       "│ 5   │ CES0000000001     │ 1939  │ M05    │ 30299 │ \u001b[90mmissing\u001b[39m        │\n",
       "│ 6   │ CES0000000001     │ 1939  │ M06    │ 30502 │ \u001b[90mmissing\u001b[39m        │\n",
       "│ 7   │ CES0000000001     │ 1939  │ M07    │ 30419 │ \u001b[90mmissing\u001b[39m        │\n",
       "│ 8   │ CES0000000001     │ 1939  │ M08    │ 30663 │ \u001b[90mmissing\u001b[39m        │\n",
       "│ 9   │ CES0000000001     │ 1939  │ M09    │ 31031 │ \u001b[90mmissing\u001b[39m        │\n",
       "│ 10  │ CES0000000001     │ 1939  │ M10    │ 31411 │ \u001b[90mmissing\u001b[39m        │\n",
       "⋮\n",
       "│ 28  │ CEU0000000001     │ 1939  │ M03    │ 29804 │ \u001b[90mmissing\u001b[39m        │\n",
       "│ 29  │ CEU0000000001     │ 1939  │ M04    │ 29786 │ \u001b[90mmissing\u001b[39m        │\n",
       "│ 30  │ CEU0000000001     │ 1939  │ M05    │ 30145 │ \u001b[90mmissing\u001b[39m        │\n",
       "│ 31  │ CEU0000000001     │ 1939  │ M06    │ 30520 │ \u001b[90mmissing\u001b[39m        │\n",
       "│ 32  │ CEU0000000001     │ 1939  │ M07    │ 30472 │ \u001b[90mmissing\u001b[39m        │\n",
       "│ 33  │ CEU0000000001     │ 1939  │ M08    │ 30870 │ \u001b[90mmissing\u001b[39m        │\n",
       "│ 34  │ CEU0000000001     │ 1939  │ M09    │ 31608 │ \u001b[90mmissing\u001b[39m        │\n",
       "│ 35  │ CEU0000000001     │ 1939  │ M10    │ 31975 │ \u001b[90mmissing\u001b[39m        │\n",
       "│ 36  │ CEU0000000001     │ 1939  │ M11    │ 31837 │ \u001b[90mmissing\u001b[39m        │\n",
       "│ 37  │ CEU0000000001     │ 1939  │ M12    │ 32037 │ \u001b[90mmissing\u001b[39m        │\n",
       "│ 38  │ CEU0000000001     │ 1939  │ M13    │ 30645 │ \u001b[90mmissing\u001b[39m        │\n",
       "⋮\n",
       "Last Group (16 rows): year = 2020\n",
       "│ Row │ series_id         │ year  │ period │ value  │ footnote_codes │\n",
       "│     │ \u001b[90mString\u001b[39m            │ \u001b[90mInt64\u001b[39m │ \u001b[90mString\u001b[39m │ \u001b[90mInt64\u001b[39m  │ \u001b[90mString⍰\u001b[39m        │\n",
       "├─────┼───────────────────┼───────┼────────┼────────┼────────────────┤\n",
       "│ 1   │ CES0000000001     │ 2020  │ M01    │ 152212 │ \u001b[90mmissing\u001b[39m        │\n",
       "│ 2   │ CES0000000001     │ 2020  │ M02    │ 152487 │ P              │\n",
       "│ 3   │ CES0000000001     │ 2020  │ M03    │ 151786 │ P              │\n",
       "│ 4   │ CES0000000010     │ 2020  │ M01    │ 76151  │ \u001b[90mmissing\u001b[39m        │\n",
       "│ 5   │ CES0000000010     │ 2020  │ M02    │ 76304  │ P              │\n",
       "│ 6   │ CES0000000010     │ 2020  │ M03    │ 75892  │ P              │\n",
       "│ 7   │ CES0000000025     │ 2020  │ M03    │ 152162 │ P              │\n",
       "│ 8   │ CES0000000026     │ 2020  │ M01    │ 220    │ \u001b[90mmissing\u001b[39m        │\n",
       "│ 9   │ CES0000000026     │ 2020  │ M02    │ 224    │ P              │\n",
       "│ 10  │ CES0000000026     │ 2020  │ M03    │ -71    │ P              │\n",
       "│ 11  │ CEU0000000001     │ 2020  │ M01    │ 150153 │ \u001b[90mmissing\u001b[39m        │\n",
       "│ 12  │ CEU0000000001     │ 2020  │ M02    │ 151055 │ P              │\n",
       "│ 13  │ CEU0000000001     │ 2020  │ M03    │ 150804 │ P              │\n",
       "│ 14  │ CEU0000000010     │ 2020  │ M01    │ 75426  │ \u001b[90mmissing\u001b[39m        │\n",
       "│ 15  │ CEU0000000010     │ 2020  │ M02    │ 75949  │ P              │\n",
       "│ 16  │ CEU0000000010     │ 2020  │ M03    │ 75731  │ P              │"
      ]
     },
     "execution_count": 14,
     "metadata": {},
     "output_type": "execute_result"
    }
   ],
   "source": [
    "groupby(ces_data, :year)"
   ]
  },
  {
   "cell_type": "markdown",
   "metadata": {},
   "source": [
    "### Visualizing Data\n",
    "\n",
    "There are several very good plotting libraries in Julia. Each of them have their own strengths and weaknesses and what's best for you will likely depend on what kind of plotting you're doing. For this tutorial, we'll use basic functions from the Plots package and show how to plot information from our DataFrame that contains the CES data. First, we'll filter the CES data to isolate a single series, then we'll plot it."
   ]
  },
  {
   "cell_type": "code",
   "execution_count": 15,
   "metadata": {},
   "outputs": [
    {
     "data": {
      "image/svg+xml": [
       "<?xml version=\"1.0\" encoding=\"utf-8\"?>\n",
       "<svg xmlns=\"http://www.w3.org/2000/svg\" xmlns:xlink=\"http://www.w3.org/1999/xlink\" width=\"600\" height=\"400\" viewBox=\"0 0 2400 1600\">\n",
       "<defs>\n",
       "  <clipPath id=\"clip5600\">\n",
       "    <rect x=\"0\" y=\"0\" width=\"2400\" height=\"1600\"/>\n",
       "  </clipPath>\n",
       "</defs>\n",
       "<path clip-path=\"url(#clip5600)\" d=\"\n",
       "M0 1600 L2400 1600 L2400 0 L0 0  Z\n",
       "  \" fill=\"#ffffff\" fill-rule=\"evenodd\" fill-opacity=\"1\"/>\n",
       "<defs>\n",
       "  <clipPath id=\"clip5601\">\n",
       "    <rect x=\"480\" y=\"0\" width=\"1681\" height=\"1600\"/>\n",
       "  </clipPath>\n",
       "</defs>\n",
       "<path clip-path=\"url(#clip5600)\" d=\"\n",
       "M328.094 1487.47 L2352.76 1487.47 L2352.76 47.2441 L328.094 47.2441  Z\n",
       "  \" fill=\"#ffffff\" fill-rule=\"evenodd\" fill-opacity=\"1\"/>\n",
       "<defs>\n",
       "  <clipPath id=\"clip5602\">\n",
       "    <rect x=\"328\" y=\"47\" width=\"2026\" height=\"1441\"/>\n",
       "  </clipPath>\n",
       "</defs>\n",
       "<polyline clip-path=\"url(#clip5602)\" style=\"stroke:#000000; stroke-width:2; stroke-opacity:0.1; fill:none\" points=\"\n",
       "  383.435,1487.47 383.435,47.2441 \n",
       "  \"/>\n",
       "<polyline clip-path=\"url(#clip5602)\" style=\"stroke:#000000; stroke-width:2; stroke-opacity:0.1; fill:none\" points=\"\n",
       "  873.696,1487.47 873.696,47.2441 \n",
       "  \"/>\n",
       "<polyline clip-path=\"url(#clip5602)\" style=\"stroke:#000000; stroke-width:2; stroke-opacity:0.1; fill:none\" points=\"\n",
       "  1363.96,1487.47 1363.96,47.2441 \n",
       "  \"/>\n",
       "<polyline clip-path=\"url(#clip5602)\" style=\"stroke:#000000; stroke-width:2; stroke-opacity:0.1; fill:none\" points=\"\n",
       "  1854.22,1487.47 1854.22,47.2441 \n",
       "  \"/>\n",
       "<polyline clip-path=\"url(#clip5602)\" style=\"stroke:#000000; stroke-width:2; stroke-opacity:0.1; fill:none\" points=\"\n",
       "  2344.48,1487.47 2344.48,47.2441 \n",
       "  \"/>\n",
       "<polyline clip-path=\"url(#clip5602)\" style=\"stroke:#000000; stroke-width:2; stroke-opacity:0.1; fill:none\" points=\"\n",
       "  328.094,1224.15 2352.76,1224.15 \n",
       "  \"/>\n",
       "<polyline clip-path=\"url(#clip5602)\" style=\"stroke:#000000; stroke-width:2; stroke-opacity:0.1; fill:none\" points=\"\n",
       "  328.094,947.003 2352.76,947.003 \n",
       "  \"/>\n",
       "<polyline clip-path=\"url(#clip5602)\" style=\"stroke:#000000; stroke-width:2; stroke-opacity:0.1; fill:none\" points=\"\n",
       "  328.094,669.861 2352.76,669.861 \n",
       "  \"/>\n",
       "<polyline clip-path=\"url(#clip5602)\" style=\"stroke:#000000; stroke-width:2; stroke-opacity:0.1; fill:none\" points=\"\n",
       "  328.094,392.718 2352.76,392.718 \n",
       "  \"/>\n",
       "<polyline clip-path=\"url(#clip5602)\" style=\"stroke:#000000; stroke-width:2; stroke-opacity:0.1; fill:none\" points=\"\n",
       "  328.094,115.575 2352.76,115.575 \n",
       "  \"/>\n",
       "<polyline clip-path=\"url(#clip5600)\" style=\"stroke:#000000; stroke-width:4; stroke-opacity:1; fill:none\" points=\"\n",
       "  328.094,1487.47 2352.76,1487.47 \n",
       "  \"/>\n",
       "<polyline clip-path=\"url(#clip5600)\" style=\"stroke:#000000; stroke-width:4; stroke-opacity:1; fill:none\" points=\"\n",
       "  328.094,1487.47 328.094,47.2441 \n",
       "  \"/>\n",
       "<polyline clip-path=\"url(#clip5600)\" style=\"stroke:#000000; stroke-width:4; stroke-opacity:1; fill:none\" points=\"\n",
       "  383.435,1487.47 383.435,1470.19 \n",
       "  \"/>\n",
       "<polyline clip-path=\"url(#clip5600)\" style=\"stroke:#000000; stroke-width:4; stroke-opacity:1; fill:none\" points=\"\n",
       "  873.696,1487.47 873.696,1470.19 \n",
       "  \"/>\n",
       "<polyline clip-path=\"url(#clip5600)\" style=\"stroke:#000000; stroke-width:4; stroke-opacity:1; fill:none\" points=\"\n",
       "  1363.96,1487.47 1363.96,1470.19 \n",
       "  \"/>\n",
       "<polyline clip-path=\"url(#clip5600)\" style=\"stroke:#000000; stroke-width:4; stroke-opacity:1; fill:none\" points=\"\n",
       "  1854.22,1487.47 1854.22,1470.19 \n",
       "  \"/>\n",
       "<polyline clip-path=\"url(#clip5600)\" style=\"stroke:#000000; stroke-width:4; stroke-opacity:1; fill:none\" points=\"\n",
       "  2344.48,1487.47 2344.48,1470.19 \n",
       "  \"/>\n",
       "<polyline clip-path=\"url(#clip5600)\" style=\"stroke:#000000; stroke-width:4; stroke-opacity:1; fill:none\" points=\"\n",
       "  328.094,1224.15 352.39,1224.15 \n",
       "  \"/>\n",
       "<polyline clip-path=\"url(#clip5600)\" style=\"stroke:#000000; stroke-width:4; stroke-opacity:1; fill:none\" points=\"\n",
       "  328.094,947.003 352.39,947.003 \n",
       "  \"/>\n",
       "<polyline clip-path=\"url(#clip5600)\" style=\"stroke:#000000; stroke-width:4; stroke-opacity:1; fill:none\" points=\"\n",
       "  328.094,669.861 352.39,669.861 \n",
       "  \"/>\n",
       "<polyline clip-path=\"url(#clip5600)\" style=\"stroke:#000000; stroke-width:4; stroke-opacity:1; fill:none\" points=\"\n",
       "  328.094,392.718 352.39,392.718 \n",
       "  \"/>\n",
       "<polyline clip-path=\"url(#clip5600)\" style=\"stroke:#000000; stroke-width:4; stroke-opacity:1; fill:none\" points=\"\n",
       "  328.094,115.575 352.39,115.575 \n",
       "  \"/>\n",
       "<g clip-path=\"url(#clip5600)\">\n",
       "<text style=\"fill:#000000; fill-opacity:1; font-family:Arial,Helvetica Neue,Helvetica,sans-serif; font-size:48px; text-anchor:middle;\" transform=\"rotate(0, 383.435, 1541.47)\" x=\"383.435\" y=\"1541.47\">0</text>\n",
       "</g>\n",
       "<g clip-path=\"url(#clip5600)\">\n",
       "<text style=\"fill:#000000; fill-opacity:1; font-family:Arial,Helvetica Neue,Helvetica,sans-serif; font-size:48px; text-anchor:middle;\" transform=\"rotate(0, 873.696, 1541.47)\" x=\"873.696\" y=\"1541.47\">250</text>\n",
       "</g>\n",
       "<g clip-path=\"url(#clip5600)\">\n",
       "<text style=\"fill:#000000; fill-opacity:1; font-family:Arial,Helvetica Neue,Helvetica,sans-serif; font-size:48px; text-anchor:middle;\" transform=\"rotate(0, 1363.96, 1541.47)\" x=\"1363.96\" y=\"1541.47\">500</text>\n",
       "</g>\n",
       "<g clip-path=\"url(#clip5600)\">\n",
       "<text style=\"fill:#000000; fill-opacity:1; font-family:Arial,Helvetica Neue,Helvetica,sans-serif; font-size:48px; text-anchor:middle;\" transform=\"rotate(0, 1854.22, 1541.47)\" x=\"1854.22\" y=\"1541.47\">750</text>\n",
       "</g>\n",
       "<g clip-path=\"url(#clip5600)\">\n",
       "<text style=\"fill:#000000; fill-opacity:1; font-family:Arial,Helvetica Neue,Helvetica,sans-serif; font-size:48px; text-anchor:middle;\" transform=\"rotate(0, 2344.48, 1541.47)\" x=\"2344.48\" y=\"1541.47\">1000</text>\n",
       "</g>\n",
       "<g clip-path=\"url(#clip5600)\">\n",
       "<text style=\"fill:#000000; fill-opacity:1; font-family:Arial,Helvetica Neue,Helvetica,sans-serif; font-size:48px; text-anchor:start;\" transform=\"rotate(0, 107.046, 1247.87)\" x=\"107.046\" y=\"1247.87\">5.00×10</text>\n",
       "</g>\n",
       "<g clip-path=\"url(#clip5600)\">\n",
       "<text style=\"fill:#000000; fill-opacity:1; font-family:Arial,Helvetica Neue,Helvetica,sans-serif; font-size:38px; text-anchor:start;\" transform=\"rotate(0, 282.349, 1220.46)\" x=\"282.349\" y=\"1220.46\">4</text>\n",
       "</g>\n",
       "<g clip-path=\"url(#clip5600)\">\n",
       "<text style=\"fill:#000000; fill-opacity:1; font-family:Arial,Helvetica Neue,Helvetica,sans-serif; font-size:48px; text-anchor:start;\" transform=\"rotate(0, 107.046, 970.731)\" x=\"107.046\" y=\"970.731\">7.50×10</text>\n",
       "</g>\n",
       "<g clip-path=\"url(#clip5600)\">\n",
       "<text style=\"fill:#000000; fill-opacity:1; font-family:Arial,Helvetica Neue,Helvetica,sans-serif; font-size:38px; text-anchor:start;\" transform=\"rotate(0, 282.349, 943.32)\" x=\"282.349\" y=\"943.32\">4</text>\n",
       "</g>\n",
       "<g clip-path=\"url(#clip5600)\">\n",
       "<text style=\"fill:#000000; fill-opacity:1; font-family:Arial,Helvetica Neue,Helvetica,sans-serif; font-size:48px; text-anchor:start;\" transform=\"rotate(0, 107.046, 693.588)\" x=\"107.046\" y=\"693.588\">1.00×10</text>\n",
       "</g>\n",
       "<g clip-path=\"url(#clip5600)\">\n",
       "<text style=\"fill:#000000; fill-opacity:1; font-family:Arial,Helvetica Neue,Helvetica,sans-serif; font-size:38px; text-anchor:start;\" transform=\"rotate(0, 282.349, 666.178)\" x=\"282.349\" y=\"666.178\">5</text>\n",
       "</g>\n",
       "<g clip-path=\"url(#clip5600)\">\n",
       "<text style=\"fill:#000000; fill-opacity:1; font-family:Arial,Helvetica Neue,Helvetica,sans-serif; font-size:48px; text-anchor:start;\" transform=\"rotate(0, 107.046, 416.446)\" x=\"107.046\" y=\"416.446\">1.25×10</text>\n",
       "</g>\n",
       "<g clip-path=\"url(#clip5600)\">\n",
       "<text style=\"fill:#000000; fill-opacity:1; font-family:Arial,Helvetica Neue,Helvetica,sans-serif; font-size:38px; text-anchor:start;\" transform=\"rotate(0, 282.349, 389.035)\" x=\"282.349\" y=\"389.035\">5</text>\n",
       "</g>\n",
       "<g clip-path=\"url(#clip5600)\">\n",
       "<text style=\"fill:#000000; fill-opacity:1; font-family:Arial,Helvetica Neue,Helvetica,sans-serif; font-size:48px; text-anchor:start;\" transform=\"rotate(0, 107.046, 139.303)\" x=\"107.046\" y=\"139.303\">1.50×10</text>\n",
       "</g>\n",
       "<g clip-path=\"url(#clip5600)\">\n",
       "<text style=\"fill:#000000; fill-opacity:1; font-family:Arial,Helvetica Neue,Helvetica,sans-serif; font-size:38px; text-anchor:start;\" transform=\"rotate(0, 282.349, 111.893)\" x=\"282.349\" y=\"111.893\">5</text>\n",
       "</g>\n",
       "<polyline clip-path=\"url(#clip5602)\" style=\"stroke:#009af9; stroke-width:4; stroke-opacity:1; fill:none\" points=\"\n",
       "  385.396,1446.71 387.357,1444.75 389.318,1442.76 391.279,1444.82 393.24,1442.55 395.201,1440.29 397.162,1441.21 399.123,1438.51 401.084,1434.43 403.045,1430.22 \n",
       "  405.006,1429.56 406.967,1428.77 408.928,1428.09 410.889,1426.85 412.85,1425.63 414.811,1427 416.772,1425.03 418.733,1423.94 420.694,1424.33 422.655,1419.79 \n",
       "  424.617,1414.71 426.578,1409.64 428.539,1405.19 430.5,1399.59 432.461,1396.18 434.422,1392.17 436.383,1389.41 438.344,1385.24 440.305,1377.33 442.266,1372.14 \n",
       "  444.227,1366.74 446.188,1362.23 448.149,1359 450.11,1357.74 452.071,1356.91 454.032,1356.02 455.993,1353.33 457.954,1351.5 459.915,1346.81 461.876,1342.19 \n",
       "  463.837,1337.54 465.798,1334.68 467.76,1329.77 469.721,1324.05 471.682,1321.05 473.643,1318.21 475.604,1316.45 477.565,1313.77 479.526,1310.92 481.487,1308.47 \n",
       "  483.448,1306.71 485.409,1305.66 487.37,1306.22 489.331,1304.17 491.292,1305.07 493.253,1306.78 495.214,1307.38 497.175,1305.35 499.136,1303.73 501.097,1304.56 \n",
       "  503.058,1305.58 505.019,1306.87 506.98,1309.57 508.941,1312.13 510.903,1313 512.864,1313.42 514.825,1313.9 516.786,1314.49 518.747,1316.39 520.708,1316.07 \n",
       "  522.669,1316.04 524.63,1314.38 526.591,1314 528.552,1313.97 530.513,1315.07 532.474,1318.97 534.435,1320.55 536.396,1322.27 538.357,1325.31 540.318,1329.84 \n",
       "  542.279,1351.55 544.24,1350.52 546.201,1346.13 548.162,1344.87 550.123,1336.9 552.084,1343.38 554.046,1332.84 556.007,1324.88 557.968,1320.05 559.929,1315.77 \n",
       "  561.89,1311.14 563.851,1305.71 565.812,1302.69 567.773,1300.71 569.734,1297.37 571.695,1297.54 573.656,1295.81 575.617,1295.57 577.578,1295.02 579.539,1296.21 \n",
       "  581.5,1294.67 583.461,1292.77 585.422,1293.51 587.383,1291.1 589.344,1288.41 591.305,1286.1 593.266,1285.29 595.228,1284.22 597.189,1283.13 599.15,1284.75 \n",
       "  601.111,1283.09 603.072,1286.46 605.033,1281.84 606.994,1279.2 608.955,1277.8 610.916,1277.6 612.877,1276.32 614.838,1276.86 616.799,1277.45 618.76,1279.22 \n",
       "  620.721,1283.25 622.682,1285.15 624.643,1288 626.604,1288.04 628.565,1290.84 630.526,1293.55 632.487,1295.86 634.448,1294.83 636.409,1293.1 638.371,1302.39 \n",
       "  640.332,1299.06 642.293,1295.96 644.254,1295.91 646.215,1298.45 648.176,1291.17 650.137,1286.43 652.098,1282.7 654.059,1278.65 656.02,1274.54 657.981,1266.36 \n",
       "  659.942,1263.63 661.903,1260.66 663.864,1259.89 665.825,1258.94 667.786,1254.21 669.747,1251.01 671.708,1247.73 673.669,1247.86 675.63,1246.85 677.591,1245.61 \n",
       "  679.552,1245.64 681.514,1246.18 683.475,1246.83 685.436,1246.25 687.397,1244.69 689.358,1242.84 691.319,1243.04 693.28,1240.53 695.241,1240.73 697.202,1239.44 \n",
       "  699.163,1239.2 701.124,1243.19 703.085,1244.73 705.046,1236.07 707.007,1231.68 708.968,1228.61 710.929,1226.19 712.89,1222.31 714.851,1222.55 716.812,1220.39 \n",
       "  718.773,1218.9 720.734,1219.32 722.695,1218.71 724.657,1218.39 726.618,1218.2 728.579,1218.72 730.54,1220.07 732.501,1221.49 734.462,1225.17 736.423,1227.44 \n",
       "  738.384,1230.03 740.345,1231 742.306,1233.49 744.267,1233.25 746.228,1235.62 748.189,1236.4 750.15,1237.06 752.111,1237.16 754.072,1236.5 756.033,1235.87 \n",
       "  757.994,1233.24 759.955,1231.56 761.916,1229.73 763.877,1228.09 765.838,1224.57 767.8,1221.4 769.761,1218.47 771.722,1215.39 773.683,1213.2 775.644,1211.83 \n",
       "  777.605,1210.11 779.566,1208.3 781.527,1206.5 783.488,1204.14 785.449,1202.25 787.41,1200.12 789.371,1198.72 791.332,1197.82 793.293,1196.37 795.254,1195.48 \n",
       "  797.215,1202.47 799.176,1194.98 801.137,1195.28 803.098,1193.36 805.059,1192.87 807.02,1191.68 808.981,1192.14 810.943,1189.81 812.904,1189.16 814.865,1188.25 \n",
       "  816.826,1189.23 818.787,1190.15 820.748,1189.53 822.709,1189.47 824.67,1191.62 826.631,1193.52 828.592,1195.79 830.553,1197.72 832.514,1201.13 834.475,1206.67 \n",
       "  836.436,1209.75 838.397,1212.76 840.358,1214.01 842.319,1214.01 844.28,1212.63 846.241,1210.48 848.202,1207.45 850.163,1207.68 852.124,1202.6 854.086,1201.03 \n",
       "  856.047,1196.68 858.008,1194.35 859.969,1190.73 861.93,1187.33 863.891,1184.79 865.852,1183.34 867.813,1181.98 869.774,1187.16 871.735,1186.14 873.696,1186.92 \n",
       "  875.657,1183.86 877.618,1177.87 879.579,1176.77 881.54,1174.12 883.501,1174.77 885.462,1170.79 887.423,1174.54 889.384,1175.95 891.345,1176.41 893.306,1176.79 \n",
       "  895.267,1177.29 897.229,1178.23 899.19,1180.24 901.151,1182.66 903.112,1183.32 905.073,1184.71 907.034,1183.58 908.995,1183.94 910.956,1182.18 912.917,1180.06 \n",
       "  914.878,1178.44 916.839,1176.5 918.8,1175.5 920.761,1174.02 922.722,1171.58 924.683,1170.14 926.644,1169.93 928.605,1166.63 930.566,1165.67 932.527,1162.04 \n",
       "  934.488,1161.76 936.449,1161.58 938.411,1160.45 940.372,1159.43 942.333,1157.88 944.294,1157.18 946.255,1157.01 948.216,1157.32 950.177,1156.36 952.138,1155.08 \n",
       "  954.099,1154.08 956.06,1151.2 958.021,1150.8 959.982,1150.33 961.943,1148.83 963.904,1147.54 965.865,1145.68 967.826,1143.41 969.787,1143.72 971.748,1142.54 \n",
       "  973.709,1141.15 975.67,1138.2 977.631,1136.6 979.592,1136.32 981.554,1134.47 983.515,1133.03 985.476,1130.89 987.437,1128.6 989.398,1125.45 991.359,1126.67 \n",
       "  993.32,1121.96 995.281,1119.71 997.242,1117.92 999.203,1115.51 1001.16,1113.26 1003.13,1110.42 1005.09,1107.85 1007.05,1105.64 1009.01,1102.59 1010.97,1099.68 \n",
       "  1012.93,1096.77 1014.89,1094.23 1016.85,1091.16 1018.81,1087.55 1020.77,1085.25 1022.74,1082.29 1024.7,1077.9 1026.66,1075.19 1028.62,1072.14 1030.58,1067.72 \n",
       "  1032.54,1065.61 1034.5,1063.33 1036.46,1061.82 1038.42,1059.48 1040.38,1057.65 1042.35,1055.65 1044.31,1053.35 1046.27,1053.1 1048.23,1051.98 1050.19,1052.69 \n",
       "  1052.15,1050.99 1054.11,1049.55 1056.07,1048.02 1058.03,1045.19 1060,1044.96 1061.96,1044.28 1063.92,1038.98 1065.88,1036.8 1067.84,1037.86 1069.8,1033.31 \n",
       "  1071.76,1032.42 1073.72,1029.53 1075.68,1028.46 1077.64,1025.66 1079.61,1023.21 1081.57,1020.94 1083.53,1019.24 1085.49,1016.61 1087.45,1013.69 1089.41,1010.77 \n",
       "  1091.37,1008.65 1093.33,1005.77 1095.29,1003.48 1097.26,1001.63 1099.22,998.796 1101.18,995.381 1103.14,994.35 1105.1,991.257 1107.06,992.299 1109.02,990.005 \n",
       "  1110.98,990.393 1112.94,988.674 1114.9,989.395 1116.87,987.965 1118.83,986.346 1120.79,987.488 1122.75,989.971 1124.71,991.025 1126.67,990.759 1128.63,992.044 \n",
       "  1130.59,991.967 1132.55,996.656 1134.52,997.898 1136.48,993.652 1138.44,992.843 1140.4,993.486 1142.36,992.898 1144.32,990.947 1146.28,988.608 1148.24,988.53 \n",
       "  1150.2,987.854 1152.16,987.211 1154.13,984.539 1156.09,984.229 1158.05,981.956 1160.01,979.052 1161.97,975.372 1163.93,973.077 1165.89,969.795 1167.85,967.379 \n",
       "  1169.81,963.975 1171.77,960.772 1173.74,961.315 1175.7,956.526 1177.66,955.162 1179.62,950.617 1181.58,947.303 1183.54,944.032 1185.5,940.163 1187.46,935.762 \n",
       "  1189.42,932.769 1191.39,930.874 1193.35,928.734 1195.31,926.085 1197.27,925.796 1199.23,922.969 1201.19,921.772 1203.15,918.103 1205.11,914.633 1207.07,913.402 \n",
       "  1209.03,912.638 1211,910.93 1212.96,910.465 1214.92,909.511 1216.88,907.66 1218.84,907.05 1220.8,906.696 1222.76,906.884 1224.72,906.984 1226.68,906.762 \n",
       "  1228.65,910.808 1230.61,917.604 1232.57,921.584 1234.53,925.741 1236.49,928.734 1238.45,930.818 1240.41,929 1242.37,930.142 1244.33,927.382 1246.29,923.136 \n",
       "  1248.26,922.304 1250.22,918.846 1252.18,917.238 1254.14,913.558 1256.1,908.17 1258.06,904.7 1260.02,902.128 1261.98,899.423 1263.94,899.202 1265.91,898.492 \n",
       "  1267.87,896.597 1269.83,894.856 1271.79,892.772 1273.75,892.561 1275.71,888.914 1277.67,886.608 1279.63,883.926 1281.59,880.622 1283.55,876.155 1285.52,872.419 \n",
       "  1287.48,868.428 1289.44,863.993 1291.4,860.158 1293.36,857.486 1295.32,852.42 1297.28,849.449 1299.24,845.314 1301.2,842.687 1303.17,840.647 1305.13,836.723 \n",
       "  1307.09,831.047 1309.05,823.265 1311.01,819.418 1312.97,814.529 1314.93,811.713 1316.89,808.62 1318.85,807.091 1320.81,803.377 1322.78,798.555 1324.74,795.451 \n",
       "  1326.7,793.932 1328.66,791.194 1330.62,786.493 1332.58,787.181 1334.54,783.057 1336.5,779.52 1338.46,778.312 1340.42,777.392 1342.39,777.093 1344.35,775.385 \n",
       "  1346.31,774.366 1348.27,773.268 1350.23,771.849 1352.19,770.929 1354.15,769.698 1356.11,771.306 1358.07,776.062 1360.04,779.598 1362,782.491 1363.96,779.62 \n",
       "  1365.92,778.356 1367.88,775.286 1369.84,772.437 1371.8,770.264 1373.76,769.266 1375.72,768.468 1377.68,767.304 1379.65,766.495 1381.61,766.351 1383.57,764.2 \n",
       "  1385.53,762.969 1387.49,763.369 1389.45,764.344 1391.41,765.419 1393.37,767.736 1395.33,770.796 1397.3,774.454 1399.26,774.476 1401.22,775.906 1403.18,779.055 \n",
       "  1405.14,779.532 1407.1,782.214 1409.06,786.028 1411.02,787.779 1412.98,789.775 1414.94,792.834 1416.91,794.176 1418.87,794.342 1420.83,791.914 1422.79,792.723 \n",
       "  1424.75,790.806 1426.71,787.768 1428.67,784.664 1430.63,780.485 1432.59,775.873 1434.56,779.288 1436.52,766.894 1438.48,763.867 1440.44,759.932 1442.4,755.997 \n",
       "  1444.36,751.086 1446.32,745.72 1448.28,742.705 1450.24,738.681 1452.2,735.288 1454.17,731.065 1456.13,727.628 1458.09,724.934 1460.05,721.476 1462.01,718.316 \n",
       "  1463.97,714.403 1465.93,713.017 1467.89,710.08 1469.85,708.627 1471.81,704.869 1473.78,702.697 1475.74,699.659 1477.7,698.029 1479.66,695.934 1481.62,693.806 \n",
       "  1483.58,691.533 1485.54,689.449 1487.5,687.121 1489.46,685.281 1491.43,683.917 1493.39,682.642 1495.35,681.678 1497.31,679.605 1499.27,678.197 1501.23,679.228 \n",
       "  1503.19,675.703 1505.15,674.428 1507.11,670.592 1509.07,668.519 1511.04,666.446 1513,664.218 1514.96,662.345 1516.92,659.673 1518.88,656.957 1520.84,653.243 \n",
       "  1522.8,650.705 1524.76,648.798 1526.72,644.951 1528.69,643.033 1530.65,640.517 1532.61,635.074 1534.57,632.48 1536.53,629.276 1538.49,628.256 1540.45,623.145 \n",
       "  1542.41,620.097 1544.37,617.403 1546.33,614.853 1548.3,610.818 1550.26,608.335 1552.22,606.96 1554.18,603.202 1556.14,600.287 1558.1,596.507 1560.06,593.391 \n",
       "  1562.02,590.476 1563.98,587.527 1565.95,585.377 1567.91,583.492 1569.87,582.139 1571.83,580.876 1573.79,580.41 1575.75,579.845 1577.71,577.084 1579.67,575.898 \n",
       "  1581.63,572.839 1583.59,571.907 1585.56,567.883 1587.52,565.267 1589.48,562.95 1591.44,562.485 1593.4,560.788 1595.36,560.6 1597.32,560.955 1599.28,563.261 \n",
       "  1601.24,564.347 1603.21,566.021 1605.17,567.717 1607.13,568.249 1609.09,569.48 1611.05,573.038 1613.01,574.812 1614.97,577.14 1616.93,578.415 1618.89,577.472 \n",
       "  1620.85,577.938 1622.82,577.738 1624.78,577.45 1626.74,577.217 1628.7,577.894 1630.66,577.539 1632.62,577.084 1634.58,577.727 1636.54,577.129 1638.5,575.422 \n",
       "  1640.46,573.98 1642.43,573.249 1644.39,572.384 1646.35,570.921 1648.31,570.544 1650.27,568.548 1652.23,567.074 1654.19,564.602 1656.15,561.287 1658.11,558.516 \n",
       "  1660.08,559.07 1662.04,555.722 1664,552.707 1665.96,550.7 1667.92,547.308 1669.88,545.634 1671.84,542.952 1673.8,539.792 1675.76,537.01 1677.72,533.351 \n",
       "  1679.69,530.236 1681.65,528.174 1683.61,523.064 1685.57,519.25 1687.53,515.537 1689.49,512.022 1691.45,507.899 1693.41,504.728 1695.37,500.837 1697.34,498.498 \n",
       "  1699.3,493.942 1701.26,490.66 1703.22,486.935 1705.18,484.763 1707.14,482.435 1709.1,480.639 1711.06,480.86 1713.02,478.233 1714.98,477.191 1716.95,474.375 \n",
       "  1718.91,471.704 1720.87,469.974 1722.83,468.378 1724.79,466.771 1726.75,466.815 1728.71,462.126 1730.67,459.31 1732.63,457.481 1734.6,453.845 1736.56,450.707 \n",
       "  1738.52,447.98 1740.48,445.941 1742.44,443.601 1744.4,440.775 1746.36,437.493 1748.32,435.476 1750.28,433.037 1752.24,429.578 1754.21,426.086 1756.17,422.805 \n",
       "  1758.13,419.922 1760.09,416.951 1762.05,413.659 1764.01,413.859 1765.97,408.404 1767.93,404.591 1769.89,401.199 1771.85,397.718 1773.82,394.802 1775.78,392.541 \n",
       "  1777.74,390.9 1779.7,387.818 1781.66,383.362 1783.62,380.79 1785.58,379.36 1787.54,375.602 1789.5,373.296 1791.47,371.057 1793.43,367.986 1795.39,363.94 \n",
       "  1797.35,362.764 1799.31,358.131 1801.27,356.945 1803.23,352.843 1805.19,350.504 1807.15,347.389 1809.11,343.786 1811.08,342.067 1813.04,339.817 1815,335.327 \n",
       "  1816.96,332.124 1818.92,328.731 1820.88,326.148 1822.84,324.829 1824.8,319.597 1826.76,316.36 1828.73,313.954 1830.69,314.442 1832.65,312.502 1834.61,312.568 \n",
       "  1836.57,311.205 1838.53,311.227 1840.49,308.954 1842.45,307.258 1844.41,307.38 1846.37,306.372 1848.34,306.837 1850.3,309.985 1852.26,310.573 1854.22,311.804 \n",
       "  1856.18,313.156 1858.14,314.808 1860.1,317.657 1862.06,321.171 1864.02,324.63 1865.99,326.403 1867.95,327.845 1869.91,329.13 1871.87,329.341 1873.83,330.383 \n",
       "  1875.79,330.261 1877.75,329.707 1879.71,330.749 1881.67,330.782 1883.63,331.736 1885.6,330.328 1887.56,330.472 1889.52,332.057 1891.48,330.86 1893.44,332.367 \n",
       "  1895.4,334.718 1897.36,335.327 1899.32,335.117 1901.28,335.139 1903.25,335.172 1905.21,335.638 1907.17,334.474 1909.13,332.257 1911.09,332.035 1913.05,330.771 \n",
       "  1915.01,328.765 1916.97,328.144 1918.93,324.63 1920.89,321.648 1922.86,318.51 1924.82,317.413 1926.78,316.803 1928.74,315.817 1930.7,314.087 1932.66,310.163 \n",
       "  1934.62,309.542 1936.58,308.201 1938.54,306.538 1940.5,303.678 1942.47,302.303 1944.43,298.29 1946.39,296.383 1948.35,293.59 1950.31,289.665 1952.27,287.426 \n",
       "  1954.23,286.672 1956.19,285.686 1958.15,281.939 1960.12,280.209 1962.08,277.105 1964.04,273.691 1966,270.254 1967.96,268.503 1969.92,268.07 1971.88,267.172 \n",
       "  1973.84,265.011 1975.8,263.082 1977.76,261.43 1979.73,261.33 1981.69,258.991 1983.65,256.929 1985.61,254.402 1987.57,253.504 1989.53,250.899 1991.49,250.355 \n",
       "  1993.45,248.682 1995.41,247.839 1997.38,248.183 1999.34,248.438 2001.3,247.551 2003.26,246.675 2005.22,245.456 2007.18,244.258 2009.14,244.136 2011.1,245.012 \n",
       "  2013.06,245.555 2015.02,248.216 2016.99,250.178 2018.95,252.074 2020.91,254.247 2022.87,257.328 2024.83,262.428 2026.79,267.76 2028.75,275.819 2030.71,283.646 \n",
       "  2032.67,292.337 2034.64,300.574 2036.6,309.442 2038.56,317.147 2040.52,320.938 2042.48,326.115 2044.44,329.884 2046.4,331.913 2048.36,334.585 2050.32,336.791 \n",
       "  2052.28,336.658 2054.25,339.64 2056.21,339.618 2058.17,340.637 2060.13,338.631 2062.09,336.07 2064.05,330.084 2066.01,331.625 2067.97,332.556 2069.93,332.611 \n",
       "  2071.89,333.332 2073.86,330.361 2075.82,328.975 2077.78,328.177 2079.74,327.966 2081.7,325.616 2083.66,323.011 2085.62,319.53 2087.58,318.411 2089.54,315.794 \n",
       "  2091.51,315.129 2093.47,313.732 2095.43,311.149 2097.39,308.888 2099.35,307.425 2101.31,305.185 2103.27,301.261 2105.23,298.357 2107.19,295.696 2109.15,294.787 \n",
       "  2111.12,293.678 2113.08,292.869 2115.04,291.184 2117,289.277 2118.96,287.204 2120.92,285.442 2122.88,283.712 2124.84,281.063 2126.8,278.945 2128.77,275.864 \n",
       "  2130.73,274.323 2132.69,272.205 2134.65,269.744 2136.61,267.738 2138.57,266.496 2140.53,263.814 2142.49,261.74 2144.45,259.246 2146.41,256.32 2148.38,255.555 \n",
       "  2150.34,253.615 2152.3,251.774 2154.26,248.959 2156.22,245.356 2158.18,242.939 2160.14,239.325 2162.1,236.753 2164.06,234.669 2166.03,231.244 2167.99,228.45 \n",
       "  2169.95,225.224 2171.91,222.253 2173.87,220.136 2175.83,217.132 2177.79,216.345 2179.75,213.196 2181.71,209.527 2183.67,207.598 2185.64,204.25 2187.6,202.864 \n",
       "  2189.56,201.146 2191.52,197.754 2193.48,195.126 2195.44,192.1 2197.4,191.291 2199.36,188.375 2201.32,185.837 2203.29,183.764 2205.25,183.298 2207.21,180.338 \n",
       "  2209.17,176.414 2211.13,174.917 2213.09,171.935 2215.05,170.328 2217.01,168.654 2218.97,166.104 2220.93,164.053 2222.9,161.969 2224.86,160.539 2226.82,158.355 \n",
       "  2228.78,156.637 2230.74,154.242 2232.7,151.859 2234.66,149.819 2236.62,149.62 2238.58,146.66 2240.54,144.166 2242.51,142.724 2244.47,141.383 2246.43,136.882 \n",
       "  2248.39,134.931 2250.35,133.412 2252.31,130.331 2254.27,127.903 2256.23,126.395 2258.19,123.69 2260.16,122.803 2262.12,120.575 2264.08,119.09 2266.04,117.072 \n",
       "  2268,114.09 2269.96,114.079 2271.92,112.449 2273.88,110.121 2275.84,109.179 2277.8,107.161 2279.77,105.011 2281.73,102.716 2283.69,100.41 2285.65,98.3594 \n",
       "  2287.61,95.466 2289.57,93.4262 2291.53,91.0539 2293.49,88.0053 2295.45,95.7764 \n",
       "  \"/>\n",
       "</svg>\n"
      ]
     },
     "execution_count": 15,
     "metadata": {},
     "output_type": "execute_result"
    }
   ],
   "source": [
    "using Plots\n",
    "\n",
    "ces_plot_data = ces_data[ces_data.series_id .== ces_data[1,1], :]\n",
    "\n",
    "ces_plot = plot(ces_plot_data.value, legend=false)"
   ]
  },
  {
   "cell_type": "code",
   "execution_count": 16,
   "metadata": {},
   "outputs": [
    {
     "data": {
      "image/svg+xml": [
       "<?xml version=\"1.0\" encoding=\"utf-8\"?>\n",
       "<svg xmlns=\"http://www.w3.org/2000/svg\" xmlns:xlink=\"http://www.w3.org/1999/xlink\" width=\"600\" height=\"400\" viewBox=\"0 0 2400 1600\">\n",
       "<defs>\n",
       "  <clipPath id=\"clip6000\">\n",
       "    <rect x=\"0\" y=\"0\" width=\"2400\" height=\"1600\"/>\n",
       "  </clipPath>\n",
       "</defs>\n",
       "<path clip-path=\"url(#clip6000)\" d=\"\n",
       "M0 1600 L2400 1600 L2400 0 L0 0  Z\n",
       "  \" fill=\"#ffffff\" fill-rule=\"evenodd\" fill-opacity=\"1\"/>\n",
       "<defs>\n",
       "  <clipPath id=\"clip6001\">\n",
       "    <rect x=\"480\" y=\"0\" width=\"1681\" height=\"1600\"/>\n",
       "  </clipPath>\n",
       "</defs>\n",
       "<path clip-path=\"url(#clip6000)\" d=\"\n",
       "M309.422 1425.62 L2352.76 1425.62 L2352.76 121.675 L309.422 121.675  Z\n",
       "  \" fill=\"#ffffff\" fill-rule=\"evenodd\" fill-opacity=\"1\"/>\n",
       "<defs>\n",
       "  <clipPath id=\"clip6002\">\n",
       "    <rect x=\"309\" y=\"121\" width=\"2044\" height=\"1305\"/>\n",
       "  </clipPath>\n",
       "</defs>\n",
       "<polyline clip-path=\"url(#clip6002)\" style=\"stroke:#000000; stroke-width:2; stroke-opacity:0.1; fill:none\" points=\"\n",
       "  365.273,1425.62 365.273,121.675 \n",
       "  \"/>\n",
       "<polyline clip-path=\"url(#clip6002)\" style=\"stroke:#000000; stroke-width:2; stroke-opacity:0.1; fill:none\" points=\"\n",
       "  860.056,1425.62 860.056,121.675 \n",
       "  \"/>\n",
       "<polyline clip-path=\"url(#clip6002)\" style=\"stroke:#000000; stroke-width:2; stroke-opacity:0.1; fill:none\" points=\"\n",
       "  1354.84,1425.62 1354.84,121.675 \n",
       "  \"/>\n",
       "<polyline clip-path=\"url(#clip6002)\" style=\"stroke:#000000; stroke-width:2; stroke-opacity:0.1; fill:none\" points=\"\n",
       "  1849.62,1425.62 1849.62,121.675 \n",
       "  \"/>\n",
       "<polyline clip-path=\"url(#clip6002)\" style=\"stroke:#000000; stroke-width:2; stroke-opacity:0.1; fill:none\" points=\"\n",
       "  2344.4,1425.62 2344.4,121.675 \n",
       "  \"/>\n",
       "<polyline clip-path=\"url(#clip6002)\" style=\"stroke:#000000; stroke-width:2; stroke-opacity:0.1; fill:none\" points=\"\n",
       "  309.422,1187.21 2352.76,1187.21 \n",
       "  \"/>\n",
       "<polyline clip-path=\"url(#clip6002)\" style=\"stroke:#000000; stroke-width:2; stroke-opacity:0.1; fill:none\" points=\"\n",
       "  309.422,936.291 2352.76,936.291 \n",
       "  \"/>\n",
       "<polyline clip-path=\"url(#clip6002)\" style=\"stroke:#000000; stroke-width:2; stroke-opacity:0.1; fill:none\" points=\"\n",
       "  309.422,685.374 2352.76,685.374 \n",
       "  \"/>\n",
       "<polyline clip-path=\"url(#clip6002)\" style=\"stroke:#000000; stroke-width:2; stroke-opacity:0.1; fill:none\" points=\"\n",
       "  309.422,434.457 2352.76,434.457 \n",
       "  \"/>\n",
       "<polyline clip-path=\"url(#clip6002)\" style=\"stroke:#000000; stroke-width:2; stroke-opacity:0.1; fill:none\" points=\"\n",
       "  309.422,183.54 2352.76,183.54 \n",
       "  \"/>\n",
       "<polyline clip-path=\"url(#clip6000)\" style=\"stroke:#000000; stroke-width:4; stroke-opacity:1; fill:none\" points=\"\n",
       "  309.422,1425.62 2352.76,1425.62 \n",
       "  \"/>\n",
       "<polyline clip-path=\"url(#clip6000)\" style=\"stroke:#000000; stroke-width:4; stroke-opacity:1; fill:none\" points=\"\n",
       "  309.422,1425.62 309.422,121.675 \n",
       "  \"/>\n",
       "<polyline clip-path=\"url(#clip6000)\" style=\"stroke:#000000; stroke-width:4; stroke-opacity:1; fill:none\" points=\"\n",
       "  365.273,1425.62 365.273,1409.97 \n",
       "  \"/>\n",
       "<polyline clip-path=\"url(#clip6000)\" style=\"stroke:#000000; stroke-width:4; stroke-opacity:1; fill:none\" points=\"\n",
       "  860.056,1425.62 860.056,1409.97 \n",
       "  \"/>\n",
       "<polyline clip-path=\"url(#clip6000)\" style=\"stroke:#000000; stroke-width:4; stroke-opacity:1; fill:none\" points=\"\n",
       "  1354.84,1425.62 1354.84,1409.97 \n",
       "  \"/>\n",
       "<polyline clip-path=\"url(#clip6000)\" style=\"stroke:#000000; stroke-width:4; stroke-opacity:1; fill:none\" points=\"\n",
       "  1849.62,1425.62 1849.62,1409.97 \n",
       "  \"/>\n",
       "<polyline clip-path=\"url(#clip6000)\" style=\"stroke:#000000; stroke-width:4; stroke-opacity:1; fill:none\" points=\"\n",
       "  2344.4,1425.62 2344.4,1409.97 \n",
       "  \"/>\n",
       "<polyline clip-path=\"url(#clip6000)\" style=\"stroke:#000000; stroke-width:4; stroke-opacity:1; fill:none\" points=\"\n",
       "  309.422,1187.21 333.942,1187.21 \n",
       "  \"/>\n",
       "<polyline clip-path=\"url(#clip6000)\" style=\"stroke:#000000; stroke-width:4; stroke-opacity:1; fill:none\" points=\"\n",
       "  309.422,936.291 333.942,936.291 \n",
       "  \"/>\n",
       "<polyline clip-path=\"url(#clip6000)\" style=\"stroke:#000000; stroke-width:4; stroke-opacity:1; fill:none\" points=\"\n",
       "  309.422,685.374 333.942,685.374 \n",
       "  \"/>\n",
       "<polyline clip-path=\"url(#clip6000)\" style=\"stroke:#000000; stroke-width:4; stroke-opacity:1; fill:none\" points=\"\n",
       "  309.422,434.457 333.942,434.457 \n",
       "  \"/>\n",
       "<polyline clip-path=\"url(#clip6000)\" style=\"stroke:#000000; stroke-width:4; stroke-opacity:1; fill:none\" points=\"\n",
       "  309.422,183.54 333.942,183.54 \n",
       "  \"/>\n",
       "<g clip-path=\"url(#clip6000)\">\n",
       "<text style=\"fill:#000000; fill-opacity:1; font-family:Arial,Helvetica Neue,Helvetica,sans-serif; font-size:48px; text-anchor:middle;\" transform=\"rotate(0, 365.273, 1479.62)\" x=\"365.273\" y=\"1479.62\">0</text>\n",
       "</g>\n",
       "<g clip-path=\"url(#clip6000)\">\n",
       "<text style=\"fill:#000000; fill-opacity:1; font-family:Arial,Helvetica Neue,Helvetica,sans-serif; font-size:48px; text-anchor:middle;\" transform=\"rotate(0, 860.056, 1479.62)\" x=\"860.056\" y=\"1479.62\">250</text>\n",
       "</g>\n",
       "<g clip-path=\"url(#clip6000)\">\n",
       "<text style=\"fill:#000000; fill-opacity:1; font-family:Arial,Helvetica Neue,Helvetica,sans-serif; font-size:48px; text-anchor:middle;\" transform=\"rotate(0, 1354.84, 1479.62)\" x=\"1354.84\" y=\"1479.62\">500</text>\n",
       "</g>\n",
       "<g clip-path=\"url(#clip6000)\">\n",
       "<text style=\"fill:#000000; fill-opacity:1; font-family:Arial,Helvetica Neue,Helvetica,sans-serif; font-size:48px; text-anchor:middle;\" transform=\"rotate(0, 1849.62, 1479.62)\" x=\"1849.62\" y=\"1479.62\">750</text>\n",
       "</g>\n",
       "<g clip-path=\"url(#clip6000)\">\n",
       "<text style=\"fill:#000000; fill-opacity:1; font-family:Arial,Helvetica Neue,Helvetica,sans-serif; font-size:48px; text-anchor:middle;\" transform=\"rotate(0, 2344.4, 1479.62)\" x=\"2344.4\" y=\"1479.62\">1000</text>\n",
       "</g>\n",
       "<g clip-path=\"url(#clip6000)\">\n",
       "<text style=\"fill:#000000; fill-opacity:1; font-family:Arial,Helvetica Neue,Helvetica,sans-serif; font-size:48px; text-anchor:end;\" transform=\"rotate(0, 285.422, 1204.71)\" x=\"285.422\" y=\"1204.71\">50000</text>\n",
       "</g>\n",
       "<g clip-path=\"url(#clip6000)\">\n",
       "<text style=\"fill:#000000; fill-opacity:1; font-family:Arial,Helvetica Neue,Helvetica,sans-serif; font-size:48px; text-anchor:end;\" transform=\"rotate(0, 285.422, 953.791)\" x=\"285.422\" y=\"953.791\">75000</text>\n",
       "</g>\n",
       "<g clip-path=\"url(#clip6000)\">\n",
       "<text style=\"fill:#000000; fill-opacity:1; font-family:Arial,Helvetica Neue,Helvetica,sans-serif; font-size:48px; text-anchor:end;\" transform=\"rotate(0, 285.422, 702.874)\" x=\"285.422\" y=\"702.874\">100000</text>\n",
       "</g>\n",
       "<g clip-path=\"url(#clip6000)\">\n",
       "<text style=\"fill:#000000; fill-opacity:1; font-family:Arial,Helvetica Neue,Helvetica,sans-serif; font-size:48px; text-anchor:end;\" transform=\"rotate(0, 285.422, 451.957)\" x=\"285.422\" y=\"451.957\">125000</text>\n",
       "</g>\n",
       "<g clip-path=\"url(#clip6000)\">\n",
       "<text style=\"fill:#000000; fill-opacity:1; font-family:Arial,Helvetica Neue,Helvetica,sans-serif; font-size:48px; text-anchor:end;\" transform=\"rotate(0, 285.422, 201.04)\" x=\"285.422\" y=\"201.04\">150000</text>\n",
       "</g>\n",
       "<g clip-path=\"url(#clip6000)\">\n",
       "<text style=\"fill:#000000; fill-opacity:1; font-family:Arial,Helvetica Neue,Helvetica,sans-serif; font-size:84px; text-anchor:middle;\" transform=\"rotate(0, 1331.09, 73.2)\" x=\"1331.09\" y=\"73.2\">CES Series CES0000000001</text>\n",
       "</g>\n",
       "<g clip-path=\"url(#clip6000)\">\n",
       "<text style=\"fill:#000000; fill-opacity:1; font-family:Arial,Helvetica Neue,Helvetica,sans-serif; font-size:66px; text-anchor:middle;\" transform=\"rotate(0, 1331.09, 1559.48)\" x=\"1331.09\" y=\"1559.48\">Period</text>\n",
       "</g>\n",
       "<g clip-path=\"url(#clip6000)\">\n",
       "<text style=\"fill:#000000; fill-opacity:1; font-family:Arial,Helvetica Neue,Helvetica,sans-serif; font-size:66px; text-anchor:middle;\" transform=\"rotate(-90, 89.2861, 773.647)\" x=\"89.2861\" y=\"773.647\">Value</text>\n",
       "</g>\n",
       "<polyline clip-path=\"url(#clip6002)\" style=\"stroke:#009af9; stroke-width:4; stroke-opacity:1; fill:none\" points=\"\n",
       "  367.252,1388.71 369.232,1386.94 371.211,1385.13 373.19,1387 375.169,1384.94 377.148,1382.9 379.127,1383.74 381.106,1381.29 383.086,1377.59 385.065,1373.78 \n",
       "  387.044,1373.19 389.023,1372.47 391.002,1371.85 392.981,1370.73 394.96,1369.62 396.939,1370.87 398.919,1369.08 400.898,1368.1 402.877,1368.45 404.856,1364.34 \n",
       "  406.835,1359.74 408.814,1355.15 410.793,1351.12 412.772,1346.05 414.752,1342.97 416.731,1339.33 418.71,1336.83 420.689,1333.06 422.668,1325.89 424.647,1321.2 \n",
       "  426.626,1316.31 428.606,1312.23 430.585,1309.3 432.564,1308.16 434.543,1307.41 436.522,1306.6 438.501,1304.17 440.48,1302.51 442.459,1298.26 444.439,1294.08 \n",
       "  446.418,1289.87 448.397,1287.28 450.376,1282.84 452.355,1277.66 454.334,1274.94 456.313,1272.37 458.292,1270.77 460.272,1268.35 462.251,1265.78 464.23,1263.56 \n",
       "  466.209,1261.96 468.188,1261.01 470.167,1261.52 472.146,1259.66 474.126,1260.48 476.105,1262.02 478.084,1262.56 480.063,1260.73 482.042,1259.26 484.021,1260.01 \n",
       "  486,1260.94 487.979,1262.1 489.959,1264.55 491.938,1266.87 493.917,1267.65 495.896,1268.03 497.875,1268.47 499.854,1269.01 501.833,1270.72 503.812,1270.43 \n",
       "  505.792,1270.4 507.771,1268.91 509.75,1268.56 511.729,1268.54 513.708,1269.53 515.687,1273.06 517.666,1274.49 519.646,1276.04 521.625,1278.8 523.604,1282.9 \n",
       "  525.583,1302.56 527.562,1301.63 529.541,1297.65 531.52,1296.51 533.499,1289.29 535.479,1295.16 537.458,1285.62 539.437,1278.41 541.416,1274.04 543.395,1270.16 \n",
       "  545.374,1265.97 547.353,1261.06 549.332,1258.32 551.312,1256.53 553.291,1253.5 555.27,1253.66 557.249,1252.1 559.228,1251.87 561.207,1251.37 563.186,1252.46 \n",
       "  565.166,1251.06 567.145,1249.34 569.124,1250.01 571.103,1247.83 573.082,1245.39 575.061,1243.3 577.04,1242.57 579.019,1241.6 580.999,1240.61 582.978,1242.08 \n",
       "  584.957,1240.57 586.936,1243.62 588.915,1239.44 590.894,1237.05 592.873,1235.79 594.852,1235.61 596.832,1234.44 598.811,1234.93 600.79,1235.46 602.769,1237.07 \n",
       "  604.748,1240.72 606.727,1242.44 608.706,1245.02 610.686,1245.06 612.665,1247.59 614.644,1250.05 616.623,1252.14 618.602,1251.2 620.581,1249.64 622.56,1258.05 \n",
       "  624.539,1255.04 626.519,1252.23 628.498,1252.19 630.477,1254.48 632.456,1247.89 634.435,1243.59 636.414,1240.22 638.393,1236.56 640.372,1232.83 642.352,1225.43 \n",
       "  644.331,1222.96 646.31,1220.27 648.289,1219.57 650.268,1218.71 652.247,1214.43 654.226,1211.53 656.206,1208.56 658.185,1208.68 660.164,1207.76 662.143,1206.64 \n",
       "  664.122,1206.67 666.101,1207.16 668.08,1207.74 670.059,1207.22 672.039,1205.81 674.018,1204.13 675.997,1204.31 677.976,1202.04 679.955,1202.22 681.934,1201.06 \n",
       "  683.913,1200.84 685.893,1204.45 687.872,1205.85 689.851,1198.01 691.83,1194.03 693.809,1191.25 695.788,1189.05 697.767,1185.54 699.746,1185.76 701.726,1183.81 \n",
       "  703.705,1182.46 705.684,1182.84 707.663,1182.29 709.642,1182 711.621,1181.83 713.6,1182.3 715.579,1183.51 717.559,1184.8 719.538,1188.13 721.517,1190.19 \n",
       "  723.496,1192.54 725.475,1193.41 727.454,1195.67 729.433,1195.45 731.413,1197.6 733.392,1198.3 735.371,1198.9 737.35,1198.99 739.329,1198.39 741.308,1197.83 \n",
       "  743.287,1195.44 745.266,1193.92 747.246,1192.27 749.225,1190.78 751.204,1187.59 753.183,1184.72 755.162,1182.07 757.141,1179.28 759.12,1177.3 761.099,1176.06 \n",
       "  763.079,1174.5 765.058,1172.87 767.037,1171.23 769.016,1169.09 770.995,1167.39 772.974,1165.46 774.953,1164.18 776.933,1163.37 778.912,1162.06 780.891,1161.25 \n",
       "  782.87,1167.59 784.849,1160.8 786.828,1161.07 788.807,1159.34 790.786,1158.89 792.766,1157.81 794.745,1158.23 796.724,1156.12 798.703,1155.53 800.682,1154.71 \n",
       "  802.661,1155.59 804.64,1156.43 806.619,1155.86 808.599,1155.81 810.578,1157.76 812.557,1159.48 814.536,1161.53 816.515,1163.28 818.494,1166.37 820.473,1171.39 \n",
       "  822.453,1174.17 824.432,1176.9 826.411,1178.03 828.39,1178.03 830.369,1176.78 832.348,1174.83 834.327,1172.09 836.306,1172.3 838.286,1167.7 840.265,1166.28 \n",
       "  842.244,1162.34 844.223,1160.23 846.202,1156.96 848.181,1153.88 850.16,1151.58 852.139,1150.26 854.119,1149.03 856.098,1153.73 858.077,1152.8 860.056,1153.51 \n",
       "  862.035,1150.73 864.014,1145.32 865.993,1144.31 867.973,1141.91 869.952,1142.5 871.931,1138.9 873.91,1142.29 875.889,1143.57 877.868,1143.99 879.847,1144.33 \n",
       "  881.826,1144.78 883.806,1145.64 885.785,1147.45 887.764,1149.65 889.743,1150.24 891.722,1151.51 893.701,1150.48 895.68,1150.81 897.659,1149.21 899.639,1147.29 \n",
       "  901.618,1145.83 903.597,1144.07 905.576,1143.17 907.555,1141.82 909.534,1139.61 911.513,1138.31 913.493,1138.12 915.472,1135.14 917.451,1134.26 919.43,1130.98 \n",
       "  921.409,1130.72 923.388,1130.56 925.367,1129.54 927.346,1128.61 929.326,1127.21 931.305,1126.58 933.284,1126.43 935.263,1126.71 937.242,1125.83 939.221,1124.68 \n",
       "  941.2,1123.78 943.179,1121.17 945.159,1120.81 947.138,1120.37 949.117,1119.02 951.096,1117.85 953.075,1116.17 955.054,1114.11 957.033,1114.39 959.013,1113.33 \n",
       "  960.992,1112.06 962.971,1109.39 964.95,1107.95 966.929,1107.7 968.908,1106.02 970.887,1104.72 972.866,1102.78 974.846,1100.7 976.825,1097.85 978.804,1098.96 \n",
       "  980.783,1094.69 982.762,1092.65 984.741,1091.04 986.72,1088.85 988.699,1086.81 990.679,1084.24 992.658,1081.91 994.637,1079.92 996.616,1077.16 998.595,1074.52 \n",
       "  1000.57,1071.89 1002.55,1069.59 1004.53,1066.81 1006.51,1063.54 1008.49,1061.46 1010.47,1058.78 1012.45,1054.8 1014.43,1052.35 1016.41,1049.59 1018.39,1045.58 \n",
       "  1020.37,1043.67 1022.34,1041.61 1024.32,1040.24 1026.3,1038.12 1028.28,1036.47 1030.26,1034.66 1032.24,1032.57 1034.22,1032.35 1036.2,1031.34 1038.18,1031.98 \n",
       "  1040.16,1030.44 1042.14,1029.13 1044.12,1027.75 1046.09,1025.19 1048.07,1024.98 1050.05,1024.36 1052.03,1019.57 1054.01,1017.59 1055.99,1018.55 1057.97,1014.43 \n",
       "  1059.95,1013.62 1061.93,1011 1063.91,1010.04 1065.89,1007.5 1067.86,1005.28 1069.84,1003.24 1071.82,1001.69 1073.8,999.312 1075.78,996.672 1077.76,994.022 \n",
       "  1079.74,992.105 1081.72,989.496 1083.7,987.428 1085.68,985.752 1087.66,983.183 1089.64,980.091 1091.61,979.158 1093.59,976.358 1095.57,977.301 1097.55,975.224 \n",
       "  1099.53,975.575 1101.51,974.019 1103.49,974.671 1105.47,973.377 1107.45,971.911 1109.43,972.945 1111.41,975.193 1113.38,976.147 1115.36,975.906 1117.34,977.07 \n",
       "  1119.32,977 1121.3,981.246 1123.28,982.37 1125.26,978.526 1127.24,977.793 1129.22,978.375 1131.2,977.843 1133.18,976.077 1135.16,973.959 1137.13,973.889 \n",
       "  1139.11,973.276 1141.09,972.694 1143.07,970.275 1145.05,969.994 1147.03,967.937 1149.01,965.307 1150.99,961.975 1152.97,959.898 1154.95,956.927 1156.93,954.739 \n",
       "  1158.9,951.657 1160.88,948.757 1162.86,949.249 1164.84,944.913 1166.82,943.678 1168.8,939.563 1170.78,936.562 1172.76,933.601 1174.74,930.099 1176.72,926.114 \n",
       "  1178.7,923.404 1180.68,921.688 1182.65,919.751 1184.63,917.352 1186.61,917.091 1188.59,914.532 1190.57,913.448 1192.55,910.126 1194.53,906.984 1196.51,905.87 \n",
       "  1198.49,905.178 1200.47,903.632 1202.45,903.21 1204.42,902.347 1206.4,900.671 1208.38,900.119 1210.36,899.798 1212.34,899.969 1214.32,900.059 1216.3,899.858 \n",
       "  1218.28,903.521 1220.26,909.674 1222.24,913.277 1224.22,917.041 1226.2,919.751 1228.17,921.638 1230.15,919.992 1232.13,921.025 1234.11,918.526 1236.09,914.682 \n",
       "  1238.07,913.93 1240.05,910.798 1242.03,909.343 1244.01,906.011 1245.99,901.133 1247.97,897.991 1249.94,895.663 1251.92,893.214 1253.9,893.013 1255.88,892.371 \n",
       "  1257.86,890.654 1259.84,889.079 1261.82,887.192 1263.8,887.001 1265.78,883.699 1267.76,881.611 1269.74,879.183 1271.72,876.192 1273.69,872.147 1275.67,868.764 \n",
       "  1277.65,865.151 1279.63,861.137 1281.61,857.664 1283.59,855.245 1285.57,850.658 1287.55,847.968 1289.53,844.225 1291.51,841.846 1293.49,839.999 1295.46,836.446 \n",
       "  1297.44,831.308 1299.42,824.262 1301.4,820.779 1303.38,816.353 1305.36,813.804 1307.34,811.003 1309.32,809.618 1311.3,806.256 1313.28,801.89 1315.26,799.08 \n",
       "  1317.24,797.705 1319.21,795.226 1321.19,790.97 1323.17,791.592 1325.15,787.859 1327.13,784.657 1329.11,783.563 1331.09,782.73 1333.07,782.459 1335.05,780.913 \n",
       "  1337.03,779.99 1339.01,778.996 1340.98,777.712 1342.96,776.879 1344.94,775.765 1346.92,777.22 1348.9,781.526 1350.88,784.727 1352.86,787.347 1354.84,784.747 \n",
       "  1356.82,783.603 1358.8,780.823 1360.78,778.244 1362.76,776.276 1364.73,775.373 1366.71,774.651 1368.69,773.597 1370.67,772.864 1372.65,772.734 1374.63,770.786 \n",
       "  1376.61,769.672 1378.59,770.034 1380.57,770.917 1382.55,771.89 1384.53,773.988 1386.5,776.758 1388.48,780.07 1390.46,780.09 1392.44,781.385 1394.42,784.236 \n",
       "  1396.4,784.667 1398.38,787.096 1400.36,790.549 1402.34,792.134 1404.32,793.941 1406.3,796.711 1408.28,797.926 1410.25,798.076 1412.23,795.878 1414.21,796.611 \n",
       "  1416.19,794.874 1418.17,792.124 1420.15,789.314 1422.13,785.53 1424.11,781.355 1426.09,784.446 1428.07,773.225 1430.05,770.485 1432.02,766.922 1434,763.359 \n",
       "  1435.98,758.913 1437.96,754.055 1439.94,751.325 1441.92,747.682 1443.9,744.611 1445.88,740.787 1447.86,737.675 1449.84,735.237 1451.82,732.105 1453.8,729.245 \n",
       "  1455.77,725.702 1457.75,724.447 1459.73,721.787 1461.71,720.473 1463.69,717.07 1465.67,715.103 1467.65,712.353 1469.63,710.877 1471.61,708.981 1473.59,707.054 \n",
       "  1475.57,704.996 1477.54,703.109 1479.52,701.001 1481.5,699.335 1483.48,698.101 1485.46,696.947 1487.44,696.073 1489.42,694.197 1491.4,692.922 1493.38,693.855 \n",
       "  1495.36,690.664 1497.34,689.509 1499.32,686.037 1501.29,684.16 1503.27,682.283 1505.25,680.266 1507.23,678.569 1509.21,676.151 1511.19,673.692 1513.17,670.329 \n",
       "  1515.15,668.031 1517.13,666.305 1519.11,662.822 1521.09,661.086 1523.06,658.807 1525.04,653.879 1527.02,651.531 1529,648.63 1530.98,647.707 1532.96,643.08 \n",
       "  1534.94,640.32 1536.92,637.881 1538.9,635.572 1540.88,631.919 1542.86,629.671 1544.84,628.426 1546.81,625.024 1548.79,622.384 1550.77,618.962 1552.75,616.141 \n",
       "  1554.73,613.502 1556.71,610.832 1558.69,608.885 1560.67,607.179 1562.65,605.954 1564.63,604.81 1566.61,604.388 1568.58,603.876 1570.56,601.377 1572.54,600.303 \n",
       "  1574.52,597.533 1576.5,596.69 1578.48,593.047 1580.46,590.678 1582.44,588.581 1584.42,588.159 1586.4,586.623 1588.38,586.453 1590.36,586.774 1592.33,588.862 \n",
       "  1594.31,589.845 1596.29,591.361 1598.27,592.896 1600.25,593.378 1602.23,594.492 1604.21,597.714 1606.19,599.32 1608.17,601.428 1610.15,602.582 1612.13,601.729 \n",
       "  1614.1,602.15 1616.08,601.97 1618.06,601.709 1620.04,601.498 1622.02,602.11 1624,601.789 1625.98,601.377 1627.96,601.959 1629.94,601.417 1631.92,599.872 \n",
       "  1633.9,598.567 1635.88,597.905 1637.85,597.122 1639.83,595.797 1641.81,595.456 1643.79,593.649 1645.77,592.314 1647.75,590.076 1649.73,587.075 1651.71,584.566 \n",
       "  1653.69,585.068 1655.67,582.037 1657.65,579.307 1659.62,577.49 1661.6,574.419 1663.58,572.903 1665.56,570.474 1667.54,567.614 1669.52,565.095 1671.5,561.783 \n",
       "  1673.48,558.962 1675.46,557.096 1677.44,552.469 1679.42,549.016 1681.4,545.654 1683.37,542.472 1685.35,538.738 1687.33,535.868 1689.31,532.345 1691.29,530.227 \n",
       "  1693.27,526.102 1695.25,523.131 1697.23,519.759 1699.21,517.792 1701.19,515.684 1703.17,514.058 1705.14,514.259 1707.12,511.88 1709.1,510.937 1711.08,508.388 \n",
       "  1713.06,505.969 1715.04,504.403 1717.02,502.958 1719,501.502 1720.98,501.543 1722.96,497.297 1724.94,494.748 1726.92,493.092 1728.89,489.8 1730.87,486.959 \n",
       "  1732.85,484.49 1734.83,482.643 1736.81,480.526 1738.79,477.966 1740.77,474.995 1742.75,473.169 1744.73,470.961 1746.71,467.829 1748.69,464.668 1750.66,461.697 \n",
       "  1752.64,459.087 1754.62,456.398 1756.6,453.417 1758.58,453.597 1760.56,448.659 1762.54,445.207 1764.52,442.135 1766.5,438.984 1768.48,436.344 1770.46,434.297 \n",
       "  1772.44,432.811 1774.41,430.021 1776.39,425.986 1778.37,423.658 1780.35,422.363 1782.33,418.961 1784.31,416.873 1786.29,414.846 1788.27,412.066 1790.25,408.402 \n",
       "  1792.23,407.338 1794.21,403.143 1796.18,402.069 1798.16,398.355 1800.14,396.238 1802.12,393.417 1804.1,390.155 1806.08,388.6 1808.06,386.562 1810.04,382.497 \n",
       "  1812.02,379.597 1814,376.526 1815.98,374.187 1817.96,372.993 1819.93,368.255 1821.91,365.325 1823.89,363.147 1825.87,363.588 1827.85,361.832 1829.83,361.892 \n",
       "  1831.81,360.658 1833.79,360.678 1835.77,358.62 1837.75,357.085 1839.73,357.195 1841.7,356.282 1843.68,356.703 1845.66,359.554 1847.64,360.086 1849.62,361.2 \n",
       "  1851.6,362.424 1853.58,363.92 1855.56,366.499 1857.54,369.681 1859.52,372.812 1861.5,374.418 1863.48,375.723 1865.45,376.887 1867.43,377.078 1869.41,378.021 \n",
       "  1871.39,377.911 1873.37,377.409 1875.35,378.352 1877.33,378.382 1879.31,379.246 1881.29,377.971 1883.27,378.101 1885.25,379.537 1887.22,378.453 1889.2,379.818 \n",
       "  1891.18,381.945 1893.16,382.497 1895.14,382.307 1897.12,382.327 1899.1,382.357 1901.08,382.779 1903.06,381.725 1905.04,379.717 1907.02,379.517 1909,378.372 \n",
       "  1910.97,376.556 1912.95,375.994 1914.93,372.812 1916.91,370.112 1918.89,367.272 1920.87,366.278 1922.85,365.726 1924.83,364.833 1926.81,363.267 1928.79,359.714 \n",
       "  1930.77,359.152 1932.74,357.938 1934.72,356.432 1936.7,353.843 1938.68,352.598 1940.66,348.965 1942.64,347.239 1944.62,344.709 1946.6,341.156 1948.58,339.129 \n",
       "  1950.56,338.446 1952.54,337.553 1954.52,334.161 1956.49,332.595 1958.47,329.785 1960.45,326.694 1962.43,323.582 1964.41,321.996 1966.39,321.605 1968.37,320.792 \n",
       "  1970.35,318.835 1972.33,317.088 1974.31,315.593 1976.29,315.503 1978.26,313.385 1980.24,311.518 1982.22,309.23 1984.2,308.417 1986.18,306.058 1988.16,305.566 \n",
       "  1990.14,304.051 1992.12,303.288 1994.1,303.599 1996.08,303.83 1998.06,303.027 2000.04,302.234 2002.01,301.13 2003.99,300.046 2005.97,299.936 2007.95,300.729 \n",
       "  2009.93,301.22 2011.91,303.629 2013.89,305.406 2015.87,307.122 2017.85,309.089 2019.83,311.879 2021.81,316.496 2023.78,321.324 2025.76,328.621 2027.74,335.706 \n",
       "  2029.72,343.575 2031.7,351.032 2033.68,359.062 2035.66,366.037 2037.64,369.47 2039.62,374.157 2041.6,377.569 2043.58,379.406 2045.56,381.825 2047.53,383.822 \n",
       "  2049.51,383.702 2051.49,386.402 2053.47,386.382 2055.45,387.305 2057.43,385.488 2059.41,383.17 2061.39,377.75 2063.37,379.145 2065.35,379.988 2067.33,380.038 \n",
       "  2069.3,380.691 2071.28,378.001 2073.26,376.746 2075.24,376.024 2077.22,375.833 2079.2,373.705 2081.18,371.347 2083.16,368.195 2085.14,367.182 2087.12,364.813 \n",
       "  2089.1,364.211 2091.08,362.946 2093.05,360.607 2095.03,358.56 2097.01,357.235 2098.99,355.208 2100.97,351.655 2102.95,349.025 2104.93,346.616 2106.91,345.793 \n",
       "  2108.89,344.79 2110.87,344.057 2112.85,342.531 2114.82,340.805 2116.8,338.928 2118.78,337.332 2120.76,335.767 2122.74,333.368 2124.72,331.451 2126.7,328.661 \n",
       "  2128.68,327.266 2130.66,325.349 2132.64,323.12 2134.62,321.304 2136.6,320.18 2138.57,317.751 2140.55,315.874 2142.53,313.616 2144.51,310.966 2146.49,310.274 \n",
       "  2148.47,308.517 2150.45,306.851 2152.43,304.302 2154.41,301.04 2156.39,298.852 2158.37,295.58 2160.34,293.251 2162.32,291.364 2164.3,288.263 2166.28,285.734 \n",
       "  2168.26,282.813 2170.24,280.123 2172.22,278.206 2174.2,275.486 2176.18,274.774 2178.16,271.923 2180.14,268.601 2182.12,266.855 2184.09,263.824 2186.07,262.569 \n",
       "  2188.05,261.014 2190.03,257.942 2192.01,255.564 2193.99,252.824 2195.97,252.091 2197.95,249.451 2199.93,247.153 2201.91,245.276 2203.89,244.854 2205.86,242.175 \n",
       "  2207.84,238.622 2209.82,237.267 2211.8,234.567 2213.78,233.112 2215.76,231.596 2217.74,229.288 2219.72,227.431 2221.7,225.544 2223.68,224.249 2225.66,222.272 \n",
       "  2227.64,220.716 2229.61,218.548 2231.59,216.39 2233.57,214.544 2235.55,214.363 2237.53,211.683 2239.51,209.425 2241.49,208.12 2243.47,206.906 2245.45,202.831 \n",
       "  2247.43,201.064 2249.41,199.689 2251.38,196.899 2253.36,194.701 2255.34,193.336 2257.32,190.887 2259.3,190.084 2261.28,188.067 2263.26,186.722 2265.24,184.895 \n",
       "  2267.22,182.195 2269.2,182.185 2271.18,180.71 2273.16,178.602 2275.13,177.749 2277.11,175.923 2279.09,173.975 2281.07,171.898 2283.05,169.81 2285.03,167.953 \n",
       "  2287.01,165.334 2288.99,163.487 2290.97,161.339 2292.95,158.579 2294.93,165.615 \n",
       "  \"/>\n",
       "</svg>\n"
      ]
     },
     "execution_count": 16,
     "metadata": {},
     "output_type": "execute_result"
    }
   ],
   "source": [
    "ces_plot = plot(\n",
    "    ces_plot_data.value,\n",
    "    legend=false,\n",
    "    formatter=:plain,\n",
    "    xlabel=\"Period\",\n",
    "    ylabel=\"Value\",\n",
    "    title=\"CES Series CES0000000001\"\n",
    ")"
   ]
  },
  {
   "cell_type": "code",
   "execution_count": 24,
   "metadata": {},
   "outputs": [
    {
     "data": {
      "image/svg+xml": [
       "<?xml version=\"1.0\" encoding=\"utf-8\"?>\n",
       "<svg xmlns=\"http://www.w3.org/2000/svg\" xmlns:xlink=\"http://www.w3.org/1999/xlink\" width=\"600\" height=\"400\" viewBox=\"0 0 2400 1600\">\n",
       "<defs>\n",
       "  <clipPath id=\"clip9200\">\n",
       "    <rect x=\"0\" y=\"0\" width=\"2400\" height=\"1600\"/>\n",
       "  </clipPath>\n",
       "</defs>\n",
       "<path clip-path=\"url(#clip9200)\" d=\"\n",
       "M0 1600 L2400 1600 L2400 0 L0 0  Z\n",
       "  \" fill=\"#ffffff\" fill-rule=\"evenodd\" fill-opacity=\"1\"/>\n",
       "<defs>\n",
       "  <clipPath id=\"clip9201\">\n",
       "    <rect x=\"480\" y=\"0\" width=\"1681\" height=\"1600\"/>\n",
       "  </clipPath>\n",
       "</defs>\n",
       "<path clip-path=\"url(#clip9200)\" d=\"\n",
       "M309.422 1425.62 L2352.76 1425.62 L2352.76 121.675 L309.422 121.675  Z\n",
       "  \" fill=\"#ffffff\" fill-rule=\"evenodd\" fill-opacity=\"1\"/>\n",
       "<defs>\n",
       "  <clipPath id=\"clip9202\">\n",
       "    <rect x=\"309\" y=\"121\" width=\"2044\" height=\"1305\"/>\n",
       "  </clipPath>\n",
       "</defs>\n",
       "<polyline clip-path=\"url(#clip9202)\" style=\"stroke:#000000; stroke-width:2; stroke-opacity:0.1; fill:none\" points=\"\n",
       "  773.078,1425.62 773.078,121.675 \n",
       "  \"/>\n",
       "<polyline clip-path=\"url(#clip9202)\" style=\"stroke:#000000; stroke-width:2; stroke-opacity:0.1; fill:none\" points=\"\n",
       "  1280.36,1425.62 1280.36,121.675 \n",
       "  \"/>\n",
       "<polyline clip-path=\"url(#clip9202)\" style=\"stroke:#000000; stroke-width:2; stroke-opacity:0.1; fill:none\" points=\"\n",
       "  1787.64,1425.62 1787.64,121.675 \n",
       "  \"/>\n",
       "<polyline clip-path=\"url(#clip9202)\" style=\"stroke:#000000; stroke-width:2; stroke-opacity:0.1; fill:none\" points=\"\n",
       "  2294.93,1425.62 2294.93,121.675 \n",
       "  \"/>\n",
       "<polyline clip-path=\"url(#clip9202)\" style=\"stroke:#000000; stroke-width:2; stroke-opacity:0.1; fill:none\" points=\"\n",
       "  309.422,1180 2352.76,1180 \n",
       "  \"/>\n",
       "<polyline clip-path=\"url(#clip9202)\" style=\"stroke:#000000; stroke-width:2; stroke-opacity:0.1; fill:none\" points=\"\n",
       "  309.422,920.107 2352.76,920.107 \n",
       "  \"/>\n",
       "<polyline clip-path=\"url(#clip9202)\" style=\"stroke:#000000; stroke-width:2; stroke-opacity:0.1; fill:none\" points=\"\n",
       "  309.422,660.214 2352.76,660.214 \n",
       "  \"/>\n",
       "<polyline clip-path=\"url(#clip9202)\" style=\"stroke:#000000; stroke-width:2; stroke-opacity:0.1; fill:none\" points=\"\n",
       "  309.422,400.321 2352.76,400.321 \n",
       "  \"/>\n",
       "<polyline clip-path=\"url(#clip9202)\" style=\"stroke:#000000; stroke-width:2; stroke-opacity:0.1; fill:none\" points=\"\n",
       "  309.422,140.428 2352.76,140.428 \n",
       "  \"/>\n",
       "<polyline clip-path=\"url(#clip9200)\" style=\"stroke:#000000; stroke-width:4; stroke-opacity:1; fill:none\" points=\"\n",
       "  309.422,1425.62 2352.76,1425.62 \n",
       "  \"/>\n",
       "<polyline clip-path=\"url(#clip9200)\" style=\"stroke:#000000; stroke-width:4; stroke-opacity:1; fill:none\" points=\"\n",
       "  309.422,1425.62 309.422,121.675 \n",
       "  \"/>\n",
       "<polyline clip-path=\"url(#clip9200)\" style=\"stroke:#000000; stroke-width:4; stroke-opacity:1; fill:none\" points=\"\n",
       "  773.078,1425.62 773.078,1409.97 \n",
       "  \"/>\n",
       "<polyline clip-path=\"url(#clip9200)\" style=\"stroke:#000000; stroke-width:4; stroke-opacity:1; fill:none\" points=\"\n",
       "  1280.36,1425.62 1280.36,1409.97 \n",
       "  \"/>\n",
       "<polyline clip-path=\"url(#clip9200)\" style=\"stroke:#000000; stroke-width:4; stroke-opacity:1; fill:none\" points=\"\n",
       "  1787.64,1425.62 1787.64,1409.97 \n",
       "  \"/>\n",
       "<polyline clip-path=\"url(#clip9200)\" style=\"stroke:#000000; stroke-width:4; stroke-opacity:1; fill:none\" points=\"\n",
       "  2294.93,1425.62 2294.93,1409.97 \n",
       "  \"/>\n",
       "<polyline clip-path=\"url(#clip9200)\" style=\"stroke:#000000; stroke-width:4; stroke-opacity:1; fill:none\" points=\"\n",
       "  309.422,1180 333.942,1180 \n",
       "  \"/>\n",
       "<polyline clip-path=\"url(#clip9200)\" style=\"stroke:#000000; stroke-width:4; stroke-opacity:1; fill:none\" points=\"\n",
       "  309.422,920.107 333.942,920.107 \n",
       "  \"/>\n",
       "<polyline clip-path=\"url(#clip9200)\" style=\"stroke:#000000; stroke-width:4; stroke-opacity:1; fill:none\" points=\"\n",
       "  309.422,660.214 333.942,660.214 \n",
       "  \"/>\n",
       "<polyline clip-path=\"url(#clip9200)\" style=\"stroke:#000000; stroke-width:4; stroke-opacity:1; fill:none\" points=\"\n",
       "  309.422,400.321 333.942,400.321 \n",
       "  \"/>\n",
       "<polyline clip-path=\"url(#clip9200)\" style=\"stroke:#000000; stroke-width:4; stroke-opacity:1; fill:none\" points=\"\n",
       "  309.422,140.428 333.942,140.428 \n",
       "  \"/>\n",
       "<g clip-path=\"url(#clip9200)\">\n",
       "<text style=\"fill:#000000; fill-opacity:1; font-family:Arial,Helvetica Neue,Helvetica,sans-serif; font-size:48px; text-anchor:middle;\" transform=\"rotate(0, 773.078, 1479.62)\" x=\"773.078\" y=\"1479.62\">5</text>\n",
       "</g>\n",
       "<g clip-path=\"url(#clip9200)\">\n",
       "<text style=\"fill:#000000; fill-opacity:1; font-family:Arial,Helvetica Neue,Helvetica,sans-serif; font-size:48px; text-anchor:middle;\" transform=\"rotate(0, 1280.36, 1479.62)\" x=\"1280.36\" y=\"1479.62\">10</text>\n",
       "</g>\n",
       "<g clip-path=\"url(#clip9200)\">\n",
       "<text style=\"fill:#000000; fill-opacity:1; font-family:Arial,Helvetica Neue,Helvetica,sans-serif; font-size:48px; text-anchor:middle;\" transform=\"rotate(0, 1787.64, 1479.62)\" x=\"1787.64\" y=\"1479.62\">15</text>\n",
       "</g>\n",
       "<g clip-path=\"url(#clip9200)\">\n",
       "<text style=\"fill:#000000; fill-opacity:1; font-family:Arial,Helvetica Neue,Helvetica,sans-serif; font-size:48px; text-anchor:middle;\" transform=\"rotate(0, 2294.93, 1479.62)\" x=\"2294.93\" y=\"1479.62\">20</text>\n",
       "</g>\n",
       "<g clip-path=\"url(#clip9200)\">\n",
       "<text style=\"fill:#000000; fill-opacity:1; font-family:Arial,Helvetica Neue,Helvetica,sans-serif; font-size:48px; text-anchor:end;\" transform=\"rotate(0, 285.422, 1197.5)\" x=\"285.422\" y=\"1197.5\">50000</text>\n",
       "</g>\n",
       "<g clip-path=\"url(#clip9200)\">\n",
       "<text style=\"fill:#000000; fill-opacity:1; font-family:Arial,Helvetica Neue,Helvetica,sans-serif; font-size:48px; text-anchor:end;\" transform=\"rotate(0, 285.422, 937.607)\" x=\"285.422\" y=\"937.607\">75000</text>\n",
       "</g>\n",
       "<g clip-path=\"url(#clip9200)\">\n",
       "<text style=\"fill:#000000; fill-opacity:1; font-family:Arial,Helvetica Neue,Helvetica,sans-serif; font-size:48px; text-anchor:end;\" transform=\"rotate(0, 285.422, 677.714)\" x=\"285.422\" y=\"677.714\">100000</text>\n",
       "</g>\n",
       "<g clip-path=\"url(#clip9200)\">\n",
       "<text style=\"fill:#000000; fill-opacity:1; font-family:Arial,Helvetica Neue,Helvetica,sans-serif; font-size:48px; text-anchor:end;\" transform=\"rotate(0, 285.422, 417.821)\" x=\"285.422\" y=\"417.821\">125000</text>\n",
       "</g>\n",
       "<g clip-path=\"url(#clip9200)\">\n",
       "<text style=\"fill:#000000; fill-opacity:1; font-family:Arial,Helvetica Neue,Helvetica,sans-serif; font-size:48px; text-anchor:end;\" transform=\"rotate(0, 285.422, 157.928)\" x=\"285.422\" y=\"157.928\">150000</text>\n",
       "</g>\n",
       "<g clip-path=\"url(#clip9200)\">\n",
       "<text style=\"fill:#000000; fill-opacity:1; font-family:Arial,Helvetica Neue,Helvetica,sans-serif; font-size:84px; text-anchor:middle;\" transform=\"rotate(0, 1331.09, 73.2)\" x=\"1331.09\" y=\"73.2\">CES Series CES0000000001</text>\n",
       "</g>\n",
       "<g clip-path=\"url(#clip9200)\">\n",
       "<text style=\"fill:#000000; fill-opacity:1; font-family:Arial,Helvetica Neue,Helvetica,sans-serif; font-size:66px; text-anchor:middle;\" transform=\"rotate(0, 1331.09, 1559.48)\" x=\"1331.09\" y=\"1559.48\">Period</text>\n",
       "</g>\n",
       "<g clip-path=\"url(#clip9200)\">\n",
       "<text style=\"fill:#000000; fill-opacity:1; font-family:Arial,Helvetica Neue,Helvetica,sans-serif; font-size:66px; text-anchor:middle;\" transform=\"rotate(-90, 89.2861, 773.647)\" x=\"89.2861\" y=\"773.647\">Value</text>\n",
       "</g>\n",
       "<polyline clip-path=\"url(#clip9202)\" style=\"stroke:#009af9; stroke-width:4; stroke-opacity:1; fill:none\" points=\"\n",
       "  367.252,1388.71 468.709,1257.43 570.165,1246.14 671.622,1200.16 773.078,1166.84 874.535,1142.22 975.991,1102.17 1077.45,1000.21 1178.9,936.023 1280.36,872.838 \n",
       "  1381.82,761.957 1483.27,701.984 1584.73,585.77 1686.19,556.319 1787.64,425.832 1889.1,325.711 1990.56,300.876 2092.01,347.75 2193.47,269.876 2294.93,158.579 \n",
       "  \n",
       "  \"/>\n",
       "<path clip-path=\"url(#clip9202)\" d=\"M367.252 1372.71 L351.252 1388.71 L367.252 1404.71 L383.252 1388.71 L367.252 1372.71 Z\" fill=\"#009af9\" fill-rule=\"evenodd\" fill-opacity=\"1\" stroke=\"#000000\" stroke-opacity=\"1\" stroke-width=\"3.2\"/>\n",
       "<path clip-path=\"url(#clip9202)\" d=\"M468.709 1241.43 L452.709 1257.43 L468.709 1273.43 L484.709 1257.43 L468.709 1241.43 Z\" fill=\"#009af9\" fill-rule=\"evenodd\" fill-opacity=\"1\" stroke=\"#000000\" stroke-opacity=\"1\" stroke-width=\"3.2\"/>\n",
       "<path clip-path=\"url(#clip9202)\" d=\"M570.165 1230.14 L554.165 1246.14 L570.165 1262.14 L586.165 1246.14 L570.165 1230.14 Z\" fill=\"#009af9\" fill-rule=\"evenodd\" fill-opacity=\"1\" stroke=\"#000000\" stroke-opacity=\"1\" stroke-width=\"3.2\"/>\n",
       "<path clip-path=\"url(#clip9202)\" d=\"M671.622 1184.16 L655.622 1200.16 L671.622 1216.16 L687.622 1200.16 L671.622 1184.16 Z\" fill=\"#009af9\" fill-rule=\"evenodd\" fill-opacity=\"1\" stroke=\"#000000\" stroke-opacity=\"1\" stroke-width=\"3.2\"/>\n",
       "<path clip-path=\"url(#clip9202)\" d=\"M773.078 1150.84 L757.078 1166.84 L773.078 1182.84 L789.078 1166.84 L773.078 1150.84 Z\" fill=\"#009af9\" fill-rule=\"evenodd\" fill-opacity=\"1\" stroke=\"#000000\" stroke-opacity=\"1\" stroke-width=\"3.2\"/>\n",
       "<path clip-path=\"url(#clip9202)\" d=\"M874.535 1126.22 L858.535 1142.22 L874.535 1158.22 L890.535 1142.22 L874.535 1126.22 Z\" fill=\"#009af9\" fill-rule=\"evenodd\" fill-opacity=\"1\" stroke=\"#000000\" stroke-opacity=\"1\" stroke-width=\"3.2\"/>\n",
       "<path clip-path=\"url(#clip9202)\" d=\"M975.991 1086.17 L959.991 1102.17 L975.991 1118.17 L991.991 1102.17 L975.991 1086.17 Z\" fill=\"#009af9\" fill-rule=\"evenodd\" fill-opacity=\"1\" stroke=\"#000000\" stroke-opacity=\"1\" stroke-width=\"3.2\"/>\n",
       "<path clip-path=\"url(#clip9202)\" d=\"M1077.45 984.206 L1061.45 1000.21 L1077.45 1016.21 L1093.45 1000.21 L1077.45 984.206 Z\" fill=\"#009af9\" fill-rule=\"evenodd\" fill-opacity=\"1\" stroke=\"#000000\" stroke-opacity=\"1\" stroke-width=\"3.2\"/>\n",
       "<path clip-path=\"url(#clip9202)\" d=\"M1178.9 920.023 L1162.9 936.023 L1178.9 952.023 L1194.9 936.023 L1178.9 920.023 Z\" fill=\"#009af9\" fill-rule=\"evenodd\" fill-opacity=\"1\" stroke=\"#000000\" stroke-opacity=\"1\" stroke-width=\"3.2\"/>\n",
       "<path clip-path=\"url(#clip9202)\" d=\"M1280.36 856.838 L1264.36 872.838 L1280.36 888.838 L1296.36 872.838 L1280.36 856.838 Z\" fill=\"#009af9\" fill-rule=\"evenodd\" fill-opacity=\"1\" stroke=\"#000000\" stroke-opacity=\"1\" stroke-width=\"3.2\"/>\n",
       "<path clip-path=\"url(#clip9202)\" d=\"M1381.82 745.957 L1365.82 761.957 L1381.82 777.957 L1397.82 761.957 L1381.82 745.957 Z\" fill=\"#009af9\" fill-rule=\"evenodd\" fill-opacity=\"1\" stroke=\"#000000\" stroke-opacity=\"1\" stroke-width=\"3.2\"/>\n",
       "<path clip-path=\"url(#clip9202)\" d=\"M1483.27 685.984 L1467.27 701.984 L1483.27 717.984 L1499.27 701.984 L1483.27 685.984 Z\" fill=\"#009af9\" fill-rule=\"evenodd\" fill-opacity=\"1\" stroke=\"#000000\" stroke-opacity=\"1\" stroke-width=\"3.2\"/>\n",
       "<path clip-path=\"url(#clip9202)\" d=\"M1584.73 569.77 L1568.73 585.77 L1584.73 601.77 L1600.73 585.77 L1584.73 569.77 Z\" fill=\"#009af9\" fill-rule=\"evenodd\" fill-opacity=\"1\" stroke=\"#000000\" stroke-opacity=\"1\" stroke-width=\"3.2\"/>\n",
       "<path clip-path=\"url(#clip9202)\" d=\"M1686.19 540.319 L1670.19 556.319 L1686.19 572.319 L1702.19 556.319 L1686.19 540.319 Z\" fill=\"#009af9\" fill-rule=\"evenodd\" fill-opacity=\"1\" stroke=\"#000000\" stroke-opacity=\"1\" stroke-width=\"3.2\"/>\n",
       "<path clip-path=\"url(#clip9202)\" d=\"M1787.64 409.832 L1771.64 425.832 L1787.64 441.832 L1803.64 425.832 L1787.64 409.832 Z\" fill=\"#009af9\" fill-rule=\"evenodd\" fill-opacity=\"1\" stroke=\"#000000\" stroke-opacity=\"1\" stroke-width=\"3.2\"/>\n",
       "<path clip-path=\"url(#clip9202)\" d=\"M1889.1 309.711 L1873.1 325.711 L1889.1 341.711 L1905.1 325.711 L1889.1 309.711 Z\" fill=\"#009af9\" fill-rule=\"evenodd\" fill-opacity=\"1\" stroke=\"#000000\" stroke-opacity=\"1\" stroke-width=\"3.2\"/>\n",
       "<path clip-path=\"url(#clip9202)\" d=\"M1990.56 284.876 L1974.56 300.876 L1990.56 316.876 L2006.56 300.876 L1990.56 284.876 Z\" fill=\"#009af9\" fill-rule=\"evenodd\" fill-opacity=\"1\" stroke=\"#000000\" stroke-opacity=\"1\" stroke-width=\"3.2\"/>\n",
       "<path clip-path=\"url(#clip9202)\" d=\"M2092.01 331.75 L2076.01 347.75 L2092.01 363.75 L2108.01 347.75 L2092.01 331.75 Z\" fill=\"#009af9\" fill-rule=\"evenodd\" fill-opacity=\"1\" stroke=\"#000000\" stroke-opacity=\"1\" stroke-width=\"3.2\"/>\n",
       "<path clip-path=\"url(#clip9202)\" d=\"M2193.47 253.876 L2177.47 269.876 L2193.47 285.876 L2209.47 269.876 L2193.47 253.876 Z\" fill=\"#009af9\" fill-rule=\"evenodd\" fill-opacity=\"1\" stroke=\"#000000\" stroke-opacity=\"1\" stroke-width=\"3.2\"/>\n",
       "<path clip-path=\"url(#clip9202)\" d=\"M2294.93 142.579 L2278.93 158.579 L2294.93 174.579 L2310.93 158.579 L2294.93 142.579 Z\" fill=\"#009af9\" fill-rule=\"evenodd\" fill-opacity=\"1\" stroke=\"#000000\" stroke-opacity=\"1\" stroke-width=\"3.2\"/>\n",
       "</svg>\n"
      ]
     },
     "execution_count": 24,
     "metadata": {},
     "output_type": "execute_result"
    }
   ],
   "source": [
    "ces_plot = plot(\n",
    "    ces_plot_data.value[1:50:end],\n",
    "    legend=false,\n",
    "    formatter=:plain,\n",
    "    xlabel=\"Period\",\n",
    "    ylabel=\"Value\",\n",
    "    title=\"CES Series CES0000000001\",\n",
    "    markershape=:diamond\n",
    ")"
   ]
  },
  {
   "cell_type": "markdown",
   "metadata": {},
   "source": [
    "### Composing Functions\n",
    "\n",
    "It's generally advisable to divide your code into discrete functions, each with its own purpose, as opposed to composing your code as one big chunk of operations. There are numerous reasons for this but, in Julia, this will result in significant performance gains and will generally result in code that is easier to understand and maintain.\n",
    "\n",
    "There are a few ways to compose functions in Julia but I'll only cover the most common way here. With this method, every function starts with the word ```function``` followed by its name as well as a set of parentheses which enclose any parameters. Functions conclude with the word ```end``` as you will see below. The ```end``` keyword in Julia is used to mark the conclusion of a block of expressions (e.g. ```for``` loops, functions, modules, etc.).\n",
    "\n",
    "Let's write a function that performs a mathematical operation on the ```values``` column in our ```ces_data``` DataFrame:"
   ]
  },
  {
   "cell_type": "code",
   "execution_count": 25,
   "metadata": {},
   "outputs": [
    {
     "data": {
      "text/plain": [
       "change_value (generic function with 1 method)"
      ]
     },
     "execution_count": 25,
     "metadata": {},
     "output_type": "execute_result"
    }
   ],
   "source": [
    "function change_value(value)\n",
    "    return value / 2 + 3\n",
    "end"
   ]
  },
  {
   "cell_type": "code",
   "execution_count": 27,
   "metadata": {},
   "outputs": [
    {
     "data": {
      "text/plain": [
       "14964.5"
      ]
     },
     "execution_count": 27,
     "metadata": {},
     "output_type": "execute_result"
    }
   ],
   "source": [
    "change_value(ces_data[1,:value])"
   ]
  },
  {
   "cell_type": "code",
   "execution_count": 28,
   "metadata": {},
   "outputs": [
    {
     "data": {
      "text/plain": [
       "check_value (generic function with 1 method)"
      ]
     },
     "execution_count": 28,
     "metadata": {},
     "output_type": "execute_result"
    }
   ],
   "source": [
    "function check_value(value, threshold)\n",
    "    t = threshold * 1.5 * 75000\n",
    "    if value > t\n",
    "        return value\n",
    "    else\n",
    "        return t\n",
    "    end\n",
    "end"
   ]
  },
  {
   "cell_type": "code",
   "execution_count": 38,
   "metadata": {},
   "outputs": [
    {
     "data": {
      "text/plain": [
       "101250.0"
      ]
     },
     "execution_count": 38,
     "metadata": {},
     "output_type": "execute_result"
    }
   ],
   "source": [
    "# ces_data[1,:value] == 29923\n",
    "check_value(ces_data[1,:value], 0.9)"
   ]
  }
 ],
 "metadata": {
  "kernelspec": {
   "display_name": "Julia 1.4.0",
   "language": "julia",
   "name": "julia-1.4"
  },
  "language_info": {
   "file_extension": ".jl",
   "mimetype": "application/julia",
   "name": "julia",
   "version": "1.4.0"
  }
 },
 "nbformat": 4,
 "nbformat_minor": 4
}
